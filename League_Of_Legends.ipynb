{
 "cells": [
  {
   "cell_type": "code",
   "execution_count": 72,
   "metadata": {},
   "outputs": [],
   "source": [
    "# Import libraries\n",
    "import pandas as pd\n",
    "import numpy as np\n",
    "import seaborn as sns\n",
    "import plotly.express as px\n",
    "import plotly.graph_objects as go\n",
    "import matplotlib.pyplot as plt\n",
    "%matplotlib inline"
   ]
  },
  {
   "cell_type": "code",
   "execution_count": 73,
   "metadata": {},
   "outputs": [],
   "source": [
    "# Read in the data\n",
    "df = pd.read_excel(r'C:\\Users\\Gnauh\\Desktop\\PJ4\\LOL_WR_13.21.xlsx')"
   ]
  },
  {
   "cell_type": "code",
   "execution_count": 74,
   "metadata": {},
   "outputs": [
    {
     "data": {
      "text/html": [
       "<div>\n",
       "<style scoped>\n",
       "    .dataframe tbody tr th:only-of-type {\n",
       "        vertical-align: middle;\n",
       "    }\n",
       "\n",
       "    .dataframe tbody tr th {\n",
       "        vertical-align: top;\n",
       "    }\n",
       "\n",
       "    .dataframe thead th {\n",
       "        text-align: right;\n",
       "    }\n",
       "</style>\n",
       "<table border=\"1\" class=\"dataframe\">\n",
       "  <thead>\n",
       "    <tr style=\"text-align: right;\">\n",
       "      <th></th>\n",
       "      <th>Name</th>\n",
       "      <th>Role</th>\n",
       "      <th>State</th>\n",
       "      <th>Tier</th>\n",
       "      <th>Score</th>\n",
       "      <th>Trend</th>\n",
       "      <th>Win %</th>\n",
       "      <th>Role %</th>\n",
       "      <th>Pick %</th>\n",
       "      <th>Ban %</th>\n",
       "      <th>KDA</th>\n",
       "    </tr>\n",
       "  </thead>\n",
       "  <tbody>\n",
       "    <tr>\n",
       "      <th>0</th>\n",
       "      <td>Aatrox</td>\n",
       "      <td>TOP</td>\n",
       "      <td>God</td>\n",
       "      <td>S+</td>\n",
       "      <td>88.92</td>\n",
       "      <td>+8.72</td>\n",
       "      <td>0.4947</td>\n",
       "      <td>0.9422</td>\n",
       "      <td>0.1037</td>\n",
       "      <td>0.1352</td>\n",
       "      <td>1.94</td>\n",
       "    </tr>\n",
       "    <tr>\n",
       "      <th>1</th>\n",
       "      <td>Ahri</td>\n",
       "      <td>MID</td>\n",
       "      <td>Strong</td>\n",
       "      <td>S</td>\n",
       "      <td>64.78</td>\n",
       "      <td>-0.64</td>\n",
       "      <td>0.4939</td>\n",
       "      <td>0.9422</td>\n",
       "      <td>0.0736</td>\n",
       "      <td>0.0308</td>\n",
       "      <td>2.65</td>\n",
       "    </tr>\n",
       "    <tr>\n",
       "      <th>2</th>\n",
       "      <td>Akali</td>\n",
       "      <td>MID</td>\n",
       "      <td>God</td>\n",
       "      <td>S+</td>\n",
       "      <td>77.40</td>\n",
       "      <td>+3.43</td>\n",
       "      <td>0.4784</td>\n",
       "      <td>0.7309</td>\n",
       "      <td>0.1016</td>\n",
       "      <td>0.1383</td>\n",
       "      <td>2.43</td>\n",
       "    </tr>\n",
       "    <tr>\n",
       "      <th>3</th>\n",
       "      <td>Akali</td>\n",
       "      <td>TOP</td>\n",
       "      <td>Good</td>\n",
       "      <td>A</td>\n",
       "      <td>48.19</td>\n",
       "      <td>-0.69</td>\n",
       "      <td>0.4759</td>\n",
       "      <td>0.2496</td>\n",
       "      <td>0.0344</td>\n",
       "      <td>0.1392</td>\n",
       "      <td>2.10</td>\n",
       "    </tr>\n",
       "    <tr>\n",
       "      <th>4</th>\n",
       "      <td>Akshan</td>\n",
       "      <td>MID</td>\n",
       "      <td>Fair</td>\n",
       "      <td>B</td>\n",
       "      <td>45.97</td>\n",
       "      <td>-0.62</td>\n",
       "      <td>0.5151</td>\n",
       "      <td>0.7312</td>\n",
       "      <td>0.0210</td>\n",
       "      <td>0.0431</td>\n",
       "      <td>2.36</td>\n",
       "    </tr>\n",
       "  </tbody>\n",
       "</table>\n",
       "</div>"
      ],
      "text/plain": [
       "     Name Role    State Tier  Score  Trend   Win %  Role %  Pick %   Ban %  \\\n",
       "0  Aatrox  TOP     God    S+  88.92  +8.72  0.4947  0.9422  0.1037  0.1352   \n",
       "1    Ahri  MID  Strong     S  64.78  -0.64  0.4939  0.9422  0.0736  0.0308   \n",
       "2   Akali  MID     God    S+  77.40  +3.43  0.4784  0.7309  0.1016  0.1383   \n",
       "3   Akali  TOP    Good     A  48.19  -0.69  0.4759  0.2496  0.0344  0.1392   \n",
       "4  Akshan  MID    Fair     B  45.97  -0.62  0.5151  0.7312  0.0210  0.0431   \n",
       "\n",
       "    KDA  \n",
       "0  1.94  \n",
       "1  2.65  \n",
       "2  2.43  \n",
       "3  2.10  \n",
       "4  2.36  "
      ]
     },
     "execution_count": 74,
     "metadata": {},
     "output_type": "execute_result"
    }
   ],
   "source": [
    "# Look at the data\n",
    "df.head()"
   ]
  },
  {
   "cell_type": "code",
   "execution_count": 75,
   "metadata": {},
   "outputs": [
    {
     "data": {
      "text/plain": [
       "Name      0\n",
       "Role      0\n",
       "State     0\n",
       "Tier      0\n",
       "Score     0\n",
       "Trend     0\n",
       "Win %     0\n",
       "Role %    0\n",
       "Pick %    0\n",
       "Ban %     0\n",
       "KDA       0\n",
       "dtype: int64"
      ]
     },
     "execution_count": 75,
     "metadata": {},
     "output_type": "execute_result"
    }
   ],
   "source": [
    "# Check for any missing data\n",
    "df.isnull().sum()"
   ]
  },
  {
   "cell_type": "code",
   "execution_count": 76,
   "metadata": {},
   "outputs": [
    {
     "data": {
      "text/plain": [
       "Name       object\n",
       "Role       object\n",
       "State      object\n",
       "Tier       object\n",
       "Score     float64\n",
       "Trend      object\n",
       "Win %     float64\n",
       "Role %    float64\n",
       "Pick %    float64\n",
       "Ban %     float64\n",
       "KDA       float64\n",
       "dtype: object"
      ]
     },
     "execution_count": 76,
     "metadata": {},
     "output_type": "execute_result"
    }
   ],
   "source": [
    "# Check the data types\n",
    "df.dtypes"
   ]
  },
  {
   "cell_type": "code",
   "execution_count": 77,
   "metadata": {},
   "outputs": [
    {
     "data": {
      "text/plain": [
       "Name    165\n",
       "Role      5\n",
       "dtype: int64"
      ]
     },
     "execution_count": 77,
     "metadata": {},
     "output_type": "execute_result"
    }
   ],
   "source": [
    "df[['Name','Role']].nunique()"
   ]
  },
  {
   "cell_type": "code",
   "execution_count": 78,
   "metadata": {},
   "outputs": [
    {
     "name": "stdout",
     "output_type": "stream",
     "text": [
      "[' S+' ' S' ' A' ' B' ' C' ' D']\n"
     ]
    }
   ],
   "source": [
    "unique_tiers = df['Tier'].unique()\n",
    "print(unique_tiers)"
   ]
  },
  {
   "cell_type": "code",
   "execution_count": 79,
   "metadata": {},
   "outputs": [
    {
     "data": {
      "text/html": [
       "<div>\n",
       "<style scoped>\n",
       "    .dataframe tbody tr th:only-of-type {\n",
       "        vertical-align: middle;\n",
       "    }\n",
       "\n",
       "    .dataframe tbody tr th {\n",
       "        vertical-align: top;\n",
       "    }\n",
       "\n",
       "    .dataframe thead th {\n",
       "        text-align: right;\n",
       "    }\n",
       "</style>\n",
       "<table border=\"1\" class=\"dataframe\">\n",
       "  <thead>\n",
       "    <tr style=\"text-align: right;\">\n",
       "      <th></th>\n",
       "      <th>Name</th>\n",
       "      <th>Role</th>\n",
       "      <th>State</th>\n",
       "      <th>Tier</th>\n",
       "      <th>Score</th>\n",
       "      <th>Trend</th>\n",
       "      <th>Win %</th>\n",
       "      <th>Role %</th>\n",
       "      <th>Pick %</th>\n",
       "      <th>Ban %</th>\n",
       "      <th>KDA</th>\n",
       "    </tr>\n",
       "  </thead>\n",
       "  <tbody>\n",
       "    <tr>\n",
       "      <th>0</th>\n",
       "      <td>Aatrox</td>\n",
       "      <td>TOP</td>\n",
       "      <td>God</td>\n",
       "      <td>S+</td>\n",
       "      <td>88.92</td>\n",
       "      <td>+8.72</td>\n",
       "      <td>0.4947</td>\n",
       "      <td>0.9422</td>\n",
       "      <td>0.1037</td>\n",
       "      <td>0.1352</td>\n",
       "      <td>1.94</td>\n",
       "    </tr>\n",
       "    <tr>\n",
       "      <th>2</th>\n",
       "      <td>Akali</td>\n",
       "      <td>MID</td>\n",
       "      <td>God</td>\n",
       "      <td>S+</td>\n",
       "      <td>77.40</td>\n",
       "      <td>+3.43</td>\n",
       "      <td>0.4784</td>\n",
       "      <td>0.7309</td>\n",
       "      <td>0.1016</td>\n",
       "      <td>0.1383</td>\n",
       "      <td>2.43</td>\n",
       "    </tr>\n",
       "    <tr>\n",
       "      <th>20</th>\n",
       "      <td>Blitzcrank</td>\n",
       "      <td>SUPPORT</td>\n",
       "      <td>God</td>\n",
       "      <td>S+</td>\n",
       "      <td>87.71</td>\n",
       "      <td>+3.57</td>\n",
       "      <td>0.5197</td>\n",
       "      <td>0.9882</td>\n",
       "      <td>0.0894</td>\n",
       "      <td>0.2932</td>\n",
       "      <td>2.46</td>\n",
       "    </tr>\n",
       "    <tr>\n",
       "      <th>25</th>\n",
       "      <td>Briar</td>\n",
       "      <td>JUNGLE</td>\n",
       "      <td>God</td>\n",
       "      <td>S+</td>\n",
       "      <td>78.44</td>\n",
       "      <td>-14.41</td>\n",
       "      <td>0.5086</td>\n",
       "      <td>0.8814</td>\n",
       "      <td>0.0847</td>\n",
       "      <td>0.3862</td>\n",
       "      <td>2.27</td>\n",
       "    </tr>\n",
       "    <tr>\n",
       "      <th>33</th>\n",
       "      <td>Darius</td>\n",
       "      <td>TOP</td>\n",
       "      <td>God</td>\n",
       "      <td>S+</td>\n",
       "      <td>80.34</td>\n",
       "      <td>+3.23</td>\n",
       "      <td>0.4860</td>\n",
       "      <td>0.9335</td>\n",
       "      <td>0.0882</td>\n",
       "      <td>0.1823</td>\n",
       "      <td>1.75</td>\n",
       "    </tr>\n",
       "    <tr>\n",
       "      <th>42</th>\n",
       "      <td>Ezreal</td>\n",
       "      <td>ADC</td>\n",
       "      <td>God</td>\n",
       "      <td>S+</td>\n",
       "      <td>85.68</td>\n",
       "      <td>-0.90</td>\n",
       "      <td>0.4919</td>\n",
       "      <td>0.9540</td>\n",
       "      <td>0.2213</td>\n",
       "      <td>0.0985</td>\n",
       "      <td>2.55</td>\n",
       "    </tr>\n",
       "    <tr>\n",
       "      <th>51</th>\n",
       "      <td>Garen</td>\n",
       "      <td>TOP</td>\n",
       "      <td>God</td>\n",
       "      <td>S+</td>\n",
       "      <td>92.10</td>\n",
       "      <td>+9.57</td>\n",
       "      <td>0.5160</td>\n",
       "      <td>0.8899</td>\n",
       "      <td>0.1069</td>\n",
       "      <td>0.0883</td>\n",
       "      <td>1.97</td>\n",
       "    </tr>\n",
       "    <tr>\n",
       "      <th>56</th>\n",
       "      <td>Graves</td>\n",
       "      <td>JUNGLE</td>\n",
       "      <td>God</td>\n",
       "      <td>S+</td>\n",
       "      <td>90.56</td>\n",
       "      <td>+14.74</td>\n",
       "      <td>0.5168</td>\n",
       "      <td>0.9510</td>\n",
       "      <td>0.1439</td>\n",
       "      <td>0.1332</td>\n",
       "      <td>2.64</td>\n",
       "    </tr>\n",
       "    <tr>\n",
       "      <th>68</th>\n",
       "      <td>Jarvan IV</td>\n",
       "      <td>JUNGLE</td>\n",
       "      <td>God</td>\n",
       "      <td>S+</td>\n",
       "      <td>74.76</td>\n",
       "      <td>+3.03</td>\n",
       "      <td>0.5151</td>\n",
       "      <td>0.9519</td>\n",
       "      <td>0.0959</td>\n",
       "      <td>0.0881</td>\n",
       "      <td>3.35</td>\n",
       "    </tr>\n",
       "    <tr>\n",
       "      <th>69</th>\n",
       "      <td>Jax</td>\n",
       "      <td>TOP</td>\n",
       "      <td>God</td>\n",
       "      <td>S+</td>\n",
       "      <td>89.37</td>\n",
       "      <td>-1.51</td>\n",
       "      <td>0.5078</td>\n",
       "      <td>0.8251</td>\n",
       "      <td>0.0992</td>\n",
       "      <td>0.1550</td>\n",
       "      <td>1.77</td>\n",
       "    </tr>\n",
       "    <tr>\n",
       "      <th>75</th>\n",
       "      <td>K'Sante</td>\n",
       "      <td>TOP</td>\n",
       "      <td>God</td>\n",
       "      <td>S+</td>\n",
       "      <td>90.53</td>\n",
       "      <td>+44.53</td>\n",
       "      <td>0.5110</td>\n",
       "      <td>0.9065</td>\n",
       "      <td>0.1056</td>\n",
       "      <td>0.0614</td>\n",
       "      <td>2.24</td>\n",
       "    </tr>\n",
       "    <tr>\n",
       "      <th>76</th>\n",
       "      <td>Kai'Sa</td>\n",
       "      <td>ADC</td>\n",
       "      <td>God</td>\n",
       "      <td>S+</td>\n",
       "      <td>91.15</td>\n",
       "      <td>-0.39</td>\n",
       "      <td>0.4916</td>\n",
       "      <td>0.9671</td>\n",
       "      <td>0.2453</td>\n",
       "      <td>0.1011</td>\n",
       "      <td>2.43</td>\n",
       "    </tr>\n",
       "    <tr>\n",
       "      <th>92</th>\n",
       "      <td>Lee Sin</td>\n",
       "      <td>JUNGLE</td>\n",
       "      <td>God</td>\n",
       "      <td>S+</td>\n",
       "      <td>91.56</td>\n",
       "      <td>+8.71</td>\n",
       "      <td>0.4974</td>\n",
       "      <td>0.9323</td>\n",
       "      <td>0.1637</td>\n",
       "      <td>0.1031</td>\n",
       "      <td>2.81</td>\n",
       "    </tr>\n",
       "    <tr>\n",
       "      <th>99</th>\n",
       "      <td>Lux</td>\n",
       "      <td>SUPPORT</td>\n",
       "      <td>God</td>\n",
       "      <td>S+</td>\n",
       "      <td>84.13</td>\n",
       "      <td>-3.31</td>\n",
       "      <td>0.4943</td>\n",
       "      <td>0.7118</td>\n",
       "      <td>0.1138</td>\n",
       "      <td>0.1057</td>\n",
       "      <td>2.32</td>\n",
       "    </tr>\n",
       "    <tr>\n",
       "      <th>119</th>\n",
       "      <td>Nautilus</td>\n",
       "      <td>SUPPORT</td>\n",
       "      <td>God</td>\n",
       "      <td>S+</td>\n",
       "      <td>82.91</td>\n",
       "      <td>-2.42</td>\n",
       "      <td>0.4874</td>\n",
       "      <td>0.9757</td>\n",
       "      <td>0.1103</td>\n",
       "      <td>0.1648</td>\n",
       "      <td>2.27</td>\n",
       "    </tr>\n",
       "    <tr>\n",
       "      <th>128</th>\n",
       "      <td>Orianna</td>\n",
       "      <td>MID</td>\n",
       "      <td>God</td>\n",
       "      <td>S+</td>\n",
       "      <td>87.44</td>\n",
       "      <td>+8.89</td>\n",
       "      <td>0.5069</td>\n",
       "      <td>0.9589</td>\n",
       "      <td>0.1109</td>\n",
       "      <td>0.0908</td>\n",
       "      <td>2.75</td>\n",
       "    </tr>\n",
       "    <tr>\n",
       "      <th>139</th>\n",
       "      <td>Rakan</td>\n",
       "      <td>SUPPORT</td>\n",
       "      <td>God</td>\n",
       "      <td>S+</td>\n",
       "      <td>89.43</td>\n",
       "      <td>+4.33</td>\n",
       "      <td>0.5135</td>\n",
       "      <td>0.9942</td>\n",
       "      <td>0.1210</td>\n",
       "      <td>0.0521</td>\n",
       "      <td>2.94</td>\n",
       "    </tr>\n",
       "    <tr>\n",
       "      <th>155</th>\n",
       "      <td>Senna</td>\n",
       "      <td>SUPPORT</td>\n",
       "      <td>God</td>\n",
       "      <td>S+</td>\n",
       "      <td>83.38</td>\n",
       "      <td>-2.27</td>\n",
       "      <td>0.5146</td>\n",
       "      <td>0.9465</td>\n",
       "      <td>0.1078</td>\n",
       "      <td>0.0834</td>\n",
       "      <td>2.49</td>\n",
       "    </tr>\n",
       "    <tr>\n",
       "      <th>177</th>\n",
       "      <td>Sylas</td>\n",
       "      <td>MID</td>\n",
       "      <td>God</td>\n",
       "      <td>S+</td>\n",
       "      <td>87.51</td>\n",
       "      <td>+14.56</td>\n",
       "      <td>0.5398</td>\n",
       "      <td>0.6404</td>\n",
       "      <td>0.0967</td>\n",
       "      <td>0.1543</td>\n",
       "      <td>2.31</td>\n",
       "    </tr>\n",
       "    <tr>\n",
       "      <th>189</th>\n",
       "      <td>Thresh</td>\n",
       "      <td>SUPPORT</td>\n",
       "      <td>God</td>\n",
       "      <td>S+</td>\n",
       "      <td>93.16</td>\n",
       "      <td>+1.42</td>\n",
       "      <td>0.5195</td>\n",
       "      <td>0.9865</td>\n",
       "      <td>0.1306</td>\n",
       "      <td>0.0550</td>\n",
       "      <td>2.65</td>\n",
       "    </tr>\n",
       "    <tr>\n",
       "      <th>225</th>\n",
       "      <td>Yasuo</td>\n",
       "      <td>MID</td>\n",
       "      <td>God</td>\n",
       "      <td>S+</td>\n",
       "      <td>86.27</td>\n",
       "      <td>+7.05</td>\n",
       "      <td>0.4869</td>\n",
       "      <td>0.6567</td>\n",
       "      <td>0.1114</td>\n",
       "      <td>0.2177</td>\n",
       "      <td>1.74</td>\n",
       "    </tr>\n",
       "    <tr>\n",
       "      <th>228</th>\n",
       "      <td>Yone</td>\n",
       "      <td>MID</td>\n",
       "      <td>God</td>\n",
       "      <td>S+</td>\n",
       "      <td>77.26</td>\n",
       "      <td>+5.96</td>\n",
       "      <td>0.4853</td>\n",
       "      <td>0.5151</td>\n",
       "      <td>0.0991</td>\n",
       "      <td>0.1873</td>\n",
       "      <td>1.82</td>\n",
       "    </tr>\n",
       "    <tr>\n",
       "      <th>229</th>\n",
       "      <td>Yone</td>\n",
       "      <td>TOP</td>\n",
       "      <td>God</td>\n",
       "      <td>S+</td>\n",
       "      <td>76.40</td>\n",
       "      <td>+9.79</td>\n",
       "      <td>0.4755</td>\n",
       "      <td>0.4467</td>\n",
       "      <td>0.0869</td>\n",
       "      <td>0.1873</td>\n",
       "      <td>1.55</td>\n",
       "    </tr>\n",
       "    <tr>\n",
       "      <th>233</th>\n",
       "      <td>Zed</td>\n",
       "      <td>MID</td>\n",
       "      <td>God</td>\n",
       "      <td>S+</td>\n",
       "      <td>83.96</td>\n",
       "      <td>-4.94</td>\n",
       "      <td>0.4778</td>\n",
       "      <td>0.8665</td>\n",
       "      <td>0.0927</td>\n",
       "      <td>0.3189</td>\n",
       "      <td>2.21</td>\n",
       "    </tr>\n",
       "  </tbody>\n",
       "</table>\n",
       "</div>"
      ],
      "text/plain": [
       "           Name     Role State Tier  Score   Trend   Win %  Role %  Pick %  \\\n",
       "0        Aatrox      TOP  God    S+  88.92   +8.72  0.4947  0.9422  0.1037   \n",
       "2         Akali      MID  God    S+  77.40   +3.43  0.4784  0.7309  0.1016   \n",
       "20   Blitzcrank  SUPPORT  God    S+  87.71   +3.57  0.5197  0.9882  0.0894   \n",
       "25        Briar   JUNGLE  God    S+  78.44  -14.41  0.5086  0.8814  0.0847   \n",
       "33       Darius      TOP  God    S+  80.34   +3.23  0.4860  0.9335  0.0882   \n",
       "42       Ezreal      ADC  God    S+  85.68   -0.90  0.4919  0.9540  0.2213   \n",
       "51        Garen      TOP  God    S+  92.10   +9.57  0.5160  0.8899  0.1069   \n",
       "56       Graves   JUNGLE  God    S+  90.56  +14.74  0.5168  0.9510  0.1439   \n",
       "68    Jarvan IV   JUNGLE  God    S+  74.76   +3.03  0.5151  0.9519  0.0959   \n",
       "69          Jax      TOP  God    S+  89.37   -1.51  0.5078  0.8251  0.0992   \n",
       "75      K'Sante      TOP  God    S+  90.53  +44.53  0.5110  0.9065  0.1056   \n",
       "76       Kai'Sa      ADC  God    S+  91.15   -0.39  0.4916  0.9671  0.2453   \n",
       "92      Lee Sin   JUNGLE  God    S+  91.56   +8.71  0.4974  0.9323  0.1637   \n",
       "99          Lux  SUPPORT  God    S+  84.13   -3.31  0.4943  0.7118  0.1138   \n",
       "119    Nautilus  SUPPORT  God    S+  82.91   -2.42  0.4874  0.9757  0.1103   \n",
       "128     Orianna      MID  God    S+  87.44   +8.89  0.5069  0.9589  0.1109   \n",
       "139       Rakan  SUPPORT  God    S+  89.43   +4.33  0.5135  0.9942  0.1210   \n",
       "155       Senna  SUPPORT  God    S+  83.38   -2.27  0.5146  0.9465  0.1078   \n",
       "177       Sylas      MID  God    S+  87.51  +14.56  0.5398  0.6404  0.0967   \n",
       "189      Thresh  SUPPORT  God    S+  93.16   +1.42  0.5195  0.9865  0.1306   \n",
       "225       Yasuo      MID  God    S+  86.27   +7.05  0.4869  0.6567  0.1114   \n",
       "228        Yone      MID  God    S+  77.26   +5.96  0.4853  0.5151  0.0991   \n",
       "229        Yone      TOP  God    S+  76.40   +9.79  0.4755  0.4467  0.0869   \n",
       "233         Zed      MID  God    S+  83.96   -4.94  0.4778  0.8665  0.0927   \n",
       "\n",
       "      Ban %   KDA  \n",
       "0    0.1352  1.94  \n",
       "2    0.1383  2.43  \n",
       "20   0.2932  2.46  \n",
       "25   0.3862  2.27  \n",
       "33   0.1823  1.75  \n",
       "42   0.0985  2.55  \n",
       "51   0.0883  1.97  \n",
       "56   0.1332  2.64  \n",
       "68   0.0881  3.35  \n",
       "69   0.1550  1.77  \n",
       "75   0.0614  2.24  \n",
       "76   0.1011  2.43  \n",
       "92   0.1031  2.81  \n",
       "99   0.1057  2.32  \n",
       "119  0.1648  2.27  \n",
       "128  0.0908  2.75  \n",
       "139  0.0521  2.94  \n",
       "155  0.0834  2.49  \n",
       "177  0.1543  2.31  \n",
       "189  0.0550  2.65  \n",
       "225  0.2177  1.74  \n",
       "228  0.1873  1.82  \n",
       "229  0.1873  1.55  \n",
       "233  0.3189  2.21  "
      ]
     },
     "execution_count": 79,
     "metadata": {},
     "output_type": "execute_result"
    }
   ],
   "source": [
    "# Check which champion is S+ tier on S13.21\n",
    "df[df['Tier'] == ' S+']"
   ]
  },
  {
   "cell_type": "code",
   "execution_count": 80,
   "metadata": {},
   "outputs": [
    {
     "name": "stdout",
     "output_type": "stream",
     "text": [
      "   Tier  Score          Name     Role   Win %\n",
      "0     A  47.00         Swain      MID  0.5338\n",
      "1     A  56.09       Camille      TOP  0.5199\n",
      "2     B  40.37        Kennen      TOP  0.4879\n",
      "3     B  46.97            Vi   JUNGLE  0.4827\n",
      "4     C  33.91        Wukong      TOP  0.4893\n",
      "5     C  39.90    Tahm Kench  SUPPORT  0.5186\n",
      "6     D  19.69  Miss Fortune  SUPPORT  0.4245\n",
      "7     D  33.15          Sion      MID  0.5139\n",
      "8     S  56.38          Lulu  SUPPORT  0.4802\n",
      "9     S  74.40       Caitlyn      ADC  0.5126\n",
      "10   S+  74.76     Jarvan IV   JUNGLE  0.5151\n",
      "11   S+  93.16        Thresh  SUPPORT  0.5195\n"
     ]
    }
   ],
   "source": [
    "# Check the lowest and highest rating score champion of each tier\n",
    "to_plt = (df.groupby('Tier')\n",
    "          .apply(lambda x: x\n",
    "                 .loc[x['Score'].agg(['idxmin', 'idxmax'])]\n",
    "                 [['Score', 'Name', 'Role', 'Win %']]))\n",
    "to_plt = to_plt.reset_index(level=1, drop=True).reset_index()\n",
    "print(to_plt)"
   ]
  },
  {
   "cell_type": "code",
   "execution_count": 81,
   "metadata": {},
   "outputs": [
    {
     "data": {
      "application/vnd.plotly.v1+json": {
       "config": {
        "plotlyServerURL": "https://plot.ly"
       },
       "data": [
        {
         "alignmentgroup": "True",
         "customdata": [
          [
           "MID",
           0.5338
          ],
          [
           "TOP",
           0.5199
          ]
         ],
         "hovertemplate": "Tier= A<br>Name=%{x}<br>Score=%{y}<br>Role=%{customdata[0]}<br>Win %=%{customdata[1]}<extra></extra>",
         "legendgroup": " A",
         "marker": {
          "color": "#636efa",
          "pattern": {
           "shape": ""
          }
         },
         "name": " A",
         "offsetgroup": " A",
         "orientation": "v",
         "showlegend": true,
         "textposition": "auto",
         "type": "bar",
         "x": [
          "Swain",
          "Camille"
         ],
         "xaxis": "x",
         "y": [
          47,
          56.09
         ],
         "yaxis": "y"
        },
        {
         "alignmentgroup": "True",
         "customdata": [
          [
           "TOP",
           0.4879
          ],
          [
           "JUNGLE",
           0.4827
          ]
         ],
         "hovertemplate": "Tier= B<br>Name=%{x}<br>Score=%{y}<br>Role=%{customdata[0]}<br>Win %=%{customdata[1]}<extra></extra>",
         "legendgroup": " B",
         "marker": {
          "color": "#EF553B",
          "pattern": {
           "shape": ""
          }
         },
         "name": " B",
         "offsetgroup": " B",
         "orientation": "v",
         "showlegend": true,
         "textposition": "auto",
         "type": "bar",
         "x": [
          "Kennen",
          "Vi"
         ],
         "xaxis": "x",
         "y": [
          40.37,
          46.97
         ],
         "yaxis": "y"
        },
        {
         "alignmentgroup": "True",
         "customdata": [
          [
           "TOP",
           0.4893
          ],
          [
           "SUPPORT",
           0.5186
          ]
         ],
         "hovertemplate": "Tier= C<br>Name=%{x}<br>Score=%{y}<br>Role=%{customdata[0]}<br>Win %=%{customdata[1]}<extra></extra>",
         "legendgroup": " C",
         "marker": {
          "color": "#00cc96",
          "pattern": {
           "shape": ""
          }
         },
         "name": " C",
         "offsetgroup": " C",
         "orientation": "v",
         "showlegend": true,
         "textposition": "auto",
         "type": "bar",
         "x": [
          "Wukong",
          "Tahm Kench"
         ],
         "xaxis": "x",
         "y": [
          33.91,
          39.9
         ],
         "yaxis": "y"
        },
        {
         "alignmentgroup": "True",
         "customdata": [
          [
           "SUPPORT",
           0.4245
          ],
          [
           "MID",
           0.5139
          ]
         ],
         "hovertemplate": "Tier= D<br>Name=%{x}<br>Score=%{y}<br>Role=%{customdata[0]}<br>Win %=%{customdata[1]}<extra></extra>",
         "legendgroup": " D",
         "marker": {
          "color": "#ab63fa",
          "pattern": {
           "shape": ""
          }
         },
         "name": " D",
         "offsetgroup": " D",
         "orientation": "v",
         "showlegend": true,
         "textposition": "auto",
         "type": "bar",
         "x": [
          "Miss Fortune",
          "Sion"
         ],
         "xaxis": "x",
         "y": [
          19.69,
          33.15
         ],
         "yaxis": "y"
        },
        {
         "alignmentgroup": "True",
         "customdata": [
          [
           "SUPPORT",
           0.4802
          ],
          [
           "ADC",
           0.5126
          ]
         ],
         "hovertemplate": "Tier= S<br>Name=%{x}<br>Score=%{y}<br>Role=%{customdata[0]}<br>Win %=%{customdata[1]}<extra></extra>",
         "legendgroup": " S",
         "marker": {
          "color": "#FFA15A",
          "pattern": {
           "shape": ""
          }
         },
         "name": " S",
         "offsetgroup": " S",
         "orientation": "v",
         "showlegend": true,
         "textposition": "auto",
         "type": "bar",
         "x": [
          "Lulu",
          "Caitlyn"
         ],
         "xaxis": "x",
         "y": [
          56.38,
          74.4
         ],
         "yaxis": "y"
        },
        {
         "alignmentgroup": "True",
         "customdata": [
          [
           "JUNGLE",
           0.5151
          ],
          [
           "SUPPORT",
           0.5195
          ]
         ],
         "hovertemplate": "Tier= S+<br>Name=%{x}<br>Score=%{y}<br>Role=%{customdata[0]}<br>Win %=%{customdata[1]}<extra></extra>",
         "legendgroup": " S+",
         "marker": {
          "color": "#19d3f3",
          "pattern": {
           "shape": ""
          }
         },
         "name": " S+",
         "offsetgroup": " S+",
         "orientation": "v",
         "showlegend": true,
         "textposition": "auto",
         "type": "bar",
         "x": [
          "Jarvan IV",
          "Thresh"
         ],
         "xaxis": "x",
         "y": [
          74.76,
          93.16
         ],
         "yaxis": "y"
        }
       ],
       "layout": {
        "barmode": "relative",
        "legend": {
         "title": {
          "text": "Tier"
         },
         "tracegroupgap": 0
        },
        "template": {
         "data": {
          "bar": [
           {
            "error_x": {
             "color": "#2a3f5f"
            },
            "error_y": {
             "color": "#2a3f5f"
            },
            "marker": {
             "line": {
              "color": "#E5ECF6",
              "width": 0.5
             },
             "pattern": {
              "fillmode": "overlay",
              "size": 10,
              "solidity": 0.2
             }
            },
            "type": "bar"
           }
          ],
          "barpolar": [
           {
            "marker": {
             "line": {
              "color": "#E5ECF6",
              "width": 0.5
             },
             "pattern": {
              "fillmode": "overlay",
              "size": 10,
              "solidity": 0.2
             }
            },
            "type": "barpolar"
           }
          ],
          "carpet": [
           {
            "aaxis": {
             "endlinecolor": "#2a3f5f",
             "gridcolor": "white",
             "linecolor": "white",
             "minorgridcolor": "white",
             "startlinecolor": "#2a3f5f"
            },
            "baxis": {
             "endlinecolor": "#2a3f5f",
             "gridcolor": "white",
             "linecolor": "white",
             "minorgridcolor": "white",
             "startlinecolor": "#2a3f5f"
            },
            "type": "carpet"
           }
          ],
          "choropleth": [
           {
            "colorbar": {
             "outlinewidth": 0,
             "ticks": ""
            },
            "type": "choropleth"
           }
          ],
          "contour": [
           {
            "colorbar": {
             "outlinewidth": 0,
             "ticks": ""
            },
            "colorscale": [
             [
              0,
              "#0d0887"
             ],
             [
              0.1111111111111111,
              "#46039f"
             ],
             [
              0.2222222222222222,
              "#7201a8"
             ],
             [
              0.3333333333333333,
              "#9c179e"
             ],
             [
              0.4444444444444444,
              "#bd3786"
             ],
             [
              0.5555555555555556,
              "#d8576b"
             ],
             [
              0.6666666666666666,
              "#ed7953"
             ],
             [
              0.7777777777777778,
              "#fb9f3a"
             ],
             [
              0.8888888888888888,
              "#fdca26"
             ],
             [
              1,
              "#f0f921"
             ]
            ],
            "type": "contour"
           }
          ],
          "contourcarpet": [
           {
            "colorbar": {
             "outlinewidth": 0,
             "ticks": ""
            },
            "type": "contourcarpet"
           }
          ],
          "heatmap": [
           {
            "colorbar": {
             "outlinewidth": 0,
             "ticks": ""
            },
            "colorscale": [
             [
              0,
              "#0d0887"
             ],
             [
              0.1111111111111111,
              "#46039f"
             ],
             [
              0.2222222222222222,
              "#7201a8"
             ],
             [
              0.3333333333333333,
              "#9c179e"
             ],
             [
              0.4444444444444444,
              "#bd3786"
             ],
             [
              0.5555555555555556,
              "#d8576b"
             ],
             [
              0.6666666666666666,
              "#ed7953"
             ],
             [
              0.7777777777777778,
              "#fb9f3a"
             ],
             [
              0.8888888888888888,
              "#fdca26"
             ],
             [
              1,
              "#f0f921"
             ]
            ],
            "type": "heatmap"
           }
          ],
          "heatmapgl": [
           {
            "colorbar": {
             "outlinewidth": 0,
             "ticks": ""
            },
            "colorscale": [
             [
              0,
              "#0d0887"
             ],
             [
              0.1111111111111111,
              "#46039f"
             ],
             [
              0.2222222222222222,
              "#7201a8"
             ],
             [
              0.3333333333333333,
              "#9c179e"
             ],
             [
              0.4444444444444444,
              "#bd3786"
             ],
             [
              0.5555555555555556,
              "#d8576b"
             ],
             [
              0.6666666666666666,
              "#ed7953"
             ],
             [
              0.7777777777777778,
              "#fb9f3a"
             ],
             [
              0.8888888888888888,
              "#fdca26"
             ],
             [
              1,
              "#f0f921"
             ]
            ],
            "type": "heatmapgl"
           }
          ],
          "histogram": [
           {
            "marker": {
             "pattern": {
              "fillmode": "overlay",
              "size": 10,
              "solidity": 0.2
             }
            },
            "type": "histogram"
           }
          ],
          "histogram2d": [
           {
            "colorbar": {
             "outlinewidth": 0,
             "ticks": ""
            },
            "colorscale": [
             [
              0,
              "#0d0887"
             ],
             [
              0.1111111111111111,
              "#46039f"
             ],
             [
              0.2222222222222222,
              "#7201a8"
             ],
             [
              0.3333333333333333,
              "#9c179e"
             ],
             [
              0.4444444444444444,
              "#bd3786"
             ],
             [
              0.5555555555555556,
              "#d8576b"
             ],
             [
              0.6666666666666666,
              "#ed7953"
             ],
             [
              0.7777777777777778,
              "#fb9f3a"
             ],
             [
              0.8888888888888888,
              "#fdca26"
             ],
             [
              1,
              "#f0f921"
             ]
            ],
            "type": "histogram2d"
           }
          ],
          "histogram2dcontour": [
           {
            "colorbar": {
             "outlinewidth": 0,
             "ticks": ""
            },
            "colorscale": [
             [
              0,
              "#0d0887"
             ],
             [
              0.1111111111111111,
              "#46039f"
             ],
             [
              0.2222222222222222,
              "#7201a8"
             ],
             [
              0.3333333333333333,
              "#9c179e"
             ],
             [
              0.4444444444444444,
              "#bd3786"
             ],
             [
              0.5555555555555556,
              "#d8576b"
             ],
             [
              0.6666666666666666,
              "#ed7953"
             ],
             [
              0.7777777777777778,
              "#fb9f3a"
             ],
             [
              0.8888888888888888,
              "#fdca26"
             ],
             [
              1,
              "#f0f921"
             ]
            ],
            "type": "histogram2dcontour"
           }
          ],
          "mesh3d": [
           {
            "colorbar": {
             "outlinewidth": 0,
             "ticks": ""
            },
            "type": "mesh3d"
           }
          ],
          "parcoords": [
           {
            "line": {
             "colorbar": {
              "outlinewidth": 0,
              "ticks": ""
             }
            },
            "type": "parcoords"
           }
          ],
          "pie": [
           {
            "automargin": true,
            "type": "pie"
           }
          ],
          "scatter": [
           {
            "fillpattern": {
             "fillmode": "overlay",
             "size": 10,
             "solidity": 0.2
            },
            "type": "scatter"
           }
          ],
          "scatter3d": [
           {
            "line": {
             "colorbar": {
              "outlinewidth": 0,
              "ticks": ""
             }
            },
            "marker": {
             "colorbar": {
              "outlinewidth": 0,
              "ticks": ""
             }
            },
            "type": "scatter3d"
           }
          ],
          "scattercarpet": [
           {
            "marker": {
             "colorbar": {
              "outlinewidth": 0,
              "ticks": ""
             }
            },
            "type": "scattercarpet"
           }
          ],
          "scattergeo": [
           {
            "marker": {
             "colorbar": {
              "outlinewidth": 0,
              "ticks": ""
             }
            },
            "type": "scattergeo"
           }
          ],
          "scattergl": [
           {
            "marker": {
             "colorbar": {
              "outlinewidth": 0,
              "ticks": ""
             }
            },
            "type": "scattergl"
           }
          ],
          "scattermapbox": [
           {
            "marker": {
             "colorbar": {
              "outlinewidth": 0,
              "ticks": ""
             }
            },
            "type": "scattermapbox"
           }
          ],
          "scatterpolar": [
           {
            "marker": {
             "colorbar": {
              "outlinewidth": 0,
              "ticks": ""
             }
            },
            "type": "scatterpolar"
           }
          ],
          "scatterpolargl": [
           {
            "marker": {
             "colorbar": {
              "outlinewidth": 0,
              "ticks": ""
             }
            },
            "type": "scatterpolargl"
           }
          ],
          "scatterternary": [
           {
            "marker": {
             "colorbar": {
              "outlinewidth": 0,
              "ticks": ""
             }
            },
            "type": "scatterternary"
           }
          ],
          "surface": [
           {
            "colorbar": {
             "outlinewidth": 0,
             "ticks": ""
            },
            "colorscale": [
             [
              0,
              "#0d0887"
             ],
             [
              0.1111111111111111,
              "#46039f"
             ],
             [
              0.2222222222222222,
              "#7201a8"
             ],
             [
              0.3333333333333333,
              "#9c179e"
             ],
             [
              0.4444444444444444,
              "#bd3786"
             ],
             [
              0.5555555555555556,
              "#d8576b"
             ],
             [
              0.6666666666666666,
              "#ed7953"
             ],
             [
              0.7777777777777778,
              "#fb9f3a"
             ],
             [
              0.8888888888888888,
              "#fdca26"
             ],
             [
              1,
              "#f0f921"
             ]
            ],
            "type": "surface"
           }
          ],
          "table": [
           {
            "cells": {
             "fill": {
              "color": "#EBF0F8"
             },
             "line": {
              "color": "white"
             }
            },
            "header": {
             "fill": {
              "color": "#C8D4E3"
             },
             "line": {
              "color": "white"
             }
            },
            "type": "table"
           }
          ]
         },
         "layout": {
          "annotationdefaults": {
           "arrowcolor": "#2a3f5f",
           "arrowhead": 0,
           "arrowwidth": 1
          },
          "autotypenumbers": "strict",
          "coloraxis": {
           "colorbar": {
            "outlinewidth": 0,
            "ticks": ""
           }
          },
          "colorscale": {
           "diverging": [
            [
             0,
             "#8e0152"
            ],
            [
             0.1,
             "#c51b7d"
            ],
            [
             0.2,
             "#de77ae"
            ],
            [
             0.3,
             "#f1b6da"
            ],
            [
             0.4,
             "#fde0ef"
            ],
            [
             0.5,
             "#f7f7f7"
            ],
            [
             0.6,
             "#e6f5d0"
            ],
            [
             0.7,
             "#b8e186"
            ],
            [
             0.8,
             "#7fbc41"
            ],
            [
             0.9,
             "#4d9221"
            ],
            [
             1,
             "#276419"
            ]
           ],
           "sequential": [
            [
             0,
             "#0d0887"
            ],
            [
             0.1111111111111111,
             "#46039f"
            ],
            [
             0.2222222222222222,
             "#7201a8"
            ],
            [
             0.3333333333333333,
             "#9c179e"
            ],
            [
             0.4444444444444444,
             "#bd3786"
            ],
            [
             0.5555555555555556,
             "#d8576b"
            ],
            [
             0.6666666666666666,
             "#ed7953"
            ],
            [
             0.7777777777777778,
             "#fb9f3a"
            ],
            [
             0.8888888888888888,
             "#fdca26"
            ],
            [
             1,
             "#f0f921"
            ]
           ],
           "sequentialminus": [
            [
             0,
             "#0d0887"
            ],
            [
             0.1111111111111111,
             "#46039f"
            ],
            [
             0.2222222222222222,
             "#7201a8"
            ],
            [
             0.3333333333333333,
             "#9c179e"
            ],
            [
             0.4444444444444444,
             "#bd3786"
            ],
            [
             0.5555555555555556,
             "#d8576b"
            ],
            [
             0.6666666666666666,
             "#ed7953"
            ],
            [
             0.7777777777777778,
             "#fb9f3a"
            ],
            [
             0.8888888888888888,
             "#fdca26"
            ],
            [
             1,
             "#f0f921"
            ]
           ]
          },
          "colorway": [
           "#636efa",
           "#EF553B",
           "#00cc96",
           "#ab63fa",
           "#FFA15A",
           "#19d3f3",
           "#FF6692",
           "#B6E880",
           "#FF97FF",
           "#FECB52"
          ],
          "font": {
           "color": "#2a3f5f"
          },
          "geo": {
           "bgcolor": "white",
           "lakecolor": "white",
           "landcolor": "#E5ECF6",
           "showlakes": true,
           "showland": true,
           "subunitcolor": "white"
          },
          "hoverlabel": {
           "align": "left"
          },
          "hovermode": "closest",
          "mapbox": {
           "style": "light"
          },
          "paper_bgcolor": "white",
          "plot_bgcolor": "#E5ECF6",
          "polar": {
           "angularaxis": {
            "gridcolor": "white",
            "linecolor": "white",
            "ticks": ""
           },
           "bgcolor": "#E5ECF6",
           "radialaxis": {
            "gridcolor": "white",
            "linecolor": "white",
            "ticks": ""
           }
          },
          "scene": {
           "xaxis": {
            "backgroundcolor": "#E5ECF6",
            "gridcolor": "white",
            "gridwidth": 2,
            "linecolor": "white",
            "showbackground": true,
            "ticks": "",
            "zerolinecolor": "white"
           },
           "yaxis": {
            "backgroundcolor": "#E5ECF6",
            "gridcolor": "white",
            "gridwidth": 2,
            "linecolor": "white",
            "showbackground": true,
            "ticks": "",
            "zerolinecolor": "white"
           },
           "zaxis": {
            "backgroundcolor": "#E5ECF6",
            "gridcolor": "white",
            "gridwidth": 2,
            "linecolor": "white",
            "showbackground": true,
            "ticks": "",
            "zerolinecolor": "white"
           }
          },
          "shapedefaults": {
           "line": {
            "color": "#2a3f5f"
           }
          },
          "ternary": {
           "aaxis": {
            "gridcolor": "white",
            "linecolor": "white",
            "ticks": ""
           },
           "baxis": {
            "gridcolor": "white",
            "linecolor": "white",
            "ticks": ""
           },
           "bgcolor": "#E5ECF6",
           "caxis": {
            "gridcolor": "white",
            "linecolor": "white",
            "ticks": ""
           }
          },
          "title": {
           "x": 0.05
          },
          "xaxis": {
           "automargin": true,
           "gridcolor": "white",
           "linecolor": "white",
           "ticks": "",
           "title": {
            "standoff": 15
           },
           "zerolinecolor": "white",
           "zerolinewidth": 2
          },
          "yaxis": {
           "automargin": true,
           "gridcolor": "white",
           "linecolor": "white",
           "ticks": "",
           "title": {
            "standoff": 15
           },
           "zerolinecolor": "white",
           "zerolinewidth": 2
          }
         }
        },
        "title": {
         "text": "Best and Worst champions of each Tier"
        },
        "xaxis": {
         "anchor": "y",
         "domain": [
          0,
          1
         ],
         "title": {
          "text": "Name"
         }
        },
        "yaxis": {
         "anchor": "x",
         "domain": [
          0,
          1
         ],
         "title": {
          "text": "Score"
         }
        }
       }
      }
     },
     "metadata": {},
     "output_type": "display_data"
    }
   ],
   "source": [
    "# Plotting which champion is the best and the worst in each tier according to their rating score\n",
    "px.bar(to_plt,'Name' , 'Score' , 'Tier' ,hover_data=['Role' , 'Win %'], title='Best and Worst champions of each Tier')"
   ]
  },
  {
   "cell_type": "markdown",
   "metadata": {},
   "source": [
    "![Best and Worst champion rating of each tier in season 13.21](BnWCET.png)"
   ]
  },
  {
   "cell_type": "code",
   "execution_count": 82,
   "metadata": {},
   "outputs": [
    {
     "data": {
      "application/vnd.plotly.v1+json": {
       "config": {
        "plotlyServerURL": "https://plot.ly"
       },
       "data": [
        {
         "alignmentgroup": "True",
         "bingroup": "x",
         "hovertemplate": "Name=Aatrox<br>Win %=%{x}<br>count=%{y}<extra></extra>",
         "legendgroup": "Aatrox",
         "marker": {
          "color": "#636efa",
          "pattern": {
           "shape": ""
          }
         },
         "name": "Aatrox",
         "offsetgroup": "Aatrox",
         "orientation": "v",
         "showlegend": true,
         "type": "histogram",
         "x": [
          0.4947
         ],
         "xaxis": "x",
         "yaxis": "y"
        },
        {
         "alignmentgroup": "True",
         "bingroup": "x",
         "hovertemplate": "Name=Ahri<br>Win %=%{x}<br>count=%{y}<extra></extra>",
         "legendgroup": "Ahri",
         "marker": {
          "color": "#EF553B",
          "pattern": {
           "shape": ""
          }
         },
         "name": "Ahri",
         "offsetgroup": "Ahri",
         "orientation": "v",
         "showlegend": true,
         "type": "histogram",
         "x": [
          0.4939
         ],
         "xaxis": "x",
         "yaxis": "y"
        },
        {
         "alignmentgroup": "True",
         "bingroup": "x",
         "hovertemplate": "Name=Akali<br>Win %=%{x}<br>count=%{y}<extra></extra>",
         "legendgroup": "Akali",
         "marker": {
          "color": "#00cc96",
          "pattern": {
           "shape": ""
          }
         },
         "name": "Akali",
         "offsetgroup": "Akali",
         "orientation": "v",
         "showlegend": true,
         "type": "histogram",
         "x": [
          0.4784,
          0.4759
         ],
         "xaxis": "x",
         "yaxis": "y"
        },
        {
         "alignmentgroup": "True",
         "bingroup": "x",
         "hovertemplate": "Name=Akshan<br>Win %=%{x}<br>count=%{y}<extra></extra>",
         "legendgroup": "Akshan",
         "marker": {
          "color": "#ab63fa",
          "pattern": {
           "shape": ""
          }
         },
         "name": "Akshan",
         "offsetgroup": "Akshan",
         "orientation": "v",
         "showlegend": true,
         "type": "histogram",
         "x": [
          0.5151,
          0.5074
         ],
         "xaxis": "x",
         "yaxis": "y"
        },
        {
         "alignmentgroup": "True",
         "bingroup": "x",
         "hovertemplate": "Name=Alistar<br>Win %=%{x}<br>count=%{y}<extra></extra>",
         "legendgroup": "Alistar",
         "marker": {
          "color": "#FFA15A",
          "pattern": {
           "shape": ""
          }
         },
         "name": "Alistar",
         "offsetgroup": "Alistar",
         "orientation": "v",
         "showlegend": true,
         "type": "histogram",
         "x": [
          0.5081
         ],
         "xaxis": "x",
         "yaxis": "y"
        },
        {
         "alignmentgroup": "True",
         "bingroup": "x",
         "hovertemplate": "Name=Amumu<br>Win %=%{x}<br>count=%{y}<extra></extra>",
         "legendgroup": "Amumu",
         "marker": {
          "color": "#19d3f3",
          "pattern": {
           "shape": ""
          }
         },
         "name": "Amumu",
         "offsetgroup": "Amumu",
         "orientation": "v",
         "showlegend": true,
         "type": "histogram",
         "x": [
          0.5079,
          0.5282
         ],
         "xaxis": "x",
         "yaxis": "y"
        },
        {
         "alignmentgroup": "True",
         "bingroup": "x",
         "hovertemplate": "Name=Anivia<br>Win %=%{x}<br>count=%{y}<extra></extra>",
         "legendgroup": "Anivia",
         "marker": {
          "color": "#FF6692",
          "pattern": {
           "shape": ""
          }
         },
         "name": "Anivia",
         "offsetgroup": "Anivia",
         "orientation": "v",
         "showlegend": true,
         "type": "histogram",
         "x": [
          0.4962,
          0.474
         ],
         "xaxis": "x",
         "yaxis": "y"
        },
        {
         "alignmentgroup": "True",
         "bingroup": "x",
         "hovertemplate": "Name=Annie<br>Win %=%{x}<br>count=%{y}<extra></extra>",
         "legendgroup": "Annie",
         "marker": {
          "color": "#B6E880",
          "pattern": {
           "shape": ""
          }
         },
         "name": "Annie",
         "offsetgroup": "Annie",
         "orientation": "v",
         "showlegend": true,
         "type": "histogram",
         "x": [
          0.4793,
          0.482
         ],
         "xaxis": "x",
         "yaxis": "y"
        },
        {
         "alignmentgroup": "True",
         "bingroup": "x",
         "hovertemplate": "Name=Aphelios<br>Win %=%{x}<br>count=%{y}<extra></extra>",
         "legendgroup": "Aphelios",
         "marker": {
          "color": "#FF97FF",
          "pattern": {
           "shape": ""
          }
         },
         "name": "Aphelios",
         "offsetgroup": "Aphelios",
         "orientation": "v",
         "showlegend": true,
         "type": "histogram",
         "x": [
          0.4628
         ],
         "xaxis": "x",
         "yaxis": "y"
        },
        {
         "alignmentgroup": "True",
         "bingroup": "x",
         "hovertemplate": "Name=Ashe<br>Win %=%{x}<br>count=%{y}<extra></extra>",
         "legendgroup": "Ashe",
         "marker": {
          "color": "#FECB52",
          "pattern": {
           "shape": ""
          }
         },
         "name": "Ashe",
         "offsetgroup": "Ashe",
         "orientation": "v",
         "showlegend": true,
         "type": "histogram",
         "x": [
          0.5213,
          0.4443
         ],
         "xaxis": "x",
         "yaxis": "y"
        },
        {
         "alignmentgroup": "True",
         "bingroup": "x",
         "hovertemplate": "Name=Aurelion Sol<br>Win %=%{x}<br>count=%{y}<extra></extra>",
         "legendgroup": "Aurelion Sol",
         "marker": {
          "color": "#636efa",
          "pattern": {
           "shape": ""
          }
         },
         "name": "Aurelion Sol",
         "offsetgroup": "Aurelion Sol",
         "orientation": "v",
         "showlegend": true,
         "type": "histogram",
         "x": [
          0.4912
         ],
         "xaxis": "x",
         "yaxis": "y"
        },
        {
         "alignmentgroup": "True",
         "bingroup": "x",
         "hovertemplate": "Name=Azir<br>Win %=%{x}<br>count=%{y}<extra></extra>",
         "legendgroup": "Azir",
         "marker": {
          "color": "#EF553B",
          "pattern": {
           "shape": ""
          }
         },
         "name": "Azir",
         "offsetgroup": "Azir",
         "orientation": "v",
         "showlegend": true,
         "type": "histogram",
         "x": [
          0.47
         ],
         "xaxis": "x",
         "yaxis": "y"
        },
        {
         "alignmentgroup": "True",
         "bingroup": "x",
         "hovertemplate": "Name=Bard<br>Win %=%{x}<br>count=%{y}<extra></extra>",
         "legendgroup": "Bard",
         "marker": {
          "color": "#00cc96",
          "pattern": {
           "shape": ""
          }
         },
         "name": "Bard",
         "offsetgroup": "Bard",
         "orientation": "v",
         "showlegend": true,
         "type": "histogram",
         "x": [
          0.5053
         ],
         "xaxis": "x",
         "yaxis": "y"
        },
        {
         "alignmentgroup": "True",
         "bingroup": "x",
         "hovertemplate": "Name=Bel'Veth<br>Win %=%{x}<br>count=%{y}<extra></extra>",
         "legendgroup": "Bel'Veth",
         "marker": {
          "color": "#ab63fa",
          "pattern": {
           "shape": ""
          }
         },
         "name": "Bel'Veth",
         "offsetgroup": "Bel'Veth",
         "orientation": "v",
         "showlegend": true,
         "type": "histogram",
         "x": [
          0.5041
         ],
         "xaxis": "x",
         "yaxis": "y"
        },
        {
         "alignmentgroup": "True",
         "bingroup": "x",
         "hovertemplate": "Name=Blitzcrank<br>Win %=%{x}<br>count=%{y}<extra></extra>",
         "legendgroup": "Blitzcrank",
         "marker": {
          "color": "#FFA15A",
          "pattern": {
           "shape": ""
          }
         },
         "name": "Blitzcrank",
         "offsetgroup": "Blitzcrank",
         "orientation": "v",
         "showlegend": true,
         "type": "histogram",
         "x": [
          0.5197
         ],
         "xaxis": "x",
         "yaxis": "y"
        },
        {
         "alignmentgroup": "True",
         "bingroup": "x",
         "hovertemplate": "Name=Brand<br>Win %=%{x}<br>count=%{y}<extra></extra>",
         "legendgroup": "Brand",
         "marker": {
          "color": "#19d3f3",
          "pattern": {
           "shape": ""
          }
         },
         "name": "Brand",
         "offsetgroup": "Brand",
         "orientation": "v",
         "showlegend": true,
         "type": "histogram",
         "x": [
          0.5149,
          0.4953,
          0.4957
         ],
         "xaxis": "x",
         "yaxis": "y"
        },
        {
         "alignmentgroup": "True",
         "bingroup": "x",
         "hovertemplate": "Name=Braum<br>Win %=%{x}<br>count=%{y}<extra></extra>",
         "legendgroup": "Braum",
         "marker": {
          "color": "#FF6692",
          "pattern": {
           "shape": ""
          }
         },
         "name": "Braum",
         "offsetgroup": "Braum",
         "orientation": "v",
         "showlegend": true,
         "type": "histogram",
         "x": [
          0.4858
         ],
         "xaxis": "x",
         "yaxis": "y"
        },
        {
         "alignmentgroup": "True",
         "bingroup": "x",
         "hovertemplate": "Name=Briar<br>Win %=%{x}<br>count=%{y}<extra></extra>",
         "legendgroup": "Briar",
         "marker": {
          "color": "#B6E880",
          "pattern": {
           "shape": ""
          }
         },
         "name": "Briar",
         "offsetgroup": "Briar",
         "orientation": "v",
         "showlegend": true,
         "type": "histogram",
         "x": [
          0.5086
         ],
         "xaxis": "x",
         "yaxis": "y"
        },
        {
         "alignmentgroup": "True",
         "bingroup": "x",
         "hovertemplate": "Name=Caitlyn<br>Win %=%{x}<br>count=%{y}<extra></extra>",
         "legendgroup": "Caitlyn",
         "marker": {
          "color": "#FF97FF",
          "pattern": {
           "shape": ""
          }
         },
         "name": "Caitlyn",
         "offsetgroup": "Caitlyn",
         "orientation": "v",
         "showlegend": true,
         "type": "histogram",
         "x": [
          0.5126
         ],
         "xaxis": "x",
         "yaxis": "y"
        },
        {
         "alignmentgroup": "True",
         "bingroup": "x",
         "hovertemplate": "Name=Camille<br>Win %=%{x}<br>count=%{y}<extra></extra>",
         "legendgroup": "Camille",
         "marker": {
          "color": "#FECB52",
          "pattern": {
           "shape": ""
          }
         },
         "name": "Camille",
         "offsetgroup": "Camille",
         "orientation": "v",
         "showlegend": true,
         "type": "histogram",
         "x": [
          0.5199
         ],
         "xaxis": "x",
         "yaxis": "y"
        },
        {
         "alignmentgroup": "True",
         "bingroup": "x",
         "hovertemplate": "Name=Cassiopeia<br>Win %=%{x}<br>count=%{y}<extra></extra>",
         "legendgroup": "Cassiopeia",
         "marker": {
          "color": "#636efa",
          "pattern": {
           "shape": ""
          }
         },
         "name": "Cassiopeia",
         "offsetgroup": "Cassiopeia",
         "orientation": "v",
         "showlegend": true,
         "type": "histogram",
         "x": [
          0.4886,
          0.4883
         ],
         "xaxis": "x",
         "yaxis": "y"
        },
        {
         "alignmentgroup": "True",
         "bingroup": "x",
         "hovertemplate": "Name=Cho'Gath<br>Win %=%{x}<br>count=%{y}<extra></extra>",
         "legendgroup": "Cho'Gath",
         "marker": {
          "color": "#EF553B",
          "pattern": {
           "shape": ""
          }
         },
         "name": "Cho'Gath",
         "offsetgroup": "Cho'Gath",
         "orientation": "v",
         "showlegend": true,
         "type": "histogram",
         "x": [
          0.5077,
          0.5282
         ],
         "xaxis": "x",
         "yaxis": "y"
        },
        {
         "alignmentgroup": "True",
         "bingroup": "x",
         "hovertemplate": "Name=Corki<br>Win %=%{x}<br>count=%{y}<extra></extra>",
         "legendgroup": "Corki",
         "marker": {
          "color": "#00cc96",
          "pattern": {
           "shape": ""
          }
         },
         "name": "Corki",
         "offsetgroup": "Corki",
         "orientation": "v",
         "showlegend": true,
         "type": "histogram",
         "x": [
          0.4797
         ],
         "xaxis": "x",
         "yaxis": "y"
        },
        {
         "alignmentgroup": "True",
         "bingroup": "x",
         "hovertemplate": "Name=Darius<br>Win %=%{x}<br>count=%{y}<extra></extra>",
         "legendgroup": "Darius",
         "marker": {
          "color": "#ab63fa",
          "pattern": {
           "shape": ""
          }
         },
         "name": "Darius",
         "offsetgroup": "Darius",
         "orientation": "v",
         "showlegend": true,
         "type": "histogram",
         "x": [
          0.486
         ],
         "xaxis": "x",
         "yaxis": "y"
        },
        {
         "alignmentgroup": "True",
         "bingroup": "x",
         "hovertemplate": "Name=Diana<br>Win %=%{x}<br>count=%{y}<extra></extra>",
         "legendgroup": "Diana",
         "marker": {
          "color": "#FFA15A",
          "pattern": {
           "shape": ""
          }
         },
         "name": "Diana",
         "offsetgroup": "Diana",
         "orientation": "v",
         "showlegend": true,
         "type": "histogram",
         "x": [
          0.5078,
          0.5092
         ],
         "xaxis": "x",
         "yaxis": "y"
        },
        {
         "alignmentgroup": "True",
         "bingroup": "x",
         "hovertemplate": "Name=Dr. Mundo<br>Win %=%{x}<br>count=%{y}<extra></extra>",
         "legendgroup": "Dr. Mundo",
         "marker": {
          "color": "#19d3f3",
          "pattern": {
           "shape": ""
          }
         },
         "name": "Dr. Mundo",
         "offsetgroup": "Dr. Mundo",
         "orientation": "v",
         "showlegend": true,
         "type": "histogram",
         "x": [
          0.4719
         ],
         "xaxis": "x",
         "yaxis": "y"
        },
        {
         "alignmentgroup": "True",
         "bingroup": "x",
         "hovertemplate": "Name=Draven<br>Win %=%{x}<br>count=%{y}<extra></extra>",
         "legendgroup": "Draven",
         "marker": {
          "color": "#FF6692",
          "pattern": {
           "shape": ""
          }
         },
         "name": "Draven",
         "offsetgroup": "Draven",
         "orientation": "v",
         "showlegend": true,
         "type": "histogram",
         "x": [
          0.4997
         ],
         "xaxis": "x",
         "yaxis": "y"
        },
        {
         "alignmentgroup": "True",
         "bingroup": "x",
         "hovertemplate": "Name=Ekko<br>Win %=%{x}<br>count=%{y}<extra></extra>",
         "legendgroup": "Ekko",
         "marker": {
          "color": "#B6E880",
          "pattern": {
           "shape": ""
          }
         },
         "name": "Ekko",
         "offsetgroup": "Ekko",
         "orientation": "v",
         "showlegend": true,
         "type": "histogram",
         "x": [
          0.5246,
          0.5117
         ],
         "xaxis": "x",
         "yaxis": "y"
        },
        {
         "alignmentgroup": "True",
         "bingroup": "x",
         "hovertemplate": "Name=Elise<br>Win %=%{x}<br>count=%{y}<extra></extra>",
         "legendgroup": "Elise",
         "marker": {
          "color": "#FF97FF",
          "pattern": {
           "shape": ""
          }
         },
         "name": "Elise",
         "offsetgroup": "Elise",
         "orientation": "v",
         "showlegend": true,
         "type": "histogram",
         "x": [
          0.5007
         ],
         "xaxis": "x",
         "yaxis": "y"
        },
        {
         "alignmentgroup": "True",
         "bingroup": "x",
         "hovertemplate": "Name=Evelynn<br>Win %=%{x}<br>count=%{y}<extra></extra>",
         "legendgroup": "Evelynn",
         "marker": {
          "color": "#FECB52",
          "pattern": {
           "shape": ""
          }
         },
         "name": "Evelynn",
         "offsetgroup": "Evelynn",
         "orientation": "v",
         "showlegend": true,
         "type": "histogram",
         "x": [
          0.4976
         ],
         "xaxis": "x",
         "yaxis": "y"
        },
        {
         "alignmentgroup": "True",
         "bingroup": "x",
         "hovertemplate": "Name=Ezreal<br>Win %=%{x}<br>count=%{y}<extra></extra>",
         "legendgroup": "Ezreal",
         "marker": {
          "color": "#636efa",
          "pattern": {
           "shape": ""
          }
         },
         "name": "Ezreal",
         "offsetgroup": "Ezreal",
         "orientation": "v",
         "showlegend": true,
         "type": "histogram",
         "x": [
          0.4919
         ],
         "xaxis": "x",
         "yaxis": "y"
        },
        {
         "alignmentgroup": "True",
         "bingroup": "x",
         "hovertemplate": "Name=Fiddlesticks<br>Win %=%{x}<br>count=%{y}<extra></extra>",
         "legendgroup": "Fiddlesticks",
         "marker": {
          "color": "#EF553B",
          "pattern": {
           "shape": ""
          }
         },
         "name": "Fiddlesticks",
         "offsetgroup": "Fiddlesticks",
         "orientation": "v",
         "showlegend": true,
         "type": "histogram",
         "x": [
          0.4907,
          0.5136
         ],
         "xaxis": "x",
         "yaxis": "y"
        },
        {
         "alignmentgroup": "True",
         "bingroup": "x",
         "hovertemplate": "Name=Fiora<br>Win %=%{x}<br>count=%{y}<extra></extra>",
         "legendgroup": "Fiora",
         "marker": {
          "color": "#00cc96",
          "pattern": {
           "shape": ""
          }
         },
         "name": "Fiora",
         "offsetgroup": "Fiora",
         "orientation": "v",
         "showlegend": true,
         "type": "histogram",
         "x": [
          0.5058
         ],
         "xaxis": "x",
         "yaxis": "y"
        },
        {
         "alignmentgroup": "True",
         "bingroup": "x",
         "hovertemplate": "Name=Fizz<br>Win %=%{x}<br>count=%{y}<extra></extra>",
         "legendgroup": "Fizz",
         "marker": {
          "color": "#ab63fa",
          "pattern": {
           "shape": ""
          }
         },
         "name": "Fizz",
         "offsetgroup": "Fizz",
         "orientation": "v",
         "showlegend": true,
         "type": "histogram",
         "x": [
          0.5114
         ],
         "xaxis": "x",
         "yaxis": "y"
        },
        {
         "alignmentgroup": "True",
         "bingroup": "x",
         "hovertemplate": "Name=Galio<br>Win %=%{x}<br>count=%{y}<extra></extra>",
         "legendgroup": "Galio",
         "marker": {
          "color": "#FFA15A",
          "pattern": {
           "shape": ""
          }
         },
         "name": "Galio",
         "offsetgroup": "Galio",
         "orientation": "v",
         "showlegend": true,
         "type": "histogram",
         "x": [
          0.5103,
          0.5012
         ],
         "xaxis": "x",
         "yaxis": "y"
        },
        {
         "alignmentgroup": "True",
         "bingroup": "x",
         "hovertemplate": "Name=Gangplank<br>Win %=%{x}<br>count=%{y}<extra></extra>",
         "legendgroup": "Gangplank",
         "marker": {
          "color": "#19d3f3",
          "pattern": {
           "shape": ""
          }
         },
         "name": "Gangplank",
         "offsetgroup": "Gangplank",
         "orientation": "v",
         "showlegend": true,
         "type": "histogram",
         "x": [
          0.4821,
          0.5327
         ],
         "xaxis": "x",
         "yaxis": "y"
        },
        {
         "alignmentgroup": "True",
         "bingroup": "x",
         "hovertemplate": "Name=Garen<br>Win %=%{x}<br>count=%{y}<extra></extra>",
         "legendgroup": "Garen",
         "marker": {
          "color": "#FF6692",
          "pattern": {
           "shape": ""
          }
         },
         "name": "Garen",
         "offsetgroup": "Garen",
         "orientation": "v",
         "showlegend": true,
         "type": "histogram",
         "x": [
          0.516
         ],
         "xaxis": "x",
         "yaxis": "y"
        },
        {
         "alignmentgroup": "True",
         "bingroup": "x",
         "hovertemplate": "Name=Gnar<br>Win %=%{x}<br>count=%{y}<extra></extra>",
         "legendgroup": "Gnar",
         "marker": {
          "color": "#B6E880",
          "pattern": {
           "shape": ""
          }
         },
         "name": "Gnar",
         "offsetgroup": "Gnar",
         "orientation": "v",
         "showlegend": true,
         "type": "histogram",
         "x": [
          0.4968
         ],
         "xaxis": "x",
         "yaxis": "y"
        },
        {
         "alignmentgroup": "True",
         "bingroup": "x",
         "hovertemplate": "Name=Gragas<br>Win %=%{x}<br>count=%{y}<extra></extra>",
         "legendgroup": "Gragas",
         "marker": {
          "color": "#FF97FF",
          "pattern": {
           "shape": ""
          }
         },
         "name": "Gragas",
         "offsetgroup": "Gragas",
         "orientation": "v",
         "showlegend": true,
         "type": "histogram",
         "x": [
          0.4884,
          0.5121,
          0.4466
         ],
         "xaxis": "x",
         "yaxis": "y"
        },
        {
         "alignmentgroup": "True",
         "bingroup": "x",
         "hovertemplate": "Name=Graves<br>Win %=%{x}<br>count=%{y}<extra></extra>",
         "legendgroup": "Graves",
         "marker": {
          "color": "#FECB52",
          "pattern": {
           "shape": ""
          }
         },
         "name": "Graves",
         "offsetgroup": "Graves",
         "orientation": "v",
         "showlegend": true,
         "type": "histogram",
         "x": [
          0.5168
         ],
         "xaxis": "x",
         "yaxis": "y"
        },
        {
         "alignmentgroup": "True",
         "bingroup": "x",
         "hovertemplate": "Name=Gwen<br>Win %=%{x}<br>count=%{y}<extra></extra>",
         "legendgroup": "Gwen",
         "marker": {
          "color": "#636efa",
          "pattern": {
           "shape": ""
          }
         },
         "name": "Gwen",
         "offsetgroup": "Gwen",
         "orientation": "v",
         "showlegend": true,
         "type": "histogram",
         "x": [
          0.5056,
          0.5127
         ],
         "xaxis": "x",
         "yaxis": "y"
        },
        {
         "alignmentgroup": "True",
         "bingroup": "x",
         "hovertemplate": "Name=Hecarim<br>Win %=%{x}<br>count=%{y}<extra></extra>",
         "legendgroup": "Hecarim",
         "marker": {
          "color": "#EF553B",
          "pattern": {
           "shape": ""
          }
         },
         "name": "Hecarim",
         "offsetgroup": "Hecarim",
         "orientation": "v",
         "showlegend": true,
         "type": "histogram",
         "x": [
          0.4996
         ],
         "xaxis": "x",
         "yaxis": "y"
        },
        {
         "alignmentgroup": "True",
         "bingroup": "x",
         "hovertemplate": "Name=Heimerdinger<br>Win %=%{x}<br>count=%{y}<extra></extra>",
         "legendgroup": "Heimerdinger",
         "marker": {
          "color": "#00cc96",
          "pattern": {
           "shape": ""
          }
         },
         "name": "Heimerdinger",
         "offsetgroup": "Heimerdinger",
         "orientation": "v",
         "showlegend": true,
         "type": "histogram",
         "x": [
          0.5165,
          0.4977,
          0.4952
         ],
         "xaxis": "x",
         "yaxis": "y"
        },
        {
         "alignmentgroup": "True",
         "bingroup": "x",
         "hovertemplate": "Name=Illaoi<br>Win %=%{x}<br>count=%{y}<extra></extra>",
         "legendgroup": "Illaoi",
         "marker": {
          "color": "#ab63fa",
          "pattern": {
           "shape": ""
          }
         },
         "name": "Illaoi",
         "offsetgroup": "Illaoi",
         "orientation": "v",
         "showlegend": true,
         "type": "histogram",
         "x": [
          0.4962
         ],
         "xaxis": "x",
         "yaxis": "y"
        },
        {
         "alignmentgroup": "True",
         "bingroup": "x",
         "hovertemplate": "Name=Irelia<br>Win %=%{x}<br>count=%{y}<extra></extra>",
         "legendgroup": "Irelia",
         "marker": {
          "color": "#FFA15A",
          "pattern": {
           "shape": ""
          }
         },
         "name": "Irelia",
         "offsetgroup": "Irelia",
         "orientation": "v",
         "showlegend": true,
         "type": "histogram",
         "x": [
          0.4969,
          0.4872
         ],
         "xaxis": "x",
         "yaxis": "y"
        },
        {
         "alignmentgroup": "True",
         "bingroup": "x",
         "hovertemplate": "Name=Ivern<br>Win %=%{x}<br>count=%{y}<extra></extra>",
         "legendgroup": "Ivern",
         "marker": {
          "color": "#19d3f3",
          "pattern": {
           "shape": ""
          }
         },
         "name": "Ivern",
         "offsetgroup": "Ivern",
         "orientation": "v",
         "showlegend": true,
         "type": "histogram",
         "x": [
          0.5194
         ],
         "xaxis": "x",
         "yaxis": "y"
        },
        {
         "alignmentgroup": "True",
         "bingroup": "x",
         "hovertemplate": "Name=Janna<br>Win %=%{x}<br>count=%{y}<extra></extra>",
         "legendgroup": "Janna",
         "marker": {
          "color": "#FF6692",
          "pattern": {
           "shape": ""
          }
         },
         "name": "Janna",
         "offsetgroup": "Janna",
         "orientation": "v",
         "showlegend": true,
         "type": "histogram",
         "x": [
          0.5268
         ],
         "xaxis": "x",
         "yaxis": "y"
        },
        {
         "alignmentgroup": "True",
         "bingroup": "x",
         "hovertemplate": "Name=Jarvan IV<br>Win %=%{x}<br>count=%{y}<extra></extra>",
         "legendgroup": "Jarvan IV",
         "marker": {
          "color": "#B6E880",
          "pattern": {
           "shape": ""
          }
         },
         "name": "Jarvan IV",
         "offsetgroup": "Jarvan IV",
         "orientation": "v",
         "showlegend": true,
         "type": "histogram",
         "x": [
          0.5151
         ],
         "xaxis": "x",
         "yaxis": "y"
        },
        {
         "alignmentgroup": "True",
         "bingroup": "x",
         "hovertemplate": "Name=Jax<br>Win %=%{x}<br>count=%{y}<extra></extra>",
         "legendgroup": "Jax",
         "marker": {
          "color": "#FF97FF",
          "pattern": {
           "shape": ""
          }
         },
         "name": "Jax",
         "offsetgroup": "Jax",
         "orientation": "v",
         "showlegend": true,
         "type": "histogram",
         "x": [
          0.5078,
          0.4809
         ],
         "xaxis": "x",
         "yaxis": "y"
        },
        {
         "alignmentgroup": "True",
         "bingroup": "x",
         "hovertemplate": "Name=Jayce<br>Win %=%{x}<br>count=%{y}<extra></extra>",
         "legendgroup": "Jayce",
         "marker": {
          "color": "#FECB52",
          "pattern": {
           "shape": ""
          }
         },
         "name": "Jayce",
         "offsetgroup": "Jayce",
         "orientation": "v",
         "showlegend": true,
         "type": "histogram",
         "x": [
          0.5005,
          0.4842
         ],
         "xaxis": "x",
         "yaxis": "y"
        },
        {
         "alignmentgroup": "True",
         "bingroup": "x",
         "hovertemplate": "Name=Jhin<br>Win %=%{x}<br>count=%{y}<extra></extra>",
         "legendgroup": "Jhin",
         "marker": {
          "color": "#636efa",
          "pattern": {
           "shape": ""
          }
         },
         "name": "Jhin",
         "offsetgroup": "Jhin",
         "orientation": "v",
         "showlegend": true,
         "type": "histogram",
         "x": [
          0.5173
         ],
         "xaxis": "x",
         "yaxis": "y"
        },
        {
         "alignmentgroup": "True",
         "bingroup": "x",
         "hovertemplate": "Name=Jinx<br>Win %=%{x}<br>count=%{y}<extra></extra>",
         "legendgroup": "Jinx",
         "marker": {
          "color": "#EF553B",
          "pattern": {
           "shape": ""
          }
         },
         "name": "Jinx",
         "offsetgroup": "Jinx",
         "orientation": "v",
         "showlegend": true,
         "type": "histogram",
         "x": [
          0.5182
         ],
         "xaxis": "x",
         "yaxis": "y"
        },
        {
         "alignmentgroup": "True",
         "bingroup": "x",
         "hovertemplate": "Name=K'Sante<br>Win %=%{x}<br>count=%{y}<extra></extra>",
         "legendgroup": "K'Sante",
         "marker": {
          "color": "#00cc96",
          "pattern": {
           "shape": ""
          }
         },
         "name": "K'Sante",
         "offsetgroup": "K'Sante",
         "orientation": "v",
         "showlegend": true,
         "type": "histogram",
         "x": [
          0.511
         ],
         "xaxis": "x",
         "yaxis": "y"
        },
        {
         "alignmentgroup": "True",
         "bingroup": "x",
         "hovertemplate": "Name=Kai'Sa<br>Win %=%{x}<br>count=%{y}<extra></extra>",
         "legendgroup": "Kai'Sa",
         "marker": {
          "color": "#ab63fa",
          "pattern": {
           "shape": ""
          }
         },
         "name": "Kai'Sa",
         "offsetgroup": "Kai'Sa",
         "orientation": "v",
         "showlegend": true,
         "type": "histogram",
         "x": [
          0.4916
         ],
         "xaxis": "x",
         "yaxis": "y"
        },
        {
         "alignmentgroup": "True",
         "bingroup": "x",
         "hovertemplate": "Name=Kalista<br>Win %=%{x}<br>count=%{y}<extra></extra>",
         "legendgroup": "Kalista",
         "marker": {
          "color": "#FFA15A",
          "pattern": {
           "shape": ""
          }
         },
         "name": "Kalista",
         "offsetgroup": "Kalista",
         "orientation": "v",
         "showlegend": true,
         "type": "histogram",
         "x": [
          0.4974
         ],
         "xaxis": "x",
         "yaxis": "y"
        },
        {
         "alignmentgroup": "True",
         "bingroup": "x",
         "hovertemplate": "Name=Karma<br>Win %=%{x}<br>count=%{y}<extra></extra>",
         "legendgroup": "Karma",
         "marker": {
          "color": "#19d3f3",
          "pattern": {
           "shape": ""
          }
         },
         "name": "Karma",
         "offsetgroup": "Karma",
         "orientation": "v",
         "showlegend": true,
         "type": "histogram",
         "x": [
          0.4824
         ],
         "xaxis": "x",
         "yaxis": "y"
        },
        {
         "alignmentgroup": "True",
         "bingroup": "x",
         "hovertemplate": "Name=Karthus<br>Win %=%{x}<br>count=%{y}<extra></extra>",
         "legendgroup": "Karthus",
         "marker": {
          "color": "#FF6692",
          "pattern": {
           "shape": ""
          }
         },
         "name": "Karthus",
         "offsetgroup": "Karthus",
         "orientation": "v",
         "showlegend": true,
         "type": "histogram",
         "x": [
          0.5043,
          0.5102
         ],
         "xaxis": "x",
         "yaxis": "y"
        },
        {
         "alignmentgroup": "True",
         "bingroup": "x",
         "hovertemplate": "Name=Kassadin<br>Win %=%{x}<br>count=%{y}<extra></extra>",
         "legendgroup": "Kassadin",
         "marker": {
          "color": "#B6E880",
          "pattern": {
           "shape": ""
          }
         },
         "name": "Kassadin",
         "offsetgroup": "Kassadin",
         "orientation": "v",
         "showlegend": true,
         "type": "histogram",
         "x": [
          0.5083
         ],
         "xaxis": "x",
         "yaxis": "y"
        },
        {
         "alignmentgroup": "True",
         "bingroup": "x",
         "hovertemplate": "Name=Katarina<br>Win %=%{x}<br>count=%{y}<extra></extra>",
         "legendgroup": "Katarina",
         "marker": {
          "color": "#FF97FF",
          "pattern": {
           "shape": ""
          }
         },
         "name": "Katarina",
         "offsetgroup": "Katarina",
         "orientation": "v",
         "showlegend": true,
         "type": "histogram",
         "x": [
          0.4861
         ],
         "xaxis": "x",
         "yaxis": "y"
        },
        {
         "alignmentgroup": "True",
         "bingroup": "x",
         "hovertemplate": "Name=Kayle<br>Win %=%{x}<br>count=%{y}<extra></extra>",
         "legendgroup": "Kayle",
         "marker": {
          "color": "#FECB52",
          "pattern": {
           "shape": ""
          }
         },
         "name": "Kayle",
         "offsetgroup": "Kayle",
         "orientation": "v",
         "showlegend": true,
         "type": "histogram",
         "x": [
          0.5317
         ],
         "xaxis": "x",
         "yaxis": "y"
        },
        {
         "alignmentgroup": "True",
         "bingroup": "x",
         "hovertemplate": "Name=Kayn<br>Win %=%{x}<br>count=%{y}<extra></extra>",
         "legendgroup": "Kayn",
         "marker": {
          "color": "#636efa",
          "pattern": {
           "shape": ""
          }
         },
         "name": "Kayn",
         "offsetgroup": "Kayn",
         "orientation": "v",
         "showlegend": true,
         "type": "histogram",
         "x": [
          0.5155
         ],
         "xaxis": "x",
         "yaxis": "y"
        },
        {
         "alignmentgroup": "True",
         "bingroup": "x",
         "hovertemplate": "Name=Kennen<br>Win %=%{x}<br>count=%{y}<extra></extra>",
         "legendgroup": "Kennen",
         "marker": {
          "color": "#EF553B",
          "pattern": {
           "shape": ""
          }
         },
         "name": "Kennen",
         "offsetgroup": "Kennen",
         "orientation": "v",
         "showlegend": true,
         "type": "histogram",
         "x": [
          0.5414,
          0.4879
         ],
         "xaxis": "x",
         "yaxis": "y"
        },
        {
         "alignmentgroup": "True",
         "bingroup": "x",
         "hovertemplate": "Name=Kha'Zix<br>Win %=%{x}<br>count=%{y}<extra></extra>",
         "legendgroup": "Kha'Zix",
         "marker": {
          "color": "#00cc96",
          "pattern": {
           "shape": ""
          }
         },
         "name": "Kha'Zix",
         "offsetgroup": "Kha'Zix",
         "orientation": "v",
         "showlegend": true,
         "type": "histogram",
         "x": [
          0.501
         ],
         "xaxis": "x",
         "yaxis": "y"
        },
        {
         "alignmentgroup": "True",
         "bingroup": "x",
         "hovertemplate": "Name=Kindred<br>Win %=%{x}<br>count=%{y}<extra></extra>",
         "legendgroup": "Kindred",
         "marker": {
          "color": "#ab63fa",
          "pattern": {
           "shape": ""
          }
         },
         "name": "Kindred",
         "offsetgroup": "Kindred",
         "orientation": "v",
         "showlegend": true,
         "type": "histogram",
         "x": [
          0.4948
         ],
         "xaxis": "x",
         "yaxis": "y"
        },
        {
         "alignmentgroup": "True",
         "bingroup": "x",
         "hovertemplate": "Name=Kled<br>Win %=%{x}<br>count=%{y}<extra></extra>",
         "legendgroup": "Kled",
         "marker": {
          "color": "#FFA15A",
          "pattern": {
           "shape": ""
          }
         },
         "name": "Kled",
         "offsetgroup": "Kled",
         "orientation": "v",
         "showlegend": true,
         "type": "histogram",
         "x": [
          0.4916
         ],
         "xaxis": "x",
         "yaxis": "y"
        },
        {
         "alignmentgroup": "True",
         "bingroup": "x",
         "hovertemplate": "Name=Kog'Maw<br>Win %=%{x}<br>count=%{y}<extra></extra>",
         "legendgroup": "Kog'Maw",
         "marker": {
          "color": "#19d3f3",
          "pattern": {
           "shape": ""
          }
         },
         "name": "Kog'Maw",
         "offsetgroup": "Kog'Maw",
         "orientation": "v",
         "showlegend": true,
         "type": "histogram",
         "x": [
          0.4962
         ],
         "xaxis": "x",
         "yaxis": "y"
        },
        {
         "alignmentgroup": "True",
         "bingroup": "x",
         "hovertemplate": "Name=LeBlanc<br>Win %=%{x}<br>count=%{y}<extra></extra>",
         "legendgroup": "LeBlanc",
         "marker": {
          "color": "#FF6692",
          "pattern": {
           "shape": ""
          }
         },
         "name": "LeBlanc",
         "offsetgroup": "LeBlanc",
         "orientation": "v",
         "showlegend": true,
         "type": "histogram",
         "x": [
          0.4807
         ],
         "xaxis": "x",
         "yaxis": "y"
        },
        {
         "alignmentgroup": "True",
         "bingroup": "x",
         "hovertemplate": "Name=Lee Sin<br>Win %=%{x}<br>count=%{y}<extra></extra>",
         "legendgroup": "Lee Sin",
         "marker": {
          "color": "#B6E880",
          "pattern": {
           "shape": ""
          }
         },
         "name": "Lee Sin",
         "offsetgroup": "Lee Sin",
         "orientation": "v",
         "showlegend": true,
         "type": "histogram",
         "x": [
          0.4974
         ],
         "xaxis": "x",
         "yaxis": "y"
        },
        {
         "alignmentgroup": "True",
         "bingroup": "x",
         "hovertemplate": "Name=Leona<br>Win %=%{x}<br>count=%{y}<extra></extra>",
         "legendgroup": "Leona",
         "marker": {
          "color": "#FF97FF",
          "pattern": {
           "shape": ""
          }
         },
         "name": "Leona",
         "offsetgroup": "Leona",
         "orientation": "v",
         "showlegend": true,
         "type": "histogram",
         "x": [
          0.4888
         ],
         "xaxis": "x",
         "yaxis": "y"
        },
        {
         "alignmentgroup": "True",
         "bingroup": "x",
         "hovertemplate": "Name=Lillia<br>Win %=%{x}<br>count=%{y}<extra></extra>",
         "legendgroup": "Lillia",
         "marker": {
          "color": "#FECB52",
          "pattern": {
           "shape": ""
          }
         },
         "name": "Lillia",
         "offsetgroup": "Lillia",
         "orientation": "v",
         "showlegend": true,
         "type": "histogram",
         "x": [
          0.5253
         ],
         "xaxis": "x",
         "yaxis": "y"
        },
        {
         "alignmentgroup": "True",
         "bingroup": "x",
         "hovertemplate": "Name=Lissandra<br>Win %=%{x}<br>count=%{y}<extra></extra>",
         "legendgroup": "Lissandra",
         "marker": {
          "color": "#636efa",
          "pattern": {
           "shape": ""
          }
         },
         "name": "Lissandra",
         "offsetgroup": "Lissandra",
         "orientation": "v",
         "showlegend": true,
         "type": "histogram",
         "x": [
          0.5183,
          0.4811
         ],
         "xaxis": "x",
         "yaxis": "y"
        },
        {
         "alignmentgroup": "True",
         "bingroup": "x",
         "hovertemplate": "Name=Lucian<br>Win %=%{x}<br>count=%{y}<extra></extra>",
         "legendgroup": "Lucian",
         "marker": {
          "color": "#EF553B",
          "pattern": {
           "shape": ""
          }
         },
         "name": "Lucian",
         "offsetgroup": "Lucian",
         "orientation": "v",
         "showlegend": true,
         "type": "histogram",
         "x": [
          0.5045
         ],
         "xaxis": "x",
         "yaxis": "y"
        },
        {
         "alignmentgroup": "True",
         "bingroup": "x",
         "hovertemplate": "Name=Lulu<br>Win %=%{x}<br>count=%{y}<extra></extra>",
         "legendgroup": "Lulu",
         "marker": {
          "color": "#00cc96",
          "pattern": {
           "shape": ""
          }
         },
         "name": "Lulu",
         "offsetgroup": "Lulu",
         "orientation": "v",
         "showlegend": true,
         "type": "histogram",
         "x": [
          0.4802
         ],
         "xaxis": "x",
         "yaxis": "y"
        },
        {
         "alignmentgroup": "True",
         "bingroup": "x",
         "hovertemplate": "Name=Lux<br>Win %=%{x}<br>count=%{y}<extra></extra>",
         "legendgroup": "Lux",
         "marker": {
          "color": "#ab63fa",
          "pattern": {
           "shape": ""
          }
         },
         "name": "Lux",
         "offsetgroup": "Lux",
         "orientation": "v",
         "showlegend": true,
         "type": "histogram",
         "x": [
          0.4943,
          0.499
         ],
         "xaxis": "x",
         "yaxis": "y"
        },
        {
         "alignmentgroup": "True",
         "bingroup": "x",
         "hovertemplate": "Name=Malphite<br>Win %=%{x}<br>count=%{y}<extra></extra>",
         "legendgroup": "Malphite",
         "marker": {
          "color": "#FFA15A",
          "pattern": {
           "shape": ""
          }
         },
         "name": "Malphite",
         "offsetgroup": "Malphite",
         "orientation": "v",
         "showlegend": true,
         "type": "histogram",
         "x": [
          0.5232,
          0.5165,
          0.4632
         ],
         "xaxis": "x",
         "yaxis": "y"
        },
        {
         "alignmentgroup": "True",
         "bingroup": "x",
         "hovertemplate": "Name=Malzahar<br>Win %=%{x}<br>count=%{y}<extra></extra>",
         "legendgroup": "Malzahar",
         "marker": {
          "color": "#19d3f3",
          "pattern": {
           "shape": ""
          }
         },
         "name": "Malzahar",
         "offsetgroup": "Malzahar",
         "orientation": "v",
         "showlegend": true,
         "type": "histogram",
         "x": [
          0.5185
         ],
         "xaxis": "x",
         "yaxis": "y"
        },
        {
         "alignmentgroup": "True",
         "bingroup": "x",
         "hovertemplate": "Name=Maokai<br>Win %=%{x}<br>count=%{y}<extra></extra>",
         "legendgroup": "Maokai",
         "marker": {
          "color": "#FF6692",
          "pattern": {
           "shape": ""
          }
         },
         "name": "Maokai",
         "offsetgroup": "Maokai",
         "orientation": "v",
         "showlegend": true,
         "type": "histogram",
         "x": [
          0.5282,
          0.5381
         ],
         "xaxis": "x",
         "yaxis": "y"
        },
        {
         "alignmentgroup": "True",
         "bingroup": "x",
         "hovertemplate": "Name=Master Yi<br>Win %=%{x}<br>count=%{y}<extra></extra>",
         "legendgroup": "Master Yi",
         "marker": {
          "color": "#B6E880",
          "pattern": {
           "shape": ""
          }
         },
         "name": "Master Yi",
         "offsetgroup": "Master Yi",
         "orientation": "v",
         "showlegend": true,
         "type": "histogram",
         "x": [
          0.501
         ],
         "xaxis": "x",
         "yaxis": "y"
        },
        {
         "alignmentgroup": "True",
         "bingroup": "x",
         "hovertemplate": "Name=Milio<br>Win %=%{x}<br>count=%{y}<extra></extra>",
         "legendgroup": "Milio",
         "marker": {
          "color": "#FF97FF",
          "pattern": {
           "shape": ""
          }
         },
         "name": "Milio",
         "offsetgroup": "Milio",
         "orientation": "v",
         "showlegend": true,
         "type": "histogram",
         "x": [
          0.5175
         ],
         "xaxis": "x",
         "yaxis": "y"
        },
        {
         "alignmentgroup": "True",
         "bingroup": "x",
         "hovertemplate": "Name=Miss Fortune<br>Win %=%{x}<br>count=%{y}<extra></extra>",
         "legendgroup": "Miss Fortune",
         "marker": {
          "color": "#FECB52",
          "pattern": {
           "shape": ""
          }
         },
         "name": "Miss Fortune",
         "offsetgroup": "Miss Fortune",
         "orientation": "v",
         "showlegend": true,
         "type": "histogram",
         "x": [
          0.5099,
          0.4245
         ],
         "xaxis": "x",
         "yaxis": "y"
        },
        {
         "alignmentgroup": "True",
         "bingroup": "x",
         "hovertemplate": "Name=Mordekaiser<br>Win %=%{x}<br>count=%{y}<extra></extra>",
         "legendgroup": "Mordekaiser",
         "marker": {
          "color": "#636efa",
          "pattern": {
           "shape": ""
          }
         },
         "name": "Mordekaiser",
         "offsetgroup": "Mordekaiser",
         "orientation": "v",
         "showlegend": true,
         "type": "histogram",
         "x": [
          0.4935
         ],
         "xaxis": "x",
         "yaxis": "y"
        },
        {
         "alignmentgroup": "True",
         "bingroup": "x",
         "hovertemplate": "Name=Morgana<br>Win %=%{x}<br>count=%{y}<extra></extra>",
         "legendgroup": "Morgana",
         "marker": {
          "color": "#EF553B",
          "pattern": {
           "shape": ""
          }
         },
         "name": "Morgana",
         "offsetgroup": "Morgana",
         "orientation": "v",
         "showlegend": true,
         "type": "histogram",
         "x": [
          0.4979,
          0.5443
         ],
         "xaxis": "x",
         "yaxis": "y"
        },
        {
         "alignmentgroup": "True",
         "bingroup": "x",
         "hovertemplate": "Name=Naafiri<br>Win %=%{x}<br>count=%{y}<extra></extra>",
         "legendgroup": "Naafiri",
         "marker": {
          "color": "#00cc96",
          "pattern": {
           "shape": ""
          }
         },
         "name": "Naafiri",
         "offsetgroup": "Naafiri",
         "orientation": "v",
         "showlegend": true,
         "type": "histogram",
         "x": [
          0.5267,
          0.5156,
          0.4253
         ],
         "xaxis": "x",
         "yaxis": "y"
        },
        {
         "alignmentgroup": "True",
         "bingroup": "x",
         "hovertemplate": "Name=Nami<br>Win %=%{x}<br>count=%{y}<extra></extra>",
         "legendgroup": "Nami",
         "marker": {
          "color": "#ab63fa",
          "pattern": {
           "shape": ""
          }
         },
         "name": "Nami",
         "offsetgroup": "Nami",
         "orientation": "v",
         "showlegend": true,
         "type": "histogram",
         "x": [
          0.5343
         ],
         "xaxis": "x",
         "yaxis": "y"
        },
        {
         "alignmentgroup": "True",
         "bingroup": "x",
         "hovertemplate": "Name=Nasus<br>Win %=%{x}<br>count=%{y}<extra></extra>",
         "legendgroup": "Nasus",
         "marker": {
          "color": "#FFA15A",
          "pattern": {
           "shape": ""
          }
         },
         "name": "Nasus",
         "offsetgroup": "Nasus",
         "orientation": "v",
         "showlegend": true,
         "type": "histogram",
         "x": [
          0.5257
         ],
         "xaxis": "x",
         "yaxis": "y"
        },
        {
         "alignmentgroup": "True",
         "bingroup": "x",
         "hovertemplate": "Name=Nautilus<br>Win %=%{x}<br>count=%{y}<extra></extra>",
         "legendgroup": "Nautilus",
         "marker": {
          "color": "#19d3f3",
          "pattern": {
           "shape": ""
          }
         },
         "name": "Nautilus",
         "offsetgroup": "Nautilus",
         "orientation": "v",
         "showlegend": true,
         "type": "histogram",
         "x": [
          0.4874
         ],
         "xaxis": "x",
         "yaxis": "y"
        },
        {
         "alignmentgroup": "True",
         "bingroup": "x",
         "hovertemplate": "Name=Neeko<br>Win %=%{x}<br>count=%{y}<extra></extra>",
         "legendgroup": "Neeko",
         "marker": {
          "color": "#FF6692",
          "pattern": {
           "shape": ""
          }
         },
         "name": "Neeko",
         "offsetgroup": "Neeko",
         "orientation": "v",
         "showlegend": true,
         "type": "histogram",
         "x": [
          0.5116,
          0.4932
         ],
         "xaxis": "x",
         "yaxis": "y"
        },
        {
         "alignmentgroup": "True",
         "bingroup": "x",
         "hovertemplate": "Name=Nidalee<br>Win %=%{x}<br>count=%{y}<extra></extra>",
         "legendgroup": "Nidalee",
         "marker": {
          "color": "#B6E880",
          "pattern": {
           "shape": ""
          }
         },
         "name": "Nidalee",
         "offsetgroup": "Nidalee",
         "orientation": "v",
         "showlegend": true,
         "type": "histogram",
         "x": [
          0.4764
         ],
         "xaxis": "x",
         "yaxis": "y"
        },
        {
         "alignmentgroup": "True",
         "bingroup": "x",
         "hovertemplate": "Name=Nilah<br>Win %=%{x}<br>count=%{y}<extra></extra>",
         "legendgroup": "Nilah",
         "marker": {
          "color": "#FF97FF",
          "pattern": {
           "shape": ""
          }
         },
         "name": "Nilah",
         "offsetgroup": "Nilah",
         "orientation": "v",
         "showlegend": true,
         "type": "histogram",
         "x": [
          0.5367
         ],
         "xaxis": "x",
         "yaxis": "y"
        },
        {
         "alignmentgroup": "True",
         "bingroup": "x",
         "hovertemplate": "Name=Nocturne<br>Win %=%{x}<br>count=%{y}<extra></extra>",
         "legendgroup": "Nocturne",
         "marker": {
          "color": "#FECB52",
          "pattern": {
           "shape": ""
          }
         },
         "name": "Nocturne",
         "offsetgroup": "Nocturne",
         "orientation": "v",
         "showlegend": true,
         "type": "histogram",
         "x": [
          0.5065
         ],
         "xaxis": "x",
         "yaxis": "y"
        },
        {
         "alignmentgroup": "True",
         "bingroup": "x",
         "hovertemplate": "Name=Nunu<br>Win %=%{x}<br>count=%{y}<extra></extra>",
         "legendgroup": "Nunu",
         "marker": {
          "color": "#636efa",
          "pattern": {
           "shape": ""
          }
         },
         "name": "Nunu",
         "offsetgroup": "Nunu",
         "orientation": "v",
         "showlegend": true,
         "type": "histogram",
         "x": [
          0.4741
         ],
         "xaxis": "x",
         "yaxis": "y"
        },
        {
         "alignmentgroup": "True",
         "bingroup": "x",
         "hovertemplate": "Name=Olaf<br>Win %=%{x}<br>count=%{y}<extra></extra>",
         "legendgroup": "Olaf",
         "marker": {
          "color": "#EF553B",
          "pattern": {
           "shape": ""
          }
         },
         "name": "Olaf",
         "offsetgroup": "Olaf",
         "orientation": "v",
         "showlegend": true,
         "type": "histogram",
         "x": [
          0.5359,
          0.4601
         ],
         "xaxis": "x",
         "yaxis": "y"
        },
        {
         "alignmentgroup": "True",
         "bingroup": "x",
         "hovertemplate": "Name=Orianna<br>Win %=%{x}<br>count=%{y}<extra></extra>",
         "legendgroup": "Orianna",
         "marker": {
          "color": "#00cc96",
          "pattern": {
           "shape": ""
          }
         },
         "name": "Orianna",
         "offsetgroup": "Orianna",
         "orientation": "v",
         "showlegend": true,
         "type": "histogram",
         "x": [
          0.5069
         ],
         "xaxis": "x",
         "yaxis": "y"
        },
        {
         "alignmentgroup": "True",
         "bingroup": "x",
         "hovertemplate": "Name=Ornn<br>Win %=%{x}<br>count=%{y}<extra></extra>",
         "legendgroup": "Ornn",
         "marker": {
          "color": "#ab63fa",
          "pattern": {
           "shape": ""
          }
         },
         "name": "Ornn",
         "offsetgroup": "Ornn",
         "orientation": "v",
         "showlegend": true,
         "type": "histogram",
         "x": [
          0.5337
         ],
         "xaxis": "x",
         "yaxis": "y"
        },
        {
         "alignmentgroup": "True",
         "bingroup": "x",
         "hovertemplate": "Name=Pantheon<br>Win %=%{x}<br>count=%{y}<extra></extra>",
         "legendgroup": "Pantheon",
         "marker": {
          "color": "#FFA15A",
          "pattern": {
           "shape": ""
          }
         },
         "name": "Pantheon",
         "offsetgroup": "Pantheon",
         "orientation": "v",
         "showlegend": true,
         "type": "histogram",
         "x": [
          0.5123,
          0.5155,
          0.4699
         ],
         "xaxis": "x",
         "yaxis": "y"
        },
        {
         "alignmentgroup": "True",
         "bingroup": "x",
         "hovertemplate": "Name=Poppy<br>Win %=%{x}<br>count=%{y}<extra></extra>",
         "legendgroup": "Poppy",
         "marker": {
          "color": "#19d3f3",
          "pattern": {
           "shape": ""
          }
         },
         "name": "Poppy",
         "offsetgroup": "Poppy",
         "orientation": "v",
         "showlegend": true,
         "type": "histogram",
         "x": [
          0.5297,
          0.5085
         ],
         "xaxis": "x",
         "yaxis": "y"
        },
        {
         "alignmentgroup": "True",
         "bingroup": "x",
         "hovertemplate": "Name=Pyke<br>Win %=%{x}<br>count=%{y}<extra></extra>",
         "legendgroup": "Pyke",
         "marker": {
          "color": "#FF6692",
          "pattern": {
           "shape": ""
          }
         },
         "name": "Pyke",
         "offsetgroup": "Pyke",
         "orientation": "v",
         "showlegend": true,
         "type": "histogram",
         "x": [
          0.4908
         ],
         "xaxis": "x",
         "yaxis": "y"
        },
        {
         "alignmentgroup": "True",
         "bingroup": "x",
         "hovertemplate": "Name=Qiyana<br>Win %=%{x}<br>count=%{y}<extra></extra>",
         "legendgroup": "Qiyana",
         "marker": {
          "color": "#B6E880",
          "pattern": {
           "shape": ""
          }
         },
         "name": "Qiyana",
         "offsetgroup": "Qiyana",
         "orientation": "v",
         "showlegend": true,
         "type": "histogram",
         "x": [
          0.4705
         ],
         "xaxis": "x",
         "yaxis": "y"
        },
        {
         "alignmentgroup": "True",
         "bingroup": "x",
         "hovertemplate": "Name=Quinn<br>Win %=%{x}<br>count=%{y}<extra></extra>",
         "legendgroup": "Quinn",
         "marker": {
          "color": "#FF97FF",
          "pattern": {
           "shape": ""
          }
         },
         "name": "Quinn",
         "offsetgroup": "Quinn",
         "orientation": "v",
         "showlegend": true,
         "type": "histogram",
         "x": [
          0.5213,
          0.497
         ],
         "xaxis": "x",
         "yaxis": "y"
        },
        {
         "alignmentgroup": "True",
         "bingroup": "x",
         "hovertemplate": "Name=Rakan<br>Win %=%{x}<br>count=%{y}<extra></extra>",
         "legendgroup": "Rakan",
         "marker": {
          "color": "#FECB52",
          "pattern": {
           "shape": ""
          }
         },
         "name": "Rakan",
         "offsetgroup": "Rakan",
         "orientation": "v",
         "showlegend": true,
         "type": "histogram",
         "x": [
          0.5135
         ],
         "xaxis": "x",
         "yaxis": "y"
        },
        {
         "alignmentgroup": "True",
         "bingroup": "x",
         "hovertemplate": "Name=Rammus<br>Win %=%{x}<br>count=%{y}<extra></extra>",
         "legendgroup": "Rammus",
         "marker": {
          "color": "#636efa",
          "pattern": {
           "shape": ""
          }
         },
         "name": "Rammus",
         "offsetgroup": "Rammus",
         "orientation": "v",
         "showlegend": true,
         "type": "histogram",
         "x": [
          0.5037
         ],
         "xaxis": "x",
         "yaxis": "y"
        },
        {
         "alignmentgroup": "True",
         "bingroup": "x",
         "hovertemplate": "Name=Rek'Sai<br>Win %=%{x}<br>count=%{y}<extra></extra>",
         "legendgroup": "Rek'Sai",
         "marker": {
          "color": "#EF553B",
          "pattern": {
           "shape": ""
          }
         },
         "name": "Rek'Sai",
         "offsetgroup": "Rek'Sai",
         "orientation": "v",
         "showlegend": true,
         "type": "histogram",
         "x": [
          0.5136
         ],
         "xaxis": "x",
         "yaxis": "y"
        },
        {
         "alignmentgroup": "True",
         "bingroup": "x",
         "hovertemplate": "Name=Rell<br>Win %=%{x}<br>count=%{y}<extra></extra>",
         "legendgroup": "Rell",
         "marker": {
          "color": "#00cc96",
          "pattern": {
           "shape": ""
          }
         },
         "name": "Rell",
         "offsetgroup": "Rell",
         "orientation": "v",
         "showlegend": true,
         "type": "histogram",
         "x": [
          0.5148,
          0.482
         ],
         "xaxis": "x",
         "yaxis": "y"
        },
        {
         "alignmentgroup": "True",
         "bingroup": "x",
         "hovertemplate": "Name=Renata Glasc<br>Win %=%{x}<br>count=%{y}<extra></extra>",
         "legendgroup": "Renata Glasc",
         "marker": {
          "color": "#ab63fa",
          "pattern": {
           "shape": ""
          }
         },
         "name": "Renata Glasc",
         "offsetgroup": "Renata Glasc",
         "orientation": "v",
         "showlegend": true,
         "type": "histogram",
         "x": [
          0.5179
         ],
         "xaxis": "x",
         "yaxis": "y"
        },
        {
         "alignmentgroup": "True",
         "bingroup": "x",
         "hovertemplate": "Name=Renekton<br>Win %=%{x}<br>count=%{y}<extra></extra>",
         "legendgroup": "Renekton",
         "marker": {
          "color": "#FFA15A",
          "pattern": {
           "shape": ""
          }
         },
         "name": "Renekton",
         "offsetgroup": "Renekton",
         "orientation": "v",
         "showlegend": true,
         "type": "histogram",
         "x": [
          0.4777
         ],
         "xaxis": "x",
         "yaxis": "y"
        },
        {
         "alignmentgroup": "True",
         "bingroup": "x",
         "hovertemplate": "Name=Rengar<br>Win %=%{x}<br>count=%{y}<extra></extra>",
         "legendgroup": "Rengar",
         "marker": {
          "color": "#19d3f3",
          "pattern": {
           "shape": ""
          }
         },
         "name": "Rengar",
         "offsetgroup": "Rengar",
         "orientation": "v",
         "showlegend": true,
         "type": "histogram",
         "x": [
          0.4829,
          0.5135
         ],
         "xaxis": "x",
         "yaxis": "y"
        },
        {
         "alignmentgroup": "True",
         "bingroup": "x",
         "hovertemplate": "Name=Riven<br>Win %=%{x}<br>count=%{y}<extra></extra>",
         "legendgroup": "Riven",
         "marker": {
          "color": "#FF6692",
          "pattern": {
           "shape": ""
          }
         },
         "name": "Riven",
         "offsetgroup": "Riven",
         "orientation": "v",
         "showlegend": true,
         "type": "histogram",
         "x": [
          0.491
         ],
         "xaxis": "x",
         "yaxis": "y"
        },
        {
         "alignmentgroup": "True",
         "bingroup": "x",
         "hovertemplate": "Name=Rumble<br>Win %=%{x}<br>count=%{y}<extra></extra>",
         "legendgroup": "Rumble",
         "marker": {
          "color": "#B6E880",
          "pattern": {
           "shape": ""
          }
         },
         "name": "Rumble",
         "offsetgroup": "Rumble",
         "orientation": "v",
         "showlegend": true,
         "type": "histogram",
         "x": [
          0.496,
          0.4951
         ],
         "xaxis": "x",
         "yaxis": "y"
        },
        {
         "alignmentgroup": "True",
         "bingroup": "x",
         "hovertemplate": "Name=Ryze<br>Win %=%{x}<br>count=%{y}<extra></extra>",
         "legendgroup": "Ryze",
         "marker": {
          "color": "#FF97FF",
          "pattern": {
           "shape": ""
          }
         },
         "name": "Ryze",
         "offsetgroup": "Ryze",
         "orientation": "v",
         "showlegend": true,
         "type": "histogram",
         "x": [
          0.5081,
          0.4784
         ],
         "xaxis": "x",
         "yaxis": "y"
        },
        {
         "alignmentgroup": "True",
         "bingroup": "x",
         "hovertemplate": "Name=Samira<br>Win %=%{x}<br>count=%{y}<extra></extra>",
         "legendgroup": "Samira",
         "marker": {
          "color": "#FECB52",
          "pattern": {
           "shape": ""
          }
         },
         "name": "Samira",
         "offsetgroup": "Samira",
         "orientation": "v",
         "showlegend": true,
         "type": "histogram",
         "x": [
          0.5066
         ],
         "xaxis": "x",
         "yaxis": "y"
        },
        {
         "alignmentgroup": "True",
         "bingroup": "x",
         "hovertemplate": "Name=Sejuani<br>Win %=%{x}<br>count=%{y}<extra></extra>",
         "legendgroup": "Sejuani",
         "marker": {
          "color": "#636efa",
          "pattern": {
           "shape": ""
          }
         },
         "name": "Sejuani",
         "offsetgroup": "Sejuani",
         "orientation": "v",
         "showlegend": true,
         "type": "histogram",
         "x": [
          0.4872
         ],
         "xaxis": "x",
         "yaxis": "y"
        },
        {
         "alignmentgroup": "True",
         "bingroup": "x",
         "hovertemplate": "Name=Senna<br>Win %=%{x}<br>count=%{y}<extra></extra>",
         "legendgroup": "Senna",
         "marker": {
          "color": "#EF553B",
          "pattern": {
           "shape": ""
          }
         },
         "name": "Senna",
         "offsetgroup": "Senna",
         "orientation": "v",
         "showlegend": true,
         "type": "histogram",
         "x": [
          0.5146
         ],
         "xaxis": "x",
         "yaxis": "y"
        },
        {
         "alignmentgroup": "True",
         "bingroup": "x",
         "hovertemplate": "Name=Seraphine<br>Win %=%{x}<br>count=%{y}<extra></extra>",
         "legendgroup": "Seraphine",
         "marker": {
          "color": "#00cc96",
          "pattern": {
           "shape": ""
          }
         },
         "name": "Seraphine",
         "offsetgroup": "Seraphine",
         "orientation": "v",
         "showlegend": true,
         "type": "histogram",
         "x": [
          0.4914,
          0.547
         ],
         "xaxis": "x",
         "yaxis": "y"
        },
        {
         "alignmentgroup": "True",
         "bingroup": "x",
         "hovertemplate": "Name=Sett<br>Win %=%{x}<br>count=%{y}<extra></extra>",
         "legendgroup": "Sett",
         "marker": {
          "color": "#ab63fa",
          "pattern": {
           "shape": ""
          }
         },
         "name": "Sett",
         "offsetgroup": "Sett",
         "orientation": "v",
         "showlegend": true,
         "type": "histogram",
         "x": [
          0.4947
         ],
         "xaxis": "x",
         "yaxis": "y"
        },
        {
         "alignmentgroup": "True",
         "bingroup": "x",
         "hovertemplate": "Name=Shaco<br>Win %=%{x}<br>count=%{y}<extra></extra>",
         "legendgroup": "Shaco",
         "marker": {
          "color": "#FFA15A",
          "pattern": {
           "shape": ""
          }
         },
         "name": "Shaco",
         "offsetgroup": "Shaco",
         "orientation": "v",
         "showlegend": true,
         "type": "histogram",
         "x": [
          0.4887,
          0.4947
         ],
         "xaxis": "x",
         "yaxis": "y"
        },
        {
         "alignmentgroup": "True",
         "bingroup": "x",
         "hovertemplate": "Name=Shen<br>Win %=%{x}<br>count=%{y}<extra></extra>",
         "legendgroup": "Shen",
         "marker": {
          "color": "#19d3f3",
          "pattern": {
           "shape": ""
          }
         },
         "name": "Shen",
         "offsetgroup": "Shen",
         "orientation": "v",
         "showlegend": true,
         "type": "histogram",
         "x": [
          0.5152,
          0.4779
         ],
         "xaxis": "x",
         "yaxis": "y"
        },
        {
         "alignmentgroup": "True",
         "bingroup": "x",
         "hovertemplate": "Name=Shyvana<br>Win %=%{x}<br>count=%{y}<extra></extra>",
         "legendgroup": "Shyvana",
         "marker": {
          "color": "#FF6692",
          "pattern": {
           "shape": ""
          }
         },
         "name": "Shyvana",
         "offsetgroup": "Shyvana",
         "orientation": "v",
         "showlegend": true,
         "type": "histogram",
         "x": [
          0.5171,
          0.4947
         ],
         "xaxis": "x",
         "yaxis": "y"
        },
        {
         "alignmentgroup": "True",
         "bingroup": "x",
         "hovertemplate": "Name=Singed<br>Win %=%{x}<br>count=%{y}<extra></extra>",
         "legendgroup": "Singed",
         "marker": {
          "color": "#B6E880",
          "pattern": {
           "shape": ""
          }
         },
         "name": "Singed",
         "offsetgroup": "Singed",
         "orientation": "v",
         "showlegend": true,
         "type": "histogram",
         "x": [
          0.5433,
          0.5526
         ],
         "xaxis": "x",
         "yaxis": "y"
        },
        {
         "alignmentgroup": "True",
         "bingroup": "x",
         "hovertemplate": "Name=Sion<br>Win %=%{x}<br>count=%{y}<extra></extra>",
         "legendgroup": "Sion",
         "marker": {
          "color": "#FF97FF",
          "pattern": {
           "shape": ""
          }
         },
         "name": "Sion",
         "offsetgroup": "Sion",
         "orientation": "v",
         "showlegend": true,
         "type": "histogram",
         "x": [
          0.5096,
          0.5139
         ],
         "xaxis": "x",
         "yaxis": "y"
        },
        {
         "alignmentgroup": "True",
         "bingroup": "x",
         "hovertemplate": "Name=Sivir<br>Win %=%{x}<br>count=%{y}<extra></extra>",
         "legendgroup": "Sivir",
         "marker": {
          "color": "#FECB52",
          "pattern": {
           "shape": ""
          }
         },
         "name": "Sivir",
         "offsetgroup": "Sivir",
         "orientation": "v",
         "showlegend": true,
         "type": "histogram",
         "x": [
          0.4927
         ],
         "xaxis": "x",
         "yaxis": "y"
        },
        {
         "alignmentgroup": "True",
         "bingroup": "x",
         "hovertemplate": "Name=Skarner<br>Win %=%{x}<br>count=%{y}<extra></extra>",
         "legendgroup": "Skarner",
         "marker": {
          "color": "#636efa",
          "pattern": {
           "shape": ""
          }
         },
         "name": "Skarner",
         "offsetgroup": "Skarner",
         "orientation": "v",
         "showlegend": true,
         "type": "histogram",
         "x": [
          0.5183,
          0.4858
         ],
         "xaxis": "x",
         "yaxis": "y"
        },
        {
         "alignmentgroup": "True",
         "bingroup": "x",
         "hovertemplate": "Name=Sona<br>Win %=%{x}<br>count=%{y}<extra></extra>",
         "legendgroup": "Sona",
         "marker": {
          "color": "#EF553B",
          "pattern": {
           "shape": ""
          }
         },
         "name": "Sona",
         "offsetgroup": "Sona",
         "orientation": "v",
         "showlegend": true,
         "type": "histogram",
         "x": [
          0.5042
         ],
         "xaxis": "x",
         "yaxis": "y"
        },
        {
         "alignmentgroup": "True",
         "bingroup": "x",
         "hovertemplate": "Name=Soraka<br>Win %=%{x}<br>count=%{y}<extra></extra>",
         "legendgroup": "Soraka",
         "marker": {
          "color": "#00cc96",
          "pattern": {
           "shape": ""
          }
         },
         "name": "Soraka",
         "offsetgroup": "Soraka",
         "orientation": "v",
         "showlegend": true,
         "type": "histogram",
         "x": [
          0.5003
         ],
         "xaxis": "x",
         "yaxis": "y"
        },
        {
         "alignmentgroup": "True",
         "bingroup": "x",
         "hovertemplate": "Name=Swain<br>Win %=%{x}<br>count=%{y}<extra></extra>",
         "legendgroup": "Swain",
         "marker": {
          "color": "#ab63fa",
          "pattern": {
           "shape": ""
          }
         },
         "name": "Swain",
         "offsetgroup": "Swain",
         "orientation": "v",
         "showlegend": true,
         "type": "histogram",
         "x": [
          0.5338,
          0.4836,
          0.5373
         ],
         "xaxis": "x",
         "yaxis": "y"
        },
        {
         "alignmentgroup": "True",
         "bingroup": "x",
         "hovertemplate": "Name=Sylas<br>Win %=%{x}<br>count=%{y}<extra></extra>",
         "legendgroup": "Sylas",
         "marker": {
          "color": "#FFA15A",
          "pattern": {
           "shape": ""
          }
         },
         "name": "Sylas",
         "offsetgroup": "Sylas",
         "orientation": "v",
         "showlegend": true,
         "type": "histogram",
         "x": [
          0.5398,
          0.4933
         ],
         "xaxis": "x",
         "yaxis": "y"
        },
        {
         "alignmentgroup": "True",
         "bingroup": "x",
         "hovertemplate": "Name=Syndra<br>Win %=%{x}<br>count=%{y}<extra></extra>",
         "legendgroup": "Syndra",
         "marker": {
          "color": "#19d3f3",
          "pattern": {
           "shape": ""
          }
         },
         "name": "Syndra",
         "offsetgroup": "Syndra",
         "orientation": "v",
         "showlegend": true,
         "type": "histogram",
         "x": [
          0.4906
         ],
         "xaxis": "x",
         "yaxis": "y"
        },
        {
         "alignmentgroup": "True",
         "bingroup": "x",
         "hovertemplate": "Name=Tahm Kench<br>Win %=%{x}<br>count=%{y}<extra></extra>",
         "legendgroup": "Tahm Kench",
         "marker": {
          "color": "#FF6692",
          "pattern": {
           "shape": ""
          }
         },
         "name": "Tahm Kench",
         "offsetgroup": "Tahm Kench",
         "orientation": "v",
         "showlegend": true,
         "type": "histogram",
         "x": [
          0.5224,
          0.5186
         ],
         "xaxis": "x",
         "yaxis": "y"
        },
        {
         "alignmentgroup": "True",
         "bingroup": "x",
         "hovertemplate": "Name=Taliyah<br>Win %=%{x}<br>count=%{y}<extra></extra>",
         "legendgroup": "Taliyah",
         "marker": {
          "color": "#B6E880",
          "pattern": {
           "shape": ""
          }
         },
         "name": "Taliyah",
         "offsetgroup": "Taliyah",
         "orientation": "v",
         "showlegend": true,
         "type": "histogram",
         "x": [
          0.4971,
          0.4989
         ],
         "xaxis": "x",
         "yaxis": "y"
        },
        {
         "alignmentgroup": "True",
         "bingroup": "x",
         "hovertemplate": "Name=Talon<br>Win %=%{x}<br>count=%{y}<extra></extra>",
         "legendgroup": "Talon",
         "marker": {
          "color": "#FF97FF",
          "pattern": {
           "shape": ""
          }
         },
         "name": "Talon",
         "offsetgroup": "Talon",
         "orientation": "v",
         "showlegend": true,
         "type": "histogram",
         "x": [
          0.5045,
          0.5426
         ],
         "xaxis": "x",
         "yaxis": "y"
        },
        {
         "alignmentgroup": "True",
         "bingroup": "x",
         "hovertemplate": "Name=Taric<br>Win %=%{x}<br>count=%{y}<extra></extra>",
         "legendgroup": "Taric",
         "marker": {
          "color": "#FECB52",
          "pattern": {
           "shape": ""
          }
         },
         "name": "Taric",
         "offsetgroup": "Taric",
         "orientation": "v",
         "showlegend": true,
         "type": "histogram",
         "x": [
          0.5336
         ],
         "xaxis": "x",
         "yaxis": "y"
        },
        {
         "alignmentgroup": "True",
         "bingroup": "x",
         "hovertemplate": "Name=Teemo<br>Win %=%{x}<br>count=%{y}<extra></extra>",
         "legendgroup": "Teemo",
         "marker": {
          "color": "#636efa",
          "pattern": {
           "shape": ""
          }
         },
         "name": "Teemo",
         "offsetgroup": "Teemo",
         "orientation": "v",
         "showlegend": true,
         "type": "histogram",
         "x": [
          0.4965,
          0.4855
         ],
         "xaxis": "x",
         "yaxis": "y"
        },
        {
         "alignmentgroup": "True",
         "bingroup": "x",
         "hovertemplate": "Name=Thresh<br>Win %=%{x}<br>count=%{y}<extra></extra>",
         "legendgroup": "Thresh",
         "marker": {
          "color": "#EF553B",
          "pattern": {
           "shape": ""
          }
         },
         "name": "Thresh",
         "offsetgroup": "Thresh",
         "orientation": "v",
         "showlegend": true,
         "type": "histogram",
         "x": [
          0.5195
         ],
         "xaxis": "x",
         "yaxis": "y"
        },
        {
         "alignmentgroup": "True",
         "bingroup": "x",
         "hovertemplate": "Name=Tristana<br>Win %=%{x}<br>count=%{y}<extra></extra>",
         "legendgroup": "Tristana",
         "marker": {
          "color": "#00cc96",
          "pattern": {
           "shape": ""
          }
         },
         "name": "Tristana",
         "offsetgroup": "Tristana",
         "orientation": "v",
         "showlegend": true,
         "type": "histogram",
         "x": [
          0.5003,
          0.4856
         ],
         "xaxis": "x",
         "yaxis": "y"
        },
        {
         "alignmentgroup": "True",
         "bingroup": "x",
         "hovertemplate": "Name=Trundle<br>Win %=%{x}<br>count=%{y}<extra></extra>",
         "legendgroup": "Trundle",
         "marker": {
          "color": "#ab63fa",
          "pattern": {
           "shape": ""
          }
         },
         "name": "Trundle",
         "offsetgroup": "Trundle",
         "orientation": "v",
         "showlegend": true,
         "type": "histogram",
         "x": [
          0.5451,
          0.5023
         ],
         "xaxis": "x",
         "yaxis": "y"
        },
        {
         "alignmentgroup": "True",
         "bingroup": "x",
         "hovertemplate": "Name=Tryndamere<br>Win %=%{x}<br>count=%{y}<extra></extra>",
         "legendgroup": "Tryndamere",
         "marker": {
          "color": "#FFA15A",
          "pattern": {
           "shape": ""
          }
         },
         "name": "Tryndamere",
         "offsetgroup": "Tryndamere",
         "orientation": "v",
         "showlegend": true,
         "type": "histogram",
         "x": [
          0.4929,
          0.4927
         ],
         "xaxis": "x",
         "yaxis": "y"
        },
        {
         "alignmentgroup": "True",
         "bingroup": "x",
         "hovertemplate": "Name=Twisted Fate<br>Win %=%{x}<br>count=%{y}<extra></extra>",
         "legendgroup": "Twisted Fate",
         "marker": {
          "color": "#19d3f3",
          "pattern": {
           "shape": ""
          }
         },
         "name": "Twisted Fate",
         "offsetgroup": "Twisted Fate",
         "orientation": "v",
         "showlegend": true,
         "type": "histogram",
         "x": [
          0.5148
         ],
         "xaxis": "x",
         "yaxis": "y"
        },
        {
         "alignmentgroup": "True",
         "bingroup": "x",
         "hovertemplate": "Name=Twitch<br>Win %=%{x}<br>count=%{y}<extra></extra>",
         "legendgroup": "Twitch",
         "marker": {
          "color": "#FF6692",
          "pattern": {
           "shape": ""
          }
         },
         "name": "Twitch",
         "offsetgroup": "Twitch",
         "orientation": "v",
         "showlegend": true,
         "type": "histogram",
         "x": [
          0.527,
          0.5054
         ],
         "xaxis": "x",
         "yaxis": "y"
        },
        {
         "alignmentgroup": "True",
         "bingroup": "x",
         "hovertemplate": "Name=Udyr<br>Win %=%{x}<br>count=%{y}<extra></extra>",
         "legendgroup": "Udyr",
         "marker": {
          "color": "#B6E880",
          "pattern": {
           "shape": ""
          }
         },
         "name": "Udyr",
         "offsetgroup": "Udyr",
         "orientation": "v",
         "showlegend": true,
         "type": "histogram",
         "x": [
          0.4975,
          0.4818
         ],
         "xaxis": "x",
         "yaxis": "y"
        },
        {
         "alignmentgroup": "True",
         "bingroup": "x",
         "hovertemplate": "Name=Urgot<br>Win %=%{x}<br>count=%{y}<extra></extra>",
         "legendgroup": "Urgot",
         "marker": {
          "color": "#FF97FF",
          "pattern": {
           "shape": ""
          }
         },
         "name": "Urgot",
         "offsetgroup": "Urgot",
         "orientation": "v",
         "showlegend": true,
         "type": "histogram",
         "x": [
          0.5139
         ],
         "xaxis": "x",
         "yaxis": "y"
        },
        {
         "alignmentgroup": "True",
         "bingroup": "x",
         "hovertemplate": "Name=Varus<br>Win %=%{x}<br>count=%{y}<extra></extra>",
         "legendgroup": "Varus",
         "marker": {
          "color": "#FECB52",
          "pattern": {
           "shape": ""
          }
         },
         "name": "Varus",
         "offsetgroup": "Varus",
         "orientation": "v",
         "showlegend": true,
         "type": "histogram",
         "x": [
          0.4922
         ],
         "xaxis": "x",
         "yaxis": "y"
        },
        {
         "alignmentgroup": "True",
         "bingroup": "x",
         "hovertemplate": "Name=Vayne<br>Win %=%{x}<br>count=%{y}<extra></extra>",
         "legendgroup": "Vayne",
         "marker": {
          "color": "#636efa",
          "pattern": {
           "shape": ""
          }
         },
         "name": "Vayne",
         "offsetgroup": "Vayne",
         "orientation": "v",
         "showlegend": true,
         "type": "histogram",
         "x": [
          0.5267,
          0.5304
         ],
         "xaxis": "x",
         "yaxis": "y"
        },
        {
         "alignmentgroup": "True",
         "bingroup": "x",
         "hovertemplate": "Name=Veigar<br>Win %=%{x}<br>count=%{y}<extra></extra>",
         "legendgroup": "Veigar",
         "marker": {
          "color": "#EF553B",
          "pattern": {
           "shape": ""
          }
         },
         "name": "Veigar",
         "offsetgroup": "Veigar",
         "orientation": "v",
         "showlegend": true,
         "type": "histogram",
         "x": [
          0.5005,
          0.4805
         ],
         "xaxis": "x",
         "yaxis": "y"
        },
        {
         "alignmentgroup": "True",
         "bingroup": "x",
         "hovertemplate": "Name=Vel'Koz<br>Win %=%{x}<br>count=%{y}<extra></extra>",
         "legendgroup": "Vel'Koz",
         "marker": {
          "color": "#00cc96",
          "pattern": {
           "shape": ""
          }
         },
         "name": "Vel'Koz",
         "offsetgroup": "Vel'Koz",
         "orientation": "v",
         "showlegend": true,
         "type": "histogram",
         "x": [
          0.5077,
          0.5135
         ],
         "xaxis": "x",
         "yaxis": "y"
        },
        {
         "alignmentgroup": "True",
         "bingroup": "x",
         "hovertemplate": "Name=Vex<br>Win %=%{x}<br>count=%{y}<extra></extra>",
         "legendgroup": "Vex",
         "marker": {
          "color": "#ab63fa",
          "pattern": {
           "shape": ""
          }
         },
         "name": "Vex",
         "offsetgroup": "Vex",
         "orientation": "v",
         "showlegend": true,
         "type": "histogram",
         "x": [
          0.5136
         ],
         "xaxis": "x",
         "yaxis": "y"
        },
        {
         "alignmentgroup": "True",
         "bingroup": "x",
         "hovertemplate": "Name=Vi<br>Win %=%{x}<br>count=%{y}<extra></extra>",
         "legendgroup": "Vi",
         "marker": {
          "color": "#FFA15A",
          "pattern": {
           "shape": ""
          }
         },
         "name": "Vi",
         "offsetgroup": "Vi",
         "orientation": "v",
         "showlegend": true,
         "type": "histogram",
         "x": [
          0.4827
         ],
         "xaxis": "x",
         "yaxis": "y"
        },
        {
         "alignmentgroup": "True",
         "bingroup": "x",
         "hovertemplate": "Name=Viego<br>Win %=%{x}<br>count=%{y}<extra></extra>",
         "legendgroup": "Viego",
         "marker": {
          "color": "#19d3f3",
          "pattern": {
           "shape": ""
          }
         },
         "name": "Viego",
         "offsetgroup": "Viego",
         "orientation": "v",
         "showlegend": true,
         "type": "histogram",
         "x": [
          0.5112
         ],
         "xaxis": "x",
         "yaxis": "y"
        },
        {
         "alignmentgroup": "True",
         "bingroup": "x",
         "hovertemplate": "Name=Viktor<br>Win %=%{x}<br>count=%{y}<extra></extra>",
         "legendgroup": "Viktor",
         "marker": {
          "color": "#FF6692",
          "pattern": {
           "shape": ""
          }
         },
         "name": "Viktor",
         "offsetgroup": "Viktor",
         "orientation": "v",
         "showlegend": true,
         "type": "histogram",
         "x": [
          0.5016
         ],
         "xaxis": "x",
         "yaxis": "y"
        },
        {
         "alignmentgroup": "True",
         "bingroup": "x",
         "hovertemplate": "Name=Vladimir<br>Win %=%{x}<br>count=%{y}<extra></extra>",
         "legendgroup": "Vladimir",
         "marker": {
          "color": "#B6E880",
          "pattern": {
           "shape": ""
          }
         },
         "name": "Vladimir",
         "offsetgroup": "Vladimir",
         "orientation": "v",
         "showlegend": true,
         "type": "histogram",
         "x": [
          0.4964,
          0.4854
         ],
         "xaxis": "x",
         "yaxis": "y"
        },
        {
         "alignmentgroup": "True",
         "bingroup": "x",
         "hovertemplate": "Name=Volibear<br>Win %=%{x}<br>count=%{y}<extra></extra>",
         "legendgroup": "Volibear",
         "marker": {
          "color": "#FF97FF",
          "pattern": {
           "shape": ""
          }
         },
         "name": "Volibear",
         "offsetgroup": "Volibear",
         "orientation": "v",
         "showlegend": true,
         "type": "histogram",
         "x": [
          0.4851,
          0.4998
         ],
         "xaxis": "x",
         "yaxis": "y"
        },
        {
         "alignmentgroup": "True",
         "bingroup": "x",
         "hovertemplate": "Name=Warwick<br>Win %=%{x}<br>count=%{y}<extra></extra>",
         "legendgroup": "Warwick",
         "marker": {
          "color": "#FECB52",
          "pattern": {
           "shape": ""
          }
         },
         "name": "Warwick",
         "offsetgroup": "Warwick",
         "orientation": "v",
         "showlegend": true,
         "type": "histogram",
         "x": [
          0.4792,
          0.4693
         ],
         "xaxis": "x",
         "yaxis": "y"
        },
        {
         "alignmentgroup": "True",
         "bingroup": "x",
         "hovertemplate": "Name=Wukong<br>Win %=%{x}<br>count=%{y}<extra></extra>",
         "legendgroup": "Wukong",
         "marker": {
          "color": "#636efa",
          "pattern": {
           "shape": ""
          }
         },
         "name": "Wukong",
         "offsetgroup": "Wukong",
         "orientation": "v",
         "showlegend": true,
         "type": "histogram",
         "x": [
          0.4973,
          0.4893
         ],
         "xaxis": "x",
         "yaxis": "y"
        },
        {
         "alignmentgroup": "True",
         "bingroup": "x",
         "hovertemplate": "Name=Xayah<br>Win %=%{x}<br>count=%{y}<extra></extra>",
         "legendgroup": "Xayah",
         "marker": {
          "color": "#EF553B",
          "pattern": {
           "shape": ""
          }
         },
         "name": "Xayah",
         "offsetgroup": "Xayah",
         "orientation": "v",
         "showlegend": true,
         "type": "histogram",
         "x": [
          0.4958
         ],
         "xaxis": "x",
         "yaxis": "y"
        },
        {
         "alignmentgroup": "True",
         "bingroup": "x",
         "hovertemplate": "Name=Xerath<br>Win %=%{x}<br>count=%{y}<extra></extra>",
         "legendgroup": "Xerath",
         "marker": {
          "color": "#00cc96",
          "pattern": {
           "shape": ""
          }
         },
         "name": "Xerath",
         "offsetgroup": "Xerath",
         "orientation": "v",
         "showlegend": true,
         "type": "histogram",
         "x": [
          0.5105,
          0.5238
         ],
         "xaxis": "x",
         "yaxis": "y"
        },
        {
         "alignmentgroup": "True",
         "bingroup": "x",
         "hovertemplate": "Name=Xin Zhao<br>Win %=%{x}<br>count=%{y}<extra></extra>",
         "legendgroup": "Xin Zhao",
         "marker": {
          "color": "#ab63fa",
          "pattern": {
           "shape": ""
          }
         },
         "name": "Xin Zhao",
         "offsetgroup": "Xin Zhao",
         "orientation": "v",
         "showlegend": true,
         "type": "histogram",
         "x": [
          0.4811
         ],
         "xaxis": "x",
         "yaxis": "y"
        },
        {
         "alignmentgroup": "True",
         "bingroup": "x",
         "hovertemplate": "Name=Yasuo<br>Win %=%{x}<br>count=%{y}<extra></extra>",
         "legendgroup": "Yasuo",
         "marker": {
          "color": "#FFA15A",
          "pattern": {
           "shape": ""
          }
         },
         "name": "Yasuo",
         "offsetgroup": "Yasuo",
         "orientation": "v",
         "showlegend": true,
         "type": "histogram",
         "x": [
          0.4869,
          0.4531,
          0.479
         ],
         "xaxis": "x",
         "yaxis": "y"
        },
        {
         "alignmentgroup": "True",
         "bingroup": "x",
         "hovertemplate": "Name=Yone<br>Win %=%{x}<br>count=%{y}<extra></extra>",
         "legendgroup": "Yone",
         "marker": {
          "color": "#19d3f3",
          "pattern": {
           "shape": ""
          }
         },
         "name": "Yone",
         "offsetgroup": "Yone",
         "orientation": "v",
         "showlegend": true,
         "type": "histogram",
         "x": [
          0.4853,
          0.4755
         ],
         "xaxis": "x",
         "yaxis": "y"
        },
        {
         "alignmentgroup": "True",
         "bingroup": "x",
         "hovertemplate": "Name=Yorick<br>Win %=%{x}<br>count=%{y}<extra></extra>",
         "legendgroup": "Yorick",
         "marker": {
          "color": "#FF6692",
          "pattern": {
           "shape": ""
          }
         },
         "name": "Yorick",
         "offsetgroup": "Yorick",
         "orientation": "v",
         "showlegend": true,
         "type": "histogram",
         "x": [
          0.5389
         ],
         "xaxis": "x",
         "yaxis": "y"
        },
        {
         "alignmentgroup": "True",
         "bingroup": "x",
         "hovertemplate": "Name=Yuumi<br>Win %=%{x}<br>count=%{y}<extra></extra>",
         "legendgroup": "Yuumi",
         "marker": {
          "color": "#B6E880",
          "pattern": {
           "shape": ""
          }
         },
         "name": "Yuumi",
         "offsetgroup": "Yuumi",
         "orientation": "v",
         "showlegend": true,
         "type": "histogram",
         "x": [
          0.4819
         ],
         "xaxis": "x",
         "yaxis": "y"
        },
        {
         "alignmentgroup": "True",
         "bingroup": "x",
         "hovertemplate": "Name=Zac<br>Win %=%{x}<br>count=%{y}<extra></extra>",
         "legendgroup": "Zac",
         "marker": {
          "color": "#FF97FF",
          "pattern": {
           "shape": ""
          }
         },
         "name": "Zac",
         "offsetgroup": "Zac",
         "orientation": "v",
         "showlegend": true,
         "type": "histogram",
         "x": [
          0.5165
         ],
         "xaxis": "x",
         "yaxis": "y"
        },
        {
         "alignmentgroup": "True",
         "bingroup": "x",
         "hovertemplate": "Name=Zed<br>Win %=%{x}<br>count=%{y}<extra></extra>",
         "legendgroup": "Zed",
         "marker": {
          "color": "#FECB52",
          "pattern": {
           "shape": ""
          }
         },
         "name": "Zed",
         "offsetgroup": "Zed",
         "orientation": "v",
         "showlegend": true,
         "type": "histogram",
         "x": [
          0.4778
         ],
         "xaxis": "x",
         "yaxis": "y"
        },
        {
         "alignmentgroup": "True",
         "bingroup": "x",
         "hovertemplate": "Name=Zeri<br>Win %=%{x}<br>count=%{y}<extra></extra>",
         "legendgroup": "Zeri",
         "marker": {
          "color": "#636efa",
          "pattern": {
           "shape": ""
          }
         },
         "name": "Zeri",
         "offsetgroup": "Zeri",
         "orientation": "v",
         "showlegend": true,
         "type": "histogram",
         "x": [
          0.4603
         ],
         "xaxis": "x",
         "yaxis": "y"
        },
        {
         "alignmentgroup": "True",
         "bingroup": "x",
         "hovertemplate": "Name=Ziggs<br>Win %=%{x}<br>count=%{y}<extra></extra>",
         "legendgroup": "Ziggs",
         "marker": {
          "color": "#EF553B",
          "pattern": {
           "shape": ""
          }
         },
         "name": "Ziggs",
         "offsetgroup": "Ziggs",
         "orientation": "v",
         "showlegend": true,
         "type": "histogram",
         "x": [
          0.5473,
          0.538
         ],
         "xaxis": "x",
         "yaxis": "y"
        },
        {
         "alignmentgroup": "True",
         "bingroup": "x",
         "hovertemplate": "Name=Zilean<br>Win %=%{x}<br>count=%{y}<extra></extra>",
         "legendgroup": "Zilean",
         "marker": {
          "color": "#00cc96",
          "pattern": {
           "shape": ""
          }
         },
         "name": "Zilean",
         "offsetgroup": "Zilean",
         "orientation": "v",
         "showlegend": true,
         "type": "histogram",
         "x": [
          0.5438,
          0.52
         ],
         "xaxis": "x",
         "yaxis": "y"
        },
        {
         "alignmentgroup": "True",
         "bingroup": "x",
         "hovertemplate": "Name=Zoe<br>Win %=%{x}<br>count=%{y}<extra></extra>",
         "legendgroup": "Zoe",
         "marker": {
          "color": "#ab63fa",
          "pattern": {
           "shape": ""
          }
         },
         "name": "Zoe",
         "offsetgroup": "Zoe",
         "orientation": "v",
         "showlegend": true,
         "type": "histogram",
         "x": [
          0.5058,
          0.5182
         ],
         "xaxis": "x",
         "yaxis": "y"
        },
        {
         "alignmentgroup": "True",
         "bingroup": "x",
         "hovertemplate": "Name=Zyra<br>Win %=%{x}<br>count=%{y}<extra></extra>",
         "legendgroup": "Zyra",
         "marker": {
          "color": "#FFA15A",
          "pattern": {
           "shape": ""
          }
         },
         "name": "Zyra",
         "offsetgroup": "Zyra",
         "orientation": "v",
         "showlegend": true,
         "type": "histogram",
         "x": [
          0.5275
         ],
         "xaxis": "x",
         "yaxis": "y"
        }
       ],
       "layout": {
        "barmode": "relative",
        "legend": {
         "title": {
          "text": "Name"
         },
         "tracegroupgap": 0
        },
        "template": {
         "data": {
          "bar": [
           {
            "error_x": {
             "color": "#2a3f5f"
            },
            "error_y": {
             "color": "#2a3f5f"
            },
            "marker": {
             "line": {
              "color": "#E5ECF6",
              "width": 0.5
             },
             "pattern": {
              "fillmode": "overlay",
              "size": 10,
              "solidity": 0.2
             }
            },
            "type": "bar"
           }
          ],
          "barpolar": [
           {
            "marker": {
             "line": {
              "color": "#E5ECF6",
              "width": 0.5
             },
             "pattern": {
              "fillmode": "overlay",
              "size": 10,
              "solidity": 0.2
             }
            },
            "type": "barpolar"
           }
          ],
          "carpet": [
           {
            "aaxis": {
             "endlinecolor": "#2a3f5f",
             "gridcolor": "white",
             "linecolor": "white",
             "minorgridcolor": "white",
             "startlinecolor": "#2a3f5f"
            },
            "baxis": {
             "endlinecolor": "#2a3f5f",
             "gridcolor": "white",
             "linecolor": "white",
             "minorgridcolor": "white",
             "startlinecolor": "#2a3f5f"
            },
            "type": "carpet"
           }
          ],
          "choropleth": [
           {
            "colorbar": {
             "outlinewidth": 0,
             "ticks": ""
            },
            "type": "choropleth"
           }
          ],
          "contour": [
           {
            "colorbar": {
             "outlinewidth": 0,
             "ticks": ""
            },
            "colorscale": [
             [
              0,
              "#0d0887"
             ],
             [
              0.1111111111111111,
              "#46039f"
             ],
             [
              0.2222222222222222,
              "#7201a8"
             ],
             [
              0.3333333333333333,
              "#9c179e"
             ],
             [
              0.4444444444444444,
              "#bd3786"
             ],
             [
              0.5555555555555556,
              "#d8576b"
             ],
             [
              0.6666666666666666,
              "#ed7953"
             ],
             [
              0.7777777777777778,
              "#fb9f3a"
             ],
             [
              0.8888888888888888,
              "#fdca26"
             ],
             [
              1,
              "#f0f921"
             ]
            ],
            "type": "contour"
           }
          ],
          "contourcarpet": [
           {
            "colorbar": {
             "outlinewidth": 0,
             "ticks": ""
            },
            "type": "contourcarpet"
           }
          ],
          "heatmap": [
           {
            "colorbar": {
             "outlinewidth": 0,
             "ticks": ""
            },
            "colorscale": [
             [
              0,
              "#0d0887"
             ],
             [
              0.1111111111111111,
              "#46039f"
             ],
             [
              0.2222222222222222,
              "#7201a8"
             ],
             [
              0.3333333333333333,
              "#9c179e"
             ],
             [
              0.4444444444444444,
              "#bd3786"
             ],
             [
              0.5555555555555556,
              "#d8576b"
             ],
             [
              0.6666666666666666,
              "#ed7953"
             ],
             [
              0.7777777777777778,
              "#fb9f3a"
             ],
             [
              0.8888888888888888,
              "#fdca26"
             ],
             [
              1,
              "#f0f921"
             ]
            ],
            "type": "heatmap"
           }
          ],
          "heatmapgl": [
           {
            "colorbar": {
             "outlinewidth": 0,
             "ticks": ""
            },
            "colorscale": [
             [
              0,
              "#0d0887"
             ],
             [
              0.1111111111111111,
              "#46039f"
             ],
             [
              0.2222222222222222,
              "#7201a8"
             ],
             [
              0.3333333333333333,
              "#9c179e"
             ],
             [
              0.4444444444444444,
              "#bd3786"
             ],
             [
              0.5555555555555556,
              "#d8576b"
             ],
             [
              0.6666666666666666,
              "#ed7953"
             ],
             [
              0.7777777777777778,
              "#fb9f3a"
             ],
             [
              0.8888888888888888,
              "#fdca26"
             ],
             [
              1,
              "#f0f921"
             ]
            ],
            "type": "heatmapgl"
           }
          ],
          "histogram": [
           {
            "marker": {
             "pattern": {
              "fillmode": "overlay",
              "size": 10,
              "solidity": 0.2
             }
            },
            "type": "histogram"
           }
          ],
          "histogram2d": [
           {
            "colorbar": {
             "outlinewidth": 0,
             "ticks": ""
            },
            "colorscale": [
             [
              0,
              "#0d0887"
             ],
             [
              0.1111111111111111,
              "#46039f"
             ],
             [
              0.2222222222222222,
              "#7201a8"
             ],
             [
              0.3333333333333333,
              "#9c179e"
             ],
             [
              0.4444444444444444,
              "#bd3786"
             ],
             [
              0.5555555555555556,
              "#d8576b"
             ],
             [
              0.6666666666666666,
              "#ed7953"
             ],
             [
              0.7777777777777778,
              "#fb9f3a"
             ],
             [
              0.8888888888888888,
              "#fdca26"
             ],
             [
              1,
              "#f0f921"
             ]
            ],
            "type": "histogram2d"
           }
          ],
          "histogram2dcontour": [
           {
            "colorbar": {
             "outlinewidth": 0,
             "ticks": ""
            },
            "colorscale": [
             [
              0,
              "#0d0887"
             ],
             [
              0.1111111111111111,
              "#46039f"
             ],
             [
              0.2222222222222222,
              "#7201a8"
             ],
             [
              0.3333333333333333,
              "#9c179e"
             ],
             [
              0.4444444444444444,
              "#bd3786"
             ],
             [
              0.5555555555555556,
              "#d8576b"
             ],
             [
              0.6666666666666666,
              "#ed7953"
             ],
             [
              0.7777777777777778,
              "#fb9f3a"
             ],
             [
              0.8888888888888888,
              "#fdca26"
             ],
             [
              1,
              "#f0f921"
             ]
            ],
            "type": "histogram2dcontour"
           }
          ],
          "mesh3d": [
           {
            "colorbar": {
             "outlinewidth": 0,
             "ticks": ""
            },
            "type": "mesh3d"
           }
          ],
          "parcoords": [
           {
            "line": {
             "colorbar": {
              "outlinewidth": 0,
              "ticks": ""
             }
            },
            "type": "parcoords"
           }
          ],
          "pie": [
           {
            "automargin": true,
            "type": "pie"
           }
          ],
          "scatter": [
           {
            "fillpattern": {
             "fillmode": "overlay",
             "size": 10,
             "solidity": 0.2
            },
            "type": "scatter"
           }
          ],
          "scatter3d": [
           {
            "line": {
             "colorbar": {
              "outlinewidth": 0,
              "ticks": ""
             }
            },
            "marker": {
             "colorbar": {
              "outlinewidth": 0,
              "ticks": ""
             }
            },
            "type": "scatter3d"
           }
          ],
          "scattercarpet": [
           {
            "marker": {
             "colorbar": {
              "outlinewidth": 0,
              "ticks": ""
             }
            },
            "type": "scattercarpet"
           }
          ],
          "scattergeo": [
           {
            "marker": {
             "colorbar": {
              "outlinewidth": 0,
              "ticks": ""
             }
            },
            "type": "scattergeo"
           }
          ],
          "scattergl": [
           {
            "marker": {
             "colorbar": {
              "outlinewidth": 0,
              "ticks": ""
             }
            },
            "type": "scattergl"
           }
          ],
          "scattermapbox": [
           {
            "marker": {
             "colorbar": {
              "outlinewidth": 0,
              "ticks": ""
             }
            },
            "type": "scattermapbox"
           }
          ],
          "scatterpolar": [
           {
            "marker": {
             "colorbar": {
              "outlinewidth": 0,
              "ticks": ""
             }
            },
            "type": "scatterpolar"
           }
          ],
          "scatterpolargl": [
           {
            "marker": {
             "colorbar": {
              "outlinewidth": 0,
              "ticks": ""
             }
            },
            "type": "scatterpolargl"
           }
          ],
          "scatterternary": [
           {
            "marker": {
             "colorbar": {
              "outlinewidth": 0,
              "ticks": ""
             }
            },
            "type": "scatterternary"
           }
          ],
          "surface": [
           {
            "colorbar": {
             "outlinewidth": 0,
             "ticks": ""
            },
            "colorscale": [
             [
              0,
              "#0d0887"
             ],
             [
              0.1111111111111111,
              "#46039f"
             ],
             [
              0.2222222222222222,
              "#7201a8"
             ],
             [
              0.3333333333333333,
              "#9c179e"
             ],
             [
              0.4444444444444444,
              "#bd3786"
             ],
             [
              0.5555555555555556,
              "#d8576b"
             ],
             [
              0.6666666666666666,
              "#ed7953"
             ],
             [
              0.7777777777777778,
              "#fb9f3a"
             ],
             [
              0.8888888888888888,
              "#fdca26"
             ],
             [
              1,
              "#f0f921"
             ]
            ],
            "type": "surface"
           }
          ],
          "table": [
           {
            "cells": {
             "fill": {
              "color": "#EBF0F8"
             },
             "line": {
              "color": "white"
             }
            },
            "header": {
             "fill": {
              "color": "#C8D4E3"
             },
             "line": {
              "color": "white"
             }
            },
            "type": "table"
           }
          ]
         },
         "layout": {
          "annotationdefaults": {
           "arrowcolor": "#2a3f5f",
           "arrowhead": 0,
           "arrowwidth": 1
          },
          "autotypenumbers": "strict",
          "coloraxis": {
           "colorbar": {
            "outlinewidth": 0,
            "ticks": ""
           }
          },
          "colorscale": {
           "diverging": [
            [
             0,
             "#8e0152"
            ],
            [
             0.1,
             "#c51b7d"
            ],
            [
             0.2,
             "#de77ae"
            ],
            [
             0.3,
             "#f1b6da"
            ],
            [
             0.4,
             "#fde0ef"
            ],
            [
             0.5,
             "#f7f7f7"
            ],
            [
             0.6,
             "#e6f5d0"
            ],
            [
             0.7,
             "#b8e186"
            ],
            [
             0.8,
             "#7fbc41"
            ],
            [
             0.9,
             "#4d9221"
            ],
            [
             1,
             "#276419"
            ]
           ],
           "sequential": [
            [
             0,
             "#0d0887"
            ],
            [
             0.1111111111111111,
             "#46039f"
            ],
            [
             0.2222222222222222,
             "#7201a8"
            ],
            [
             0.3333333333333333,
             "#9c179e"
            ],
            [
             0.4444444444444444,
             "#bd3786"
            ],
            [
             0.5555555555555556,
             "#d8576b"
            ],
            [
             0.6666666666666666,
             "#ed7953"
            ],
            [
             0.7777777777777778,
             "#fb9f3a"
            ],
            [
             0.8888888888888888,
             "#fdca26"
            ],
            [
             1,
             "#f0f921"
            ]
           ],
           "sequentialminus": [
            [
             0,
             "#0d0887"
            ],
            [
             0.1111111111111111,
             "#46039f"
            ],
            [
             0.2222222222222222,
             "#7201a8"
            ],
            [
             0.3333333333333333,
             "#9c179e"
            ],
            [
             0.4444444444444444,
             "#bd3786"
            ],
            [
             0.5555555555555556,
             "#d8576b"
            ],
            [
             0.6666666666666666,
             "#ed7953"
            ],
            [
             0.7777777777777778,
             "#fb9f3a"
            ],
            [
             0.8888888888888888,
             "#fdca26"
            ],
            [
             1,
             "#f0f921"
            ]
           ]
          },
          "colorway": [
           "#636efa",
           "#EF553B",
           "#00cc96",
           "#ab63fa",
           "#FFA15A",
           "#19d3f3",
           "#FF6692",
           "#B6E880",
           "#FF97FF",
           "#FECB52"
          ],
          "font": {
           "color": "#2a3f5f"
          },
          "geo": {
           "bgcolor": "white",
           "lakecolor": "white",
           "landcolor": "#E5ECF6",
           "showlakes": true,
           "showland": true,
           "subunitcolor": "white"
          },
          "hoverlabel": {
           "align": "left"
          },
          "hovermode": "closest",
          "mapbox": {
           "style": "light"
          },
          "paper_bgcolor": "white",
          "plot_bgcolor": "#E5ECF6",
          "polar": {
           "angularaxis": {
            "gridcolor": "white",
            "linecolor": "white",
            "ticks": ""
           },
           "bgcolor": "#E5ECF6",
           "radialaxis": {
            "gridcolor": "white",
            "linecolor": "white",
            "ticks": ""
           }
          },
          "scene": {
           "xaxis": {
            "backgroundcolor": "#E5ECF6",
            "gridcolor": "white",
            "gridwidth": 2,
            "linecolor": "white",
            "showbackground": true,
            "ticks": "",
            "zerolinecolor": "white"
           },
           "yaxis": {
            "backgroundcolor": "#E5ECF6",
            "gridcolor": "white",
            "gridwidth": 2,
            "linecolor": "white",
            "showbackground": true,
            "ticks": "",
            "zerolinecolor": "white"
           },
           "zaxis": {
            "backgroundcolor": "#E5ECF6",
            "gridcolor": "white",
            "gridwidth": 2,
            "linecolor": "white",
            "showbackground": true,
            "ticks": "",
            "zerolinecolor": "white"
           }
          },
          "shapedefaults": {
           "line": {
            "color": "#2a3f5f"
           }
          },
          "ternary": {
           "aaxis": {
            "gridcolor": "white",
            "linecolor": "white",
            "ticks": ""
           },
           "baxis": {
            "gridcolor": "white",
            "linecolor": "white",
            "ticks": ""
           },
           "bgcolor": "#E5ECF6",
           "caxis": {
            "gridcolor": "white",
            "linecolor": "white",
            "ticks": ""
           }
          },
          "title": {
           "x": 0.05
          },
          "xaxis": {
           "automargin": true,
           "gridcolor": "white",
           "linecolor": "white",
           "ticks": "",
           "title": {
            "standoff": 15
           },
           "zerolinecolor": "white",
           "zerolinewidth": 2
          },
          "yaxis": {
           "automargin": true,
           "gridcolor": "white",
           "linecolor": "white",
           "ticks": "",
           "title": {
            "standoff": 15
           },
           "zerolinecolor": "white",
           "zerolinewidth": 2
          }
         }
        },
        "title": {
         "text": "Champions win rate"
        },
        "xaxis": {
         "anchor": "y",
         "domain": [
          0,
          1
         ],
         "title": {
          "text": "Win %"
         }
        },
        "yaxis": {
         "anchor": "x",
         "domain": [
          0,
          1
         ],
         "title": {
          "text": "count"
         }
        }
       }
      }
     },
     "metadata": {},
     "output_type": "display_data"
    }
   ],
   "source": [
    "# Plotting the distribution of the winrate of League of Legends champions\n",
    "px.histogram(df,'Win %', color='Name', title='Champions win rate')"
   ]
  },
  {
   "cell_type": "markdown",
   "metadata": {},
   "source": [
    "![Champions win rate](Cwr.png)"
   ]
  },
  {
   "cell_type": "code",
   "execution_count": 83,
   "metadata": {},
   "outputs": [
    {
     "data": {
      "application/vnd.plotly.v1+json": {
       "config": {
        "plotlyServerURL": "https://plot.ly"
       },
       "data": [
        {
         "alignmentgroup": "True",
         "bingroup": "x",
         "hovertemplate": "Name=Aatrox<br>Ban %=%{x}<br>count=%{y}<extra></extra>",
         "legendgroup": "Aatrox",
         "marker": {
          "color": "#636efa",
          "pattern": {
           "shape": ""
          }
         },
         "name": "Aatrox",
         "offsetgroup": "Aatrox",
         "orientation": "v",
         "showlegend": true,
         "type": "histogram",
         "x": [
          0.1352
         ],
         "xaxis": "x",
         "yaxis": "y"
        },
        {
         "alignmentgroup": "True",
         "bingroup": "x",
         "hovertemplate": "Name=Ahri<br>Ban %=%{x}<br>count=%{y}<extra></extra>",
         "legendgroup": "Ahri",
         "marker": {
          "color": "#EF553B",
          "pattern": {
           "shape": ""
          }
         },
         "name": "Ahri",
         "offsetgroup": "Ahri",
         "orientation": "v",
         "showlegend": true,
         "type": "histogram",
         "x": [
          0.0308
         ],
         "xaxis": "x",
         "yaxis": "y"
        },
        {
         "alignmentgroup": "True",
         "bingroup": "x",
         "hovertemplate": "Name=Akali<br>Ban %=%{x}<br>count=%{y}<extra></extra>",
         "legendgroup": "Akali",
         "marker": {
          "color": "#00cc96",
          "pattern": {
           "shape": ""
          }
         },
         "name": "Akali",
         "offsetgroup": "Akali",
         "orientation": "v",
         "showlegend": true,
         "type": "histogram",
         "x": [
          0.1383,
          0.1392
         ],
         "xaxis": "x",
         "yaxis": "y"
        },
        {
         "alignmentgroup": "True",
         "bingroup": "x",
         "hovertemplate": "Name=Akshan<br>Ban %=%{x}<br>count=%{y}<extra></extra>",
         "legendgroup": "Akshan",
         "marker": {
          "color": "#ab63fa",
          "pattern": {
           "shape": ""
          }
         },
         "name": "Akshan",
         "offsetgroup": "Akshan",
         "orientation": "v",
         "showlegend": true,
         "type": "histogram",
         "x": [
          0.0431,
          0.041
         ],
         "xaxis": "x",
         "yaxis": "y"
        },
        {
         "alignmentgroup": "True",
         "bingroup": "x",
         "hovertemplate": "Name=Alistar<br>Ban %=%{x}<br>count=%{y}<extra></extra>",
         "legendgroup": "Alistar",
         "marker": {
          "color": "#FFA15A",
          "pattern": {
           "shape": ""
          }
         },
         "name": "Alistar",
         "offsetgroup": "Alistar",
         "orientation": "v",
         "showlegend": true,
         "type": "histogram",
         "x": [
          0.0366
         ],
         "xaxis": "x",
         "yaxis": "y"
        },
        {
         "alignmentgroup": "True",
         "bingroup": "x",
         "hovertemplate": "Name=Amumu<br>Ban %=%{x}<br>count=%{y}<extra></extra>",
         "legendgroup": "Amumu",
         "marker": {
          "color": "#19d3f3",
          "pattern": {
           "shape": ""
          }
         },
         "name": "Amumu",
         "offsetgroup": "Amumu",
         "orientation": "v",
         "showlegend": true,
         "type": "histogram",
         "x": [
          0.0126,
          0.0126
         ],
         "xaxis": "x",
         "yaxis": "y"
        },
        {
         "alignmentgroup": "True",
         "bingroup": "x",
         "hovertemplate": "Name=Anivia<br>Ban %=%{x}<br>count=%{y}<extra></extra>",
         "legendgroup": "Anivia",
         "marker": {
          "color": "#FF6692",
          "pattern": {
           "shape": ""
          }
         },
         "name": "Anivia",
         "offsetgroup": "Anivia",
         "orientation": "v",
         "showlegend": true,
         "type": "histogram",
         "x": [
          0.0183,
          0.0169
         ],
         "xaxis": "x",
         "yaxis": "y"
        },
        {
         "alignmentgroup": "True",
         "bingroup": "x",
         "hovertemplate": "Name=Annie<br>Ban %=%{x}<br>count=%{y}<extra></extra>",
         "legendgroup": "Annie",
         "marker": {
          "color": "#B6E880",
          "pattern": {
           "shape": ""
          }
         },
         "name": "Annie",
         "offsetgroup": "Annie",
         "orientation": "v",
         "showlegend": true,
         "type": "histogram",
         "x": [
          0.0058,
          0.006
         ],
         "xaxis": "x",
         "yaxis": "y"
        },
        {
         "alignmentgroup": "True",
         "bingroup": "x",
         "hovertemplate": "Name=Aphelios<br>Ban %=%{x}<br>count=%{y}<extra></extra>",
         "legendgroup": "Aphelios",
         "marker": {
          "color": "#FF97FF",
          "pattern": {
           "shape": ""
          }
         },
         "name": "Aphelios",
         "offsetgroup": "Aphelios",
         "orientation": "v",
         "showlegend": true,
         "type": "histogram",
         "x": [
          0.0087
         ],
         "xaxis": "x",
         "yaxis": "y"
        },
        {
         "alignmentgroup": "True",
         "bingroup": "x",
         "hovertemplate": "Name=Ashe<br>Ban %=%{x}<br>count=%{y}<extra></extra>",
         "legendgroup": "Ashe",
         "marker": {
          "color": "#FECB52",
          "pattern": {
           "shape": ""
          }
         },
         "name": "Ashe",
         "offsetgroup": "Ashe",
         "orientation": "v",
         "showlegend": true,
         "type": "histogram",
         "x": [
          0.0417,
          0.0445
         ],
         "xaxis": "x",
         "yaxis": "y"
        },
        {
         "alignmentgroup": "True",
         "bingroup": "x",
         "hovertemplate": "Name=Aurelion Sol<br>Ban %=%{x}<br>count=%{y}<extra></extra>",
         "legendgroup": "Aurelion Sol",
         "marker": {
          "color": "#636efa",
          "pattern": {
           "shape": ""
          }
         },
         "name": "Aurelion Sol",
         "offsetgroup": "Aurelion Sol",
         "orientation": "v",
         "showlegend": true,
         "type": "histogram",
         "x": [
          0.0241
         ],
         "xaxis": "x",
         "yaxis": "y"
        },
        {
         "alignmentgroup": "True",
         "bingroup": "x",
         "hovertemplate": "Name=Azir<br>Ban %=%{x}<br>count=%{y}<extra></extra>",
         "legendgroup": "Azir",
         "marker": {
          "color": "#EF553B",
          "pattern": {
           "shape": ""
          }
         },
         "name": "Azir",
         "offsetgroup": "Azir",
         "orientation": "v",
         "showlegend": true,
         "type": "histogram",
         "x": [
          0.0074
         ],
         "xaxis": "x",
         "yaxis": "y"
        },
        {
         "alignmentgroup": "True",
         "bingroup": "x",
         "hovertemplate": "Name=Bard<br>Ban %=%{x}<br>count=%{y}<extra></extra>",
         "legendgroup": "Bard",
         "marker": {
          "color": "#00cc96",
          "pattern": {
           "shape": ""
          }
         },
         "name": "Bard",
         "offsetgroup": "Bard",
         "orientation": "v",
         "showlegend": true,
         "type": "histogram",
         "x": [
          0.0104
         ],
         "xaxis": "x",
         "yaxis": "y"
        },
        {
         "alignmentgroup": "True",
         "bingroup": "x",
         "hovertemplate": "Name=Bel'Veth<br>Ban %=%{x}<br>count=%{y}<extra></extra>",
         "legendgroup": "Bel'Veth",
         "marker": {
          "color": "#ab63fa",
          "pattern": {
           "shape": ""
          }
         },
         "name": "Bel'Veth",
         "offsetgroup": "Bel'Veth",
         "orientation": "v",
         "showlegend": true,
         "type": "histogram",
         "x": [
          0.0616
         ],
         "xaxis": "x",
         "yaxis": "y"
        },
        {
         "alignmentgroup": "True",
         "bingroup": "x",
         "hovertemplate": "Name=Blitzcrank<br>Ban %=%{x}<br>count=%{y}<extra></extra>",
         "legendgroup": "Blitzcrank",
         "marker": {
          "color": "#FFA15A",
          "pattern": {
           "shape": ""
          }
         },
         "name": "Blitzcrank",
         "offsetgroup": "Blitzcrank",
         "orientation": "v",
         "showlegend": true,
         "type": "histogram",
         "x": [
          0.2932
         ],
         "xaxis": "x",
         "yaxis": "y"
        },
        {
         "alignmentgroup": "True",
         "bingroup": "x",
         "hovertemplate": "Name=Brand<br>Ban %=%{x}<br>count=%{y}<extra></extra>",
         "legendgroup": "Brand",
         "marker": {
          "color": "#19d3f3",
          "pattern": {
           "shape": ""
          }
         },
         "name": "Brand",
         "offsetgroup": "Brand",
         "orientation": "v",
         "showlegend": true,
         "type": "histogram",
         "x": [
          0.0367,
          0.0367,
          0.035
         ],
         "xaxis": "x",
         "yaxis": "y"
        },
        {
         "alignmentgroup": "True",
         "bingroup": "x",
         "hovertemplate": "Name=Braum<br>Ban %=%{x}<br>count=%{y}<extra></extra>",
         "legendgroup": "Braum",
         "marker": {
          "color": "#FF6692",
          "pattern": {
           "shape": ""
          }
         },
         "name": "Braum",
         "offsetgroup": "Braum",
         "orientation": "v",
         "showlegend": true,
         "type": "histogram",
         "x": [
          0.0073
         ],
         "xaxis": "x",
         "yaxis": "y"
        },
        {
         "alignmentgroup": "True",
         "bingroup": "x",
         "hovertemplate": "Name=Briar<br>Ban %=%{x}<br>count=%{y}<extra></extra>",
         "legendgroup": "Briar",
         "marker": {
          "color": "#B6E880",
          "pattern": {
           "shape": ""
          }
         },
         "name": "Briar",
         "offsetgroup": "Briar",
         "orientation": "v",
         "showlegend": true,
         "type": "histogram",
         "x": [
          0.3862
         ],
         "xaxis": "x",
         "yaxis": "y"
        },
        {
         "alignmentgroup": "True",
         "bingroup": "x",
         "hovertemplate": "Name=Caitlyn<br>Ban %=%{x}<br>count=%{y}<extra></extra>",
         "legendgroup": "Caitlyn",
         "marker": {
          "color": "#FF97FF",
          "pattern": {
           "shape": ""
          }
         },
         "name": "Caitlyn",
         "offsetgroup": "Caitlyn",
         "orientation": "v",
         "showlegend": true,
         "type": "histogram",
         "x": [
          0.1456
         ],
         "xaxis": "x",
         "yaxis": "y"
        },
        {
         "alignmentgroup": "True",
         "bingroup": "x",
         "hovertemplate": "Name=Camille<br>Ban %=%{x}<br>count=%{y}<extra></extra>",
         "legendgroup": "Camille",
         "marker": {
          "color": "#FECB52",
          "pattern": {
           "shape": ""
          }
         },
         "name": "Camille",
         "offsetgroup": "Camille",
         "orientation": "v",
         "showlegend": true,
         "type": "histogram",
         "x": [
          0.0267
         ],
         "xaxis": "x",
         "yaxis": "y"
        },
        {
         "alignmentgroup": "True",
         "bingroup": "x",
         "hovertemplate": "Name=Cassiopeia<br>Ban %=%{x}<br>count=%{y}<extra></extra>",
         "legendgroup": "Cassiopeia",
         "marker": {
          "color": "#636efa",
          "pattern": {
           "shape": ""
          }
         },
         "name": "Cassiopeia",
         "offsetgroup": "Cassiopeia",
         "orientation": "v",
         "showlegend": true,
         "type": "histogram",
         "x": [
          0.0178,
          0.0176
         ],
         "xaxis": "x",
         "yaxis": "y"
        },
        {
         "alignmentgroup": "True",
         "bingroup": "x",
         "hovertemplate": "Name=Cho'Gath<br>Ban %=%{x}<br>count=%{y}<extra></extra>",
         "legendgroup": "Cho'Gath",
         "marker": {
          "color": "#EF553B",
          "pattern": {
           "shape": ""
          }
         },
         "name": "Cho'Gath",
         "offsetgroup": "Cho'Gath",
         "orientation": "v",
         "showlegend": true,
         "type": "histogram",
         "x": [
          0.0086,
          0.0082
         ],
         "xaxis": "x",
         "yaxis": "y"
        },
        {
         "alignmentgroup": "True",
         "bingroup": "x",
         "hovertemplate": "Name=Corki<br>Ban %=%{x}<br>count=%{y}<extra></extra>",
         "legendgroup": "Corki",
         "marker": {
          "color": "#00cc96",
          "pattern": {
           "shape": ""
          }
         },
         "name": "Corki",
         "offsetgroup": "Corki",
         "orientation": "v",
         "showlegend": true,
         "type": "histogram",
         "x": [
          0.0015
         ],
         "xaxis": "x",
         "yaxis": "y"
        },
        {
         "alignmentgroup": "True",
         "bingroup": "x",
         "hovertemplate": "Name=Darius<br>Ban %=%{x}<br>count=%{y}<extra></extra>",
         "legendgroup": "Darius",
         "marker": {
          "color": "#ab63fa",
          "pattern": {
           "shape": ""
          }
         },
         "name": "Darius",
         "offsetgroup": "Darius",
         "orientation": "v",
         "showlegend": true,
         "type": "histogram",
         "x": [
          0.1823
         ],
         "xaxis": "x",
         "yaxis": "y"
        },
        {
         "alignmentgroup": "True",
         "bingroup": "x",
         "hovertemplate": "Name=Diana<br>Ban %=%{x}<br>count=%{y}<extra></extra>",
         "legendgroup": "Diana",
         "marker": {
          "color": "#FFA15A",
          "pattern": {
           "shape": ""
          }
         },
         "name": "Diana",
         "offsetgroup": "Diana",
         "orientation": "v",
         "showlegend": true,
         "type": "histogram",
         "x": [
          0.0165,
          0.0171
         ],
         "xaxis": "x",
         "yaxis": "y"
        },
        {
         "alignmentgroup": "True",
         "bingroup": "x",
         "hovertemplate": "Name=Dr. Mundo<br>Ban %=%{x}<br>count=%{y}<extra></extra>",
         "legendgroup": "Dr. Mundo",
         "marker": {
          "color": "#19d3f3",
          "pattern": {
           "shape": ""
          }
         },
         "name": "Dr. Mundo",
         "offsetgroup": "Dr. Mundo",
         "orientation": "v",
         "showlegend": true,
         "type": "histogram",
         "x": [
          0.025
         ],
         "xaxis": "x",
         "yaxis": "y"
        },
        {
         "alignmentgroup": "True",
         "bingroup": "x",
         "hovertemplate": "Name=Draven<br>Ban %=%{x}<br>count=%{y}<extra></extra>",
         "legendgroup": "Draven",
         "marker": {
          "color": "#FF6692",
          "pattern": {
           "shape": ""
          }
         },
         "name": "Draven",
         "offsetgroup": "Draven",
         "orientation": "v",
         "showlegend": true,
         "type": "histogram",
         "x": [
          0.1644
         ],
         "xaxis": "x",
         "yaxis": "y"
        },
        {
         "alignmentgroup": "True",
         "bingroup": "x",
         "hovertemplate": "Name=Ekko<br>Ban %=%{x}<br>count=%{y}<extra></extra>",
         "legendgroup": "Ekko",
         "marker": {
          "color": "#B6E880",
          "pattern": {
           "shape": ""
          }
         },
         "name": "Ekko",
         "offsetgroup": "Ekko",
         "orientation": "v",
         "showlegend": true,
         "type": "histogram",
         "x": [
          0.0318,
          0.0318
         ],
         "xaxis": "x",
         "yaxis": "y"
        },
        {
         "alignmentgroup": "True",
         "bingroup": "x",
         "hovertemplate": "Name=Elise<br>Ban %=%{x}<br>count=%{y}<extra></extra>",
         "legendgroup": "Elise",
         "marker": {
          "color": "#FF97FF",
          "pattern": {
           "shape": ""
          }
         },
         "name": "Elise",
         "offsetgroup": "Elise",
         "orientation": "v",
         "showlegend": true,
         "type": "histogram",
         "x": [
          0.0203
         ],
         "xaxis": "x",
         "yaxis": "y"
        },
        {
         "alignmentgroup": "True",
         "bingroup": "x",
         "hovertemplate": "Name=Evelynn<br>Ban %=%{x}<br>count=%{y}<extra></extra>",
         "legendgroup": "Evelynn",
         "marker": {
          "color": "#FECB52",
          "pattern": {
           "shape": ""
          }
         },
         "name": "Evelynn",
         "offsetgroup": "Evelynn",
         "orientation": "v",
         "showlegend": true,
         "type": "histogram",
         "x": [
          0.1089
         ],
         "xaxis": "x",
         "yaxis": "y"
        },
        {
         "alignmentgroup": "True",
         "bingroup": "x",
         "hovertemplate": "Name=Ezreal<br>Ban %=%{x}<br>count=%{y}<extra></extra>",
         "legendgroup": "Ezreal",
         "marker": {
          "color": "#636efa",
          "pattern": {
           "shape": ""
          }
         },
         "name": "Ezreal",
         "offsetgroup": "Ezreal",
         "orientation": "v",
         "showlegend": true,
         "type": "histogram",
         "x": [
          0.0985
         ],
         "xaxis": "x",
         "yaxis": "y"
        },
        {
         "alignmentgroup": "True",
         "bingroup": "x",
         "hovertemplate": "Name=Fiddlesticks<br>Ban %=%{x}<br>count=%{y}<extra></extra>",
         "legendgroup": "Fiddlesticks",
         "marker": {
          "color": "#EF553B",
          "pattern": {
           "shape": ""
          }
         },
         "name": "Fiddlesticks",
         "offsetgroup": "Fiddlesticks",
         "orientation": "v",
         "showlegend": true,
         "type": "histogram",
         "x": [
          0.044,
          0.0411
         ],
         "xaxis": "x",
         "yaxis": "y"
        },
        {
         "alignmentgroup": "True",
         "bingroup": "x",
         "hovertemplate": "Name=Fiora<br>Ban %=%{x}<br>count=%{y}<extra></extra>",
         "legendgroup": "Fiora",
         "marker": {
          "color": "#00cc96",
          "pattern": {
           "shape": ""
          }
         },
         "name": "Fiora",
         "offsetgroup": "Fiora",
         "orientation": "v",
         "showlegend": true,
         "type": "histogram",
         "x": [
          0.1107
         ],
         "xaxis": "x",
         "yaxis": "y"
        },
        {
         "alignmentgroup": "True",
         "bingroup": "x",
         "hovertemplate": "Name=Fizz<br>Ban %=%{x}<br>count=%{y}<extra></extra>",
         "legendgroup": "Fizz",
         "marker": {
          "color": "#ab63fa",
          "pattern": {
           "shape": ""
          }
         },
         "name": "Fizz",
         "offsetgroup": "Fizz",
         "orientation": "v",
         "showlegend": true,
         "type": "histogram",
         "x": [
          0.0779
         ],
         "xaxis": "x",
         "yaxis": "y"
        },
        {
         "alignmentgroup": "True",
         "bingroup": "x",
         "hovertemplate": "Name=Galio<br>Ban %=%{x}<br>count=%{y}<extra></extra>",
         "legendgroup": "Galio",
         "marker": {
          "color": "#FFA15A",
          "pattern": {
           "shape": ""
          }
         },
         "name": "Galio",
         "offsetgroup": "Galio",
         "orientation": "v",
         "showlegend": true,
         "type": "histogram",
         "x": [
          0.0023,
          0.0023
         ],
         "xaxis": "x",
         "yaxis": "y"
        },
        {
         "alignmentgroup": "True",
         "bingroup": "x",
         "hovertemplate": "Name=Gangplank<br>Ban %=%{x}<br>count=%{y}<extra></extra>",
         "legendgroup": "Gangplank",
         "marker": {
          "color": "#19d3f3",
          "pattern": {
           "shape": ""
          }
         },
         "name": "Gangplank",
         "offsetgroup": "Gangplank",
         "orientation": "v",
         "showlegend": true,
         "type": "histogram",
         "x": [
          0.0452,
          0.0513
         ],
         "xaxis": "x",
         "yaxis": "y"
        },
        {
         "alignmentgroup": "True",
         "bingroup": "x",
         "hovertemplate": "Name=Garen<br>Ban %=%{x}<br>count=%{y}<extra></extra>",
         "legendgroup": "Garen",
         "marker": {
          "color": "#FF6692",
          "pattern": {
           "shape": ""
          }
         },
         "name": "Garen",
         "offsetgroup": "Garen",
         "orientation": "v",
         "showlegend": true,
         "type": "histogram",
         "x": [
          0.0883
         ],
         "xaxis": "x",
         "yaxis": "y"
        },
        {
         "alignmentgroup": "True",
         "bingroup": "x",
         "hovertemplate": "Name=Gnar<br>Ban %=%{x}<br>count=%{y}<extra></extra>",
         "legendgroup": "Gnar",
         "marker": {
          "color": "#B6E880",
          "pattern": {
           "shape": ""
          }
         },
         "name": "Gnar",
         "offsetgroup": "Gnar",
         "orientation": "v",
         "showlegend": true,
         "type": "histogram",
         "x": [
          0.0052
         ],
         "xaxis": "x",
         "yaxis": "y"
        },
        {
         "alignmentgroup": "True",
         "bingroup": "x",
         "hovertemplate": "Name=Gragas<br>Ban %=%{x}<br>count=%{y}<extra></extra>",
         "legendgroup": "Gragas",
         "marker": {
          "color": "#FF97FF",
          "pattern": {
           "shape": ""
          }
         },
         "name": "Gragas",
         "offsetgroup": "Gragas",
         "orientation": "v",
         "showlegend": true,
         "type": "histogram",
         "x": [
          0.0124,
          0.0121,
          0.0121
         ],
         "xaxis": "x",
         "yaxis": "y"
        },
        {
         "alignmentgroup": "True",
         "bingroup": "x",
         "hovertemplate": "Name=Graves<br>Ban %=%{x}<br>count=%{y}<extra></extra>",
         "legendgroup": "Graves",
         "marker": {
          "color": "#FECB52",
          "pattern": {
           "shape": ""
          }
         },
         "name": "Graves",
         "offsetgroup": "Graves",
         "orientation": "v",
         "showlegend": true,
         "type": "histogram",
         "x": [
          0.1332
         ],
         "xaxis": "x",
         "yaxis": "y"
        },
        {
         "alignmentgroup": "True",
         "bingroup": "x",
         "hovertemplate": "Name=Gwen<br>Ban %=%{x}<br>count=%{y}<extra></extra>",
         "legendgroup": "Gwen",
         "marker": {
          "color": "#636efa",
          "pattern": {
           "shape": ""
          }
         },
         "name": "Gwen",
         "offsetgroup": "Gwen",
         "orientation": "v",
         "showlegend": true,
         "type": "histogram",
         "x": [
          0.0224,
          0.0217
         ],
         "xaxis": "x",
         "yaxis": "y"
        },
        {
         "alignmentgroup": "True",
         "bingroup": "x",
         "hovertemplate": "Name=Hecarim<br>Ban %=%{x}<br>count=%{y}<extra></extra>",
         "legendgroup": "Hecarim",
         "marker": {
          "color": "#EF553B",
          "pattern": {
           "shape": ""
          }
         },
         "name": "Hecarim",
         "offsetgroup": "Hecarim",
         "orientation": "v",
         "showlegend": true,
         "type": "histogram",
         "x": [
          0.0529
         ],
         "xaxis": "x",
         "yaxis": "y"
        },
        {
         "alignmentgroup": "True",
         "bingroup": "x",
         "hovertemplate": "Name=Heimerdinger<br>Ban %=%{x}<br>count=%{y}<extra></extra>",
         "legendgroup": "Heimerdinger",
         "marker": {
          "color": "#00cc96",
          "pattern": {
           "shape": ""
          }
         },
         "name": "Heimerdinger",
         "offsetgroup": "Heimerdinger",
         "orientation": "v",
         "showlegend": true,
         "type": "histogram",
         "x": [
          0.0167,
          0.0154,
          0.0154
         ],
         "xaxis": "x",
         "yaxis": "y"
        },
        {
         "alignmentgroup": "True",
         "bingroup": "x",
         "hovertemplate": "Name=Illaoi<br>Ban %=%{x}<br>count=%{y}<extra></extra>",
         "legendgroup": "Illaoi",
         "marker": {
          "color": "#ab63fa",
          "pattern": {
           "shape": ""
          }
         },
         "name": "Illaoi",
         "offsetgroup": "Illaoi",
         "orientation": "v",
         "showlegend": true,
         "type": "histogram",
         "x": [
          0.128
         ],
         "xaxis": "x",
         "yaxis": "y"
        },
        {
         "alignmentgroup": "True",
         "bingroup": "x",
         "hovertemplate": "Name=Irelia<br>Ban %=%{x}<br>count=%{y}<extra></extra>",
         "legendgroup": "Irelia",
         "marker": {
          "color": "#FFA15A",
          "pattern": {
           "shape": ""
          }
         },
         "name": "Irelia",
         "offsetgroup": "Irelia",
         "orientation": "v",
         "showlegend": true,
         "type": "histogram",
         "x": [
          0.0988,
          0.0988
         ],
         "xaxis": "x",
         "yaxis": "y"
        },
        {
         "alignmentgroup": "True",
         "bingroup": "x",
         "hovertemplate": "Name=Ivern<br>Ban %=%{x}<br>count=%{y}<extra></extra>",
         "legendgroup": "Ivern",
         "marker": {
          "color": "#19d3f3",
          "pattern": {
           "shape": ""
          }
         },
         "name": "Ivern",
         "offsetgroup": "Ivern",
         "orientation": "v",
         "showlegend": true,
         "type": "histogram",
         "x": [
          0.0199
         ],
         "xaxis": "x",
         "yaxis": "y"
        },
        {
         "alignmentgroup": "True",
         "bingroup": "x",
         "hovertemplate": "Name=Janna<br>Ban %=%{x}<br>count=%{y}<extra></extra>",
         "legendgroup": "Janna",
         "marker": {
          "color": "#FF6692",
          "pattern": {
           "shape": ""
          }
         },
         "name": "Janna",
         "offsetgroup": "Janna",
         "orientation": "v",
         "showlegend": true,
         "type": "histogram",
         "x": [
          0.0081
         ],
         "xaxis": "x",
         "yaxis": "y"
        },
        {
         "alignmentgroup": "True",
         "bingroup": "x",
         "hovertemplate": "Name=Jarvan IV<br>Ban %=%{x}<br>count=%{y}<extra></extra>",
         "legendgroup": "Jarvan IV",
         "marker": {
          "color": "#B6E880",
          "pattern": {
           "shape": ""
          }
         },
         "name": "Jarvan IV",
         "offsetgroup": "Jarvan IV",
         "orientation": "v",
         "showlegend": true,
         "type": "histogram",
         "x": [
          0.0881
         ],
         "xaxis": "x",
         "yaxis": "y"
        },
        {
         "alignmentgroup": "True",
         "bingroup": "x",
         "hovertemplate": "Name=Jax<br>Ban %=%{x}<br>count=%{y}<extra></extra>",
         "legendgroup": "Jax",
         "marker": {
          "color": "#FF97FF",
          "pattern": {
           "shape": ""
          }
         },
         "name": "Jax",
         "offsetgroup": "Jax",
         "orientation": "v",
         "showlegend": true,
         "type": "histogram",
         "x": [
          0.155,
          0.1417
         ],
         "xaxis": "x",
         "yaxis": "y"
        },
        {
         "alignmentgroup": "True",
         "bingroup": "x",
         "hovertemplate": "Name=Jayce<br>Ban %=%{x}<br>count=%{y}<extra></extra>",
         "legendgroup": "Jayce",
         "marker": {
          "color": "#FECB52",
          "pattern": {
           "shape": ""
          }
         },
         "name": "Jayce",
         "offsetgroup": "Jayce",
         "orientation": "v",
         "showlegend": true,
         "type": "histogram",
         "x": [
          0.0491,
          0.0491
         ],
         "xaxis": "x",
         "yaxis": "y"
        },
        {
         "alignmentgroup": "True",
         "bingroup": "x",
         "hovertemplate": "Name=Jhin<br>Ban %=%{x}<br>count=%{y}<extra></extra>",
         "legendgroup": "Jhin",
         "marker": {
          "color": "#636efa",
          "pattern": {
           "shape": ""
          }
         },
         "name": "Jhin",
         "offsetgroup": "Jhin",
         "orientation": "v",
         "showlegend": true,
         "type": "histogram",
         "x": [
          0.0193
         ],
         "xaxis": "x",
         "yaxis": "y"
        },
        {
         "alignmentgroup": "True",
         "bingroup": "x",
         "hovertemplate": "Name=Jinx<br>Ban %=%{x}<br>count=%{y}<extra></extra>",
         "legendgroup": "Jinx",
         "marker": {
          "color": "#EF553B",
          "pattern": {
           "shape": ""
          }
         },
         "name": "Jinx",
         "offsetgroup": "Jinx",
         "orientation": "v",
         "showlegend": true,
         "type": "histogram",
         "x": [
          0.0877
         ],
         "xaxis": "x",
         "yaxis": "y"
        },
        {
         "alignmentgroup": "True",
         "bingroup": "x",
         "hovertemplate": "Name=K'Sante<br>Ban %=%{x}<br>count=%{y}<extra></extra>",
         "legendgroup": "K'Sante",
         "marker": {
          "color": "#00cc96",
          "pattern": {
           "shape": ""
          }
         },
         "name": "K'Sante",
         "offsetgroup": "K'Sante",
         "orientation": "v",
         "showlegend": true,
         "type": "histogram",
         "x": [
          0.0614
         ],
         "xaxis": "x",
         "yaxis": "y"
        },
        {
         "alignmentgroup": "True",
         "bingroup": "x",
         "hovertemplate": "Name=Kai'Sa<br>Ban %=%{x}<br>count=%{y}<extra></extra>",
         "legendgroup": "Kai'Sa",
         "marker": {
          "color": "#ab63fa",
          "pattern": {
           "shape": ""
          }
         },
         "name": "Kai'Sa",
         "offsetgroup": "Kai'Sa",
         "orientation": "v",
         "showlegend": true,
         "type": "histogram",
         "x": [
          0.1011
         ],
         "xaxis": "x",
         "yaxis": "y"
        },
        {
         "alignmentgroup": "True",
         "bingroup": "x",
         "hovertemplate": "Name=Kalista<br>Ban %=%{x}<br>count=%{y}<extra></extra>",
         "legendgroup": "Kalista",
         "marker": {
          "color": "#FFA15A",
          "pattern": {
           "shape": ""
          }
         },
         "name": "Kalista",
         "offsetgroup": "Kalista",
         "orientation": "v",
         "showlegend": true,
         "type": "histogram",
         "x": [
          0.0313
         ],
         "xaxis": "x",
         "yaxis": "y"
        },
        {
         "alignmentgroup": "True",
         "bingroup": "x",
         "hovertemplate": "Name=Karma<br>Ban %=%{x}<br>count=%{y}<extra></extra>",
         "legendgroup": "Karma",
         "marker": {
          "color": "#19d3f3",
          "pattern": {
           "shape": ""
          }
         },
         "name": "Karma",
         "offsetgroup": "Karma",
         "orientation": "v",
         "showlegend": true,
         "type": "histogram",
         "x": [
          0.0169
         ],
         "xaxis": "x",
         "yaxis": "y"
        },
        {
         "alignmentgroup": "True",
         "bingroup": "x",
         "hovertemplate": "Name=Karthus<br>Ban %=%{x}<br>count=%{y}<extra></extra>",
         "legendgroup": "Karthus",
         "marker": {
          "color": "#FF6692",
          "pattern": {
           "shape": ""
          }
         },
         "name": "Karthus",
         "offsetgroup": "Karthus",
         "orientation": "v",
         "showlegend": true,
         "type": "histogram",
         "x": [
          0.0571,
          0.0468
         ],
         "xaxis": "x",
         "yaxis": "y"
        },
        {
         "alignmentgroup": "True",
         "bingroup": "x",
         "hovertemplate": "Name=Kassadin<br>Ban %=%{x}<br>count=%{y}<extra></extra>",
         "legendgroup": "Kassadin",
         "marker": {
          "color": "#B6E880",
          "pattern": {
           "shape": ""
          }
         },
         "name": "Kassadin",
         "offsetgroup": "Kassadin",
         "orientation": "v",
         "showlegend": true,
         "type": "histogram",
         "x": [
          0.0618
         ],
         "xaxis": "x",
         "yaxis": "y"
        },
        {
         "alignmentgroup": "True",
         "bingroup": "x",
         "hovertemplate": "Name=Katarina<br>Ban %=%{x}<br>count=%{y}<extra></extra>",
         "legendgroup": "Katarina",
         "marker": {
          "color": "#FF97FF",
          "pattern": {
           "shape": ""
          }
         },
         "name": "Katarina",
         "offsetgroup": "Katarina",
         "orientation": "v",
         "showlegend": true,
         "type": "histogram",
         "x": [
          0.0688
         ],
         "xaxis": "x",
         "yaxis": "y"
        },
        {
         "alignmentgroup": "True",
         "bingroup": "x",
         "hovertemplate": "Name=Kayle<br>Ban %=%{x}<br>count=%{y}<extra></extra>",
         "legendgroup": "Kayle",
         "marker": {
          "color": "#FECB52",
          "pattern": {
           "shape": ""
          }
         },
         "name": "Kayle",
         "offsetgroup": "Kayle",
         "orientation": "v",
         "showlegend": true,
         "type": "histogram",
         "x": [
          0.0146
         ],
         "xaxis": "x",
         "yaxis": "y"
        },
        {
         "alignmentgroup": "True",
         "bingroup": "x",
         "hovertemplate": "Name=Kayn<br>Ban %=%{x}<br>count=%{y}<extra></extra>",
         "legendgroup": "Kayn",
         "marker": {
          "color": "#636efa",
          "pattern": {
           "shape": ""
          }
         },
         "name": "Kayn",
         "offsetgroup": "Kayn",
         "orientation": "v",
         "showlegend": true,
         "type": "histogram",
         "x": [
          0.0794
         ],
         "xaxis": "x",
         "yaxis": "y"
        },
        {
         "alignmentgroup": "True",
         "bingroup": "x",
         "hovertemplate": "Name=Kennen<br>Ban %=%{x}<br>count=%{y}<extra></extra>",
         "legendgroup": "Kennen",
         "marker": {
          "color": "#EF553B",
          "pattern": {
           "shape": ""
          }
         },
         "name": "Kennen",
         "offsetgroup": "Kennen",
         "orientation": "v",
         "showlegend": true,
         "type": "histogram",
         "x": [
          0.0124,
          0.0147
         ],
         "xaxis": "x",
         "yaxis": "y"
        },
        {
         "alignmentgroup": "True",
         "bingroup": "x",
         "hovertemplate": "Name=Kha'Zix<br>Ban %=%{x}<br>count=%{y}<extra></extra>",
         "legendgroup": "Kha'Zix",
         "marker": {
          "color": "#00cc96",
          "pattern": {
           "shape": ""
          }
         },
         "name": "Kha'Zix",
         "offsetgroup": "Kha'Zix",
         "orientation": "v",
         "showlegend": true,
         "type": "histogram",
         "x": [
          0.0716
         ],
         "xaxis": "x",
         "yaxis": "y"
        },
        {
         "alignmentgroup": "True",
         "bingroup": "x",
         "hovertemplate": "Name=Kindred<br>Ban %=%{x}<br>count=%{y}<extra></extra>",
         "legendgroup": "Kindred",
         "marker": {
          "color": "#ab63fa",
          "pattern": {
           "shape": ""
          }
         },
         "name": "Kindred",
         "offsetgroup": "Kindred",
         "orientation": "v",
         "showlegend": true,
         "type": "histogram",
         "x": [
          0.021
         ],
         "xaxis": "x",
         "yaxis": "y"
        },
        {
         "alignmentgroup": "True",
         "bingroup": "x",
         "hovertemplate": "Name=Kled<br>Ban %=%{x}<br>count=%{y}<extra></extra>",
         "legendgroup": "Kled",
         "marker": {
          "color": "#FFA15A",
          "pattern": {
           "shape": ""
          }
         },
         "name": "Kled",
         "offsetgroup": "Kled",
         "orientation": "v",
         "showlegend": true,
         "type": "histogram",
         "x": [
          0.0101
         ],
         "xaxis": "x",
         "yaxis": "y"
        },
        {
         "alignmentgroup": "True",
         "bingroup": "x",
         "hovertemplate": "Name=Kog'Maw<br>Ban %=%{x}<br>count=%{y}<extra></extra>",
         "legendgroup": "Kog'Maw",
         "marker": {
          "color": "#19d3f3",
          "pattern": {
           "shape": ""
          }
         },
         "name": "Kog'Maw",
         "offsetgroup": "Kog'Maw",
         "orientation": "v",
         "showlegend": true,
         "type": "histogram",
         "x": [
          0.0038
         ],
         "xaxis": "x",
         "yaxis": "y"
        },
        {
         "alignmentgroup": "True",
         "bingroup": "x",
         "hovertemplate": "Name=LeBlanc<br>Ban %=%{x}<br>count=%{y}<extra></extra>",
         "legendgroup": "LeBlanc",
         "marker": {
          "color": "#FF6692",
          "pattern": {
           "shape": ""
          }
         },
         "name": "LeBlanc",
         "offsetgroup": "LeBlanc",
         "orientation": "v",
         "showlegend": true,
         "type": "histogram",
         "x": [
          0.1062
         ],
         "xaxis": "x",
         "yaxis": "y"
        },
        {
         "alignmentgroup": "True",
         "bingroup": "x",
         "hovertemplate": "Name=Lee Sin<br>Ban %=%{x}<br>count=%{y}<extra></extra>",
         "legendgroup": "Lee Sin",
         "marker": {
          "color": "#B6E880",
          "pattern": {
           "shape": ""
          }
         },
         "name": "Lee Sin",
         "offsetgroup": "Lee Sin",
         "orientation": "v",
         "showlegend": true,
         "type": "histogram",
         "x": [
          0.1031
         ],
         "xaxis": "x",
         "yaxis": "y"
        },
        {
         "alignmentgroup": "True",
         "bingroup": "x",
         "hovertemplate": "Name=Leona<br>Ban %=%{x}<br>count=%{y}<extra></extra>",
         "legendgroup": "Leona",
         "marker": {
          "color": "#FF97FF",
          "pattern": {
           "shape": ""
          }
         },
         "name": "Leona",
         "offsetgroup": "Leona",
         "orientation": "v",
         "showlegend": true,
         "type": "histogram",
         "x": [
          0.0354
         ],
         "xaxis": "x",
         "yaxis": "y"
        },
        {
         "alignmentgroup": "True",
         "bingroup": "x",
         "hovertemplate": "Name=Lillia<br>Ban %=%{x}<br>count=%{y}<extra></extra>",
         "legendgroup": "Lillia",
         "marker": {
          "color": "#FECB52",
          "pattern": {
           "shape": ""
          }
         },
         "name": "Lillia",
         "offsetgroup": "Lillia",
         "orientation": "v",
         "showlegend": true,
         "type": "histogram",
         "x": [
          0.032
         ],
         "xaxis": "x",
         "yaxis": "y"
        },
        {
         "alignmentgroup": "True",
         "bingroup": "x",
         "hovertemplate": "Name=Lissandra<br>Ban %=%{x}<br>count=%{y}<extra></extra>",
         "legendgroup": "Lissandra",
         "marker": {
          "color": "#636efa",
          "pattern": {
           "shape": ""
          }
         },
         "name": "Lissandra",
         "offsetgroup": "Lissandra",
         "orientation": "v",
         "showlegend": true,
         "type": "histogram",
         "x": [
          0.0225,
          0.0239
         ],
         "xaxis": "x",
         "yaxis": "y"
        },
        {
         "alignmentgroup": "True",
         "bingroup": "x",
         "hovertemplate": "Name=Lucian<br>Ban %=%{x}<br>count=%{y}<extra></extra>",
         "legendgroup": "Lucian",
         "marker": {
          "color": "#EF553B",
          "pattern": {
           "shape": ""
          }
         },
         "name": "Lucian",
         "offsetgroup": "Lucian",
         "orientation": "v",
         "showlegend": true,
         "type": "histogram",
         "x": [
          0.0075
         ],
         "xaxis": "x",
         "yaxis": "y"
        },
        {
         "alignmentgroup": "True",
         "bingroup": "x",
         "hovertemplate": "Name=Lulu<br>Ban %=%{x}<br>count=%{y}<extra></extra>",
         "legendgroup": "Lulu",
         "marker": {
          "color": "#00cc96",
          "pattern": {
           "shape": ""
          }
         },
         "name": "Lulu",
         "offsetgroup": "Lulu",
         "orientation": "v",
         "showlegend": true,
         "type": "histogram",
         "x": [
          0.0429
         ],
         "xaxis": "x",
         "yaxis": "y"
        },
        {
         "alignmentgroup": "True",
         "bingroup": "x",
         "hovertemplate": "Name=Lux<br>Ban %=%{x}<br>count=%{y}<extra></extra>",
         "legendgroup": "Lux",
         "marker": {
          "color": "#ab63fa",
          "pattern": {
           "shape": ""
          }
         },
         "name": "Lux",
         "offsetgroup": "Lux",
         "orientation": "v",
         "showlegend": true,
         "type": "histogram",
         "x": [
          0.1057,
          0.124
         ],
         "xaxis": "x",
         "yaxis": "y"
        },
        {
         "alignmentgroup": "True",
         "bingroup": "x",
         "hovertemplate": "Name=Malphite<br>Ban %=%{x}<br>count=%{y}<extra></extra>",
         "legendgroup": "Malphite",
         "marker": {
          "color": "#FFA15A",
          "pattern": {
           "shape": ""
          }
         },
         "name": "Malphite",
         "offsetgroup": "Malphite",
         "orientation": "v",
         "showlegend": true,
         "type": "histogram",
         "x": [
          0.1195,
          0.1239,
          0.1239
         ],
         "xaxis": "x",
         "yaxis": "y"
        },
        {
         "alignmentgroup": "True",
         "bingroup": "x",
         "hovertemplate": "Name=Malzahar<br>Ban %=%{x}<br>count=%{y}<extra></extra>",
         "legendgroup": "Malzahar",
         "marker": {
          "color": "#19d3f3",
          "pattern": {
           "shape": ""
          }
         },
         "name": "Malzahar",
         "offsetgroup": "Malzahar",
         "orientation": "v",
         "showlegend": true,
         "type": "histogram",
         "x": [
          0.0518
         ],
         "xaxis": "x",
         "yaxis": "y"
        },
        {
         "alignmentgroup": "True",
         "bingroup": "x",
         "hovertemplate": "Name=Maokai<br>Ban %=%{x}<br>count=%{y}<extra></extra>",
         "legendgroup": "Maokai",
         "marker": {
          "color": "#FF6692",
          "pattern": {
           "shape": ""
          }
         },
         "name": "Maokai",
         "offsetgroup": "Maokai",
         "orientation": "v",
         "showlegend": true,
         "type": "histogram",
         "x": [
          0.0164,
          0.017
         ],
         "xaxis": "x",
         "yaxis": "y"
        },
        {
         "alignmentgroup": "True",
         "bingroup": "x",
         "hovertemplate": "Name=Master Yi<br>Ban %=%{x}<br>count=%{y}<extra></extra>",
         "legendgroup": "Master Yi",
         "marker": {
          "color": "#B6E880",
          "pattern": {
           "shape": ""
          }
         },
         "name": "Master Yi",
         "offsetgroup": "Master Yi",
         "orientation": "v",
         "showlegend": true,
         "type": "histogram",
         "x": [
          0.1115
         ],
         "xaxis": "x",
         "yaxis": "y"
        },
        {
         "alignmentgroup": "True",
         "bingroup": "x",
         "hovertemplate": "Name=Milio<br>Ban %=%{x}<br>count=%{y}<extra></extra>",
         "legendgroup": "Milio",
         "marker": {
          "color": "#FF97FF",
          "pattern": {
           "shape": ""
          }
         },
         "name": "Milio",
         "offsetgroup": "Milio",
         "orientation": "v",
         "showlegend": true,
         "type": "histogram",
         "x": [
          0.0184
         ],
         "xaxis": "x",
         "yaxis": "y"
        },
        {
         "alignmentgroup": "True",
         "bingroup": "x",
         "hovertemplate": "Name=Miss Fortune<br>Ban %=%{x}<br>count=%{y}<extra></extra>",
         "legendgroup": "Miss Fortune",
         "marker": {
          "color": "#FECB52",
          "pattern": {
           "shape": ""
          }
         },
         "name": "Miss Fortune",
         "offsetgroup": "Miss Fortune",
         "orientation": "v",
         "showlegend": true,
         "type": "histogram",
         "x": [
          0.0229,
          0.0227
         ],
         "xaxis": "x",
         "yaxis": "y"
        },
        {
         "alignmentgroup": "True",
         "bingroup": "x",
         "hovertemplate": "Name=Mordekaiser<br>Ban %=%{x}<br>count=%{y}<extra></extra>",
         "legendgroup": "Mordekaiser",
         "marker": {
          "color": "#636efa",
          "pattern": {
           "shape": ""
          }
         },
         "name": "Mordekaiser",
         "offsetgroup": "Mordekaiser",
         "orientation": "v",
         "showlegend": true,
         "type": "histogram",
         "x": [
          0.07
         ],
         "xaxis": "x",
         "yaxis": "y"
        },
        {
         "alignmentgroup": "True",
         "bingroup": "x",
         "hovertemplate": "Name=Morgana<br>Ban %=%{x}<br>count=%{y}<extra></extra>",
         "legendgroup": "Morgana",
         "marker": {
          "color": "#EF553B",
          "pattern": {
           "shape": ""
          }
         },
         "name": "Morgana",
         "offsetgroup": "Morgana",
         "orientation": "v",
         "showlegend": true,
         "type": "histogram",
         "x": [
          0.2485,
          0.2355
         ],
         "xaxis": "x",
         "yaxis": "y"
        },
        {
         "alignmentgroup": "True",
         "bingroup": "x",
         "hovertemplate": "Name=Naafiri<br>Ban %=%{x}<br>count=%{y}<extra></extra>",
         "legendgroup": "Naafiri",
         "marker": {
          "color": "#00cc96",
          "pattern": {
           "shape": ""
          }
         },
         "name": "Naafiri",
         "offsetgroup": "Naafiri",
         "orientation": "v",
         "showlegend": true,
         "type": "histogram",
         "x": [
          0.0738,
          0.0766,
          0.0797
         ],
         "xaxis": "x",
         "yaxis": "y"
        },
        {
         "alignmentgroup": "True",
         "bingroup": "x",
         "hovertemplate": "Name=Nami<br>Ban %=%{x}<br>count=%{y}<extra></extra>",
         "legendgroup": "Nami",
         "marker": {
          "color": "#ab63fa",
          "pattern": {
           "shape": ""
          }
         },
         "name": "Nami",
         "offsetgroup": "Nami",
         "orientation": "v",
         "showlegend": true,
         "type": "histogram",
         "x": [
          0.0035
         ],
         "xaxis": "x",
         "yaxis": "y"
        },
        {
         "alignmentgroup": "True",
         "bingroup": "x",
         "hovertemplate": "Name=Nasus<br>Ban %=%{x}<br>count=%{y}<extra></extra>",
         "legendgroup": "Nasus",
         "marker": {
          "color": "#FFA15A",
          "pattern": {
           "shape": ""
          }
         },
         "name": "Nasus",
         "offsetgroup": "Nasus",
         "orientation": "v",
         "showlegend": true,
         "type": "histogram",
         "x": [
          0.0539
         ],
         "xaxis": "x",
         "yaxis": "y"
        },
        {
         "alignmentgroup": "True",
         "bingroup": "x",
         "hovertemplate": "Name=Nautilus<br>Ban %=%{x}<br>count=%{y}<extra></extra>",
         "legendgroup": "Nautilus",
         "marker": {
          "color": "#19d3f3",
          "pattern": {
           "shape": ""
          }
         },
         "name": "Nautilus",
         "offsetgroup": "Nautilus",
         "orientation": "v",
         "showlegend": true,
         "type": "histogram",
         "x": [
          0.1648
         ],
         "xaxis": "x",
         "yaxis": "y"
        },
        {
         "alignmentgroup": "True",
         "bingroup": "x",
         "hovertemplate": "Name=Neeko<br>Ban %=%{x}<br>count=%{y}<extra></extra>",
         "legendgroup": "Neeko",
         "marker": {
          "color": "#FF6692",
          "pattern": {
           "shape": ""
          }
         },
         "name": "Neeko",
         "offsetgroup": "Neeko",
         "orientation": "v",
         "showlegend": true,
         "type": "histogram",
         "x": [
          0.0505,
          0.0505
         ],
         "xaxis": "x",
         "yaxis": "y"
        },
        {
         "alignmentgroup": "True",
         "bingroup": "x",
         "hovertemplate": "Name=Nidalee<br>Ban %=%{x}<br>count=%{y}<extra></extra>",
         "legendgroup": "Nidalee",
         "marker": {
          "color": "#B6E880",
          "pattern": {
           "shape": ""
          }
         },
         "name": "Nidalee",
         "offsetgroup": "Nidalee",
         "orientation": "v",
         "showlegend": true,
         "type": "histogram",
         "x": [
          0.085
         ],
         "xaxis": "x",
         "yaxis": "y"
        },
        {
         "alignmentgroup": "True",
         "bingroup": "x",
         "hovertemplate": "Name=Nilah<br>Ban %=%{x}<br>count=%{y}<extra></extra>",
         "legendgroup": "Nilah",
         "marker": {
          "color": "#FF97FF",
          "pattern": {
           "shape": ""
          }
         },
         "name": "Nilah",
         "offsetgroup": "Nilah",
         "orientation": "v",
         "showlegend": true,
         "type": "histogram",
         "x": [
          0.059
         ],
         "xaxis": "x",
         "yaxis": "y"
        },
        {
         "alignmentgroup": "True",
         "bingroup": "x",
         "hovertemplate": "Name=Nocturne<br>Ban %=%{x}<br>count=%{y}<extra></extra>",
         "legendgroup": "Nocturne",
         "marker": {
          "color": "#FECB52",
          "pattern": {
           "shape": ""
          }
         },
         "name": "Nocturne",
         "offsetgroup": "Nocturne",
         "orientation": "v",
         "showlegend": true,
         "type": "histogram",
         "x": [
          0.0749
         ],
         "xaxis": "x",
         "yaxis": "y"
        },
        {
         "alignmentgroup": "True",
         "bingroup": "x",
         "hovertemplate": "Name=Nunu<br>Ban %=%{x}<br>count=%{y}<extra></extra>",
         "legendgroup": "Nunu",
         "marker": {
          "color": "#636efa",
          "pattern": {
           "shape": ""
          }
         },
         "name": "Nunu",
         "offsetgroup": "Nunu",
         "orientation": "v",
         "showlegend": true,
         "type": "histogram",
         "x": [
          0.0074
         ],
         "xaxis": "x",
         "yaxis": "y"
        },
        {
         "alignmentgroup": "True",
         "bingroup": "x",
         "hovertemplate": "Name=Olaf<br>Ban %=%{x}<br>count=%{y}<extra></extra>",
         "legendgroup": "Olaf",
         "marker": {
          "color": "#EF553B",
          "pattern": {
           "shape": ""
          }
         },
         "name": "Olaf",
         "offsetgroup": "Olaf",
         "orientation": "v",
         "showlegend": true,
         "type": "histogram",
         "x": [
          0.0262,
          0.0245
         ],
         "xaxis": "x",
         "yaxis": "y"
        },
        {
         "alignmentgroup": "True",
         "bingroup": "x",
         "hovertemplate": "Name=Orianna<br>Ban %=%{x}<br>count=%{y}<extra></extra>",
         "legendgroup": "Orianna",
         "marker": {
          "color": "#00cc96",
          "pattern": {
           "shape": ""
          }
         },
         "name": "Orianna",
         "offsetgroup": "Orianna",
         "orientation": "v",
         "showlegend": true,
         "type": "histogram",
         "x": [
          0.0908
         ],
         "xaxis": "x",
         "yaxis": "y"
        },
        {
         "alignmentgroup": "True",
         "bingroup": "x",
         "hovertemplate": "Name=Ornn<br>Ban %=%{x}<br>count=%{y}<extra></extra>",
         "legendgroup": "Ornn",
         "marker": {
          "color": "#ab63fa",
          "pattern": {
           "shape": ""
          }
         },
         "name": "Ornn",
         "offsetgroup": "Ornn",
         "orientation": "v",
         "showlegend": true,
         "type": "histogram",
         "x": [
          0.008
         ],
         "xaxis": "x",
         "yaxis": "y"
        },
        {
         "alignmentgroup": "True",
         "bingroup": "x",
         "hovertemplate": "Name=Pantheon<br>Ban %=%{x}<br>count=%{y}<extra></extra>",
         "legendgroup": "Pantheon",
         "marker": {
          "color": "#FFA15A",
          "pattern": {
           "shape": ""
          }
         },
         "name": "Pantheon",
         "offsetgroup": "Pantheon",
         "orientation": "v",
         "showlegend": true,
         "type": "histogram",
         "x": [
          0.0439,
          0.0459,
          0.0459
         ],
         "xaxis": "x",
         "yaxis": "y"
        },
        {
         "alignmentgroup": "True",
         "bingroup": "x",
         "hovertemplate": "Name=Poppy<br>Ban %=%{x}<br>count=%{y}<extra></extra>",
         "legendgroup": "Poppy",
         "marker": {
          "color": "#19d3f3",
          "pattern": {
           "shape": ""
          }
         },
         "name": "Poppy",
         "offsetgroup": "Poppy",
         "orientation": "v",
         "showlegend": true,
         "type": "histogram",
         "x": [
          0.0297,
          0.0333
         ],
         "xaxis": "x",
         "yaxis": "y"
        },
        {
         "alignmentgroup": "True",
         "bingroup": "x",
         "hovertemplate": "Name=Pyke<br>Ban %=%{x}<br>count=%{y}<extra></extra>",
         "legendgroup": "Pyke",
         "marker": {
          "color": "#FF6692",
          "pattern": {
           "shape": ""
          }
         },
         "name": "Pyke",
         "offsetgroup": "Pyke",
         "orientation": "v",
         "showlegend": true,
         "type": "histogram",
         "x": [
          0.1263
         ],
         "xaxis": "x",
         "yaxis": "y"
        },
        {
         "alignmentgroup": "True",
         "bingroup": "x",
         "hovertemplate": "Name=Qiyana<br>Ban %=%{x}<br>count=%{y}<extra></extra>",
         "legendgroup": "Qiyana",
         "marker": {
          "color": "#B6E880",
          "pattern": {
           "shape": ""
          }
         },
         "name": "Qiyana",
         "offsetgroup": "Qiyana",
         "orientation": "v",
         "showlegend": true,
         "type": "histogram",
         "x": [
          0.007
         ],
         "xaxis": "x",
         "yaxis": "y"
        },
        {
         "alignmentgroup": "True",
         "bingroup": "x",
         "hovertemplate": "Name=Quinn<br>Ban %=%{x}<br>count=%{y}<extra></extra>",
         "legendgroup": "Quinn",
         "marker": {
          "color": "#FF97FF",
          "pattern": {
           "shape": ""
          }
         },
         "name": "Quinn",
         "offsetgroup": "Quinn",
         "orientation": "v",
         "showlegend": true,
         "type": "histogram",
         "x": [
          0.0138,
          0.0145
         ],
         "xaxis": "x",
         "yaxis": "y"
        },
        {
         "alignmentgroup": "True",
         "bingroup": "x",
         "hovertemplate": "Name=Rakan<br>Ban %=%{x}<br>count=%{y}<extra></extra>",
         "legendgroup": "Rakan",
         "marker": {
          "color": "#FECB52",
          "pattern": {
           "shape": ""
          }
         },
         "name": "Rakan",
         "offsetgroup": "Rakan",
         "orientation": "v",
         "showlegend": true,
         "type": "histogram",
         "x": [
          0.0521
         ],
         "xaxis": "x",
         "yaxis": "y"
        },
        {
         "alignmentgroup": "True",
         "bingroup": "x",
         "hovertemplate": "Name=Rammus<br>Ban %=%{x}<br>count=%{y}<extra></extra>",
         "legendgroup": "Rammus",
         "marker": {
          "color": "#636efa",
          "pattern": {
           "shape": ""
          }
         },
         "name": "Rammus",
         "offsetgroup": "Rammus",
         "orientation": "v",
         "showlegend": true,
         "type": "histogram",
         "x": [
          0.146
         ],
         "xaxis": "x",
         "yaxis": "y"
        },
        {
         "alignmentgroup": "True",
         "bingroup": "x",
         "hovertemplate": "Name=Rek'Sai<br>Ban %=%{x}<br>count=%{y}<extra></extra>",
         "legendgroup": "Rek'Sai",
         "marker": {
          "color": "#EF553B",
          "pattern": {
           "shape": ""
          }
         },
         "name": "Rek'Sai",
         "offsetgroup": "Rek'Sai",
         "orientation": "v",
         "showlegend": true,
         "type": "histogram",
         "x": [
          0.0149
         ],
         "xaxis": "x",
         "yaxis": "y"
        },
        {
         "alignmentgroup": "True",
         "bingroup": "x",
         "hovertemplate": "Name=Rell<br>Ban %=%{x}<br>count=%{y}<extra></extra>",
         "legendgroup": "Rell",
         "marker": {
          "color": "#00cc96",
          "pattern": {
           "shape": ""
          }
         },
         "name": "Rell",
         "offsetgroup": "Rell",
         "orientation": "v",
         "showlegend": true,
         "type": "histogram",
         "x": [
          0.0534,
          0.0428
         ],
         "xaxis": "x",
         "yaxis": "y"
        },
        {
         "alignmentgroup": "True",
         "bingroup": "x",
         "hovertemplate": "Name=Renata Glasc<br>Ban %=%{x}<br>count=%{y}<extra></extra>",
         "legendgroup": "Renata Glasc",
         "marker": {
          "color": "#ab63fa",
          "pattern": {
           "shape": ""
          }
         },
         "name": "Renata Glasc",
         "offsetgroup": "Renata Glasc",
         "orientation": "v",
         "showlegend": true,
         "type": "histogram",
         "x": [
          0.0066
         ],
         "xaxis": "x",
         "yaxis": "y"
        },
        {
         "alignmentgroup": "True",
         "bingroup": "x",
         "hovertemplate": "Name=Renekton<br>Ban %=%{x}<br>count=%{y}<extra></extra>",
         "legendgroup": "Renekton",
         "marker": {
          "color": "#FFA15A",
          "pattern": {
           "shape": ""
          }
         },
         "name": "Renekton",
         "offsetgroup": "Renekton",
         "orientation": "v",
         "showlegend": true,
         "type": "histogram",
         "x": [
          0.0714
         ],
         "xaxis": "x",
         "yaxis": "y"
        },
        {
         "alignmentgroup": "True",
         "bingroup": "x",
         "hovertemplate": "Name=Rengar<br>Ban %=%{x}<br>count=%{y}<extra></extra>",
         "legendgroup": "Rengar",
         "marker": {
          "color": "#19d3f3",
          "pattern": {
           "shape": ""
          }
         },
         "name": "Rengar",
         "offsetgroup": "Rengar",
         "orientation": "v",
         "showlegend": true,
         "type": "histogram",
         "x": [
          0.0574,
          0.0481
         ],
         "xaxis": "x",
         "yaxis": "y"
        },
        {
         "alignmentgroup": "True",
         "bingroup": "x",
         "hovertemplate": "Name=Riven<br>Ban %=%{x}<br>count=%{y}<extra></extra>",
         "legendgroup": "Riven",
         "marker": {
          "color": "#FF6692",
          "pattern": {
           "shape": ""
          }
         },
         "name": "Riven",
         "offsetgroup": "Riven",
         "orientation": "v",
         "showlegend": true,
         "type": "histogram",
         "x": [
          0.0104
         ],
         "xaxis": "x",
         "yaxis": "y"
        },
        {
         "alignmentgroup": "True",
         "bingroup": "x",
         "hovertemplate": "Name=Rumble<br>Ban %=%{x}<br>count=%{y}<extra></extra>",
         "legendgroup": "Rumble",
         "marker": {
          "color": "#B6E880",
          "pattern": {
           "shape": ""
          }
         },
         "name": "Rumble",
         "offsetgroup": "Rumble",
         "orientation": "v",
         "showlegend": true,
         "type": "histogram",
         "x": [
          0.0378,
          0.0253
         ],
         "xaxis": "x",
         "yaxis": "y"
        },
        {
         "alignmentgroup": "True",
         "bingroup": "x",
         "hovertemplate": "Name=Ryze<br>Ban %=%{x}<br>count=%{y}<extra></extra>",
         "legendgroup": "Ryze",
         "marker": {
          "color": "#FF97FF",
          "pattern": {
           "shape": ""
          }
         },
         "name": "Ryze",
         "offsetgroup": "Ryze",
         "orientation": "v",
         "showlegend": true,
         "type": "histogram",
         "x": [
          0.0016,
          0.0017
         ],
         "xaxis": "x",
         "yaxis": "y"
        },
        {
         "alignmentgroup": "True",
         "bingroup": "x",
         "hovertemplate": "Name=Samira<br>Ban %=%{x}<br>count=%{y}<extra></extra>",
         "legendgroup": "Samira",
         "marker": {
          "color": "#FECB52",
          "pattern": {
           "shape": ""
          }
         },
         "name": "Samira",
         "offsetgroup": "Samira",
         "orientation": "v",
         "showlegend": true,
         "type": "histogram",
         "x": [
          0.1853
         ],
         "xaxis": "x",
         "yaxis": "y"
        },
        {
         "alignmentgroup": "True",
         "bingroup": "x",
         "hovertemplate": "Name=Sejuani<br>Ban %=%{x}<br>count=%{y}<extra></extra>",
         "legendgroup": "Sejuani",
         "marker": {
          "color": "#636efa",
          "pattern": {
           "shape": ""
          }
         },
         "name": "Sejuani",
         "offsetgroup": "Sejuani",
         "orientation": "v",
         "showlegend": true,
         "type": "histogram",
         "x": [
          0.0049
         ],
         "xaxis": "x",
         "yaxis": "y"
        },
        {
         "alignmentgroup": "True",
         "bingroup": "x",
         "hovertemplate": "Name=Senna<br>Ban %=%{x}<br>count=%{y}<extra></extra>",
         "legendgroup": "Senna",
         "marker": {
          "color": "#EF553B",
          "pattern": {
           "shape": ""
          }
         },
         "name": "Senna",
         "offsetgroup": "Senna",
         "orientation": "v",
         "showlegend": true,
         "type": "histogram",
         "x": [
          0.0834
         ],
         "xaxis": "x",
         "yaxis": "y"
        },
        {
         "alignmentgroup": "True",
         "bingroup": "x",
         "hovertemplate": "Name=Seraphine<br>Ban %=%{x}<br>count=%{y}<extra></extra>",
         "legendgroup": "Seraphine",
         "marker": {
          "color": "#00cc96",
          "pattern": {
           "shape": ""
          }
         },
         "name": "Seraphine",
         "offsetgroup": "Seraphine",
         "orientation": "v",
         "showlegend": true,
         "type": "histogram",
         "x": [
          0.0092,
          0.01
         ],
         "xaxis": "x",
         "yaxis": "y"
        },
        {
         "alignmentgroup": "True",
         "bingroup": "x",
         "hovertemplate": "Name=Sett<br>Ban %=%{x}<br>count=%{y}<extra></extra>",
         "legendgroup": "Sett",
         "marker": {
          "color": "#ab63fa",
          "pattern": {
           "shape": ""
          }
         },
         "name": "Sett",
         "offsetgroup": "Sett",
         "orientation": "v",
         "showlegend": true,
         "type": "histogram",
         "x": [
          0.0224
         ],
         "xaxis": "x",
         "yaxis": "y"
        },
        {
         "alignmentgroup": "True",
         "bingroup": "x",
         "hovertemplate": "Name=Shaco<br>Ban %=%{x}<br>count=%{y}<extra></extra>",
         "legendgroup": "Shaco",
         "marker": {
          "color": "#FFA15A",
          "pattern": {
           "shape": ""
          }
         },
         "name": "Shaco",
         "offsetgroup": "Shaco",
         "orientation": "v",
         "showlegend": true,
         "type": "histogram",
         "x": [
          0.1911,
          0.2042
         ],
         "xaxis": "x",
         "yaxis": "y"
        },
        {
         "alignmentgroup": "True",
         "bingroup": "x",
         "hovertemplate": "Name=Shen<br>Ban %=%{x}<br>count=%{y}<extra></extra>",
         "legendgroup": "Shen",
         "marker": {
          "color": "#19d3f3",
          "pattern": {
           "shape": ""
          }
         },
         "name": "Shen",
         "offsetgroup": "Shen",
         "orientation": "v",
         "showlegend": true,
         "type": "histogram",
         "x": [
          0.0029,
          0.003
         ],
         "xaxis": "x",
         "yaxis": "y"
        },
        {
         "alignmentgroup": "True",
         "bingroup": "x",
         "hovertemplate": "Name=Shyvana<br>Ban %=%{x}<br>count=%{y}<extra></extra>",
         "legendgroup": "Shyvana",
         "marker": {
          "color": "#FF6692",
          "pattern": {
           "shape": ""
          }
         },
         "name": "Shyvana",
         "offsetgroup": "Shyvana",
         "orientation": "v",
         "showlegend": true,
         "type": "histogram",
         "x": [
          0.0043,
          0.0046
         ],
         "xaxis": "x",
         "yaxis": "y"
        },
        {
         "alignmentgroup": "True",
         "bingroup": "x",
         "hovertemplate": "Name=Singed<br>Ban %=%{x}<br>count=%{y}<extra></extra>",
         "legendgroup": "Singed",
         "marker": {
          "color": "#B6E880",
          "pattern": {
           "shape": ""
          }
         },
         "name": "Singed",
         "offsetgroup": "Singed",
         "orientation": "v",
         "showlegend": true,
         "type": "histogram",
         "x": [
          0.0039,
          0.0038
         ],
         "xaxis": "x",
         "yaxis": "y"
        },
        {
         "alignmentgroup": "True",
         "bingroup": "x",
         "hovertemplate": "Name=Sion<br>Ban %=%{x}<br>count=%{y}<extra></extra>",
         "legendgroup": "Sion",
         "marker": {
          "color": "#FF97FF",
          "pattern": {
           "shape": ""
          }
         },
         "name": "Sion",
         "offsetgroup": "Sion",
         "orientation": "v",
         "showlegend": true,
         "type": "histogram",
         "x": [
          0.0261,
          0.0285
         ],
         "xaxis": "x",
         "yaxis": "y"
        },
        {
         "alignmentgroup": "True",
         "bingroup": "x",
         "hovertemplate": "Name=Sivir<br>Ban %=%{x}<br>count=%{y}<extra></extra>",
         "legendgroup": "Sivir",
         "marker": {
          "color": "#FECB52",
          "pattern": {
           "shape": ""
          }
         },
         "name": "Sivir",
         "offsetgroup": "Sivir",
         "orientation": "v",
         "showlegend": true,
         "type": "histogram",
         "x": [
          0.0169
         ],
         "xaxis": "x",
         "yaxis": "y"
        },
        {
         "alignmentgroup": "True",
         "bingroup": "x",
         "hovertemplate": "Name=Skarner<br>Ban %=%{x}<br>count=%{y}<extra></extra>",
         "legendgroup": "Skarner",
         "marker": {
          "color": "#636efa",
          "pattern": {
           "shape": ""
          }
         },
         "name": "Skarner",
         "offsetgroup": "Skarner",
         "orientation": "v",
         "showlegend": true,
         "type": "histogram",
         "x": [
          0.0019,
          0.0019
         ],
         "xaxis": "x",
         "yaxis": "y"
        },
        {
         "alignmentgroup": "True",
         "bingroup": "x",
         "hovertemplate": "Name=Sona<br>Ban %=%{x}<br>count=%{y}<extra></extra>",
         "legendgroup": "Sona",
         "marker": {
          "color": "#EF553B",
          "pattern": {
           "shape": ""
          }
         },
         "name": "Sona",
         "offsetgroup": "Sona",
         "orientation": "v",
         "showlegend": true,
         "type": "histogram",
         "x": [
          0.0012
         ],
         "xaxis": "x",
         "yaxis": "y"
        },
        {
         "alignmentgroup": "True",
         "bingroup": "x",
         "hovertemplate": "Name=Soraka<br>Ban %=%{x}<br>count=%{y}<extra></extra>",
         "legendgroup": "Soraka",
         "marker": {
          "color": "#00cc96",
          "pattern": {
           "shape": ""
          }
         },
         "name": "Soraka",
         "offsetgroup": "Soraka",
         "orientation": "v",
         "showlegend": true,
         "type": "histogram",
         "x": [
          0.0249
         ],
         "xaxis": "x",
         "yaxis": "y"
        },
        {
         "alignmentgroup": "True",
         "bingroup": "x",
         "hovertemplate": "Name=Swain<br>Ban %=%{x}<br>count=%{y}<extra></extra>",
         "legendgroup": "Swain",
         "marker": {
          "color": "#ab63fa",
          "pattern": {
           "shape": ""
          }
         },
         "name": "Swain",
         "offsetgroup": "Swain",
         "orientation": "v",
         "showlegend": true,
         "type": "histogram",
         "x": [
          0.0346,
          0.0361,
          0.0361
         ],
         "xaxis": "x",
         "yaxis": "y"
        },
        {
         "alignmentgroup": "True",
         "bingroup": "x",
         "hovertemplate": "Name=Sylas<br>Ban %=%{x}<br>count=%{y}<extra></extra>",
         "legendgroup": "Sylas",
         "marker": {
          "color": "#FFA15A",
          "pattern": {
           "shape": ""
          }
         },
         "name": "Sylas",
         "offsetgroup": "Sylas",
         "orientation": "v",
         "showlegend": true,
         "type": "histogram",
         "x": [
          0.1543,
          0.1596
         ],
         "xaxis": "x",
         "yaxis": "y"
        },
        {
         "alignmentgroup": "True",
         "bingroup": "x",
         "hovertemplate": "Name=Syndra<br>Ban %=%{x}<br>count=%{y}<extra></extra>",
         "legendgroup": "Syndra",
         "marker": {
          "color": "#19d3f3",
          "pattern": {
           "shape": ""
          }
         },
         "name": "Syndra",
         "offsetgroup": "Syndra",
         "orientation": "v",
         "showlegend": true,
         "type": "histogram",
         "x": [
          0.0599
         ],
         "xaxis": "x",
         "yaxis": "y"
        },
        {
         "alignmentgroup": "True",
         "bingroup": "x",
         "hovertemplate": "Name=Tahm Kench<br>Ban %=%{x}<br>count=%{y}<extra></extra>",
         "legendgroup": "Tahm Kench",
         "marker": {
          "color": "#FF6692",
          "pattern": {
           "shape": ""
          }
         },
         "name": "Tahm Kench",
         "offsetgroup": "Tahm Kench",
         "orientation": "v",
         "showlegend": true,
         "type": "histogram",
         "x": [
          0.0074,
          0.0073
         ],
         "xaxis": "x",
         "yaxis": "y"
        },
        {
         "alignmentgroup": "True",
         "bingroup": "x",
         "hovertemplate": "Name=Taliyah<br>Ban %=%{x}<br>count=%{y}<extra></extra>",
         "legendgroup": "Taliyah",
         "marker": {
          "color": "#B6E880",
          "pattern": {
           "shape": ""
          }
         },
         "name": "Taliyah",
         "offsetgroup": "Taliyah",
         "orientation": "v",
         "showlegend": true,
         "type": "histogram",
         "x": [
          0.0552,
          0.0454
         ],
         "xaxis": "x",
         "yaxis": "y"
        },
        {
         "alignmentgroup": "True",
         "bingroup": "x",
         "hovertemplate": "Name=Talon<br>Ban %=%{x}<br>count=%{y}<extra></extra>",
         "legendgroup": "Talon",
         "marker": {
          "color": "#FF97FF",
          "pattern": {
           "shape": ""
          }
         },
         "name": "Talon",
         "offsetgroup": "Talon",
         "orientation": "v",
         "showlegend": true,
         "type": "histogram",
         "x": [
          0.0221,
          0.0204
         ],
         "xaxis": "x",
         "yaxis": "y"
        },
        {
         "alignmentgroup": "True",
         "bingroup": "x",
         "hovertemplate": "Name=Taric<br>Ban %=%{x}<br>count=%{y}<extra></extra>",
         "legendgroup": "Taric",
         "marker": {
          "color": "#FECB52",
          "pattern": {
           "shape": ""
          }
         },
         "name": "Taric",
         "offsetgroup": "Taric",
         "orientation": "v",
         "showlegend": true,
         "type": "histogram",
         "x": [
          0.003
         ],
         "xaxis": "x",
         "yaxis": "y"
        },
        {
         "alignmentgroup": "True",
         "bingroup": "x",
         "hovertemplate": "Name=Teemo<br>Ban %=%{x}<br>count=%{y}<extra></extra>",
         "legendgroup": "Teemo",
         "marker": {
          "color": "#636efa",
          "pattern": {
           "shape": ""
          }
         },
         "name": "Teemo",
         "offsetgroup": "Teemo",
         "orientation": "v",
         "showlegend": true,
         "type": "histogram",
         "x": [
          0.0655,
          0.0611
         ],
         "xaxis": "x",
         "yaxis": "y"
        },
        {
         "alignmentgroup": "True",
         "bingroup": "x",
         "hovertemplate": "Name=Thresh<br>Ban %=%{x}<br>count=%{y}<extra></extra>",
         "legendgroup": "Thresh",
         "marker": {
          "color": "#EF553B",
          "pattern": {
           "shape": ""
          }
         },
         "name": "Thresh",
         "offsetgroup": "Thresh",
         "orientation": "v",
         "showlegend": true,
         "type": "histogram",
         "x": [
          0.055
         ],
         "xaxis": "x",
         "yaxis": "y"
        },
        {
         "alignmentgroup": "True",
         "bingroup": "x",
         "hovertemplate": "Name=Tristana<br>Ban %=%{x}<br>count=%{y}<extra></extra>",
         "legendgroup": "Tristana",
         "marker": {
          "color": "#00cc96",
          "pattern": {
           "shape": ""
          }
         },
         "name": "Tristana",
         "offsetgroup": "Tristana",
         "orientation": "v",
         "showlegend": true,
         "type": "histogram",
         "x": [
          0.031,
          0.0317
         ],
         "xaxis": "x",
         "yaxis": "y"
        },
        {
         "alignmentgroup": "True",
         "bingroup": "x",
         "hovertemplate": "Name=Trundle<br>Ban %=%{x}<br>count=%{y}<extra></extra>",
         "legendgroup": "Trundle",
         "marker": {
          "color": "#ab63fa",
          "pattern": {
           "shape": ""
          }
         },
         "name": "Trundle",
         "offsetgroup": "Trundle",
         "orientation": "v",
         "showlegend": true,
         "type": "histogram",
         "x": [
          0.0065,
          0.0065
         ],
         "xaxis": "x",
         "yaxis": "y"
        },
        {
         "alignmentgroup": "True",
         "bingroup": "x",
         "hovertemplate": "Name=Tryndamere<br>Ban %=%{x}<br>count=%{y}<extra></extra>",
         "legendgroup": "Tryndamere",
         "marker": {
          "color": "#FFA15A",
          "pattern": {
           "shape": ""
          }
         },
         "name": "Tryndamere",
         "offsetgroup": "Tryndamere",
         "orientation": "v",
         "showlegend": true,
         "type": "histogram",
         "x": [
          0.0473,
          0.0462
         ],
         "xaxis": "x",
         "yaxis": "y"
        },
        {
         "alignmentgroup": "True",
         "bingroup": "x",
         "hovertemplate": "Name=Twisted Fate<br>Ban %=%{x}<br>count=%{y}<extra></extra>",
         "legendgroup": "Twisted Fate",
         "marker": {
          "color": "#19d3f3",
          "pattern": {
           "shape": ""
          }
         },
         "name": "Twisted Fate",
         "offsetgroup": "Twisted Fate",
         "orientation": "v",
         "showlegend": true,
         "type": "histogram",
         "x": [
          0.0025
         ],
         "xaxis": "x",
         "yaxis": "y"
        },
        {
         "alignmentgroup": "True",
         "bingroup": "x",
         "hovertemplate": "Name=Twitch<br>Ban %=%{x}<br>count=%{y}<extra></extra>",
         "legendgroup": "Twitch",
         "marker": {
          "color": "#FF6692",
          "pattern": {
           "shape": ""
          }
         },
         "name": "Twitch",
         "offsetgroup": "Twitch",
         "orientation": "v",
         "showlegend": true,
         "type": "histogram",
         "x": [
          0.0355,
          0.0352
         ],
         "xaxis": "x",
         "yaxis": "y"
        },
        {
         "alignmentgroup": "True",
         "bingroup": "x",
         "hovertemplate": "Name=Udyr<br>Ban %=%{x}<br>count=%{y}<extra></extra>",
         "legendgroup": "Udyr",
         "marker": {
          "color": "#B6E880",
          "pattern": {
           "shape": ""
          }
         },
         "name": "Udyr",
         "offsetgroup": "Udyr",
         "orientation": "v",
         "showlegend": true,
         "type": "histogram",
         "x": [
          0.0123,
          0.0118
         ],
         "xaxis": "x",
         "yaxis": "y"
        },
        {
         "alignmentgroup": "True",
         "bingroup": "x",
         "hovertemplate": "Name=Urgot<br>Ban %=%{x}<br>count=%{y}<extra></extra>",
         "legendgroup": "Urgot",
         "marker": {
          "color": "#FF97FF",
          "pattern": {
           "shape": ""
          }
         },
         "name": "Urgot",
         "offsetgroup": "Urgot",
         "orientation": "v",
         "showlegend": true,
         "type": "histogram",
         "x": [
          0.0081
         ],
         "xaxis": "x",
         "yaxis": "y"
        },
        {
         "alignmentgroup": "True",
         "bingroup": "x",
         "hovertemplate": "Name=Varus<br>Ban %=%{x}<br>count=%{y}<extra></extra>",
         "legendgroup": "Varus",
         "marker": {
          "color": "#FECB52",
          "pattern": {
           "shape": ""
          }
         },
         "name": "Varus",
         "offsetgroup": "Varus",
         "orientation": "v",
         "showlegend": true,
         "type": "histogram",
         "x": [
          0.0052
         ],
         "xaxis": "x",
         "yaxis": "y"
        },
        {
         "alignmentgroup": "True",
         "bingroup": "x",
         "hovertemplate": "Name=Vayne<br>Ban %=%{x}<br>count=%{y}<extra></extra>",
         "legendgroup": "Vayne",
         "marker": {
          "color": "#636efa",
          "pattern": {
           "shape": ""
          }
         },
         "name": "Vayne",
         "offsetgroup": "Vayne",
         "orientation": "v",
         "showlegend": true,
         "type": "histogram",
         "x": [
          0.0672,
          0.0696
         ],
         "xaxis": "x",
         "yaxis": "y"
        },
        {
         "alignmentgroup": "True",
         "bingroup": "x",
         "hovertemplate": "Name=Veigar<br>Ban %=%{x}<br>count=%{y}<extra></extra>",
         "legendgroup": "Veigar",
         "marker": {
          "color": "#EF553B",
          "pattern": {
           "shape": ""
          }
         },
         "name": "Veigar",
         "offsetgroup": "Veigar",
         "orientation": "v",
         "showlegend": true,
         "type": "histogram",
         "x": [
          0.028,
          0.0297
         ],
         "xaxis": "x",
         "yaxis": "y"
        },
        {
         "alignmentgroup": "True",
         "bingroup": "x",
         "hovertemplate": "Name=Vel'Koz<br>Ban %=%{x}<br>count=%{y}<extra></extra>",
         "legendgroup": "Vel'Koz",
         "marker": {
          "color": "#00cc96",
          "pattern": {
           "shape": ""
          }
         },
         "name": "Vel'Koz",
         "offsetgroup": "Vel'Koz",
         "orientation": "v",
         "showlegend": true,
         "type": "histogram",
         "x": [
          0.0036,
          0.0036
         ],
         "xaxis": "x",
         "yaxis": "y"
        },
        {
         "alignmentgroup": "True",
         "bingroup": "x",
         "hovertemplate": "Name=Vex<br>Ban %=%{x}<br>count=%{y}<extra></extra>",
         "legendgroup": "Vex",
         "marker": {
          "color": "#ab63fa",
          "pattern": {
           "shape": ""
          }
         },
         "name": "Vex",
         "offsetgroup": "Vex",
         "orientation": "v",
         "showlegend": true,
         "type": "histogram",
         "x": [
          0.0468
         ],
         "xaxis": "x",
         "yaxis": "y"
        },
        {
         "alignmentgroup": "True",
         "bingroup": "x",
         "hovertemplate": "Name=Vi<br>Ban %=%{x}<br>count=%{y}<extra></extra>",
         "legendgroup": "Vi",
         "marker": {
          "color": "#FFA15A",
          "pattern": {
           "shape": ""
          }
         },
         "name": "Vi",
         "offsetgroup": "Vi",
         "orientation": "v",
         "showlegend": true,
         "type": "histogram",
         "x": [
          0.0122
         ],
         "xaxis": "x",
         "yaxis": "y"
        },
        {
         "alignmentgroup": "True",
         "bingroup": "x",
         "hovertemplate": "Name=Viego<br>Ban %=%{x}<br>count=%{y}<extra></extra>",
         "legendgroup": "Viego",
         "marker": {
          "color": "#19d3f3",
          "pattern": {
           "shape": ""
          }
         },
         "name": "Viego",
         "offsetgroup": "Viego",
         "orientation": "v",
         "showlegend": true,
         "type": "histogram",
         "x": [
          0.0205
         ],
         "xaxis": "x",
         "yaxis": "y"
        },
        {
         "alignmentgroup": "True",
         "bingroup": "x",
         "hovertemplate": "Name=Viktor<br>Ban %=%{x}<br>count=%{y}<extra></extra>",
         "legendgroup": "Viktor",
         "marker": {
          "color": "#FF6692",
          "pattern": {
           "shape": ""
          }
         },
         "name": "Viktor",
         "offsetgroup": "Viktor",
         "orientation": "v",
         "showlegend": true,
         "type": "histogram",
         "x": [
          0.0214
         ],
         "xaxis": "x",
         "yaxis": "y"
        },
        {
         "alignmentgroup": "True",
         "bingroup": "x",
         "hovertemplate": "Name=Vladimir<br>Ban %=%{x}<br>count=%{y}<extra></extra>",
         "legendgroup": "Vladimir",
         "marker": {
          "color": "#B6E880",
          "pattern": {
           "shape": ""
          }
         },
         "name": "Vladimir",
         "offsetgroup": "Vladimir",
         "orientation": "v",
         "showlegend": true,
         "type": "histogram",
         "x": [
          0.0426,
          0.042
         ],
         "xaxis": "x",
         "yaxis": "y"
        },
        {
         "alignmentgroup": "True",
         "bingroup": "x",
         "hovertemplate": "Name=Volibear<br>Ban %=%{x}<br>count=%{y}<extra></extra>",
         "legendgroup": "Volibear",
         "marker": {
          "color": "#FF97FF",
          "pattern": {
           "shape": ""
          }
         },
         "name": "Volibear",
         "offsetgroup": "Volibear",
         "orientation": "v",
         "showlegend": true,
         "type": "histogram",
         "x": [
          0.0121,
          0.0126
         ],
         "xaxis": "x",
         "yaxis": "y"
        },
        {
         "alignmentgroup": "True",
         "bingroup": "x",
         "hovertemplate": "Name=Warwick<br>Ban %=%{x}<br>count=%{y}<extra></extra>",
         "legendgroup": "Warwick",
         "marker": {
          "color": "#FECB52",
          "pattern": {
           "shape": ""
          }
         },
         "name": "Warwick",
         "offsetgroup": "Warwick",
         "orientation": "v",
         "showlegend": true,
         "type": "histogram",
         "x": [
          0.0355,
          0.0314
         ],
         "xaxis": "x",
         "yaxis": "y"
        },
        {
         "alignmentgroup": "True",
         "bingroup": "x",
         "hovertemplate": "Name=Wukong<br>Ban %=%{x}<br>count=%{y}<extra></extra>",
         "legendgroup": "Wukong",
         "marker": {
          "color": "#636efa",
          "pattern": {
           "shape": ""
          }
         },
         "name": "Wukong",
         "offsetgroup": "Wukong",
         "orientation": "v",
         "showlegend": true,
         "type": "histogram",
         "x": [
          0.0054,
          0.0054
         ],
         "xaxis": "x",
         "yaxis": "y"
        },
        {
         "alignmentgroup": "True",
         "bingroup": "x",
         "hovertemplate": "Name=Xayah<br>Ban %=%{x}<br>count=%{y}<extra></extra>",
         "legendgroup": "Xayah",
         "marker": {
          "color": "#EF553B",
          "pattern": {
           "shape": ""
          }
         },
         "name": "Xayah",
         "offsetgroup": "Xayah",
         "orientation": "v",
         "showlegend": true,
         "type": "histogram",
         "x": [
          0.0647
         ],
         "xaxis": "x",
         "yaxis": "y"
        },
        {
         "alignmentgroup": "True",
         "bingroup": "x",
         "hovertemplate": "Name=Xerath<br>Ban %=%{x}<br>count=%{y}<extra></extra>",
         "legendgroup": "Xerath",
         "marker": {
          "color": "#00cc96",
          "pattern": {
           "shape": ""
          }
         },
         "name": "Xerath",
         "offsetgroup": "Xerath",
         "orientation": "v",
         "showlegend": true,
         "type": "histogram",
         "x": [
          0.1561,
          0.1467
         ],
         "xaxis": "x",
         "yaxis": "y"
        },
        {
         "alignmentgroup": "True",
         "bingroup": "x",
         "hovertemplate": "Name=Xin Zhao<br>Ban %=%{x}<br>count=%{y}<extra></extra>",
         "legendgroup": "Xin Zhao",
         "marker": {
          "color": "#ab63fa",
          "pattern": {
           "shape": ""
          }
         },
         "name": "Xin Zhao",
         "offsetgroup": "Xin Zhao",
         "orientation": "v",
         "showlegend": true,
         "type": "histogram",
         "x": [
          0.0027
         ],
         "xaxis": "x",
         "yaxis": "y"
        },
        {
         "alignmentgroup": "True",
         "bingroup": "x",
         "hovertemplate": "Name=Yasuo<br>Ban %=%{x}<br>count=%{y}<extra></extra>",
         "legendgroup": "Yasuo",
         "marker": {
          "color": "#FFA15A",
          "pattern": {
           "shape": ""
          }
         },
         "name": "Yasuo",
         "offsetgroup": "Yasuo",
         "orientation": "v",
         "showlegend": true,
         "type": "histogram",
         "x": [
          0.2177,
          0.2221,
          0.2177
         ],
         "xaxis": "x",
         "yaxis": "y"
        },
        {
         "alignmentgroup": "True",
         "bingroup": "x",
         "hovertemplate": "Name=Yone<br>Ban %=%{x}<br>count=%{y}<extra></extra>",
         "legendgroup": "Yone",
         "marker": {
          "color": "#19d3f3",
          "pattern": {
           "shape": ""
          }
         },
         "name": "Yone",
         "offsetgroup": "Yone",
         "orientation": "v",
         "showlegend": true,
         "type": "histogram",
         "x": [
          0.1873,
          0.1873
         ],
         "xaxis": "x",
         "yaxis": "y"
        },
        {
         "alignmentgroup": "True",
         "bingroup": "x",
         "hovertemplate": "Name=Yorick<br>Ban %=%{x}<br>count=%{y}<extra></extra>",
         "legendgroup": "Yorick",
         "marker": {
          "color": "#FF6692",
          "pattern": {
           "shape": ""
          }
         },
         "name": "Yorick",
         "offsetgroup": "Yorick",
         "orientation": "v",
         "showlegend": true,
         "type": "histogram",
         "x": [
          0.0401
         ],
         "xaxis": "x",
         "yaxis": "y"
        },
        {
         "alignmentgroup": "True",
         "bingroup": "x",
         "hovertemplate": "Name=Yuumi<br>Ban %=%{x}<br>count=%{y}<extra></extra>",
         "legendgroup": "Yuumi",
         "marker": {
          "color": "#B6E880",
          "pattern": {
           "shape": ""
          }
         },
         "name": "Yuumi",
         "offsetgroup": "Yuumi",
         "orientation": "v",
         "showlegend": true,
         "type": "histogram",
         "x": [
          0.0778
         ],
         "xaxis": "x",
         "yaxis": "y"
        },
        {
         "alignmentgroup": "True",
         "bingroup": "x",
         "hovertemplate": "Name=Zac<br>Ban %=%{x}<br>count=%{y}<extra></extra>",
         "legendgroup": "Zac",
         "marker": {
          "color": "#FF97FF",
          "pattern": {
           "shape": ""
          }
         },
         "name": "Zac",
         "offsetgroup": "Zac",
         "orientation": "v",
         "showlegend": true,
         "type": "histogram",
         "x": [
          0.0275
         ],
         "xaxis": "x",
         "yaxis": "y"
        },
        {
         "alignmentgroup": "True",
         "bingroup": "x",
         "hovertemplate": "Name=Zed<br>Ban %=%{x}<br>count=%{y}<extra></extra>",
         "legendgroup": "Zed",
         "marker": {
          "color": "#FECB52",
          "pattern": {
           "shape": ""
          }
         },
         "name": "Zed",
         "offsetgroup": "Zed",
         "orientation": "v",
         "showlegend": true,
         "type": "histogram",
         "x": [
          0.3189
         ],
         "xaxis": "x",
         "yaxis": "y"
        },
        {
         "alignmentgroup": "True",
         "bingroup": "x",
         "hovertemplate": "Name=Zeri<br>Ban %=%{x}<br>count=%{y}<extra></extra>",
         "legendgroup": "Zeri",
         "marker": {
          "color": "#636efa",
          "pattern": {
           "shape": ""
          }
         },
         "name": "Zeri",
         "offsetgroup": "Zeri",
         "orientation": "v",
         "showlegend": true,
         "type": "histogram",
         "x": [
          0.0093
         ],
         "xaxis": "x",
         "yaxis": "y"
        },
        {
         "alignmentgroup": "True",
         "bingroup": "x",
         "hovertemplate": "Name=Ziggs<br>Ban %=%{x}<br>count=%{y}<extra></extra>",
         "legendgroup": "Ziggs",
         "marker": {
          "color": "#EF553B",
          "pattern": {
           "shape": ""
          }
         },
         "name": "Ziggs",
         "offsetgroup": "Ziggs",
         "orientation": "v",
         "showlegend": true,
         "type": "histogram",
         "x": [
          0.0675,
          0.0716
         ],
         "xaxis": "x",
         "yaxis": "y"
        },
        {
         "alignmentgroup": "True",
         "bingroup": "x",
         "hovertemplate": "Name=Zilean<br>Ban %=%{x}<br>count=%{y}<extra></extra>",
         "legendgroup": "Zilean",
         "marker": {
          "color": "#00cc96",
          "pattern": {
           "shape": ""
          }
         },
         "name": "Zilean",
         "offsetgroup": "Zilean",
         "orientation": "v",
         "showlegend": true,
         "type": "histogram",
         "x": [
          0.006,
          0.0059
         ],
         "xaxis": "x",
         "yaxis": "y"
        },
        {
         "alignmentgroup": "True",
         "bingroup": "x",
         "hovertemplate": "Name=Zoe<br>Ban %=%{x}<br>count=%{y}<extra></extra>",
         "legendgroup": "Zoe",
         "marker": {
          "color": "#ab63fa",
          "pattern": {
           "shape": ""
          }
         },
         "name": "Zoe",
         "offsetgroup": "Zoe",
         "orientation": "v",
         "showlegend": true,
         "type": "histogram",
         "x": [
          0.0202,
          0.0185
         ],
         "xaxis": "x",
         "yaxis": "y"
        },
        {
         "alignmentgroup": "True",
         "bingroup": "x",
         "hovertemplate": "Name=Zyra<br>Ban %=%{x}<br>count=%{y}<extra></extra>",
         "legendgroup": "Zyra",
         "marker": {
          "color": "#FFA15A",
          "pattern": {
           "shape": ""
          }
         },
         "name": "Zyra",
         "offsetgroup": "Zyra",
         "orientation": "v",
         "showlegend": true,
         "type": "histogram",
         "x": [
          0.0524
         ],
         "xaxis": "x",
         "yaxis": "y"
        }
       ],
       "layout": {
        "barmode": "relative",
        "legend": {
         "title": {
          "text": "Name"
         },
         "tracegroupgap": 0
        },
        "template": {
         "data": {
          "bar": [
           {
            "error_x": {
             "color": "#2a3f5f"
            },
            "error_y": {
             "color": "#2a3f5f"
            },
            "marker": {
             "line": {
              "color": "#E5ECF6",
              "width": 0.5
             },
             "pattern": {
              "fillmode": "overlay",
              "size": 10,
              "solidity": 0.2
             }
            },
            "type": "bar"
           }
          ],
          "barpolar": [
           {
            "marker": {
             "line": {
              "color": "#E5ECF6",
              "width": 0.5
             },
             "pattern": {
              "fillmode": "overlay",
              "size": 10,
              "solidity": 0.2
             }
            },
            "type": "barpolar"
           }
          ],
          "carpet": [
           {
            "aaxis": {
             "endlinecolor": "#2a3f5f",
             "gridcolor": "white",
             "linecolor": "white",
             "minorgridcolor": "white",
             "startlinecolor": "#2a3f5f"
            },
            "baxis": {
             "endlinecolor": "#2a3f5f",
             "gridcolor": "white",
             "linecolor": "white",
             "minorgridcolor": "white",
             "startlinecolor": "#2a3f5f"
            },
            "type": "carpet"
           }
          ],
          "choropleth": [
           {
            "colorbar": {
             "outlinewidth": 0,
             "ticks": ""
            },
            "type": "choropleth"
           }
          ],
          "contour": [
           {
            "colorbar": {
             "outlinewidth": 0,
             "ticks": ""
            },
            "colorscale": [
             [
              0,
              "#0d0887"
             ],
             [
              0.1111111111111111,
              "#46039f"
             ],
             [
              0.2222222222222222,
              "#7201a8"
             ],
             [
              0.3333333333333333,
              "#9c179e"
             ],
             [
              0.4444444444444444,
              "#bd3786"
             ],
             [
              0.5555555555555556,
              "#d8576b"
             ],
             [
              0.6666666666666666,
              "#ed7953"
             ],
             [
              0.7777777777777778,
              "#fb9f3a"
             ],
             [
              0.8888888888888888,
              "#fdca26"
             ],
             [
              1,
              "#f0f921"
             ]
            ],
            "type": "contour"
           }
          ],
          "contourcarpet": [
           {
            "colorbar": {
             "outlinewidth": 0,
             "ticks": ""
            },
            "type": "contourcarpet"
           }
          ],
          "heatmap": [
           {
            "colorbar": {
             "outlinewidth": 0,
             "ticks": ""
            },
            "colorscale": [
             [
              0,
              "#0d0887"
             ],
             [
              0.1111111111111111,
              "#46039f"
             ],
             [
              0.2222222222222222,
              "#7201a8"
             ],
             [
              0.3333333333333333,
              "#9c179e"
             ],
             [
              0.4444444444444444,
              "#bd3786"
             ],
             [
              0.5555555555555556,
              "#d8576b"
             ],
             [
              0.6666666666666666,
              "#ed7953"
             ],
             [
              0.7777777777777778,
              "#fb9f3a"
             ],
             [
              0.8888888888888888,
              "#fdca26"
             ],
             [
              1,
              "#f0f921"
             ]
            ],
            "type": "heatmap"
           }
          ],
          "heatmapgl": [
           {
            "colorbar": {
             "outlinewidth": 0,
             "ticks": ""
            },
            "colorscale": [
             [
              0,
              "#0d0887"
             ],
             [
              0.1111111111111111,
              "#46039f"
             ],
             [
              0.2222222222222222,
              "#7201a8"
             ],
             [
              0.3333333333333333,
              "#9c179e"
             ],
             [
              0.4444444444444444,
              "#bd3786"
             ],
             [
              0.5555555555555556,
              "#d8576b"
             ],
             [
              0.6666666666666666,
              "#ed7953"
             ],
             [
              0.7777777777777778,
              "#fb9f3a"
             ],
             [
              0.8888888888888888,
              "#fdca26"
             ],
             [
              1,
              "#f0f921"
             ]
            ],
            "type": "heatmapgl"
           }
          ],
          "histogram": [
           {
            "marker": {
             "pattern": {
              "fillmode": "overlay",
              "size": 10,
              "solidity": 0.2
             }
            },
            "type": "histogram"
           }
          ],
          "histogram2d": [
           {
            "colorbar": {
             "outlinewidth": 0,
             "ticks": ""
            },
            "colorscale": [
             [
              0,
              "#0d0887"
             ],
             [
              0.1111111111111111,
              "#46039f"
             ],
             [
              0.2222222222222222,
              "#7201a8"
             ],
             [
              0.3333333333333333,
              "#9c179e"
             ],
             [
              0.4444444444444444,
              "#bd3786"
             ],
             [
              0.5555555555555556,
              "#d8576b"
             ],
             [
              0.6666666666666666,
              "#ed7953"
             ],
             [
              0.7777777777777778,
              "#fb9f3a"
             ],
             [
              0.8888888888888888,
              "#fdca26"
             ],
             [
              1,
              "#f0f921"
             ]
            ],
            "type": "histogram2d"
           }
          ],
          "histogram2dcontour": [
           {
            "colorbar": {
             "outlinewidth": 0,
             "ticks": ""
            },
            "colorscale": [
             [
              0,
              "#0d0887"
             ],
             [
              0.1111111111111111,
              "#46039f"
             ],
             [
              0.2222222222222222,
              "#7201a8"
             ],
             [
              0.3333333333333333,
              "#9c179e"
             ],
             [
              0.4444444444444444,
              "#bd3786"
             ],
             [
              0.5555555555555556,
              "#d8576b"
             ],
             [
              0.6666666666666666,
              "#ed7953"
             ],
             [
              0.7777777777777778,
              "#fb9f3a"
             ],
             [
              0.8888888888888888,
              "#fdca26"
             ],
             [
              1,
              "#f0f921"
             ]
            ],
            "type": "histogram2dcontour"
           }
          ],
          "mesh3d": [
           {
            "colorbar": {
             "outlinewidth": 0,
             "ticks": ""
            },
            "type": "mesh3d"
           }
          ],
          "parcoords": [
           {
            "line": {
             "colorbar": {
              "outlinewidth": 0,
              "ticks": ""
             }
            },
            "type": "parcoords"
           }
          ],
          "pie": [
           {
            "automargin": true,
            "type": "pie"
           }
          ],
          "scatter": [
           {
            "fillpattern": {
             "fillmode": "overlay",
             "size": 10,
             "solidity": 0.2
            },
            "type": "scatter"
           }
          ],
          "scatter3d": [
           {
            "line": {
             "colorbar": {
              "outlinewidth": 0,
              "ticks": ""
             }
            },
            "marker": {
             "colorbar": {
              "outlinewidth": 0,
              "ticks": ""
             }
            },
            "type": "scatter3d"
           }
          ],
          "scattercarpet": [
           {
            "marker": {
             "colorbar": {
              "outlinewidth": 0,
              "ticks": ""
             }
            },
            "type": "scattercarpet"
           }
          ],
          "scattergeo": [
           {
            "marker": {
             "colorbar": {
              "outlinewidth": 0,
              "ticks": ""
             }
            },
            "type": "scattergeo"
           }
          ],
          "scattergl": [
           {
            "marker": {
             "colorbar": {
              "outlinewidth": 0,
              "ticks": ""
             }
            },
            "type": "scattergl"
           }
          ],
          "scattermapbox": [
           {
            "marker": {
             "colorbar": {
              "outlinewidth": 0,
              "ticks": ""
             }
            },
            "type": "scattermapbox"
           }
          ],
          "scatterpolar": [
           {
            "marker": {
             "colorbar": {
              "outlinewidth": 0,
              "ticks": ""
             }
            },
            "type": "scatterpolar"
           }
          ],
          "scatterpolargl": [
           {
            "marker": {
             "colorbar": {
              "outlinewidth": 0,
              "ticks": ""
             }
            },
            "type": "scatterpolargl"
           }
          ],
          "scatterternary": [
           {
            "marker": {
             "colorbar": {
              "outlinewidth": 0,
              "ticks": ""
             }
            },
            "type": "scatterternary"
           }
          ],
          "surface": [
           {
            "colorbar": {
             "outlinewidth": 0,
             "ticks": ""
            },
            "colorscale": [
             [
              0,
              "#0d0887"
             ],
             [
              0.1111111111111111,
              "#46039f"
             ],
             [
              0.2222222222222222,
              "#7201a8"
             ],
             [
              0.3333333333333333,
              "#9c179e"
             ],
             [
              0.4444444444444444,
              "#bd3786"
             ],
             [
              0.5555555555555556,
              "#d8576b"
             ],
             [
              0.6666666666666666,
              "#ed7953"
             ],
             [
              0.7777777777777778,
              "#fb9f3a"
             ],
             [
              0.8888888888888888,
              "#fdca26"
             ],
             [
              1,
              "#f0f921"
             ]
            ],
            "type": "surface"
           }
          ],
          "table": [
           {
            "cells": {
             "fill": {
              "color": "#EBF0F8"
             },
             "line": {
              "color": "white"
             }
            },
            "header": {
             "fill": {
              "color": "#C8D4E3"
             },
             "line": {
              "color": "white"
             }
            },
            "type": "table"
           }
          ]
         },
         "layout": {
          "annotationdefaults": {
           "arrowcolor": "#2a3f5f",
           "arrowhead": 0,
           "arrowwidth": 1
          },
          "autotypenumbers": "strict",
          "coloraxis": {
           "colorbar": {
            "outlinewidth": 0,
            "ticks": ""
           }
          },
          "colorscale": {
           "diverging": [
            [
             0,
             "#8e0152"
            ],
            [
             0.1,
             "#c51b7d"
            ],
            [
             0.2,
             "#de77ae"
            ],
            [
             0.3,
             "#f1b6da"
            ],
            [
             0.4,
             "#fde0ef"
            ],
            [
             0.5,
             "#f7f7f7"
            ],
            [
             0.6,
             "#e6f5d0"
            ],
            [
             0.7,
             "#b8e186"
            ],
            [
             0.8,
             "#7fbc41"
            ],
            [
             0.9,
             "#4d9221"
            ],
            [
             1,
             "#276419"
            ]
           ],
           "sequential": [
            [
             0,
             "#0d0887"
            ],
            [
             0.1111111111111111,
             "#46039f"
            ],
            [
             0.2222222222222222,
             "#7201a8"
            ],
            [
             0.3333333333333333,
             "#9c179e"
            ],
            [
             0.4444444444444444,
             "#bd3786"
            ],
            [
             0.5555555555555556,
             "#d8576b"
            ],
            [
             0.6666666666666666,
             "#ed7953"
            ],
            [
             0.7777777777777778,
             "#fb9f3a"
            ],
            [
             0.8888888888888888,
             "#fdca26"
            ],
            [
             1,
             "#f0f921"
            ]
           ],
           "sequentialminus": [
            [
             0,
             "#0d0887"
            ],
            [
             0.1111111111111111,
             "#46039f"
            ],
            [
             0.2222222222222222,
             "#7201a8"
            ],
            [
             0.3333333333333333,
             "#9c179e"
            ],
            [
             0.4444444444444444,
             "#bd3786"
            ],
            [
             0.5555555555555556,
             "#d8576b"
            ],
            [
             0.6666666666666666,
             "#ed7953"
            ],
            [
             0.7777777777777778,
             "#fb9f3a"
            ],
            [
             0.8888888888888888,
             "#fdca26"
            ],
            [
             1,
             "#f0f921"
            ]
           ]
          },
          "colorway": [
           "#636efa",
           "#EF553B",
           "#00cc96",
           "#ab63fa",
           "#FFA15A",
           "#19d3f3",
           "#FF6692",
           "#B6E880",
           "#FF97FF",
           "#FECB52"
          ],
          "font": {
           "color": "#2a3f5f"
          },
          "geo": {
           "bgcolor": "white",
           "lakecolor": "white",
           "landcolor": "#E5ECF6",
           "showlakes": true,
           "showland": true,
           "subunitcolor": "white"
          },
          "hoverlabel": {
           "align": "left"
          },
          "hovermode": "closest",
          "mapbox": {
           "style": "light"
          },
          "paper_bgcolor": "white",
          "plot_bgcolor": "#E5ECF6",
          "polar": {
           "angularaxis": {
            "gridcolor": "white",
            "linecolor": "white",
            "ticks": ""
           },
           "bgcolor": "#E5ECF6",
           "radialaxis": {
            "gridcolor": "white",
            "linecolor": "white",
            "ticks": ""
           }
          },
          "scene": {
           "xaxis": {
            "backgroundcolor": "#E5ECF6",
            "gridcolor": "white",
            "gridwidth": 2,
            "linecolor": "white",
            "showbackground": true,
            "ticks": "",
            "zerolinecolor": "white"
           },
           "yaxis": {
            "backgroundcolor": "#E5ECF6",
            "gridcolor": "white",
            "gridwidth": 2,
            "linecolor": "white",
            "showbackground": true,
            "ticks": "",
            "zerolinecolor": "white"
           },
           "zaxis": {
            "backgroundcolor": "#E5ECF6",
            "gridcolor": "white",
            "gridwidth": 2,
            "linecolor": "white",
            "showbackground": true,
            "ticks": "",
            "zerolinecolor": "white"
           }
          },
          "shapedefaults": {
           "line": {
            "color": "#2a3f5f"
           }
          },
          "ternary": {
           "aaxis": {
            "gridcolor": "white",
            "linecolor": "white",
            "ticks": ""
           },
           "baxis": {
            "gridcolor": "white",
            "linecolor": "white",
            "ticks": ""
           },
           "bgcolor": "#E5ECF6",
           "caxis": {
            "gridcolor": "white",
            "linecolor": "white",
            "ticks": ""
           }
          },
          "title": {
           "x": 0.05
          },
          "xaxis": {
           "automargin": true,
           "gridcolor": "white",
           "linecolor": "white",
           "ticks": "",
           "title": {
            "standoff": 15
           },
           "zerolinecolor": "white",
           "zerolinewidth": 2
          },
          "yaxis": {
           "automargin": true,
           "gridcolor": "white",
           "linecolor": "white",
           "ticks": "",
           "title": {
            "standoff": 15
           },
           "zerolinecolor": "white",
           "zerolinewidth": 2
          }
         }
        },
        "title": {
         "text": "Champions ban rate"
        },
        "xaxis": {
         "anchor": "y",
         "domain": [
          0,
          1
         ],
         "title": {
          "text": "Ban %"
         }
        },
        "yaxis": {
         "anchor": "x",
         "domain": [
          0,
          1
         ],
         "title": {
          "text": "count"
         }
        }
       }
      }
     },
     "metadata": {},
     "output_type": "display_data"
    }
   ],
   "source": [
    "# Plotting the distribution of the banrate of League of Legends champions\n",
    "px.histogram(df,'Ban %' , color = 'Name', title='Champions ban rate')"
   ]
  },
  {
   "cell_type": "markdown",
   "metadata": {},
   "source": [
    "![Champions ban rate](Cbr.png)"
   ]
  },
  {
   "cell_type": "code",
   "execution_count": 84,
   "metadata": {},
   "outputs": [
    {
     "data": {
      "application/vnd.plotly.v1+json": {
       "config": {
        "plotlyServerURL": "https://plot.ly"
       },
       "data": [
        {
         "alignmentgroup": "True",
         "bingroup": "x",
         "hovertemplate": "Name=Aatrox<br>Pick %=%{x}<br>count=%{y}<extra></extra>",
         "legendgroup": "Aatrox",
         "marker": {
          "color": "#636efa",
          "pattern": {
           "shape": ""
          }
         },
         "name": "Aatrox",
         "offsetgroup": "Aatrox",
         "orientation": "v",
         "showlegend": true,
         "type": "histogram",
         "x": [
          0.1037
         ],
         "xaxis": "x",
         "yaxis": "y"
        },
        {
         "alignmentgroup": "True",
         "bingroup": "x",
         "hovertemplate": "Name=Ahri<br>Pick %=%{x}<br>count=%{y}<extra></extra>",
         "legendgroup": "Ahri",
         "marker": {
          "color": "#EF553B",
          "pattern": {
           "shape": ""
          }
         },
         "name": "Ahri",
         "offsetgroup": "Ahri",
         "orientation": "v",
         "showlegend": true,
         "type": "histogram",
         "x": [
          0.0736
         ],
         "xaxis": "x",
         "yaxis": "y"
        },
        {
         "alignmentgroup": "True",
         "bingroup": "x",
         "hovertemplate": "Name=Akali<br>Pick %=%{x}<br>count=%{y}<extra></extra>",
         "legendgroup": "Akali",
         "marker": {
          "color": "#00cc96",
          "pattern": {
           "shape": ""
          }
         },
         "name": "Akali",
         "offsetgroup": "Akali",
         "orientation": "v",
         "showlegend": true,
         "type": "histogram",
         "x": [
          0.1016,
          0.0344
         ],
         "xaxis": "x",
         "yaxis": "y"
        },
        {
         "alignmentgroup": "True",
         "bingroup": "x",
         "hovertemplate": "Name=Akshan<br>Pick %=%{x}<br>count=%{y}<extra></extra>",
         "legendgroup": "Akshan",
         "marker": {
          "color": "#ab63fa",
          "pattern": {
           "shape": ""
          }
         },
         "name": "Akshan",
         "offsetgroup": "Akshan",
         "orientation": "v",
         "showlegend": true,
         "type": "histogram",
         "x": [
          0.021,
          0.0058
         ],
         "xaxis": "x",
         "yaxis": "y"
        },
        {
         "alignmentgroup": "True",
         "bingroup": "x",
         "hovertemplate": "Name=Alistar<br>Pick %=%{x}<br>count=%{y}<extra></extra>",
         "legendgroup": "Alistar",
         "marker": {
          "color": "#FFA15A",
          "pattern": {
           "shape": ""
          }
         },
         "name": "Alistar",
         "offsetgroup": "Alistar",
         "orientation": "v",
         "showlegend": true,
         "type": "histogram",
         "x": [
          0.0719
         ],
         "xaxis": "x",
         "yaxis": "y"
        },
        {
         "alignmentgroup": "True",
         "bingroup": "x",
         "hovertemplate": "Name=Amumu<br>Pick %=%{x}<br>count=%{y}<extra></extra>",
         "legendgroup": "Amumu",
         "marker": {
          "color": "#19d3f3",
          "pattern": {
           "shape": ""
          }
         },
         "name": "Amumu",
         "offsetgroup": "Amumu",
         "orientation": "v",
         "showlegend": true,
         "type": "histogram",
         "x": [
          0.0269,
          0.0052
         ],
         "xaxis": "x",
         "yaxis": "y"
        },
        {
         "alignmentgroup": "True",
         "bingroup": "x",
         "hovertemplate": "Name=Anivia<br>Pick %=%{x}<br>count=%{y}<extra></extra>",
         "legendgroup": "Anivia",
         "marker": {
          "color": "#FF6692",
          "pattern": {
           "shape": ""
          }
         },
         "name": "Anivia",
         "offsetgroup": "Anivia",
         "orientation": "v",
         "showlegend": true,
         "type": "histogram",
         "x": [
          0.0155,
          0.0032
         ],
         "xaxis": "x",
         "yaxis": "y"
        },
        {
         "alignmentgroup": "True",
         "bingroup": "x",
         "hovertemplate": "Name=Annie<br>Pick %=%{x}<br>count=%{y}<extra></extra>",
         "legendgroup": "Annie",
         "marker": {
          "color": "#B6E880",
          "pattern": {
           "shape": ""
          }
         },
         "name": "Annie",
         "offsetgroup": "Annie",
         "orientation": "v",
         "showlegend": true,
         "type": "histogram",
         "x": [
          0.0125,
          0.0031
         ],
         "xaxis": "x",
         "yaxis": "y"
        },
        {
         "alignmentgroup": "True",
         "bingroup": "x",
         "hovertemplate": "Name=Aphelios<br>Pick %=%{x}<br>count=%{y}<extra></extra>",
         "legendgroup": "Aphelios",
         "marker": {
          "color": "#FF97FF",
          "pattern": {
           "shape": ""
          }
         },
         "name": "Aphelios",
         "offsetgroup": "Aphelios",
         "orientation": "v",
         "showlegend": true,
         "type": "histogram",
         "x": [
          0.0658
         ],
         "xaxis": "x",
         "yaxis": "y"
        },
        {
         "alignmentgroup": "True",
         "bingroup": "x",
         "hovertemplate": "Name=Ashe<br>Pick %=%{x}<br>count=%{y}<extra></extra>",
         "legendgroup": "Ashe",
         "marker": {
          "color": "#FECB52",
          "pattern": {
           "shape": ""
          }
         },
         "name": "Ashe",
         "offsetgroup": "Ashe",
         "orientation": "v",
         "showlegend": true,
         "type": "histogram",
         "x": [
          0.0962,
          0.0127
         ],
         "xaxis": "x",
         "yaxis": "y"
        },
        {
         "alignmentgroup": "True",
         "bingroup": "x",
         "hovertemplate": "Name=Aurelion Sol<br>Pick %=%{x}<br>count=%{y}<extra></extra>",
         "legendgroup": "Aurelion Sol",
         "marker": {
          "color": "#636efa",
          "pattern": {
           "shape": ""
          }
         },
         "name": "Aurelion Sol",
         "offsetgroup": "Aurelion Sol",
         "orientation": "v",
         "showlegend": true,
         "type": "histogram",
         "x": [
          0.0333
         ],
         "xaxis": "x",
         "yaxis": "y"
        },
        {
         "alignmentgroup": "True",
         "bingroup": "x",
         "hovertemplate": "Name=Azir<br>Pick %=%{x}<br>count=%{y}<extra></extra>",
         "legendgroup": "Azir",
         "marker": {
          "color": "#EF553B",
          "pattern": {
           "shape": ""
          }
         },
         "name": "Azir",
         "offsetgroup": "Azir",
         "orientation": "v",
         "showlegend": true,
         "type": "histogram",
         "x": [
          0.0354
         ],
         "xaxis": "x",
         "yaxis": "y"
        },
        {
         "alignmentgroup": "True",
         "bingroup": "x",
         "hovertemplate": "Name=Bard<br>Pick %=%{x}<br>count=%{y}<extra></extra>",
         "legendgroup": "Bard",
         "marker": {
          "color": "#00cc96",
          "pattern": {
           "shape": ""
          }
         },
         "name": "Bard",
         "offsetgroup": "Bard",
         "orientation": "v",
         "showlegend": true,
         "type": "histogram",
         "x": [
          0.0422
         ],
         "xaxis": "x",
         "yaxis": "y"
        },
        {
         "alignmentgroup": "True",
         "bingroup": "x",
         "hovertemplate": "Name=Bel'Veth<br>Pick %=%{x}<br>count=%{y}<extra></extra>",
         "legendgroup": "Bel'Veth",
         "marker": {
          "color": "#ab63fa",
          "pattern": {
           "shape": ""
          }
         },
         "name": "Bel'Veth",
         "offsetgroup": "Bel'Veth",
         "orientation": "v",
         "showlegend": true,
         "type": "histogram",
         "x": [
          0.0314
         ],
         "xaxis": "x",
         "yaxis": "y"
        },
        {
         "alignmentgroup": "True",
         "bingroup": "x",
         "hovertemplate": "Name=Blitzcrank<br>Pick %=%{x}<br>count=%{y}<extra></extra>",
         "legendgroup": "Blitzcrank",
         "marker": {
          "color": "#FFA15A",
          "pattern": {
           "shape": ""
          }
         },
         "name": "Blitzcrank",
         "offsetgroup": "Blitzcrank",
         "orientation": "v",
         "showlegend": true,
         "type": "histogram",
         "x": [
          0.0894
         ],
         "xaxis": "x",
         "yaxis": "y"
        },
        {
         "alignmentgroup": "True",
         "bingroup": "x",
         "hovertemplate": "Name=Brand<br>Pick %=%{x}<br>count=%{y}<extra></extra>",
         "legendgroup": "Brand",
         "marker": {
          "color": "#19d3f3",
          "pattern": {
           "shape": ""
          }
         },
         "name": "Brand",
         "offsetgroup": "Brand",
         "orientation": "v",
         "showlegend": true,
         "type": "histogram",
         "x": [
          0.0359,
          0.0191,
          0.0093
         ],
         "xaxis": "x",
         "yaxis": "y"
        },
        {
         "alignmentgroup": "True",
         "bingroup": "x",
         "hovertemplate": "Name=Braum<br>Pick %=%{x}<br>count=%{y}<extra></extra>",
         "legendgroup": "Braum",
         "marker": {
          "color": "#FF6692",
          "pattern": {
           "shape": ""
          }
         },
         "name": "Braum",
         "offsetgroup": "Braum",
         "orientation": "v",
         "showlegend": true,
         "type": "histogram",
         "x": [
          0.0267
         ],
         "xaxis": "x",
         "yaxis": "y"
        },
        {
         "alignmentgroup": "True",
         "bingroup": "x",
         "hovertemplate": "Name=Briar<br>Pick %=%{x}<br>count=%{y}<extra></extra>",
         "legendgroup": "Briar",
         "marker": {
          "color": "#B6E880",
          "pattern": {
           "shape": ""
          }
         },
         "name": "Briar",
         "offsetgroup": "Briar",
         "orientation": "v",
         "showlegend": true,
         "type": "histogram",
         "x": [
          0.0847
         ],
         "xaxis": "x",
         "yaxis": "y"
        },
        {
         "alignmentgroup": "True",
         "bingroup": "x",
         "hovertemplate": "Name=Caitlyn<br>Pick %=%{x}<br>count=%{y}<extra></extra>",
         "legendgroup": "Caitlyn",
         "marker": {
          "color": "#FF97FF",
          "pattern": {
           "shape": ""
          }
         },
         "name": "Caitlyn",
         "offsetgroup": "Caitlyn",
         "orientation": "v",
         "showlegend": true,
         "type": "histogram",
         "x": [
          0.1578
         ],
         "xaxis": "x",
         "yaxis": "y"
        },
        {
         "alignmentgroup": "True",
         "bingroup": "x",
         "hovertemplate": "Name=Camille<br>Pick %=%{x}<br>count=%{y}<extra></extra>",
         "legendgroup": "Camille",
         "marker": {
          "color": "#FECB52",
          "pattern": {
           "shape": ""
          }
         },
         "name": "Camille",
         "offsetgroup": "Camille",
         "orientation": "v",
         "showlegend": true,
         "type": "histogram",
         "x": [
          0.0398
         ],
         "xaxis": "x",
         "yaxis": "y"
        },
        {
         "alignmentgroup": "True",
         "bingroup": "x",
         "hovertemplate": "Name=Cassiopeia<br>Pick %=%{x}<br>count=%{y}<extra></extra>",
         "legendgroup": "Cassiopeia",
         "marker": {
          "color": "#636efa",
          "pattern": {
           "shape": ""
          }
         },
         "name": "Cassiopeia",
         "offsetgroup": "Cassiopeia",
         "orientation": "v",
         "showlegend": true,
         "type": "histogram",
         "x": [
          0.0149,
          0.0033
         ],
         "xaxis": "x",
         "yaxis": "y"
        },
        {
         "alignmentgroup": "True",
         "bingroup": "x",
         "hovertemplate": "Name=Cho'Gath<br>Pick %=%{x}<br>count=%{y}<extra></extra>",
         "legendgroup": "Cho'Gath",
         "marker": {
          "color": "#EF553B",
          "pattern": {
           "shape": ""
          }
         },
         "name": "Cho'Gath",
         "offsetgroup": "Cho'Gath",
         "orientation": "v",
         "showlegend": true,
         "type": "histogram",
         "x": [
          0.0236,
          0.0058
         ],
         "xaxis": "x",
         "yaxis": "y"
        },
        {
         "alignmentgroup": "True",
         "bingroup": "x",
         "hovertemplate": "Name=Corki<br>Pick %=%{x}<br>count=%{y}<extra></extra>",
         "legendgroup": "Corki",
         "marker": {
          "color": "#00cc96",
          "pattern": {
           "shape": ""
          }
         },
         "name": "Corki",
         "offsetgroup": "Corki",
         "orientation": "v",
         "showlegend": true,
         "type": "histogram",
         "x": [
          0.0059
         ],
         "xaxis": "x",
         "yaxis": "y"
        },
        {
         "alignmentgroup": "True",
         "bingroup": "x",
         "hovertemplate": "Name=Darius<br>Pick %=%{x}<br>count=%{y}<extra></extra>",
         "legendgroup": "Darius",
         "marker": {
          "color": "#ab63fa",
          "pattern": {
           "shape": ""
          }
         },
         "name": "Darius",
         "offsetgroup": "Darius",
         "orientation": "v",
         "showlegend": true,
         "type": "histogram",
         "x": [
          0.0882
         ],
         "xaxis": "x",
         "yaxis": "y"
        },
        {
         "alignmentgroup": "True",
         "bingroup": "x",
         "hovertemplate": "Name=Diana<br>Pick %=%{x}<br>count=%{y}<extra></extra>",
         "legendgroup": "Diana",
         "marker": {
          "color": "#FFA15A",
          "pattern": {
           "shape": ""
          }
         },
         "name": "Diana",
         "offsetgroup": "Diana",
         "orientation": "v",
         "showlegend": true,
         "type": "histogram",
         "x": [
          0.0412,
          0.0139
         ],
         "xaxis": "x",
         "yaxis": "y"
        },
        {
         "alignmentgroup": "True",
         "bingroup": "x",
         "hovertemplate": "Name=Dr. Mundo<br>Pick %=%{x}<br>count=%{y}<extra></extra>",
         "legendgroup": "Dr. Mundo",
         "marker": {
          "color": "#19d3f3",
          "pattern": {
           "shape": ""
          }
         },
         "name": "Dr. Mundo",
         "offsetgroup": "Dr. Mundo",
         "orientation": "v",
         "showlegend": true,
         "type": "histogram",
         "x": [
          0.0344
         ],
         "xaxis": "x",
         "yaxis": "y"
        },
        {
         "alignmentgroup": "True",
         "bingroup": "x",
         "hovertemplate": "Name=Draven<br>Pick %=%{x}<br>count=%{y}<extra></extra>",
         "legendgroup": "Draven",
         "marker": {
          "color": "#FF6692",
          "pattern": {
           "shape": ""
          }
         },
         "name": "Draven",
         "offsetgroup": "Draven",
         "orientation": "v",
         "showlegend": true,
         "type": "histogram",
         "x": [
          0.0555
         ],
         "xaxis": "x",
         "yaxis": "y"
        },
        {
         "alignmentgroup": "True",
         "bingroup": "x",
         "hovertemplate": "Name=Ekko<br>Pick %=%{x}<br>count=%{y}<extra></extra>",
         "legendgroup": "Ekko",
         "marker": {
          "color": "#B6E880",
          "pattern": {
           "shape": ""
          }
         },
         "name": "Ekko",
         "offsetgroup": "Ekko",
         "orientation": "v",
         "showlegend": true,
         "type": "histogram",
         "x": [
          0.0498,
          0.0227
         ],
         "xaxis": "x",
         "yaxis": "y"
        },
        {
         "alignmentgroup": "True",
         "bingroup": "x",
         "hovertemplate": "Name=Elise<br>Pick %=%{x}<br>count=%{y}<extra></extra>",
         "legendgroup": "Elise",
         "marker": {
          "color": "#FF97FF",
          "pattern": {
           "shape": ""
          }
         },
         "name": "Elise",
         "offsetgroup": "Elise",
         "orientation": "v",
         "showlegend": true,
         "type": "histogram",
         "x": [
          0.0201
         ],
         "xaxis": "x",
         "yaxis": "y"
        },
        {
         "alignmentgroup": "True",
         "bingroup": "x",
         "hovertemplate": "Name=Evelynn<br>Pick %=%{x}<br>count=%{y}<extra></extra>",
         "legendgroup": "Evelynn",
         "marker": {
          "color": "#FECB52",
          "pattern": {
           "shape": ""
          }
         },
         "name": "Evelynn",
         "offsetgroup": "Evelynn",
         "orientation": "v",
         "showlegend": true,
         "type": "histogram",
         "x": [
          0.0443
         ],
         "xaxis": "x",
         "yaxis": "y"
        },
        {
         "alignmentgroup": "True",
         "bingroup": "x",
         "hovertemplate": "Name=Ezreal<br>Pick %=%{x}<br>count=%{y}<extra></extra>",
         "legendgroup": "Ezreal",
         "marker": {
          "color": "#636efa",
          "pattern": {
           "shape": ""
          }
         },
         "name": "Ezreal",
         "offsetgroup": "Ezreal",
         "orientation": "v",
         "showlegend": true,
         "type": "histogram",
         "x": [
          0.2213
         ],
         "xaxis": "x",
         "yaxis": "y"
        },
        {
         "alignmentgroup": "True",
         "bingroup": "x",
         "hovertemplate": "Name=Fiddlesticks<br>Pick %=%{x}<br>count=%{y}<extra></extra>",
         "legendgroup": "Fiddlesticks",
         "marker": {
          "color": "#EF553B",
          "pattern": {
           "shape": ""
          }
         },
         "name": "Fiddlesticks",
         "offsetgroup": "Fiddlesticks",
         "orientation": "v",
         "showlegend": true,
         "type": "histogram",
         "x": [
          0.0364,
          0.0046
         ],
         "xaxis": "x",
         "yaxis": "y"
        },
        {
         "alignmentgroup": "True",
         "bingroup": "x",
         "hovertemplate": "Name=Fiora<br>Pick %=%{x}<br>count=%{y}<extra></extra>",
         "legendgroup": "Fiora",
         "marker": {
          "color": "#00cc96",
          "pattern": {
           "shape": ""
          }
         },
         "name": "Fiora",
         "offsetgroup": "Fiora",
         "orientation": "v",
         "showlegend": true,
         "type": "histogram",
         "x": [
          0.051
         ],
         "xaxis": "x",
         "yaxis": "y"
        },
        {
         "alignmentgroup": "True",
         "bingroup": "x",
         "hovertemplate": "Name=Fizz<br>Pick %=%{x}<br>count=%{y}<extra></extra>",
         "legendgroup": "Fizz",
         "marker": {
          "color": "#ab63fa",
          "pattern": {
           "shape": ""
          }
         },
         "name": "Fizz",
         "offsetgroup": "Fizz",
         "orientation": "v",
         "showlegend": true,
         "type": "histogram",
         "x": [
          0.0467
         ],
         "xaxis": "x",
         "yaxis": "y"
        },
        {
         "alignmentgroup": "True",
         "bingroup": "x",
         "hovertemplate": "Name=Galio<br>Pick %=%{x}<br>count=%{y}<extra></extra>",
         "legendgroup": "Galio",
         "marker": {
          "color": "#FFA15A",
          "pattern": {
           "shape": ""
          }
         },
         "name": "Galio",
         "offsetgroup": "Galio",
         "orientation": "v",
         "showlegend": true,
         "type": "histogram",
         "x": [
          0.0153,
          0.0045
         ],
         "xaxis": "x",
         "yaxis": "y"
        },
        {
         "alignmentgroup": "True",
         "bingroup": "x",
         "hovertemplate": "Name=Gangplank<br>Pick %=%{x}<br>count=%{y}<extra></extra>",
         "legendgroup": "Gangplank",
         "marker": {
          "color": "#19d3f3",
          "pattern": {
           "shape": ""
          }
         },
         "name": "Gangplank",
         "offsetgroup": "Gangplank",
         "orientation": "v",
         "showlegend": true,
         "type": "histogram",
         "x": [
          0.045,
          0.0062
         ],
         "xaxis": "x",
         "yaxis": "y"
        },
        {
         "alignmentgroup": "True",
         "bingroup": "x",
         "hovertemplate": "Name=Garen<br>Pick %=%{x}<br>count=%{y}<extra></extra>",
         "legendgroup": "Garen",
         "marker": {
          "color": "#FF6692",
          "pattern": {
           "shape": ""
          }
         },
         "name": "Garen",
         "offsetgroup": "Garen",
         "orientation": "v",
         "showlegend": true,
         "type": "histogram",
         "x": [
          0.1069
         ],
         "xaxis": "x",
         "yaxis": "y"
        },
        {
         "alignmentgroup": "True",
         "bingroup": "x",
         "hovertemplate": "Name=Gnar<br>Pick %=%{x}<br>count=%{y}<extra></extra>",
         "legendgroup": "Gnar",
         "marker": {
          "color": "#B6E880",
          "pattern": {
           "shape": ""
          }
         },
         "name": "Gnar",
         "offsetgroup": "Gnar",
         "orientation": "v",
         "showlegend": true,
         "type": "histogram",
         "x": [
          0.0279
         ],
         "xaxis": "x",
         "yaxis": "y"
        },
        {
         "alignmentgroup": "True",
         "bingroup": "x",
         "hovertemplate": "Name=Gragas<br>Pick %=%{x}<br>count=%{y}<extra></extra>",
         "legendgroup": "Gragas",
         "marker": {
          "color": "#FF97FF",
          "pattern": {
           "shape": ""
          }
         },
         "name": "Gragas",
         "offsetgroup": "Gragas",
         "orientation": "v",
         "showlegend": true,
         "type": "histogram",
         "x": [
          0.0248,
          0.005,
          0.0098
         ],
         "xaxis": "x",
         "yaxis": "y"
        },
        {
         "alignmentgroup": "True",
         "bingroup": "x",
         "hovertemplate": "Name=Graves<br>Pick %=%{x}<br>count=%{y}<extra></extra>",
         "legendgroup": "Graves",
         "marker": {
          "color": "#FECB52",
          "pattern": {
           "shape": ""
          }
         },
         "name": "Graves",
         "offsetgroup": "Graves",
         "orientation": "v",
         "showlegend": true,
         "type": "histogram",
         "x": [
          0.1439
         ],
         "xaxis": "x",
         "yaxis": "y"
        },
        {
         "alignmentgroup": "True",
         "bingroup": "x",
         "hovertemplate": "Name=Gwen<br>Pick %=%{x}<br>count=%{y}<extra></extra>",
         "legendgroup": "Gwen",
         "marker": {
          "color": "#636efa",
          "pattern": {
           "shape": ""
          }
         },
         "name": "Gwen",
         "offsetgroup": "Gwen",
         "orientation": "v",
         "showlegend": true,
         "type": "histogram",
         "x": [
          0.0299,
          0.0055
         ],
         "xaxis": "x",
         "yaxis": "y"
        },
        {
         "alignmentgroup": "True",
         "bingroup": "x",
         "hovertemplate": "Name=Hecarim<br>Pick %=%{x}<br>count=%{y}<extra></extra>",
         "legendgroup": "Hecarim",
         "marker": {
          "color": "#EF553B",
          "pattern": {
           "shape": ""
          }
         },
         "name": "Hecarim",
         "offsetgroup": "Hecarim",
         "orientation": "v",
         "showlegend": true,
         "type": "histogram",
         "x": [
          0.0501
         ],
         "xaxis": "x",
         "yaxis": "y"
        },
        {
         "alignmentgroup": "True",
         "bingroup": "x",
         "hovertemplate": "Name=Heimerdinger<br>Pick %=%{x}<br>count=%{y}<extra></extra>",
         "legendgroup": "Heimerdinger",
         "marker": {
          "color": "#00cc96",
          "pattern": {
           "shape": ""
          }
         },
         "name": "Heimerdinger",
         "offsetgroup": "Heimerdinger",
         "orientation": "v",
         "showlegend": true,
         "type": "histogram",
         "x": [
          0.0062,
          0.0118,
          0.0063
         ],
         "xaxis": "x",
         "yaxis": "y"
        },
        {
         "alignmentgroup": "True",
         "bingroup": "x",
         "hovertemplate": "Name=Illaoi<br>Pick %=%{x}<br>count=%{y}<extra></extra>",
         "legendgroup": "Illaoi",
         "marker": {
          "color": "#ab63fa",
          "pattern": {
           "shape": ""
          }
         },
         "name": "Illaoi",
         "offsetgroup": "Illaoi",
         "orientation": "v",
         "showlegend": true,
         "type": "histogram",
         "x": [
          0.0444
         ],
         "xaxis": "x",
         "yaxis": "y"
        },
        {
         "alignmentgroup": "True",
         "bingroup": "x",
         "hovertemplate": "Name=Irelia<br>Pick %=%{x}<br>count=%{y}<extra></extra>",
         "legendgroup": "Irelia",
         "marker": {
          "color": "#FFA15A",
          "pattern": {
           "shape": ""
          }
         },
         "name": "Irelia",
         "offsetgroup": "Irelia",
         "orientation": "v",
         "showlegend": true,
         "type": "histogram",
         "x": [
          0.0365,
          0.0336
         ],
         "xaxis": "x",
         "yaxis": "y"
        },
        {
         "alignmentgroup": "True",
         "bingroup": "x",
         "hovertemplate": "Name=Ivern<br>Pick %=%{x}<br>count=%{y}<extra></extra>",
         "legendgroup": "Ivern",
         "marker": {
          "color": "#19d3f3",
          "pattern": {
           "shape": ""
          }
         },
         "name": "Ivern",
         "offsetgroup": "Ivern",
         "orientation": "v",
         "showlegend": true,
         "type": "histogram",
         "x": [
          0.0181
         ],
         "xaxis": "x",
         "yaxis": "y"
        },
        {
         "alignmentgroup": "True",
         "bingroup": "x",
         "hovertemplate": "Name=Janna<br>Pick %=%{x}<br>count=%{y}<extra></extra>",
         "legendgroup": "Janna",
         "marker": {
          "color": "#FF6692",
          "pattern": {
           "shape": ""
          }
         },
         "name": "Janna",
         "offsetgroup": "Janna",
         "orientation": "v",
         "showlegend": true,
         "type": "histogram",
         "x": [
          0.0285
         ],
         "xaxis": "x",
         "yaxis": "y"
        },
        {
         "alignmentgroup": "True",
         "bingroup": "x",
         "hovertemplate": "Name=Jarvan IV<br>Pick %=%{x}<br>count=%{y}<extra></extra>",
         "legendgroup": "Jarvan IV",
         "marker": {
          "color": "#B6E880",
          "pattern": {
           "shape": ""
          }
         },
         "name": "Jarvan IV",
         "offsetgroup": "Jarvan IV",
         "orientation": "v",
         "showlegend": true,
         "type": "histogram",
         "x": [
          0.0959
         ],
         "xaxis": "x",
         "yaxis": "y"
        },
        {
         "alignmentgroup": "True",
         "bingroup": "x",
         "hovertemplate": "Name=Jax<br>Pick %=%{x}<br>count=%{y}<extra></extra>",
         "legendgroup": "Jax",
         "marker": {
          "color": "#FF97FF",
          "pattern": {
           "shape": ""
          }
         },
         "name": "Jax",
         "offsetgroup": "Jax",
         "orientation": "v",
         "showlegend": true,
         "type": "histogram",
         "x": [
          0.0992,
          0.0165
         ],
         "xaxis": "x",
         "yaxis": "y"
        },
        {
         "alignmentgroup": "True",
         "bingroup": "x",
         "hovertemplate": "Name=Jayce<br>Pick %=%{x}<br>count=%{y}<extra></extra>",
         "legendgroup": "Jayce",
         "marker": {
          "color": "#FECB52",
          "pattern": {
           "shape": ""
          }
         },
         "name": "Jayce",
         "offsetgroup": "Jayce",
         "orientation": "v",
         "showlegend": true,
         "type": "histogram",
         "x": [
          0.056,
          0.0554
         ],
         "xaxis": "x",
         "yaxis": "y"
        },
        {
         "alignmentgroup": "True",
         "bingroup": "x",
         "hovertemplate": "Name=Jhin<br>Pick %=%{x}<br>count=%{y}<extra></extra>",
         "legendgroup": "Jhin",
         "marker": {
          "color": "#636efa",
          "pattern": {
           "shape": ""
          }
         },
         "name": "Jhin",
         "offsetgroup": "Jhin",
         "orientation": "v",
         "showlegend": true,
         "type": "histogram",
         "x": [
          0.1103
         ],
         "xaxis": "x",
         "yaxis": "y"
        },
        {
         "alignmentgroup": "True",
         "bingroup": "x",
         "hovertemplate": "Name=Jinx<br>Pick %=%{x}<br>count=%{y}<extra></extra>",
         "legendgroup": "Jinx",
         "marker": {
          "color": "#EF553B",
          "pattern": {
           "shape": ""
          }
         },
         "name": "Jinx",
         "offsetgroup": "Jinx",
         "orientation": "v",
         "showlegend": true,
         "type": "histogram",
         "x": [
          0.159
         ],
         "xaxis": "x",
         "yaxis": "y"
        },
        {
         "alignmentgroup": "True",
         "bingroup": "x",
         "hovertemplate": "Name=K'Sante<br>Pick %=%{x}<br>count=%{y}<extra></extra>",
         "legendgroup": "K'Sante",
         "marker": {
          "color": "#00cc96",
          "pattern": {
           "shape": ""
          }
         },
         "name": "K'Sante",
         "offsetgroup": "K'Sante",
         "orientation": "v",
         "showlegend": true,
         "type": "histogram",
         "x": [
          0.1056
         ],
         "xaxis": "x",
         "yaxis": "y"
        },
        {
         "alignmentgroup": "True",
         "bingroup": "x",
         "hovertemplate": "Name=Kai'Sa<br>Pick %=%{x}<br>count=%{y}<extra></extra>",
         "legendgroup": "Kai'Sa",
         "marker": {
          "color": "#ab63fa",
          "pattern": {
           "shape": ""
          }
         },
         "name": "Kai'Sa",
         "offsetgroup": "Kai'Sa",
         "orientation": "v",
         "showlegend": true,
         "type": "histogram",
         "x": [
          0.2453
         ],
         "xaxis": "x",
         "yaxis": "y"
        },
        {
         "alignmentgroup": "True",
         "bingroup": "x",
         "hovertemplate": "Name=Kalista<br>Pick %=%{x}<br>count=%{y}<extra></extra>",
         "legendgroup": "Kalista",
         "marker": {
          "color": "#FFA15A",
          "pattern": {
           "shape": ""
          }
         },
         "name": "Kalista",
         "offsetgroup": "Kalista",
         "orientation": "v",
         "showlegend": true,
         "type": "histogram",
         "x": [
          0.0366
         ],
         "xaxis": "x",
         "yaxis": "y"
        },
        {
         "alignmentgroup": "True",
         "bingroup": "x",
         "hovertemplate": "Name=Karma<br>Pick %=%{x}<br>count=%{y}<extra></extra>",
         "legendgroup": "Karma",
         "marker": {
          "color": "#19d3f3",
          "pattern": {
           "shape": ""
          }
         },
         "name": "Karma",
         "offsetgroup": "Karma",
         "orientation": "v",
         "showlegend": true,
         "type": "histogram",
         "x": [
          0.0558
         ],
         "xaxis": "x",
         "yaxis": "y"
        },
        {
         "alignmentgroup": "True",
         "bingroup": "x",
         "hovertemplate": "Name=Karthus<br>Pick %=%{x}<br>count=%{y}<extra></extra>",
         "legendgroup": "Karthus",
         "marker": {
          "color": "#FF6692",
          "pattern": {
           "shape": ""
          }
         },
         "name": "Karthus",
         "offsetgroup": "Karthus",
         "orientation": "v",
         "showlegend": true,
         "type": "histogram",
         "x": [
          0.0274,
          0.0037
         ],
         "xaxis": "x",
         "yaxis": "y"
        },
        {
         "alignmentgroup": "True",
         "bingroup": "x",
         "hovertemplate": "Name=Kassadin<br>Pick %=%{x}<br>count=%{y}<extra></extra>",
         "legendgroup": "Kassadin",
         "marker": {
          "color": "#B6E880",
          "pattern": {
           "shape": ""
          }
         },
         "name": "Kassadin",
         "offsetgroup": "Kassadin",
         "orientation": "v",
         "showlegend": true,
         "type": "histogram",
         "x": [
          0.0341
         ],
         "xaxis": "x",
         "yaxis": "y"
        },
        {
         "alignmentgroup": "True",
         "bingroup": "x",
         "hovertemplate": "Name=Katarina<br>Pick %=%{x}<br>count=%{y}<extra></extra>",
         "legendgroup": "Katarina",
         "marker": {
          "color": "#FF97FF",
          "pattern": {
           "shape": ""
          }
         },
         "name": "Katarina",
         "offsetgroup": "Katarina",
         "orientation": "v",
         "showlegend": true,
         "type": "histogram",
         "x": [
          0.0556
         ],
         "xaxis": "x",
         "yaxis": "y"
        },
        {
         "alignmentgroup": "True",
         "bingroup": "x",
         "hovertemplate": "Name=Kayle<br>Pick %=%{x}<br>count=%{y}<extra></extra>",
         "legendgroup": "Kayle",
         "marker": {
          "color": "#FECB52",
          "pattern": {
           "shape": ""
          }
         },
         "name": "Kayle",
         "offsetgroup": "Kayle",
         "orientation": "v",
         "showlegend": true,
         "type": "histogram",
         "x": [
          0.0292
         ],
         "xaxis": "x",
         "yaxis": "y"
        },
        {
         "alignmentgroup": "True",
         "bingroup": "x",
         "hovertemplate": "Name=Kayn<br>Pick %=%{x}<br>count=%{y}<extra></extra>",
         "legendgroup": "Kayn",
         "marker": {
          "color": "#636efa",
          "pattern": {
           "shape": ""
          }
         },
         "name": "Kayn",
         "offsetgroup": "Kayn",
         "orientation": "v",
         "showlegend": true,
         "type": "histogram",
         "x": [
          0.0874
         ],
         "xaxis": "x",
         "yaxis": "y"
        },
        {
         "alignmentgroup": "True",
         "bingroup": "x",
         "hovertemplate": "Name=Kennen<br>Pick %=%{x}<br>count=%{y}<extra></extra>",
         "legendgroup": "Kennen",
         "marker": {
          "color": "#EF553B",
          "pattern": {
           "shape": ""
          }
         },
         "name": "Kennen",
         "offsetgroup": "Kennen",
         "orientation": "v",
         "showlegend": true,
         "type": "histogram",
         "x": [
          0.0033,
          0.0201
         ],
         "xaxis": "x",
         "yaxis": "y"
        },
        {
         "alignmentgroup": "True",
         "bingroup": "x",
         "hovertemplate": "Name=Kha'Zix<br>Pick %=%{x}<br>count=%{y}<extra></extra>",
         "legendgroup": "Kha'Zix",
         "marker": {
          "color": "#00cc96",
          "pattern": {
           "shape": ""
          }
         },
         "name": "Kha'Zix",
         "offsetgroup": "Kha'Zix",
         "orientation": "v",
         "showlegend": true,
         "type": "histogram",
         "x": [
          0.0607
         ],
         "xaxis": "x",
         "yaxis": "y"
        },
        {
         "alignmentgroup": "True",
         "bingroup": "x",
         "hovertemplate": "Name=Kindred<br>Pick %=%{x}<br>count=%{y}<extra></extra>",
         "legendgroup": "Kindred",
         "marker": {
          "color": "#ab63fa",
          "pattern": {
           "shape": ""
          }
         },
         "name": "Kindred",
         "offsetgroup": "Kindred",
         "orientation": "v",
         "showlegend": true,
         "type": "histogram",
         "x": [
          0.0284
         ],
         "xaxis": "x",
         "yaxis": "y"
        },
        {
         "alignmentgroup": "True",
         "bingroup": "x",
         "hovertemplate": "Name=Kled<br>Pick %=%{x}<br>count=%{y}<extra></extra>",
         "legendgroup": "Kled",
         "marker": {
          "color": "#FFA15A",
          "pattern": {
           "shape": ""
          }
         },
         "name": "Kled",
         "offsetgroup": "Kled",
         "orientation": "v",
         "showlegend": true,
         "type": "histogram",
         "x": [
          0.0139
         ],
         "xaxis": "x",
         "yaxis": "y"
        },
        {
         "alignmentgroup": "True",
         "bingroup": "x",
         "hovertemplate": "Name=Kog'Maw<br>Pick %=%{x}<br>count=%{y}<extra></extra>",
         "legendgroup": "Kog'Maw",
         "marker": {
          "color": "#19d3f3",
          "pattern": {
           "shape": ""
          }
         },
         "name": "Kog'Maw",
         "offsetgroup": "Kog'Maw",
         "orientation": "v",
         "showlegend": true,
         "type": "histogram",
         "x": [
          0.0133
         ],
         "xaxis": "x",
         "yaxis": "y"
        },
        {
         "alignmentgroup": "True",
         "bingroup": "x",
         "hovertemplate": "Name=LeBlanc<br>Pick %=%{x}<br>count=%{y}<extra></extra>",
         "legendgroup": "LeBlanc",
         "marker": {
          "color": "#FF6692",
          "pattern": {
           "shape": ""
          }
         },
         "name": "LeBlanc",
         "offsetgroup": "LeBlanc",
         "orientation": "v",
         "showlegend": true,
         "type": "histogram",
         "x": [
          0.0441
         ],
         "xaxis": "x",
         "yaxis": "y"
        },
        {
         "alignmentgroup": "True",
         "bingroup": "x",
         "hovertemplate": "Name=Lee Sin<br>Pick %=%{x}<br>count=%{y}<extra></extra>",
         "legendgroup": "Lee Sin",
         "marker": {
          "color": "#B6E880",
          "pattern": {
           "shape": ""
          }
         },
         "name": "Lee Sin",
         "offsetgroup": "Lee Sin",
         "orientation": "v",
         "showlegend": true,
         "type": "histogram",
         "x": [
          0.1637
         ],
         "xaxis": "x",
         "yaxis": "y"
        },
        {
         "alignmentgroup": "True",
         "bingroup": "x",
         "hovertemplate": "Name=Leona<br>Pick %=%{x}<br>count=%{y}<extra></extra>",
         "legendgroup": "Leona",
         "marker": {
          "color": "#FF97FF",
          "pattern": {
           "shape": ""
          }
         },
         "name": "Leona",
         "offsetgroup": "Leona",
         "orientation": "v",
         "showlegend": true,
         "type": "histogram",
         "x": [
          0.0484
         ],
         "xaxis": "x",
         "yaxis": "y"
        },
        {
         "alignmentgroup": "True",
         "bingroup": "x",
         "hovertemplate": "Name=Lillia<br>Pick %=%{x}<br>count=%{y}<extra></extra>",
         "legendgroup": "Lillia",
         "marker": {
          "color": "#FECB52",
          "pattern": {
           "shape": ""
          }
         },
         "name": "Lillia",
         "offsetgroup": "Lillia",
         "orientation": "v",
         "showlegend": true,
         "type": "histogram",
         "x": [
          0.0414
         ],
         "xaxis": "x",
         "yaxis": "y"
        },
        {
         "alignmentgroup": "True",
         "bingroup": "x",
         "hovertemplate": "Name=Lissandra<br>Pick %=%{x}<br>count=%{y}<extra></extra>",
         "legendgroup": "Lissandra",
         "marker": {
          "color": "#636efa",
          "pattern": {
           "shape": ""
          }
         },
         "name": "Lissandra",
         "offsetgroup": "Lissandra",
         "orientation": "v",
         "showlegend": true,
         "type": "histogram",
         "x": [
          0.0311,
          0.005
         ],
         "xaxis": "x",
         "yaxis": "y"
        },
        {
         "alignmentgroup": "True",
         "bingroup": "x",
         "hovertemplate": "Name=Lucian<br>Pick %=%{x}<br>count=%{y}<extra></extra>",
         "legendgroup": "Lucian",
         "marker": {
          "color": "#EF553B",
          "pattern": {
           "shape": ""
          }
         },
         "name": "Lucian",
         "offsetgroup": "Lucian",
         "orientation": "v",
         "showlegend": true,
         "type": "histogram",
         "x": [
          0.0628
         ],
         "xaxis": "x",
         "yaxis": "y"
        },
        {
         "alignmentgroup": "True",
         "bingroup": "x",
         "hovertemplate": "Name=Lulu<br>Pick %=%{x}<br>count=%{y}<extra></extra>",
         "legendgroup": "Lulu",
         "marker": {
          "color": "#00cc96",
          "pattern": {
           "shape": ""
          }
         },
         "name": "Lulu",
         "offsetgroup": "Lulu",
         "orientation": "v",
         "showlegend": true,
         "type": "histogram",
         "x": [
          0.0603
         ],
         "xaxis": "x",
         "yaxis": "y"
        },
        {
         "alignmentgroup": "True",
         "bingroup": "x",
         "hovertemplate": "Name=Lux<br>Pick %=%{x}<br>count=%{y}<extra></extra>",
         "legendgroup": "Lux",
         "marker": {
          "color": "#ab63fa",
          "pattern": {
           "shape": ""
          }
         },
         "name": "Lux",
         "offsetgroup": "Lux",
         "orientation": "v",
         "showlegend": true,
         "type": "histogram",
         "x": [
          0.1138,
          0.0436
         ],
         "xaxis": "x",
         "yaxis": "y"
        },
        {
         "alignmentgroup": "True",
         "bingroup": "x",
         "hovertemplate": "Name=Malphite<br>Pick %=%{x}<br>count=%{y}<extra></extra>",
         "legendgroup": "Malphite",
         "marker": {
          "color": "#FFA15A",
          "pattern": {
           "shape": ""
          }
         },
         "name": "Malphite",
         "offsetgroup": "Malphite",
         "orientation": "v",
         "showlegend": true,
         "type": "histogram",
         "x": [
          0.0538,
          0.0104,
          0.0103
         ],
         "xaxis": "x",
         "yaxis": "y"
        },
        {
         "alignmentgroup": "True",
         "bingroup": "x",
         "hovertemplate": "Name=Malzahar<br>Pick %=%{x}<br>count=%{y}<extra></extra>",
         "legendgroup": "Malzahar",
         "marker": {
          "color": "#19d3f3",
          "pattern": {
           "shape": ""
          }
         },
         "name": "Malzahar",
         "offsetgroup": "Malzahar",
         "orientation": "v",
         "showlegend": true,
         "type": "histogram",
         "x": [
          0.0346
         ],
         "xaxis": "x",
         "yaxis": "y"
        },
        {
         "alignmentgroup": "True",
         "bingroup": "x",
         "hovertemplate": "Name=Maokai<br>Pick %=%{x}<br>count=%{y}<extra></extra>",
         "legendgroup": "Maokai",
         "marker": {
          "color": "#FF6692",
          "pattern": {
           "shape": ""
          }
         },
         "name": "Maokai",
         "offsetgroup": "Maokai",
         "orientation": "v",
         "showlegend": true,
         "type": "histogram",
         "x": [
          0.043,
          0.014
         ],
         "xaxis": "x",
         "yaxis": "y"
        },
        {
         "alignmentgroup": "True",
         "bingroup": "x",
         "hovertemplate": "Name=Master Yi<br>Pick %=%{x}<br>count=%{y}<extra></extra>",
         "legendgroup": "Master Yi",
         "marker": {
          "color": "#B6E880",
          "pattern": {
           "shape": ""
          }
         },
         "name": "Master Yi",
         "offsetgroup": "Master Yi",
         "orientation": "v",
         "showlegend": true,
         "type": "histogram",
         "x": [
          0.0638
         ],
         "xaxis": "x",
         "yaxis": "y"
        },
        {
         "alignmentgroup": "True",
         "bingroup": "x",
         "hovertemplate": "Name=Milio<br>Pick %=%{x}<br>count=%{y}<extra></extra>",
         "legendgroup": "Milio",
         "marker": {
          "color": "#FF97FF",
          "pattern": {
           "shape": ""
          }
         },
         "name": "Milio",
         "offsetgroup": "Milio",
         "orientation": "v",
         "showlegend": true,
         "type": "histogram",
         "x": [
          0.0448
         ],
         "xaxis": "x",
         "yaxis": "y"
        },
        {
         "alignmentgroup": "True",
         "bingroup": "x",
         "hovertemplate": "Name=Miss Fortune<br>Pick %=%{x}<br>count=%{y}<extra></extra>",
         "legendgroup": "Miss Fortune",
         "marker": {
          "color": "#FECB52",
          "pattern": {
           "shape": ""
          }
         },
         "name": "Miss Fortune",
         "offsetgroup": "Miss Fortune",
         "orientation": "v",
         "showlegend": true,
         "type": "histogram",
         "x": [
          0.0837,
          0.009
         ],
         "xaxis": "x",
         "yaxis": "y"
        },
        {
         "alignmentgroup": "True",
         "bingroup": "x",
         "hovertemplate": "Name=Mordekaiser<br>Pick %=%{x}<br>count=%{y}<extra></extra>",
         "legendgroup": "Mordekaiser",
         "marker": {
          "color": "#636efa",
          "pattern": {
           "shape": ""
          }
         },
         "name": "Mordekaiser",
         "offsetgroup": "Mordekaiser",
         "orientation": "v",
         "showlegend": true,
         "type": "histogram",
         "x": [
          0.0487
         ],
         "xaxis": "x",
         "yaxis": "y"
        },
        {
         "alignmentgroup": "True",
         "bingroup": "x",
         "hovertemplate": "Name=Morgana<br>Pick %=%{x}<br>count=%{y}<extra></extra>",
         "legendgroup": "Morgana",
         "marker": {
          "color": "#EF553B",
          "pattern": {
           "shape": ""
          }
         },
         "name": "Morgana",
         "offsetgroup": "Morgana",
         "orientation": "v",
         "showlegend": true,
         "type": "histogram",
         "x": [
          0.0697,
          0.0226
         ],
         "xaxis": "x",
         "yaxis": "y"
        },
        {
         "alignmentgroup": "True",
         "bingroup": "x",
         "hovertemplate": "Name=Naafiri<br>Pick %=%{x}<br>count=%{y}<extra></extra>",
         "legendgroup": "Naafiri",
         "marker": {
          "color": "#00cc96",
          "pattern": {
           "shape": ""
          }
         },
         "name": "Naafiri",
         "offsetgroup": "Naafiri",
         "orientation": "v",
         "showlegend": true,
         "type": "histogram",
         "x": [
          0.0317,
          0.0053,
          0.0048
         ],
         "xaxis": "x",
         "yaxis": "y"
        },
        {
         "alignmentgroup": "True",
         "bingroup": "x",
         "hovertemplate": "Name=Nami<br>Pick %=%{x}<br>count=%{y}<extra></extra>",
         "legendgroup": "Nami",
         "marker": {
          "color": "#ab63fa",
          "pattern": {
           "shape": ""
          }
         },
         "name": "Nami",
         "offsetgroup": "Nami",
         "orientation": "v",
         "showlegend": true,
         "type": "histogram",
         "x": [
          0.0595
         ],
         "xaxis": "x",
         "yaxis": "y"
        },
        {
         "alignmentgroup": "True",
         "bingroup": "x",
         "hovertemplate": "Name=Nasus<br>Pick %=%{x}<br>count=%{y}<extra></extra>",
         "legendgroup": "Nasus",
         "marker": {
          "color": "#FFA15A",
          "pattern": {
           "shape": ""
          }
         },
         "name": "Nasus",
         "offsetgroup": "Nasus",
         "orientation": "v",
         "showlegend": true,
         "type": "histogram",
         "x": [
          0.0492
         ],
         "xaxis": "x",
         "yaxis": "y"
        },
        {
         "alignmentgroup": "True",
         "bingroup": "x",
         "hovertemplate": "Name=Nautilus<br>Pick %=%{x}<br>count=%{y}<extra></extra>",
         "legendgroup": "Nautilus",
         "marker": {
          "color": "#19d3f3",
          "pattern": {
           "shape": ""
          }
         },
         "name": "Nautilus",
         "offsetgroup": "Nautilus",
         "orientation": "v",
         "showlegend": true,
         "type": "histogram",
         "x": [
          0.1103
         ],
         "xaxis": "x",
         "yaxis": "y"
        },
        {
         "alignmentgroup": "True",
         "bingroup": "x",
         "hovertemplate": "Name=Neeko<br>Pick %=%{x}<br>count=%{y}<extra></extra>",
         "legendgroup": "Neeko",
         "marker": {
          "color": "#FF6692",
          "pattern": {
           "shape": ""
          }
         },
         "name": "Neeko",
         "offsetgroup": "Neeko",
         "orientation": "v",
         "showlegend": true,
         "type": "histogram",
         "x": [
          0.0305,
          0.0284
         ],
         "xaxis": "x",
         "yaxis": "y"
        },
        {
         "alignmentgroup": "True",
         "bingroup": "x",
         "hovertemplate": "Name=Nidalee<br>Pick %=%{x}<br>count=%{y}<extra></extra>",
         "legendgroup": "Nidalee",
         "marker": {
          "color": "#B6E880",
          "pattern": {
           "shape": ""
          }
         },
         "name": "Nidalee",
         "offsetgroup": "Nidalee",
         "orientation": "v",
         "showlegend": true,
         "type": "histogram",
         "x": [
          0.0502
         ],
         "xaxis": "x",
         "yaxis": "y"
        },
        {
         "alignmentgroup": "True",
         "bingroup": "x",
         "hovertemplate": "Name=Nilah<br>Pick %=%{x}<br>count=%{y}<extra></extra>",
         "legendgroup": "Nilah",
         "marker": {
          "color": "#FF97FF",
          "pattern": {
           "shape": ""
          }
         },
         "name": "Nilah",
         "offsetgroup": "Nilah",
         "orientation": "v",
         "showlegend": true,
         "type": "histogram",
         "x": [
          0.0334
         ],
         "xaxis": "x",
         "yaxis": "y"
        },
        {
         "alignmentgroup": "True",
         "bingroup": "x",
         "hovertemplate": "Name=Nocturne<br>Pick %=%{x}<br>count=%{y}<extra></extra>",
         "legendgroup": "Nocturne",
         "marker": {
          "color": "#FECB52",
          "pattern": {
           "shape": ""
          }
         },
         "name": "Nocturne",
         "offsetgroup": "Nocturne",
         "orientation": "v",
         "showlegend": true,
         "type": "histogram",
         "x": [
          0.0524
         ],
         "xaxis": "x",
         "yaxis": "y"
        },
        {
         "alignmentgroup": "True",
         "bingroup": "x",
         "hovertemplate": "Name=Nunu<br>Pick %=%{x}<br>count=%{y}<extra></extra>",
         "legendgroup": "Nunu",
         "marker": {
          "color": "#636efa",
          "pattern": {
           "shape": ""
          }
         },
         "name": "Nunu",
         "offsetgroup": "Nunu",
         "orientation": "v",
         "showlegend": true,
         "type": "histogram",
         "x": [
          0.0285
         ],
         "xaxis": "x",
         "yaxis": "y"
        },
        {
         "alignmentgroup": "True",
         "bingroup": "x",
         "hovertemplate": "Name=Olaf<br>Pick %=%{x}<br>count=%{y}<extra></extra>",
         "legendgroup": "Olaf",
         "marker": {
          "color": "#EF553B",
          "pattern": {
           "shape": ""
          }
         },
         "name": "Olaf",
         "offsetgroup": "Olaf",
         "orientation": "v",
         "showlegend": true,
         "type": "histogram",
         "x": [
          0.0239,
          0.003
         ],
         "xaxis": "x",
         "yaxis": "y"
        },
        {
         "alignmentgroup": "True",
         "bingroup": "x",
         "hovertemplate": "Name=Orianna<br>Pick %=%{x}<br>count=%{y}<extra></extra>",
         "legendgroup": "Orianna",
         "marker": {
          "color": "#00cc96",
          "pattern": {
           "shape": ""
          }
         },
         "name": "Orianna",
         "offsetgroup": "Orianna",
         "orientation": "v",
         "showlegend": true,
         "type": "histogram",
         "x": [
          0.1109
         ],
         "xaxis": "x",
         "yaxis": "y"
        },
        {
         "alignmentgroup": "True",
         "bingroup": "x",
         "hovertemplate": "Name=Ornn<br>Pick %=%{x}<br>count=%{y}<extra></extra>",
         "legendgroup": "Ornn",
         "marker": {
          "color": "#ab63fa",
          "pattern": {
           "shape": ""
          }
         },
         "name": "Ornn",
         "offsetgroup": "Ornn",
         "orientation": "v",
         "showlegend": true,
         "type": "histogram",
         "x": [
          0.0357
         ],
         "xaxis": "x",
         "yaxis": "y"
        },
        {
         "alignmentgroup": "True",
         "bingroup": "x",
         "hovertemplate": "Name=Pantheon<br>Pick %=%{x}<br>count=%{y}<extra></extra>",
         "legendgroup": "Pantheon",
         "marker": {
          "color": "#FFA15A",
          "pattern": {
           "shape": ""
          }
         },
         "name": "Pantheon",
         "offsetgroup": "Pantheon",
         "orientation": "v",
         "showlegend": true,
         "type": "histogram",
         "x": [
          0.0225,
          0.0205,
          0.022
         ],
         "xaxis": "x",
         "yaxis": "y"
        },
        {
         "alignmentgroup": "True",
         "bingroup": "x",
         "hovertemplate": "Name=Poppy<br>Pick %=%{x}<br>count=%{y}<extra></extra>",
         "legendgroup": "Poppy",
         "marker": {
          "color": "#19d3f3",
          "pattern": {
           "shape": ""
          }
         },
         "name": "Poppy",
         "offsetgroup": "Poppy",
         "orientation": "v",
         "showlegend": true,
         "type": "histogram",
         "x": [
          0.0214,
          0.0172
         ],
         "xaxis": "x",
         "yaxis": "y"
        },
        {
         "alignmentgroup": "True",
         "bingroup": "x",
         "hovertemplate": "Name=Pyke<br>Pick %=%{x}<br>count=%{y}<extra></extra>",
         "legendgroup": "Pyke",
         "marker": {
          "color": "#FF6692",
          "pattern": {
           "shape": ""
          }
         },
         "name": "Pyke",
         "offsetgroup": "Pyke",
         "orientation": "v",
         "showlegend": true,
         "type": "histogram",
         "x": [
          0.0719
         ],
         "xaxis": "x",
         "yaxis": "y"
        },
        {
         "alignmentgroup": "True",
         "bingroup": "x",
         "hovertemplate": "Name=Qiyana<br>Pick %=%{x}<br>count=%{y}<extra></extra>",
         "legendgroup": "Qiyana",
         "marker": {
          "color": "#B6E880",
          "pattern": {
           "shape": ""
          }
         },
         "name": "Qiyana",
         "offsetgroup": "Qiyana",
         "orientation": "v",
         "showlegend": true,
         "type": "histogram",
         "x": [
          0.0217
         ],
         "xaxis": "x",
         "yaxis": "y"
        },
        {
         "alignmentgroup": "True",
         "bingroup": "x",
         "hovertemplate": "Name=Quinn<br>Pick %=%{x}<br>count=%{y}<extra></extra>",
         "legendgroup": "Quinn",
         "marker": {
          "color": "#FF97FF",
          "pattern": {
           "shape": ""
          }
         },
         "name": "Quinn",
         "offsetgroup": "Quinn",
         "orientation": "v",
         "showlegend": true,
         "type": "histogram",
         "x": [
          0.0151,
          0.0023
         ],
         "xaxis": "x",
         "yaxis": "y"
        },
        {
         "alignmentgroup": "True",
         "bingroup": "x",
         "hovertemplate": "Name=Rakan<br>Pick %=%{x}<br>count=%{y}<extra></extra>",
         "legendgroup": "Rakan",
         "marker": {
          "color": "#FECB52",
          "pattern": {
           "shape": ""
          }
         },
         "name": "Rakan",
         "offsetgroup": "Rakan",
         "orientation": "v",
         "showlegend": true,
         "type": "histogram",
         "x": [
          0.121
         ],
         "xaxis": "x",
         "yaxis": "y"
        },
        {
         "alignmentgroup": "True",
         "bingroup": "x",
         "hovertemplate": "Name=Rammus<br>Pick %=%{x}<br>count=%{y}<extra></extra>",
         "legendgroup": "Rammus",
         "marker": {
          "color": "#636efa",
          "pattern": {
           "shape": ""
          }
         },
         "name": "Rammus",
         "offsetgroup": "Rammus",
         "orientation": "v",
         "showlegend": true,
         "type": "histogram",
         "x": [
          0.0396
         ],
         "xaxis": "x",
         "yaxis": "y"
        },
        {
         "alignmentgroup": "True",
         "bingroup": "x",
         "hovertemplate": "Name=Rek'Sai<br>Pick %=%{x}<br>count=%{y}<extra></extra>",
         "legendgroup": "Rek'Sai",
         "marker": {
          "color": "#EF553B",
          "pattern": {
           "shape": ""
          }
         },
         "name": "Rek'Sai",
         "offsetgroup": "Rek'Sai",
         "orientation": "v",
         "showlegend": true,
         "type": "histogram",
         "x": [
          0.0117
         ],
         "xaxis": "x",
         "yaxis": "y"
        },
        {
         "alignmentgroup": "True",
         "bingroup": "x",
         "hovertemplate": "Name=Rell<br>Pick %=%{x}<br>count=%{y}<extra></extra>",
         "legendgroup": "Rell",
         "marker": {
          "color": "#00cc96",
          "pattern": {
           "shape": ""
          }
         },
         "name": "Rell",
         "offsetgroup": "Rell",
         "orientation": "v",
         "showlegend": true,
         "type": "histogram",
         "x": [
          0.0532,
          0.0064
         ],
         "xaxis": "x",
         "yaxis": "y"
        },
        {
         "alignmentgroup": "True",
         "bingroup": "x",
         "hovertemplate": "Name=Renata Glasc<br>Pick %=%{x}<br>count=%{y}<extra></extra>",
         "legendgroup": "Renata Glasc",
         "marker": {
          "color": "#ab63fa",
          "pattern": {
           "shape": ""
          }
         },
         "name": "Renata Glasc",
         "offsetgroup": "Renata Glasc",
         "orientation": "v",
         "showlegend": true,
         "type": "histogram",
         "x": [
          0.032
         ],
         "xaxis": "x",
         "yaxis": "y"
        },
        {
         "alignmentgroup": "True",
         "bingroup": "x",
         "hovertemplate": "Name=Renekton<br>Pick %=%{x}<br>count=%{y}<extra></extra>",
         "legendgroup": "Renekton",
         "marker": {
          "color": "#FFA15A",
          "pattern": {
           "shape": ""
          }
         },
         "name": "Renekton",
         "offsetgroup": "Renekton",
         "orientation": "v",
         "showlegend": true,
         "type": "histogram",
         "x": [
          0.0782
         ],
         "xaxis": "x",
         "yaxis": "y"
        },
        {
         "alignmentgroup": "True",
         "bingroup": "x",
         "hovertemplate": "Name=Rengar<br>Pick %=%{x}<br>count=%{y}<extra></extra>",
         "legendgroup": "Rengar",
         "marker": {
          "color": "#19d3f3",
          "pattern": {
           "shape": ""
          }
         },
         "name": "Rengar",
         "offsetgroup": "Rengar",
         "orientation": "v",
         "showlegend": true,
         "type": "histogram",
         "x": [
          0.0249,
          0.0071
         ],
         "xaxis": "x",
         "yaxis": "y"
        },
        {
         "alignmentgroup": "True",
         "bingroup": "x",
         "hovertemplate": "Name=Riven<br>Pick %=%{x}<br>count=%{y}<extra></extra>",
         "legendgroup": "Riven",
         "marker": {
          "color": "#FF6692",
          "pattern": {
           "shape": ""
          }
         },
         "name": "Riven",
         "offsetgroup": "Riven",
         "orientation": "v",
         "showlegend": true,
         "type": "histogram",
         "x": [
          0.0386
         ],
         "xaxis": "x",
         "yaxis": "y"
        },
        {
         "alignmentgroup": "True",
         "bingroup": "x",
         "hovertemplate": "Name=Rumble<br>Pick %=%{x}<br>count=%{y}<extra></extra>",
         "legendgroup": "Rumble",
         "marker": {
          "color": "#B6E880",
          "pattern": {
           "shape": ""
          }
         },
         "name": "Rumble",
         "offsetgroup": "Rumble",
         "orientation": "v",
         "showlegend": true,
         "type": "histogram",
         "x": [
          0.0369,
          0.0053
         ],
         "xaxis": "x",
         "yaxis": "y"
        },
        {
         "alignmentgroup": "True",
         "bingroup": "x",
         "hovertemplate": "Name=Ryze<br>Pick %=%{x}<br>count=%{y}<extra></extra>",
         "legendgroup": "Ryze",
         "marker": {
          "color": "#FF97FF",
          "pattern": {
           "shape": ""
          }
         },
         "name": "Ryze",
         "offsetgroup": "Ryze",
         "orientation": "v",
         "showlegend": true,
         "type": "histogram",
         "x": [
          0.0156,
          0.0026
         ],
         "xaxis": "x",
         "yaxis": "y"
        },
        {
         "alignmentgroup": "True",
         "bingroup": "x",
         "hovertemplate": "Name=Samira<br>Pick %=%{x}<br>count=%{y}<extra></extra>",
         "legendgroup": "Samira",
         "marker": {
          "color": "#FECB52",
          "pattern": {
           "shape": ""
          }
         },
         "name": "Samira",
         "offsetgroup": "Samira",
         "orientation": "v",
         "showlegend": true,
         "type": "histogram",
         "x": [
          0.078
         ],
         "xaxis": "x",
         "yaxis": "y"
        },
        {
         "alignmentgroup": "True",
         "bingroup": "x",
         "hovertemplate": "Name=Sejuani<br>Pick %=%{x}<br>count=%{y}<extra></extra>",
         "legendgroup": "Sejuani",
         "marker": {
          "color": "#636efa",
          "pattern": {
           "shape": ""
          }
         },
         "name": "Sejuani",
         "offsetgroup": "Sejuani",
         "orientation": "v",
         "showlegend": true,
         "type": "histogram",
         "x": [
          0.0301
         ],
         "xaxis": "x",
         "yaxis": "y"
        },
        {
         "alignmentgroup": "True",
         "bingroup": "x",
         "hovertemplate": "Name=Senna<br>Pick %=%{x}<br>count=%{y}<extra></extra>",
         "legendgroup": "Senna",
         "marker": {
          "color": "#EF553B",
          "pattern": {
           "shape": ""
          }
         },
         "name": "Senna",
         "offsetgroup": "Senna",
         "orientation": "v",
         "showlegend": true,
         "type": "histogram",
         "x": [
          0.1078
         ],
         "xaxis": "x",
         "yaxis": "y"
        },
        {
         "alignmentgroup": "True",
         "bingroup": "x",
         "hovertemplate": "Name=Seraphine<br>Pick %=%{x}<br>count=%{y}<extra></extra>",
         "legendgroup": "Seraphine",
         "marker": {
          "color": "#00cc96",
          "pattern": {
           "shape": ""
          }
         },
         "name": "Seraphine",
         "offsetgroup": "Seraphine",
         "orientation": "v",
         "showlegend": true,
         "type": "histogram",
         "x": [
          0.0411,
          0.0083
         ],
         "xaxis": "x",
         "yaxis": "y"
        },
        {
         "alignmentgroup": "True",
         "bingroup": "x",
         "hovertemplate": "Name=Sett<br>Pick %=%{x}<br>count=%{y}<extra></extra>",
         "legendgroup": "Sett",
         "marker": {
          "color": "#ab63fa",
          "pattern": {
           "shape": ""
          }
         },
         "name": "Sett",
         "offsetgroup": "Sett",
         "orientation": "v",
         "showlegend": true,
         "type": "histogram",
         "x": [
          0.0579
         ],
         "xaxis": "x",
         "yaxis": "y"
        },
        {
         "alignmentgroup": "True",
         "bingroup": "x",
         "hovertemplate": "Name=Shaco<br>Pick %=%{x}<br>count=%{y}<extra></extra>",
         "legendgroup": "Shaco",
         "marker": {
          "color": "#FFA15A",
          "pattern": {
           "shape": ""
          }
         },
         "name": "Shaco",
         "offsetgroup": "Shaco",
         "orientation": "v",
         "showlegend": true,
         "type": "histogram",
         "x": [
          0.049,
          0.0201
         ],
         "xaxis": "x",
         "yaxis": "y"
        },
        {
         "alignmentgroup": "True",
         "bingroup": "x",
         "hovertemplate": "Name=Shen<br>Pick %=%{x}<br>count=%{y}<extra></extra>",
         "legendgroup": "Shen",
         "marker": {
          "color": "#19d3f3",
          "pattern": {
           "shape": ""
          }
         },
         "name": "Shen",
         "offsetgroup": "Shen",
         "orientation": "v",
         "showlegend": true,
         "type": "histogram",
         "x": [
          0.0184,
          0.0037
         ],
         "xaxis": "x",
         "yaxis": "y"
        },
        {
         "alignmentgroup": "True",
         "bingroup": "x",
         "hovertemplate": "Name=Shyvana<br>Pick %=%{x}<br>count=%{y}<extra></extra>",
         "legendgroup": "Shyvana",
         "marker": {
          "color": "#FF6692",
          "pattern": {
           "shape": ""
          }
         },
         "name": "Shyvana",
         "offsetgroup": "Shyvana",
         "orientation": "v",
         "showlegend": true,
         "type": "histogram",
         "x": [
          0.0179,
          0.0027
         ],
         "xaxis": "x",
         "yaxis": "y"
        },
        {
         "alignmentgroup": "True",
         "bingroup": "x",
         "hovertemplate": "Name=Singed<br>Pick %=%{x}<br>count=%{y}<extra></extra>",
         "legendgroup": "Singed",
         "marker": {
          "color": "#B6E880",
          "pattern": {
           "shape": ""
          }
         },
         "name": "Singed",
         "offsetgroup": "Singed",
         "orientation": "v",
         "showlegend": true,
         "type": "histogram",
         "x": [
          0.014,
          0.0022
         ],
         "xaxis": "x",
         "yaxis": "y"
        },
        {
         "alignmentgroup": "True",
         "bingroup": "x",
         "hovertemplate": "Name=Sion<br>Pick %=%{x}<br>count=%{y}<extra></extra>",
         "legendgroup": "Sion",
         "marker": {
          "color": "#FF97FF",
          "pattern": {
           "shape": ""
          }
         },
         "name": "Sion",
         "offsetgroup": "Sion",
         "orientation": "v",
         "showlegend": true,
         "type": "histogram",
         "x": [
          0.0315,
          0.0075
         ],
         "xaxis": "x",
         "yaxis": "y"
        },
        {
         "alignmentgroup": "True",
         "bingroup": "x",
         "hovertemplate": "Name=Sivir<br>Pick %=%{x}<br>count=%{y}<extra></extra>",
         "legendgroup": "Sivir",
         "marker": {
          "color": "#FECB52",
          "pattern": {
           "shape": ""
          }
         },
         "name": "Sivir",
         "offsetgroup": "Sivir",
         "orientation": "v",
         "showlegend": true,
         "type": "histogram",
         "x": [
          0.0417
         ],
         "xaxis": "x",
         "yaxis": "y"
        },
        {
         "alignmentgroup": "True",
         "bingroup": "x",
         "hovertemplate": "Name=Skarner<br>Pick %=%{x}<br>count=%{y}<extra></extra>",
         "legendgroup": "Skarner",
         "marker": {
          "color": "#636efa",
          "pattern": {
           "shape": ""
          }
         },
         "name": "Skarner",
         "offsetgroup": "Skarner",
         "orientation": "v",
         "showlegend": true,
         "type": "histogram",
         "x": [
          0.0074,
          0.0013
         ],
         "xaxis": "x",
         "yaxis": "y"
        },
        {
         "alignmentgroup": "True",
         "bingroup": "x",
         "hovertemplate": "Name=Sona<br>Pick %=%{x}<br>count=%{y}<extra></extra>",
         "legendgroup": "Sona",
         "marker": {
          "color": "#EF553B",
          "pattern": {
           "shape": ""
          }
         },
         "name": "Sona",
         "offsetgroup": "Sona",
         "orientation": "v",
         "showlegend": true,
         "type": "histogram",
         "x": [
          0.0254
         ],
         "xaxis": "x",
         "yaxis": "y"
        },
        {
         "alignmentgroup": "True",
         "bingroup": "x",
         "hovertemplate": "Name=Soraka<br>Pick %=%{x}<br>count=%{y}<extra></extra>",
         "legendgroup": "Soraka",
         "marker": {
          "color": "#00cc96",
          "pattern": {
           "shape": ""
          }
         },
         "name": "Soraka",
         "offsetgroup": "Soraka",
         "orientation": "v",
         "showlegend": true,
         "type": "histogram",
         "x": [
          0.0529
         ],
         "xaxis": "x",
         "yaxis": "y"
        },
        {
         "alignmentgroup": "True",
         "bingroup": "x",
         "hovertemplate": "Name=Swain<br>Pick %=%{x}<br>count=%{y}<extra></extra>",
         "legendgroup": "Swain",
         "marker": {
          "color": "#ab63fa",
          "pattern": {
           "shape": ""
          }
         },
         "name": "Swain",
         "offsetgroup": "Swain",
         "orientation": "v",
         "showlegend": true,
         "type": "histogram",
         "x": [
          0.0101,
          0.0359,
          0.01
         ],
         "xaxis": "x",
         "yaxis": "y"
        },
        {
         "alignmentgroup": "True",
         "bingroup": "x",
         "hovertemplate": "Name=Sylas<br>Pick %=%{x}<br>count=%{y}<extra></extra>",
         "legendgroup": "Sylas",
         "marker": {
          "color": "#FFA15A",
          "pattern": {
           "shape": ""
          }
         },
         "name": "Sylas",
         "offsetgroup": "Sylas",
         "orientation": "v",
         "showlegend": true,
         "type": "histogram",
         "x": [
          0.0967,
          0.034
         ],
         "xaxis": "x",
         "yaxis": "y"
        },
        {
         "alignmentgroup": "True",
         "bingroup": "x",
         "hovertemplate": "Name=Syndra<br>Pick %=%{x}<br>count=%{y}<extra></extra>",
         "legendgroup": "Syndra",
         "marker": {
          "color": "#19d3f3",
          "pattern": {
           "shape": ""
          }
         },
         "name": "Syndra",
         "offsetgroup": "Syndra",
         "orientation": "v",
         "showlegend": true,
         "type": "histogram",
         "x": [
          0.0832
         ],
         "xaxis": "x",
         "yaxis": "y"
        },
        {
         "alignmentgroup": "True",
         "bingroup": "x",
         "hovertemplate": "Name=Tahm Kench<br>Pick %=%{x}<br>count=%{y}<extra></extra>",
         "legendgroup": "Tahm Kench",
         "marker": {
          "color": "#FF6692",
          "pattern": {
           "shape": ""
          }
         },
         "name": "Tahm Kench",
         "offsetgroup": "Tahm Kench",
         "orientation": "v",
         "showlegend": true,
         "type": "histogram",
         "x": [
          0.0205,
          0.0068
         ],
         "xaxis": "x",
         "yaxis": "y"
        },
        {
         "alignmentgroup": "True",
         "bingroup": "x",
         "hovertemplate": "Name=Taliyah<br>Pick %=%{x}<br>count=%{y}<extra></extra>",
         "legendgroup": "Taliyah",
         "marker": {
          "color": "#B6E880",
          "pattern": {
           "shape": ""
          }
         },
         "name": "Taliyah",
         "offsetgroup": "Taliyah",
         "orientation": "v",
         "showlegend": true,
         "type": "histogram",
         "x": [
          0.0428,
          0.0222
         ],
         "xaxis": "x",
         "yaxis": "y"
        },
        {
         "alignmentgroup": "True",
         "bingroup": "x",
         "hovertemplate": "Name=Talon<br>Pick %=%{x}<br>count=%{y}<extra></extra>",
         "legendgroup": "Talon",
         "marker": {
          "color": "#FF97FF",
          "pattern": {
           "shape": ""
          }
         },
         "name": "Talon",
         "offsetgroup": "Talon",
         "orientation": "v",
         "showlegend": true,
         "type": "histogram",
         "x": [
          0.0351,
          0.0074
         ],
         "xaxis": "x",
         "yaxis": "y"
        },
        {
         "alignmentgroup": "True",
         "bingroup": "x",
         "hovertemplate": "Name=Taric<br>Pick %=%{x}<br>count=%{y}<extra></extra>",
         "legendgroup": "Taric",
         "marker": {
          "color": "#FECB52",
          "pattern": {
           "shape": ""
          }
         },
         "name": "Taric",
         "offsetgroup": "Taric",
         "orientation": "v",
         "showlegend": true,
         "type": "histogram",
         "x": [
          0.0132
         ],
         "xaxis": "x",
         "yaxis": "y"
        },
        {
         "alignmentgroup": "True",
         "bingroup": "x",
         "hovertemplate": "Name=Teemo<br>Pick %=%{x}<br>count=%{y}<extra></extra>",
         "legendgroup": "Teemo",
         "marker": {
          "color": "#636efa",
          "pattern": {
           "shape": ""
          }
         },
         "name": "Teemo",
         "offsetgroup": "Teemo",
         "orientation": "v",
         "showlegend": true,
         "type": "histogram",
         "x": [
          0.0409,
          0.0073
         ],
         "xaxis": "x",
         "yaxis": "y"
        },
        {
         "alignmentgroup": "True",
         "bingroup": "x",
         "hovertemplate": "Name=Thresh<br>Pick %=%{x}<br>count=%{y}<extra></extra>",
         "legendgroup": "Thresh",
         "marker": {
          "color": "#EF553B",
          "pattern": {
           "shape": ""
          }
         },
         "name": "Thresh",
         "offsetgroup": "Thresh",
         "orientation": "v",
         "showlegend": true,
         "type": "histogram",
         "x": [
          0.1306
         ],
         "xaxis": "x",
         "yaxis": "y"
        },
        {
         "alignmentgroup": "True",
         "bingroup": "x",
         "hovertemplate": "Name=Tristana<br>Pick %=%{x}<br>count=%{y}<extra></extra>",
         "legendgroup": "Tristana",
         "marker": {
          "color": "#00cc96",
          "pattern": {
           "shape": ""
          }
         },
         "name": "Tristana",
         "offsetgroup": "Tristana",
         "orientation": "v",
         "showlegend": true,
         "type": "histogram",
         "x": [
          0.033,
          0.0499
         ],
         "xaxis": "x",
         "yaxis": "y"
        },
        {
         "alignmentgroup": "True",
         "bingroup": "x",
         "hovertemplate": "Name=Trundle<br>Pick %=%{x}<br>count=%{y}<extra></extra>",
         "legendgroup": "Trundle",
         "marker": {
          "color": "#ab63fa",
          "pattern": {
           "shape": ""
          }
         },
         "name": "Trundle",
         "offsetgroup": "Trundle",
         "orientation": "v",
         "showlegend": true,
         "type": "histogram",
         "x": [
          0.0116,
          0.0101
         ],
         "xaxis": "x",
         "yaxis": "y"
        },
        {
         "alignmentgroup": "True",
         "bingroup": "x",
         "hovertemplate": "Name=Tryndamere<br>Pick %=%{x}<br>count=%{y}<extra></extra>",
         "legendgroup": "Tryndamere",
         "marker": {
          "color": "#FFA15A",
          "pattern": {
           "shape": ""
          }
         },
         "name": "Tryndamere",
         "offsetgroup": "Tryndamere",
         "orientation": "v",
         "showlegend": true,
         "type": "histogram",
         "x": [
          0.0301,
          0.0035
         ],
         "xaxis": "x",
         "yaxis": "y"
        },
        {
         "alignmentgroup": "True",
         "bingroup": "x",
         "hovertemplate": "Name=Twisted Fate<br>Pick %=%{x}<br>count=%{y}<extra></extra>",
         "legendgroup": "Twisted Fate",
         "marker": {
          "color": "#19d3f3",
          "pattern": {
           "shape": ""
          }
         },
         "name": "Twisted Fate",
         "offsetgroup": "Twisted Fate",
         "orientation": "v",
         "showlegend": true,
         "type": "histogram",
         "x": [
          0.0302
         ],
         "xaxis": "x",
         "yaxis": "y"
        },
        {
         "alignmentgroup": "True",
         "bingroup": "x",
         "hovertemplate": "Name=Twitch<br>Pick %=%{x}<br>count=%{y}<extra></extra>",
         "legendgroup": "Twitch",
         "marker": {
          "color": "#FF6692",
          "pattern": {
           "shape": ""
          }
         },
         "name": "Twitch",
         "offsetgroup": "Twitch",
         "orientation": "v",
         "showlegend": true,
         "type": "histogram",
         "x": [
          0.0421,
          0.0096
         ],
         "xaxis": "x",
         "yaxis": "y"
        },
        {
         "alignmentgroup": "True",
         "bingroup": "x",
         "hovertemplate": "Name=Udyr<br>Pick %=%{x}<br>count=%{y}<extra></extra>",
         "legendgroup": "Udyr",
         "marker": {
          "color": "#B6E880",
          "pattern": {
           "shape": ""
          }
         },
         "name": "Udyr",
         "offsetgroup": "Udyr",
         "orientation": "v",
         "showlegend": true,
         "type": "histogram",
         "x": [
          0.0216,
          0.0073
         ],
         "xaxis": "x",
         "yaxis": "y"
        },
        {
         "alignmentgroup": "True",
         "bingroup": "x",
         "hovertemplate": "Name=Urgot<br>Pick %=%{x}<br>count=%{y}<extra></extra>",
         "legendgroup": "Urgot",
         "marker": {
          "color": "#FF97FF",
          "pattern": {
           "shape": ""
          }
         },
         "name": "Urgot",
         "offsetgroup": "Urgot",
         "orientation": "v",
         "showlegend": true,
         "type": "histogram",
         "x": [
          0.0195
         ],
         "xaxis": "x",
         "yaxis": "y"
        },
        {
         "alignmentgroup": "True",
         "bingroup": "x",
         "hovertemplate": "Name=Varus<br>Pick %=%{x}<br>count=%{y}<extra></extra>",
         "legendgroup": "Varus",
         "marker": {
          "color": "#FECB52",
          "pattern": {
           "shape": ""
          }
         },
         "name": "Varus",
         "offsetgroup": "Varus",
         "orientation": "v",
         "showlegend": true,
         "type": "histogram",
         "x": [
          0.044
         ],
         "xaxis": "x",
         "yaxis": "y"
        },
        {
         "alignmentgroup": "True",
         "bingroup": "x",
         "hovertemplate": "Name=Vayne<br>Pick %=%{x}<br>count=%{y}<extra></extra>",
         "legendgroup": "Vayne",
         "marker": {
          "color": "#636efa",
          "pattern": {
           "shape": ""
          }
         },
         "name": "Vayne",
         "offsetgroup": "Vayne",
         "orientation": "v",
         "showlegend": true,
         "type": "histogram",
         "x": [
          0.0862,
          0.0142
         ],
         "xaxis": "x",
         "yaxis": "y"
        },
        {
         "alignmentgroup": "True",
         "bingroup": "x",
         "hovertemplate": "Name=Veigar<br>Pick %=%{x}<br>count=%{y}<extra></extra>",
         "legendgroup": "Veigar",
         "marker": {
          "color": "#EF553B",
          "pattern": {
           "shape": ""
          }
         },
         "name": "Veigar",
         "offsetgroup": "Veigar",
         "orientation": "v",
         "showlegend": true,
         "type": "histogram",
         "x": [
          0.0413,
          0.0065
         ],
         "xaxis": "x",
         "yaxis": "y"
        },
        {
         "alignmentgroup": "True",
         "bingroup": "x",
         "hovertemplate": "Name=Vel'Koz<br>Pick %=%{x}<br>count=%{y}<extra></extra>",
         "legendgroup": "Vel'Koz",
         "marker": {
          "color": "#00cc96",
          "pattern": {
           "shape": ""
          }
         },
         "name": "Vel'Koz",
         "offsetgroup": "Vel'Koz",
         "orientation": "v",
         "showlegend": true,
         "type": "histogram",
         "x": [
          0.0162,
          0.0053
         ],
         "xaxis": "x",
         "yaxis": "y"
        },
        {
         "alignmentgroup": "True",
         "bingroup": "x",
         "hovertemplate": "Name=Vex<br>Pick %=%{x}<br>count=%{y}<extra></extra>",
         "legendgroup": "Vex",
         "marker": {
          "color": "#ab63fa",
          "pattern": {
           "shape": ""
          }
         },
         "name": "Vex",
         "offsetgroup": "Vex",
         "orientation": "v",
         "showlegend": true,
         "type": "histogram",
         "x": [
          0.0361
         ],
         "xaxis": "x",
         "yaxis": "y"
        },
        {
         "alignmentgroup": "True",
         "bingroup": "x",
         "hovertemplate": "Name=Vi<br>Pick %=%{x}<br>count=%{y}<extra></extra>",
         "legendgroup": "Vi",
         "marker": {
          "color": "#FFA15A",
          "pattern": {
           "shape": ""
          }
         },
         "name": "Vi",
         "offsetgroup": "Vi",
         "orientation": "v",
         "showlegend": true,
         "type": "histogram",
         "x": [
          0.0467
         ],
         "xaxis": "x",
         "yaxis": "y"
        },
        {
         "alignmentgroup": "True",
         "bingroup": "x",
         "hovertemplate": "Name=Viego<br>Pick %=%{x}<br>count=%{y}<extra></extra>",
         "legendgroup": "Viego",
         "marker": {
          "color": "#19d3f3",
          "pattern": {
           "shape": ""
          }
         },
         "name": "Viego",
         "offsetgroup": "Viego",
         "orientation": "v",
         "showlegend": true,
         "type": "histogram",
         "x": [
          0.0755
         ],
         "xaxis": "x",
         "yaxis": "y"
        },
        {
         "alignmentgroup": "True",
         "bingroup": "x",
         "hovertemplate": "Name=Viktor<br>Pick %=%{x}<br>count=%{y}<extra></extra>",
         "legendgroup": "Viktor",
         "marker": {
          "color": "#FF6692",
          "pattern": {
           "shape": ""
          }
         },
         "name": "Viktor",
         "offsetgroup": "Viktor",
         "orientation": "v",
         "showlegend": true,
         "type": "histogram",
         "x": [
          0.0346
         ],
         "xaxis": "x",
         "yaxis": "y"
        },
        {
         "alignmentgroup": "True",
         "bingroup": "x",
         "hovertemplate": "Name=Vladimir<br>Pick %=%{x}<br>count=%{y}<extra></extra>",
         "legendgroup": "Vladimir",
         "marker": {
          "color": "#B6E880",
          "pattern": {
           "shape": ""
          }
         },
         "name": "Vladimir",
         "offsetgroup": "Vladimir",
         "orientation": "v",
         "showlegend": true,
         "type": "histogram",
         "x": [
          0.0291,
          0.0069
         ],
         "xaxis": "x",
         "yaxis": "y"
        },
        {
         "alignmentgroup": "True",
         "bingroup": "x",
         "hovertemplate": "Name=Volibear<br>Pick %=%{x}<br>count=%{y}<extra></extra>",
         "legendgroup": "Volibear",
         "marker": {
          "color": "#FF97FF",
          "pattern": {
           "shape": ""
          }
         },
         "name": "Volibear",
         "offsetgroup": "Volibear",
         "orientation": "v",
         "showlegend": true,
         "type": "histogram",
         "x": [
          0.0298,
          0.0088
         ],
         "xaxis": "x",
         "yaxis": "y"
        },
        {
         "alignmentgroup": "True",
         "bingroup": "x",
         "hovertemplate": "Name=Warwick<br>Pick %=%{x}<br>count=%{y}<extra></extra>",
         "legendgroup": "Warwick",
         "marker": {
          "color": "#FECB52",
          "pattern": {
           "shape": ""
          }
         },
         "name": "Warwick",
         "offsetgroup": "Warwick",
         "orientation": "v",
         "showlegend": true,
         "type": "histogram",
         "x": [
          0.0377,
          0.0103
         ],
         "xaxis": "x",
         "yaxis": "y"
        },
        {
         "alignmentgroup": "True",
         "bingroup": "x",
         "hovertemplate": "Name=Wukong<br>Pick %=%{x}<br>count=%{y}<extra></extra>",
         "legendgroup": "Wukong",
         "marker": {
          "color": "#636efa",
          "pattern": {
           "shape": ""
          }
         },
         "name": "Wukong",
         "offsetgroup": "Wukong",
         "orientation": "v",
         "showlegend": true,
         "type": "histogram",
         "x": [
          0.0198,
          0.0054
         ],
         "xaxis": "x",
         "yaxis": "y"
        },
        {
         "alignmentgroup": "True",
         "bingroup": "x",
         "hovertemplate": "Name=Xayah<br>Pick %=%{x}<br>count=%{y}<extra></extra>",
         "legendgroup": "Xayah",
         "marker": {
          "color": "#EF553B",
          "pattern": {
           "shape": ""
          }
         },
         "name": "Xayah",
         "offsetgroup": "Xayah",
         "orientation": "v",
         "showlegend": true,
         "type": "histogram",
         "x": [
          0.13
         ],
         "xaxis": "x",
         "yaxis": "y"
        },
        {
         "alignmentgroup": "True",
         "bingroup": "x",
         "hovertemplate": "Name=Xerath<br>Pick %=%{x}<br>count=%{y}<extra></extra>",
         "legendgroup": "Xerath",
         "marker": {
          "color": "#00cc96",
          "pattern": {
           "shape": ""
          }
         },
         "name": "Xerath",
         "offsetgroup": "Xerath",
         "orientation": "v",
         "showlegend": true,
         "type": "histogram",
         "x": [
          0.0561,
          0.0292
         ],
         "xaxis": "x",
         "yaxis": "y"
        },
        {
         "alignmentgroup": "True",
         "bingroup": "x",
         "hovertemplate": "Name=Xin Zhao<br>Pick %=%{x}<br>count=%{y}<extra></extra>",
         "legendgroup": "Xin Zhao",
         "marker": {
          "color": "#ab63fa",
          "pattern": {
           "shape": ""
          }
         },
         "name": "Xin Zhao",
         "offsetgroup": "Xin Zhao",
         "orientation": "v",
         "showlegend": true,
         "type": "histogram",
         "x": [
          0.0208
         ],
         "xaxis": "x",
         "yaxis": "y"
        },
        {
         "alignmentgroup": "True",
         "bingroup": "x",
         "hovertemplate": "Name=Yasuo<br>Pick %=%{x}<br>count=%{y}<extra></extra>",
         "legendgroup": "Yasuo",
         "marker": {
          "color": "#FFA15A",
          "pattern": {
           "shape": ""
          }
         },
         "name": "Yasuo",
         "offsetgroup": "Yasuo",
         "orientation": "v",
         "showlegend": true,
         "type": "histogram",
         "x": [
          0.1114,
          0.0299,
          0.0236
         ],
         "xaxis": "x",
         "yaxis": "y"
        },
        {
         "alignmentgroup": "True",
         "bingroup": "x",
         "hovertemplate": "Name=Yone<br>Pick %=%{x}<br>count=%{y}<extra></extra>",
         "legendgroup": "Yone",
         "marker": {
          "color": "#19d3f3",
          "pattern": {
           "shape": ""
          }
         },
         "name": "Yone",
         "offsetgroup": "Yone",
         "orientation": "v",
         "showlegend": true,
         "type": "histogram",
         "x": [
          0.0991,
          0.0869
         ],
         "xaxis": "x",
         "yaxis": "y"
        },
        {
         "alignmentgroup": "True",
         "bingroup": "x",
         "hovertemplate": "Name=Yorick<br>Pick %=%{x}<br>count=%{y}<extra></extra>",
         "legendgroup": "Yorick",
         "marker": {
          "color": "#FF6692",
          "pattern": {
           "shape": ""
          }
         },
         "name": "Yorick",
         "offsetgroup": "Yorick",
         "orientation": "v",
         "showlegend": true,
         "type": "histogram",
         "x": [
          0.0242
         ],
         "xaxis": "x",
         "yaxis": "y"
        },
        {
         "alignmentgroup": "True",
         "bingroup": "x",
         "hovertemplate": "Name=Yuumi<br>Pick %=%{x}<br>count=%{y}<extra></extra>",
         "legendgroup": "Yuumi",
         "marker": {
          "color": "#B6E880",
          "pattern": {
           "shape": ""
          }
         },
         "name": "Yuumi",
         "offsetgroup": "Yuumi",
         "orientation": "v",
         "showlegend": true,
         "type": "histogram",
         "x": [
          0.0652
         ],
         "xaxis": "x",
         "yaxis": "y"
        },
        {
         "alignmentgroup": "True",
         "bingroup": "x",
         "hovertemplate": "Name=Zac<br>Pick %=%{x}<br>count=%{y}<extra></extra>",
         "legendgroup": "Zac",
         "marker": {
          "color": "#FF97FF",
          "pattern": {
           "shape": ""
          }
         },
         "name": "Zac",
         "offsetgroup": "Zac",
         "orientation": "v",
         "showlegend": true,
         "type": "histogram",
         "x": [
          0.0366
         ],
         "xaxis": "x",
         "yaxis": "y"
        },
        {
         "alignmentgroup": "True",
         "bingroup": "x",
         "hovertemplate": "Name=Zed<br>Pick %=%{x}<br>count=%{y}<extra></extra>",
         "legendgroup": "Zed",
         "marker": {
          "color": "#FECB52",
          "pattern": {
           "shape": ""
          }
         },
         "name": "Zed",
         "offsetgroup": "Zed",
         "orientation": "v",
         "showlegend": true,
         "type": "histogram",
         "x": [
          0.0927
         ],
         "xaxis": "x",
         "yaxis": "y"
        },
        {
         "alignmentgroup": "True",
         "bingroup": "x",
         "hovertemplate": "Name=Zeri<br>Pick %=%{x}<br>count=%{y}<extra></extra>",
         "legendgroup": "Zeri",
         "marker": {
          "color": "#636efa",
          "pattern": {
           "shape": ""
          }
         },
         "name": "Zeri",
         "offsetgroup": "Zeri",
         "orientation": "v",
         "showlegend": true,
         "type": "histogram",
         "x": [
          0.0334
         ],
         "xaxis": "x",
         "yaxis": "y"
        },
        {
         "alignmentgroup": "True",
         "bingroup": "x",
         "hovertemplate": "Name=Ziggs<br>Pick %=%{x}<br>count=%{y}<extra></extra>",
         "legendgroup": "Ziggs",
         "marker": {
          "color": "#EF553B",
          "pattern": {
           "shape": ""
          }
         },
         "name": "Ziggs",
         "offsetgroup": "Ziggs",
         "orientation": "v",
         "showlegend": true,
         "type": "histogram",
         "x": [
          0.0248,
          0.048
         ],
         "xaxis": "x",
         "yaxis": "y"
        },
        {
         "alignmentgroup": "True",
         "bingroup": "x",
         "hovertemplate": "Name=Zilean<br>Pick %=%{x}<br>count=%{y}<extra></extra>",
         "legendgroup": "Zilean",
         "marker": {
          "color": "#00cc96",
          "pattern": {
           "shape": ""
          }
         },
         "name": "Zilean",
         "offsetgroup": "Zilean",
         "orientation": "v",
         "showlegend": true,
         "type": "histogram",
         "x": [
          0.0023,
          0.0175
         ],
         "xaxis": "x",
         "yaxis": "y"
        },
        {
         "alignmentgroup": "True",
         "bingroup": "x",
         "hovertemplate": "Name=Zoe<br>Pick %=%{x}<br>count=%{y}<extra></extra>",
         "legendgroup": "Zoe",
         "marker": {
          "color": "#ab63fa",
          "pattern": {
           "shape": ""
          }
         },
         "name": "Zoe",
         "offsetgroup": "Zoe",
         "orientation": "v",
         "showlegend": true,
         "type": "histogram",
         "x": [
          0.0247,
          0.0039
         ],
         "xaxis": "x",
         "yaxis": "y"
        },
        {
         "alignmentgroup": "True",
         "bingroup": "x",
         "hovertemplate": "Name=Zyra<br>Pick %=%{x}<br>count=%{y}<extra></extra>",
         "legendgroup": "Zyra",
         "marker": {
          "color": "#FFA15A",
          "pattern": {
           "shape": ""
          }
         },
         "name": "Zyra",
         "offsetgroup": "Zyra",
         "orientation": "v",
         "showlegend": true,
         "type": "histogram",
         "x": [
          0.0445
         ],
         "xaxis": "x",
         "yaxis": "y"
        }
       ],
       "layout": {
        "barmode": "relative",
        "legend": {
         "title": {
          "text": "Name"
         },
         "tracegroupgap": 0
        },
        "template": {
         "data": {
          "bar": [
           {
            "error_x": {
             "color": "#2a3f5f"
            },
            "error_y": {
             "color": "#2a3f5f"
            },
            "marker": {
             "line": {
              "color": "#E5ECF6",
              "width": 0.5
             },
             "pattern": {
              "fillmode": "overlay",
              "size": 10,
              "solidity": 0.2
             }
            },
            "type": "bar"
           }
          ],
          "barpolar": [
           {
            "marker": {
             "line": {
              "color": "#E5ECF6",
              "width": 0.5
             },
             "pattern": {
              "fillmode": "overlay",
              "size": 10,
              "solidity": 0.2
             }
            },
            "type": "barpolar"
           }
          ],
          "carpet": [
           {
            "aaxis": {
             "endlinecolor": "#2a3f5f",
             "gridcolor": "white",
             "linecolor": "white",
             "minorgridcolor": "white",
             "startlinecolor": "#2a3f5f"
            },
            "baxis": {
             "endlinecolor": "#2a3f5f",
             "gridcolor": "white",
             "linecolor": "white",
             "minorgridcolor": "white",
             "startlinecolor": "#2a3f5f"
            },
            "type": "carpet"
           }
          ],
          "choropleth": [
           {
            "colorbar": {
             "outlinewidth": 0,
             "ticks": ""
            },
            "type": "choropleth"
           }
          ],
          "contour": [
           {
            "colorbar": {
             "outlinewidth": 0,
             "ticks": ""
            },
            "colorscale": [
             [
              0,
              "#0d0887"
             ],
             [
              0.1111111111111111,
              "#46039f"
             ],
             [
              0.2222222222222222,
              "#7201a8"
             ],
             [
              0.3333333333333333,
              "#9c179e"
             ],
             [
              0.4444444444444444,
              "#bd3786"
             ],
             [
              0.5555555555555556,
              "#d8576b"
             ],
             [
              0.6666666666666666,
              "#ed7953"
             ],
             [
              0.7777777777777778,
              "#fb9f3a"
             ],
             [
              0.8888888888888888,
              "#fdca26"
             ],
             [
              1,
              "#f0f921"
             ]
            ],
            "type": "contour"
           }
          ],
          "contourcarpet": [
           {
            "colorbar": {
             "outlinewidth": 0,
             "ticks": ""
            },
            "type": "contourcarpet"
           }
          ],
          "heatmap": [
           {
            "colorbar": {
             "outlinewidth": 0,
             "ticks": ""
            },
            "colorscale": [
             [
              0,
              "#0d0887"
             ],
             [
              0.1111111111111111,
              "#46039f"
             ],
             [
              0.2222222222222222,
              "#7201a8"
             ],
             [
              0.3333333333333333,
              "#9c179e"
             ],
             [
              0.4444444444444444,
              "#bd3786"
             ],
             [
              0.5555555555555556,
              "#d8576b"
             ],
             [
              0.6666666666666666,
              "#ed7953"
             ],
             [
              0.7777777777777778,
              "#fb9f3a"
             ],
             [
              0.8888888888888888,
              "#fdca26"
             ],
             [
              1,
              "#f0f921"
             ]
            ],
            "type": "heatmap"
           }
          ],
          "heatmapgl": [
           {
            "colorbar": {
             "outlinewidth": 0,
             "ticks": ""
            },
            "colorscale": [
             [
              0,
              "#0d0887"
             ],
             [
              0.1111111111111111,
              "#46039f"
             ],
             [
              0.2222222222222222,
              "#7201a8"
             ],
             [
              0.3333333333333333,
              "#9c179e"
             ],
             [
              0.4444444444444444,
              "#bd3786"
             ],
             [
              0.5555555555555556,
              "#d8576b"
             ],
             [
              0.6666666666666666,
              "#ed7953"
             ],
             [
              0.7777777777777778,
              "#fb9f3a"
             ],
             [
              0.8888888888888888,
              "#fdca26"
             ],
             [
              1,
              "#f0f921"
             ]
            ],
            "type": "heatmapgl"
           }
          ],
          "histogram": [
           {
            "marker": {
             "pattern": {
              "fillmode": "overlay",
              "size": 10,
              "solidity": 0.2
             }
            },
            "type": "histogram"
           }
          ],
          "histogram2d": [
           {
            "colorbar": {
             "outlinewidth": 0,
             "ticks": ""
            },
            "colorscale": [
             [
              0,
              "#0d0887"
             ],
             [
              0.1111111111111111,
              "#46039f"
             ],
             [
              0.2222222222222222,
              "#7201a8"
             ],
             [
              0.3333333333333333,
              "#9c179e"
             ],
             [
              0.4444444444444444,
              "#bd3786"
             ],
             [
              0.5555555555555556,
              "#d8576b"
             ],
             [
              0.6666666666666666,
              "#ed7953"
             ],
             [
              0.7777777777777778,
              "#fb9f3a"
             ],
             [
              0.8888888888888888,
              "#fdca26"
             ],
             [
              1,
              "#f0f921"
             ]
            ],
            "type": "histogram2d"
           }
          ],
          "histogram2dcontour": [
           {
            "colorbar": {
             "outlinewidth": 0,
             "ticks": ""
            },
            "colorscale": [
             [
              0,
              "#0d0887"
             ],
             [
              0.1111111111111111,
              "#46039f"
             ],
             [
              0.2222222222222222,
              "#7201a8"
             ],
             [
              0.3333333333333333,
              "#9c179e"
             ],
             [
              0.4444444444444444,
              "#bd3786"
             ],
             [
              0.5555555555555556,
              "#d8576b"
             ],
             [
              0.6666666666666666,
              "#ed7953"
             ],
             [
              0.7777777777777778,
              "#fb9f3a"
             ],
             [
              0.8888888888888888,
              "#fdca26"
             ],
             [
              1,
              "#f0f921"
             ]
            ],
            "type": "histogram2dcontour"
           }
          ],
          "mesh3d": [
           {
            "colorbar": {
             "outlinewidth": 0,
             "ticks": ""
            },
            "type": "mesh3d"
           }
          ],
          "parcoords": [
           {
            "line": {
             "colorbar": {
              "outlinewidth": 0,
              "ticks": ""
             }
            },
            "type": "parcoords"
           }
          ],
          "pie": [
           {
            "automargin": true,
            "type": "pie"
           }
          ],
          "scatter": [
           {
            "fillpattern": {
             "fillmode": "overlay",
             "size": 10,
             "solidity": 0.2
            },
            "type": "scatter"
           }
          ],
          "scatter3d": [
           {
            "line": {
             "colorbar": {
              "outlinewidth": 0,
              "ticks": ""
             }
            },
            "marker": {
             "colorbar": {
              "outlinewidth": 0,
              "ticks": ""
             }
            },
            "type": "scatter3d"
           }
          ],
          "scattercarpet": [
           {
            "marker": {
             "colorbar": {
              "outlinewidth": 0,
              "ticks": ""
             }
            },
            "type": "scattercarpet"
           }
          ],
          "scattergeo": [
           {
            "marker": {
             "colorbar": {
              "outlinewidth": 0,
              "ticks": ""
             }
            },
            "type": "scattergeo"
           }
          ],
          "scattergl": [
           {
            "marker": {
             "colorbar": {
              "outlinewidth": 0,
              "ticks": ""
             }
            },
            "type": "scattergl"
           }
          ],
          "scattermapbox": [
           {
            "marker": {
             "colorbar": {
              "outlinewidth": 0,
              "ticks": ""
             }
            },
            "type": "scattermapbox"
           }
          ],
          "scatterpolar": [
           {
            "marker": {
             "colorbar": {
              "outlinewidth": 0,
              "ticks": ""
             }
            },
            "type": "scatterpolar"
           }
          ],
          "scatterpolargl": [
           {
            "marker": {
             "colorbar": {
              "outlinewidth": 0,
              "ticks": ""
             }
            },
            "type": "scatterpolargl"
           }
          ],
          "scatterternary": [
           {
            "marker": {
             "colorbar": {
              "outlinewidth": 0,
              "ticks": ""
             }
            },
            "type": "scatterternary"
           }
          ],
          "surface": [
           {
            "colorbar": {
             "outlinewidth": 0,
             "ticks": ""
            },
            "colorscale": [
             [
              0,
              "#0d0887"
             ],
             [
              0.1111111111111111,
              "#46039f"
             ],
             [
              0.2222222222222222,
              "#7201a8"
             ],
             [
              0.3333333333333333,
              "#9c179e"
             ],
             [
              0.4444444444444444,
              "#bd3786"
             ],
             [
              0.5555555555555556,
              "#d8576b"
             ],
             [
              0.6666666666666666,
              "#ed7953"
             ],
             [
              0.7777777777777778,
              "#fb9f3a"
             ],
             [
              0.8888888888888888,
              "#fdca26"
             ],
             [
              1,
              "#f0f921"
             ]
            ],
            "type": "surface"
           }
          ],
          "table": [
           {
            "cells": {
             "fill": {
              "color": "#EBF0F8"
             },
             "line": {
              "color": "white"
             }
            },
            "header": {
             "fill": {
              "color": "#C8D4E3"
             },
             "line": {
              "color": "white"
             }
            },
            "type": "table"
           }
          ]
         },
         "layout": {
          "annotationdefaults": {
           "arrowcolor": "#2a3f5f",
           "arrowhead": 0,
           "arrowwidth": 1
          },
          "autotypenumbers": "strict",
          "coloraxis": {
           "colorbar": {
            "outlinewidth": 0,
            "ticks": ""
           }
          },
          "colorscale": {
           "diverging": [
            [
             0,
             "#8e0152"
            ],
            [
             0.1,
             "#c51b7d"
            ],
            [
             0.2,
             "#de77ae"
            ],
            [
             0.3,
             "#f1b6da"
            ],
            [
             0.4,
             "#fde0ef"
            ],
            [
             0.5,
             "#f7f7f7"
            ],
            [
             0.6,
             "#e6f5d0"
            ],
            [
             0.7,
             "#b8e186"
            ],
            [
             0.8,
             "#7fbc41"
            ],
            [
             0.9,
             "#4d9221"
            ],
            [
             1,
             "#276419"
            ]
           ],
           "sequential": [
            [
             0,
             "#0d0887"
            ],
            [
             0.1111111111111111,
             "#46039f"
            ],
            [
             0.2222222222222222,
             "#7201a8"
            ],
            [
             0.3333333333333333,
             "#9c179e"
            ],
            [
             0.4444444444444444,
             "#bd3786"
            ],
            [
             0.5555555555555556,
             "#d8576b"
            ],
            [
             0.6666666666666666,
             "#ed7953"
            ],
            [
             0.7777777777777778,
             "#fb9f3a"
            ],
            [
             0.8888888888888888,
             "#fdca26"
            ],
            [
             1,
             "#f0f921"
            ]
           ],
           "sequentialminus": [
            [
             0,
             "#0d0887"
            ],
            [
             0.1111111111111111,
             "#46039f"
            ],
            [
             0.2222222222222222,
             "#7201a8"
            ],
            [
             0.3333333333333333,
             "#9c179e"
            ],
            [
             0.4444444444444444,
             "#bd3786"
            ],
            [
             0.5555555555555556,
             "#d8576b"
            ],
            [
             0.6666666666666666,
             "#ed7953"
            ],
            [
             0.7777777777777778,
             "#fb9f3a"
            ],
            [
             0.8888888888888888,
             "#fdca26"
            ],
            [
             1,
             "#f0f921"
            ]
           ]
          },
          "colorway": [
           "#636efa",
           "#EF553B",
           "#00cc96",
           "#ab63fa",
           "#FFA15A",
           "#19d3f3",
           "#FF6692",
           "#B6E880",
           "#FF97FF",
           "#FECB52"
          ],
          "font": {
           "color": "#2a3f5f"
          },
          "geo": {
           "bgcolor": "white",
           "lakecolor": "white",
           "landcolor": "#E5ECF6",
           "showlakes": true,
           "showland": true,
           "subunitcolor": "white"
          },
          "hoverlabel": {
           "align": "left"
          },
          "hovermode": "closest",
          "mapbox": {
           "style": "light"
          },
          "paper_bgcolor": "white",
          "plot_bgcolor": "#E5ECF6",
          "polar": {
           "angularaxis": {
            "gridcolor": "white",
            "linecolor": "white",
            "ticks": ""
           },
           "bgcolor": "#E5ECF6",
           "radialaxis": {
            "gridcolor": "white",
            "linecolor": "white",
            "ticks": ""
           }
          },
          "scene": {
           "xaxis": {
            "backgroundcolor": "#E5ECF6",
            "gridcolor": "white",
            "gridwidth": 2,
            "linecolor": "white",
            "showbackground": true,
            "ticks": "",
            "zerolinecolor": "white"
           },
           "yaxis": {
            "backgroundcolor": "#E5ECF6",
            "gridcolor": "white",
            "gridwidth": 2,
            "linecolor": "white",
            "showbackground": true,
            "ticks": "",
            "zerolinecolor": "white"
           },
           "zaxis": {
            "backgroundcolor": "#E5ECF6",
            "gridcolor": "white",
            "gridwidth": 2,
            "linecolor": "white",
            "showbackground": true,
            "ticks": "",
            "zerolinecolor": "white"
           }
          },
          "shapedefaults": {
           "line": {
            "color": "#2a3f5f"
           }
          },
          "ternary": {
           "aaxis": {
            "gridcolor": "white",
            "linecolor": "white",
            "ticks": ""
           },
           "baxis": {
            "gridcolor": "white",
            "linecolor": "white",
            "ticks": ""
           },
           "bgcolor": "#E5ECF6",
           "caxis": {
            "gridcolor": "white",
            "linecolor": "white",
            "ticks": ""
           }
          },
          "title": {
           "x": 0.05
          },
          "xaxis": {
           "automargin": true,
           "gridcolor": "white",
           "linecolor": "white",
           "ticks": "",
           "title": {
            "standoff": 15
           },
           "zerolinecolor": "white",
           "zerolinewidth": 2
          },
          "yaxis": {
           "automargin": true,
           "gridcolor": "white",
           "linecolor": "white",
           "ticks": "",
           "title": {
            "standoff": 15
           },
           "zerolinecolor": "white",
           "zerolinewidth": 2
          }
         }
        },
        "title": {
         "text": "Champions pick rate"
        },
        "xaxis": {
         "anchor": "y",
         "domain": [
          0,
          1
         ],
         "title": {
          "text": "Pick %"
         }
        },
        "yaxis": {
         "anchor": "x",
         "domain": [
          0,
          1
         ],
         "title": {
          "text": "count"
         }
        }
       }
      }
     },
     "metadata": {},
     "output_type": "display_data"
    }
   ],
   "source": [
    "# Plotting the distribution of the pickrate of League of Legends champions\n",
    "px.histogram(df,'Pick %' , color = 'Name', title='Champions pick rate')"
   ]
  },
  {
   "cell_type": "markdown",
   "metadata": {},
   "source": [
    "![Champions pick rate](Cpr.png)"
   ]
  },
  {
   "cell_type": "code",
   "execution_count": 85,
   "metadata": {},
   "outputs": [
    {
     "data": {
      "application/vnd.plotly.v1+json": {
       "config": {
        "plotlyServerURL": "https://plot.ly"
       },
       "data": [
        {
         "alignmentgroup": "True",
         "boxpoints": "all",
         "customdata": [
          [
           "Aatrox"
          ],
          [
           "Ahri"
          ],
          [
           "Akali"
          ],
          [
           "Akali"
          ],
          [
           "Akshan"
          ],
          [
           "Akshan"
          ],
          [
           "Alistar"
          ],
          [
           "Amumu"
          ],
          [
           "Amumu"
          ],
          [
           "Anivia"
          ],
          [
           "Anivia"
          ],
          [
           "Annie"
          ],
          [
           "Annie"
          ],
          [
           "Aphelios"
          ],
          [
           "Ashe"
          ],
          [
           "Ashe"
          ],
          [
           "Aurelion Sol"
          ],
          [
           "Azir"
          ],
          [
           "Bard"
          ],
          [
           "Bel'Veth"
          ],
          [
           "Blitzcrank"
          ],
          [
           "Brand"
          ],
          [
           "Brand"
          ],
          [
           "Brand"
          ],
          [
           "Braum"
          ],
          [
           "Briar"
          ],
          [
           "Caitlyn"
          ],
          [
           "Camille"
          ],
          [
           "Cassiopeia"
          ],
          [
           "Cassiopeia"
          ],
          [
           "Cho'Gath"
          ],
          [
           "Cho'Gath"
          ],
          [
           "Corki"
          ],
          [
           "Darius"
          ],
          [
           "Diana"
          ],
          [
           "Diana"
          ],
          [
           "Dr. Mundo"
          ],
          [
           "Draven"
          ],
          [
           "Ekko"
          ],
          [
           "Ekko"
          ],
          [
           "Elise"
          ],
          [
           "Evelynn"
          ],
          [
           "Ezreal"
          ],
          [
           "Fiddlesticks"
          ],
          [
           "Fiddlesticks"
          ],
          [
           "Fiora"
          ],
          [
           "Fizz"
          ],
          [
           "Galio"
          ],
          [
           "Galio"
          ],
          [
           "Gangplank"
          ],
          [
           "Gangplank"
          ],
          [
           "Garen"
          ],
          [
           "Gnar"
          ],
          [
           "Gragas"
          ],
          [
           "Gragas"
          ],
          [
           "Gragas"
          ],
          [
           "Graves"
          ],
          [
           "Gwen"
          ],
          [
           "Gwen"
          ],
          [
           "Hecarim"
          ],
          [
           "Heimerdinger"
          ],
          [
           "Heimerdinger"
          ],
          [
           "Heimerdinger"
          ],
          [
           "Illaoi"
          ],
          [
           "Irelia"
          ],
          [
           "Irelia"
          ],
          [
           "Ivern"
          ],
          [
           "Janna"
          ],
          [
           "Jarvan IV"
          ],
          [
           "Jax"
          ],
          [
           "Jax"
          ],
          [
           "Jayce"
          ],
          [
           "Jayce"
          ],
          [
           "Jhin"
          ],
          [
           "Jinx"
          ],
          [
           "K'Sante"
          ],
          [
           "Kai'Sa"
          ],
          [
           "Kalista"
          ],
          [
           "Karma"
          ],
          [
           "Karthus"
          ],
          [
           "Karthus"
          ],
          [
           "Kassadin"
          ],
          [
           "Katarina"
          ],
          [
           "Kayle"
          ],
          [
           "Kayn"
          ],
          [
           "Kennen"
          ],
          [
           "Kennen"
          ],
          [
           "Kha'Zix"
          ],
          [
           "Kindred"
          ],
          [
           "Kled"
          ],
          [
           "Kog'Maw"
          ],
          [
           "LeBlanc"
          ],
          [
           "Lee Sin"
          ],
          [
           "Leona"
          ],
          [
           "Lillia"
          ],
          [
           "Lissandra"
          ],
          [
           "Lissandra"
          ],
          [
           "Lucian"
          ],
          [
           "Lulu"
          ],
          [
           "Lux"
          ],
          [
           "Lux"
          ],
          [
           "Malphite"
          ],
          [
           "Malphite"
          ],
          [
           "Malphite"
          ],
          [
           "Malzahar"
          ],
          [
           "Maokai"
          ],
          [
           "Maokai"
          ],
          [
           "Master Yi"
          ],
          [
           "Milio"
          ],
          [
           "Miss Fortune"
          ],
          [
           "Miss Fortune"
          ],
          [
           "Mordekaiser"
          ],
          [
           "Morgana"
          ],
          [
           "Morgana"
          ],
          [
           "Naafiri"
          ],
          [
           "Naafiri"
          ],
          [
           "Naafiri"
          ],
          [
           "Nami"
          ],
          [
           "Nasus"
          ],
          [
           "Nautilus"
          ],
          [
           "Neeko"
          ],
          [
           "Neeko"
          ],
          [
           "Nidalee"
          ],
          [
           "Nilah"
          ],
          [
           "Nocturne"
          ],
          [
           "Nunu"
          ],
          [
           "Olaf"
          ],
          [
           "Olaf"
          ],
          [
           "Orianna"
          ],
          [
           "Ornn"
          ],
          [
           "Pantheon"
          ],
          [
           "Pantheon"
          ],
          [
           "Pantheon"
          ],
          [
           "Poppy"
          ],
          [
           "Poppy"
          ],
          [
           "Pyke"
          ],
          [
           "Qiyana"
          ],
          [
           "Quinn"
          ],
          [
           "Quinn"
          ],
          [
           "Rakan"
          ],
          [
           "Rammus"
          ],
          [
           "Rek'Sai"
          ],
          [
           "Rell"
          ],
          [
           "Rell"
          ],
          [
           "Renata Glasc"
          ],
          [
           "Renekton"
          ],
          [
           "Rengar"
          ],
          [
           "Rengar"
          ],
          [
           "Riven"
          ],
          [
           "Rumble"
          ],
          [
           "Rumble"
          ],
          [
           "Ryze"
          ],
          [
           "Ryze"
          ],
          [
           "Samira"
          ],
          [
           "Sejuani"
          ],
          [
           "Senna"
          ],
          [
           "Seraphine"
          ],
          [
           "Seraphine"
          ],
          [
           "Sett"
          ],
          [
           "Shaco"
          ],
          [
           "Shaco"
          ],
          [
           "Shen"
          ],
          [
           "Shen"
          ],
          [
           "Shyvana"
          ],
          [
           "Shyvana"
          ],
          [
           "Singed"
          ],
          [
           "Singed"
          ],
          [
           "Sion"
          ],
          [
           "Sion"
          ],
          [
           "Sivir"
          ],
          [
           "Skarner"
          ],
          [
           "Skarner"
          ],
          [
           "Sona"
          ],
          [
           "Soraka"
          ],
          [
           "Swain"
          ],
          [
           "Swain"
          ],
          [
           "Swain"
          ],
          [
           "Sylas"
          ],
          [
           "Sylas"
          ],
          [
           "Syndra"
          ],
          [
           "Tahm Kench"
          ],
          [
           "Tahm Kench"
          ],
          [
           "Taliyah"
          ],
          [
           "Taliyah"
          ],
          [
           "Talon"
          ],
          [
           "Talon"
          ],
          [
           "Taric"
          ],
          [
           "Teemo"
          ],
          [
           "Teemo"
          ],
          [
           "Thresh"
          ],
          [
           "Tristana"
          ],
          [
           "Tristana"
          ],
          [
           "Trundle"
          ],
          [
           "Trundle"
          ],
          [
           "Tryndamere"
          ],
          [
           "Tryndamere"
          ],
          [
           "Twisted Fate"
          ],
          [
           "Twitch"
          ],
          [
           "Twitch"
          ],
          [
           "Udyr"
          ],
          [
           "Udyr"
          ],
          [
           "Urgot"
          ],
          [
           "Varus"
          ],
          [
           "Vayne"
          ],
          [
           "Vayne"
          ],
          [
           "Veigar"
          ],
          [
           "Veigar"
          ],
          [
           "Vel'Koz"
          ],
          [
           "Vel'Koz"
          ],
          [
           "Vex"
          ],
          [
           "Vi"
          ],
          [
           "Viego"
          ],
          [
           "Viktor"
          ],
          [
           "Vladimir"
          ],
          [
           "Vladimir"
          ],
          [
           "Volibear"
          ],
          [
           "Volibear"
          ],
          [
           "Warwick"
          ],
          [
           "Warwick"
          ],
          [
           "Wukong"
          ],
          [
           "Wukong"
          ],
          [
           "Xayah"
          ],
          [
           "Xerath"
          ],
          [
           "Xerath"
          ],
          [
           "Xin Zhao"
          ],
          [
           "Yasuo"
          ],
          [
           "Yasuo"
          ],
          [
           "Yasuo"
          ],
          [
           "Yone"
          ],
          [
           "Yone"
          ],
          [
           "Yorick"
          ],
          [
           "Yuumi"
          ],
          [
           "Zac"
          ],
          [
           "Zed"
          ],
          [
           "Zeri"
          ],
          [
           "Ziggs"
          ],
          [
           "Ziggs"
          ],
          [
           "Zilean"
          ],
          [
           "Zilean"
          ],
          [
           "Zoe"
          ],
          [
           "Zoe"
          ],
          [
           "Zyra"
          ]
         ],
         "hovertemplate": "Win %=%{y}<br>Name=%{customdata[0]}<extra></extra>",
         "legendgroup": "",
         "marker": {
          "color": "#636efa"
         },
         "name": "",
         "notched": false,
         "offsetgroup": "",
         "orientation": "v",
         "showlegend": false,
         "type": "box",
         "x0": " ",
         "xaxis": "x",
         "y": [
          0.4947,
          0.4939,
          0.4784,
          0.4759,
          0.5151,
          0.5074,
          0.5081,
          0.5079,
          0.5282,
          0.4962,
          0.474,
          0.4793,
          0.482,
          0.4628,
          0.5213,
          0.4443,
          0.4912,
          0.47,
          0.5053,
          0.5041,
          0.5197,
          0.5149,
          0.4953,
          0.4957,
          0.4858,
          0.5086,
          0.5126,
          0.5199,
          0.4886,
          0.4883,
          0.5077,
          0.5282,
          0.4797,
          0.486,
          0.5078,
          0.5092,
          0.4719,
          0.4997,
          0.5246,
          0.5117,
          0.5007,
          0.4976,
          0.4919,
          0.4907,
          0.5136,
          0.5058,
          0.5114,
          0.5103,
          0.5012,
          0.4821,
          0.5327,
          0.516,
          0.4968,
          0.4884,
          0.5121,
          0.4466,
          0.5168,
          0.5056,
          0.5127,
          0.4996,
          0.5165,
          0.4977,
          0.4952,
          0.4962,
          0.4969,
          0.4872,
          0.5194,
          0.5268,
          0.5151,
          0.5078,
          0.4809,
          0.5005,
          0.4842,
          0.5173,
          0.5182,
          0.511,
          0.4916,
          0.4974,
          0.4824,
          0.5043,
          0.5102,
          0.5083,
          0.4861,
          0.5317,
          0.5155,
          0.5414,
          0.4879,
          0.501,
          0.4948,
          0.4916,
          0.4962,
          0.4807,
          0.4974,
          0.4888,
          0.5253,
          0.5183,
          0.4811,
          0.5045,
          0.4802,
          0.4943,
          0.499,
          0.5232,
          0.5165,
          0.4632,
          0.5185,
          0.5282,
          0.5381,
          0.501,
          0.5175,
          0.5099,
          0.4245,
          0.4935,
          0.4979,
          0.5443,
          0.5267,
          0.5156,
          0.4253,
          0.5343,
          0.5257,
          0.4874,
          0.5116,
          0.4932,
          0.4764,
          0.5367,
          0.5065,
          0.4741,
          0.5359,
          0.4601,
          0.5069,
          0.5337,
          0.5123,
          0.5155,
          0.4699,
          0.5297,
          0.5085,
          0.4908,
          0.4705,
          0.5213,
          0.497,
          0.5135,
          0.5037,
          0.5136,
          0.5148,
          0.482,
          0.5179,
          0.4777,
          0.4829,
          0.5135,
          0.491,
          0.496,
          0.4951,
          0.5081,
          0.4784,
          0.5066,
          0.4872,
          0.5146,
          0.4914,
          0.547,
          0.4947,
          0.4887,
          0.4947,
          0.5152,
          0.4779,
          0.5171,
          0.4947,
          0.5433,
          0.5526,
          0.5096,
          0.5139,
          0.4927,
          0.5183,
          0.4858,
          0.5042,
          0.5003,
          0.5338,
          0.4836,
          0.5373,
          0.5398,
          0.4933,
          0.4906,
          0.5224,
          0.5186,
          0.4971,
          0.4989,
          0.5045,
          0.5426,
          0.5336,
          0.4965,
          0.4855,
          0.5195,
          0.5003,
          0.4856,
          0.5451,
          0.5023,
          0.4929,
          0.4927,
          0.5148,
          0.527,
          0.5054,
          0.4975,
          0.4818,
          0.5139,
          0.4922,
          0.5267,
          0.5304,
          0.5005,
          0.4805,
          0.5077,
          0.5135,
          0.5136,
          0.4827,
          0.5112,
          0.5016,
          0.4964,
          0.4854,
          0.4851,
          0.4998,
          0.4792,
          0.4693,
          0.4973,
          0.4893,
          0.4958,
          0.5105,
          0.5238,
          0.4811,
          0.4869,
          0.4531,
          0.479,
          0.4853,
          0.4755,
          0.5389,
          0.4819,
          0.5165,
          0.4778,
          0.4603,
          0.5473,
          0.538,
          0.5438,
          0.52,
          0.5058,
          0.5182,
          0.5275
         ],
         "y0": " ",
         "yaxis": "y"
        }
       ],
       "layout": {
        "boxmode": "group",
        "legend": {
         "tracegroupgap": 0
        },
        "template": {
         "data": {
          "bar": [
           {
            "error_x": {
             "color": "#2a3f5f"
            },
            "error_y": {
             "color": "#2a3f5f"
            },
            "marker": {
             "line": {
              "color": "#E5ECF6",
              "width": 0.5
             },
             "pattern": {
              "fillmode": "overlay",
              "size": 10,
              "solidity": 0.2
             }
            },
            "type": "bar"
           }
          ],
          "barpolar": [
           {
            "marker": {
             "line": {
              "color": "#E5ECF6",
              "width": 0.5
             },
             "pattern": {
              "fillmode": "overlay",
              "size": 10,
              "solidity": 0.2
             }
            },
            "type": "barpolar"
           }
          ],
          "carpet": [
           {
            "aaxis": {
             "endlinecolor": "#2a3f5f",
             "gridcolor": "white",
             "linecolor": "white",
             "minorgridcolor": "white",
             "startlinecolor": "#2a3f5f"
            },
            "baxis": {
             "endlinecolor": "#2a3f5f",
             "gridcolor": "white",
             "linecolor": "white",
             "minorgridcolor": "white",
             "startlinecolor": "#2a3f5f"
            },
            "type": "carpet"
           }
          ],
          "choropleth": [
           {
            "colorbar": {
             "outlinewidth": 0,
             "ticks": ""
            },
            "type": "choropleth"
           }
          ],
          "contour": [
           {
            "colorbar": {
             "outlinewidth": 0,
             "ticks": ""
            },
            "colorscale": [
             [
              0,
              "#0d0887"
             ],
             [
              0.1111111111111111,
              "#46039f"
             ],
             [
              0.2222222222222222,
              "#7201a8"
             ],
             [
              0.3333333333333333,
              "#9c179e"
             ],
             [
              0.4444444444444444,
              "#bd3786"
             ],
             [
              0.5555555555555556,
              "#d8576b"
             ],
             [
              0.6666666666666666,
              "#ed7953"
             ],
             [
              0.7777777777777778,
              "#fb9f3a"
             ],
             [
              0.8888888888888888,
              "#fdca26"
             ],
             [
              1,
              "#f0f921"
             ]
            ],
            "type": "contour"
           }
          ],
          "contourcarpet": [
           {
            "colorbar": {
             "outlinewidth": 0,
             "ticks": ""
            },
            "type": "contourcarpet"
           }
          ],
          "heatmap": [
           {
            "colorbar": {
             "outlinewidth": 0,
             "ticks": ""
            },
            "colorscale": [
             [
              0,
              "#0d0887"
             ],
             [
              0.1111111111111111,
              "#46039f"
             ],
             [
              0.2222222222222222,
              "#7201a8"
             ],
             [
              0.3333333333333333,
              "#9c179e"
             ],
             [
              0.4444444444444444,
              "#bd3786"
             ],
             [
              0.5555555555555556,
              "#d8576b"
             ],
             [
              0.6666666666666666,
              "#ed7953"
             ],
             [
              0.7777777777777778,
              "#fb9f3a"
             ],
             [
              0.8888888888888888,
              "#fdca26"
             ],
             [
              1,
              "#f0f921"
             ]
            ],
            "type": "heatmap"
           }
          ],
          "heatmapgl": [
           {
            "colorbar": {
             "outlinewidth": 0,
             "ticks": ""
            },
            "colorscale": [
             [
              0,
              "#0d0887"
             ],
             [
              0.1111111111111111,
              "#46039f"
             ],
             [
              0.2222222222222222,
              "#7201a8"
             ],
             [
              0.3333333333333333,
              "#9c179e"
             ],
             [
              0.4444444444444444,
              "#bd3786"
             ],
             [
              0.5555555555555556,
              "#d8576b"
             ],
             [
              0.6666666666666666,
              "#ed7953"
             ],
             [
              0.7777777777777778,
              "#fb9f3a"
             ],
             [
              0.8888888888888888,
              "#fdca26"
             ],
             [
              1,
              "#f0f921"
             ]
            ],
            "type": "heatmapgl"
           }
          ],
          "histogram": [
           {
            "marker": {
             "pattern": {
              "fillmode": "overlay",
              "size": 10,
              "solidity": 0.2
             }
            },
            "type": "histogram"
           }
          ],
          "histogram2d": [
           {
            "colorbar": {
             "outlinewidth": 0,
             "ticks": ""
            },
            "colorscale": [
             [
              0,
              "#0d0887"
             ],
             [
              0.1111111111111111,
              "#46039f"
             ],
             [
              0.2222222222222222,
              "#7201a8"
             ],
             [
              0.3333333333333333,
              "#9c179e"
             ],
             [
              0.4444444444444444,
              "#bd3786"
             ],
             [
              0.5555555555555556,
              "#d8576b"
             ],
             [
              0.6666666666666666,
              "#ed7953"
             ],
             [
              0.7777777777777778,
              "#fb9f3a"
             ],
             [
              0.8888888888888888,
              "#fdca26"
             ],
             [
              1,
              "#f0f921"
             ]
            ],
            "type": "histogram2d"
           }
          ],
          "histogram2dcontour": [
           {
            "colorbar": {
             "outlinewidth": 0,
             "ticks": ""
            },
            "colorscale": [
             [
              0,
              "#0d0887"
             ],
             [
              0.1111111111111111,
              "#46039f"
             ],
             [
              0.2222222222222222,
              "#7201a8"
             ],
             [
              0.3333333333333333,
              "#9c179e"
             ],
             [
              0.4444444444444444,
              "#bd3786"
             ],
             [
              0.5555555555555556,
              "#d8576b"
             ],
             [
              0.6666666666666666,
              "#ed7953"
             ],
             [
              0.7777777777777778,
              "#fb9f3a"
             ],
             [
              0.8888888888888888,
              "#fdca26"
             ],
             [
              1,
              "#f0f921"
             ]
            ],
            "type": "histogram2dcontour"
           }
          ],
          "mesh3d": [
           {
            "colorbar": {
             "outlinewidth": 0,
             "ticks": ""
            },
            "type": "mesh3d"
           }
          ],
          "parcoords": [
           {
            "line": {
             "colorbar": {
              "outlinewidth": 0,
              "ticks": ""
             }
            },
            "type": "parcoords"
           }
          ],
          "pie": [
           {
            "automargin": true,
            "type": "pie"
           }
          ],
          "scatter": [
           {
            "fillpattern": {
             "fillmode": "overlay",
             "size": 10,
             "solidity": 0.2
            },
            "type": "scatter"
           }
          ],
          "scatter3d": [
           {
            "line": {
             "colorbar": {
              "outlinewidth": 0,
              "ticks": ""
             }
            },
            "marker": {
             "colorbar": {
              "outlinewidth": 0,
              "ticks": ""
             }
            },
            "type": "scatter3d"
           }
          ],
          "scattercarpet": [
           {
            "marker": {
             "colorbar": {
              "outlinewidth": 0,
              "ticks": ""
             }
            },
            "type": "scattercarpet"
           }
          ],
          "scattergeo": [
           {
            "marker": {
             "colorbar": {
              "outlinewidth": 0,
              "ticks": ""
             }
            },
            "type": "scattergeo"
           }
          ],
          "scattergl": [
           {
            "marker": {
             "colorbar": {
              "outlinewidth": 0,
              "ticks": ""
             }
            },
            "type": "scattergl"
           }
          ],
          "scattermapbox": [
           {
            "marker": {
             "colorbar": {
              "outlinewidth": 0,
              "ticks": ""
             }
            },
            "type": "scattermapbox"
           }
          ],
          "scatterpolar": [
           {
            "marker": {
             "colorbar": {
              "outlinewidth": 0,
              "ticks": ""
             }
            },
            "type": "scatterpolar"
           }
          ],
          "scatterpolargl": [
           {
            "marker": {
             "colorbar": {
              "outlinewidth": 0,
              "ticks": ""
             }
            },
            "type": "scatterpolargl"
           }
          ],
          "scatterternary": [
           {
            "marker": {
             "colorbar": {
              "outlinewidth": 0,
              "ticks": ""
             }
            },
            "type": "scatterternary"
           }
          ],
          "surface": [
           {
            "colorbar": {
             "outlinewidth": 0,
             "ticks": ""
            },
            "colorscale": [
             [
              0,
              "#0d0887"
             ],
             [
              0.1111111111111111,
              "#46039f"
             ],
             [
              0.2222222222222222,
              "#7201a8"
             ],
             [
              0.3333333333333333,
              "#9c179e"
             ],
             [
              0.4444444444444444,
              "#bd3786"
             ],
             [
              0.5555555555555556,
              "#d8576b"
             ],
             [
              0.6666666666666666,
              "#ed7953"
             ],
             [
              0.7777777777777778,
              "#fb9f3a"
             ],
             [
              0.8888888888888888,
              "#fdca26"
             ],
             [
              1,
              "#f0f921"
             ]
            ],
            "type": "surface"
           }
          ],
          "table": [
           {
            "cells": {
             "fill": {
              "color": "#EBF0F8"
             },
             "line": {
              "color": "white"
             }
            },
            "header": {
             "fill": {
              "color": "#C8D4E3"
             },
             "line": {
              "color": "white"
             }
            },
            "type": "table"
           }
          ]
         },
         "layout": {
          "annotationdefaults": {
           "arrowcolor": "#2a3f5f",
           "arrowhead": 0,
           "arrowwidth": 1
          },
          "autotypenumbers": "strict",
          "coloraxis": {
           "colorbar": {
            "outlinewidth": 0,
            "ticks": ""
           }
          },
          "colorscale": {
           "diverging": [
            [
             0,
             "#8e0152"
            ],
            [
             0.1,
             "#c51b7d"
            ],
            [
             0.2,
             "#de77ae"
            ],
            [
             0.3,
             "#f1b6da"
            ],
            [
             0.4,
             "#fde0ef"
            ],
            [
             0.5,
             "#f7f7f7"
            ],
            [
             0.6,
             "#e6f5d0"
            ],
            [
             0.7,
             "#b8e186"
            ],
            [
             0.8,
             "#7fbc41"
            ],
            [
             0.9,
             "#4d9221"
            ],
            [
             1,
             "#276419"
            ]
           ],
           "sequential": [
            [
             0,
             "#0d0887"
            ],
            [
             0.1111111111111111,
             "#46039f"
            ],
            [
             0.2222222222222222,
             "#7201a8"
            ],
            [
             0.3333333333333333,
             "#9c179e"
            ],
            [
             0.4444444444444444,
             "#bd3786"
            ],
            [
             0.5555555555555556,
             "#d8576b"
            ],
            [
             0.6666666666666666,
             "#ed7953"
            ],
            [
             0.7777777777777778,
             "#fb9f3a"
            ],
            [
             0.8888888888888888,
             "#fdca26"
            ],
            [
             1,
             "#f0f921"
            ]
           ],
           "sequentialminus": [
            [
             0,
             "#0d0887"
            ],
            [
             0.1111111111111111,
             "#46039f"
            ],
            [
             0.2222222222222222,
             "#7201a8"
            ],
            [
             0.3333333333333333,
             "#9c179e"
            ],
            [
             0.4444444444444444,
             "#bd3786"
            ],
            [
             0.5555555555555556,
             "#d8576b"
            ],
            [
             0.6666666666666666,
             "#ed7953"
            ],
            [
             0.7777777777777778,
             "#fb9f3a"
            ],
            [
             0.8888888888888888,
             "#fdca26"
            ],
            [
             1,
             "#f0f921"
            ]
           ]
          },
          "colorway": [
           "#636efa",
           "#EF553B",
           "#00cc96",
           "#ab63fa",
           "#FFA15A",
           "#19d3f3",
           "#FF6692",
           "#B6E880",
           "#FF97FF",
           "#FECB52"
          ],
          "font": {
           "color": "#2a3f5f"
          },
          "geo": {
           "bgcolor": "white",
           "lakecolor": "white",
           "landcolor": "#E5ECF6",
           "showlakes": true,
           "showland": true,
           "subunitcolor": "white"
          },
          "hoverlabel": {
           "align": "left"
          },
          "hovermode": "closest",
          "mapbox": {
           "style": "light"
          },
          "paper_bgcolor": "white",
          "plot_bgcolor": "#E5ECF6",
          "polar": {
           "angularaxis": {
            "gridcolor": "white",
            "linecolor": "white",
            "ticks": ""
           },
           "bgcolor": "#E5ECF6",
           "radialaxis": {
            "gridcolor": "white",
            "linecolor": "white",
            "ticks": ""
           }
          },
          "scene": {
           "xaxis": {
            "backgroundcolor": "#E5ECF6",
            "gridcolor": "white",
            "gridwidth": 2,
            "linecolor": "white",
            "showbackground": true,
            "ticks": "",
            "zerolinecolor": "white"
           },
           "yaxis": {
            "backgroundcolor": "#E5ECF6",
            "gridcolor": "white",
            "gridwidth": 2,
            "linecolor": "white",
            "showbackground": true,
            "ticks": "",
            "zerolinecolor": "white"
           },
           "zaxis": {
            "backgroundcolor": "#E5ECF6",
            "gridcolor": "white",
            "gridwidth": 2,
            "linecolor": "white",
            "showbackground": true,
            "ticks": "",
            "zerolinecolor": "white"
           }
          },
          "shapedefaults": {
           "line": {
            "color": "#2a3f5f"
           }
          },
          "ternary": {
           "aaxis": {
            "gridcolor": "white",
            "linecolor": "white",
            "ticks": ""
           },
           "baxis": {
            "gridcolor": "white",
            "linecolor": "white",
            "ticks": ""
           },
           "bgcolor": "#E5ECF6",
           "caxis": {
            "gridcolor": "white",
            "linecolor": "white",
            "ticks": ""
           }
          },
          "title": {
           "x": 0.05
          },
          "xaxis": {
           "automargin": true,
           "gridcolor": "white",
           "linecolor": "white",
           "ticks": "",
           "title": {
            "standoff": 15
           },
           "zerolinecolor": "white",
           "zerolinewidth": 2
          },
          "yaxis": {
           "automargin": true,
           "gridcolor": "white",
           "linecolor": "white",
           "ticks": "",
           "title": {
            "standoff": 15
           },
           "zerolinecolor": "white",
           "zerolinewidth": 2
          }
         }
        },
        "title": {
         "text": "Champions win percentages"
        },
        "width": 700,
        "xaxis": {
         "anchor": "y",
         "domain": [
          0,
          1
         ]
        },
        "yaxis": {
         "anchor": "x",
         "domain": [
          0,
          1
         ],
         "title": {
          "text": "Win %"
         }
        }
       }
      }
     },
     "metadata": {},
     "output_type": "display_data"
    }
   ],
   "source": [
    "# Plotting the winrate of League of Legends champions\n",
    "px.box(df,y ='Win %',points = 'all' , hover_data=['Name'] , width = 700, title='Champions win percentages')"
   ]
  },
  {
   "cell_type": "markdown",
   "metadata": {},
   "source": [
    "![Champions win percentages](Cwp.png)"
   ]
  },
  {
   "cell_type": "code",
   "execution_count": 86,
   "metadata": {},
   "outputs": [
    {
     "data": {
      "application/vnd.plotly.v1+json": {
       "config": {
        "plotlyServerURL": "https://plot.ly"
       },
       "data": [
        {
         "alignmentgroup": "True",
         "boxpoints": "all",
         "customdata": [
          [
           "Aatrox"
          ],
          [
           "Ahri"
          ],
          [
           "Akali"
          ],
          [
           "Akali"
          ],
          [
           "Akshan"
          ],
          [
           "Akshan"
          ],
          [
           "Alistar"
          ],
          [
           "Amumu"
          ],
          [
           "Amumu"
          ],
          [
           "Anivia"
          ],
          [
           "Anivia"
          ],
          [
           "Annie"
          ],
          [
           "Annie"
          ],
          [
           "Aphelios"
          ],
          [
           "Ashe"
          ],
          [
           "Ashe"
          ],
          [
           "Aurelion Sol"
          ],
          [
           "Azir"
          ],
          [
           "Bard"
          ],
          [
           "Bel'Veth"
          ],
          [
           "Blitzcrank"
          ],
          [
           "Brand"
          ],
          [
           "Brand"
          ],
          [
           "Brand"
          ],
          [
           "Braum"
          ],
          [
           "Briar"
          ],
          [
           "Caitlyn"
          ],
          [
           "Camille"
          ],
          [
           "Cassiopeia"
          ],
          [
           "Cassiopeia"
          ],
          [
           "Cho'Gath"
          ],
          [
           "Cho'Gath"
          ],
          [
           "Corki"
          ],
          [
           "Darius"
          ],
          [
           "Diana"
          ],
          [
           "Diana"
          ],
          [
           "Dr. Mundo"
          ],
          [
           "Draven"
          ],
          [
           "Ekko"
          ],
          [
           "Ekko"
          ],
          [
           "Elise"
          ],
          [
           "Evelynn"
          ],
          [
           "Ezreal"
          ],
          [
           "Fiddlesticks"
          ],
          [
           "Fiddlesticks"
          ],
          [
           "Fiora"
          ],
          [
           "Fizz"
          ],
          [
           "Galio"
          ],
          [
           "Galio"
          ],
          [
           "Gangplank"
          ],
          [
           "Gangplank"
          ],
          [
           "Garen"
          ],
          [
           "Gnar"
          ],
          [
           "Gragas"
          ],
          [
           "Gragas"
          ],
          [
           "Gragas"
          ],
          [
           "Graves"
          ],
          [
           "Gwen"
          ],
          [
           "Gwen"
          ],
          [
           "Hecarim"
          ],
          [
           "Heimerdinger"
          ],
          [
           "Heimerdinger"
          ],
          [
           "Heimerdinger"
          ],
          [
           "Illaoi"
          ],
          [
           "Irelia"
          ],
          [
           "Irelia"
          ],
          [
           "Ivern"
          ],
          [
           "Janna"
          ],
          [
           "Jarvan IV"
          ],
          [
           "Jax"
          ],
          [
           "Jax"
          ],
          [
           "Jayce"
          ],
          [
           "Jayce"
          ],
          [
           "Jhin"
          ],
          [
           "Jinx"
          ],
          [
           "K'Sante"
          ],
          [
           "Kai'Sa"
          ],
          [
           "Kalista"
          ],
          [
           "Karma"
          ],
          [
           "Karthus"
          ],
          [
           "Karthus"
          ],
          [
           "Kassadin"
          ],
          [
           "Katarina"
          ],
          [
           "Kayle"
          ],
          [
           "Kayn"
          ],
          [
           "Kennen"
          ],
          [
           "Kennen"
          ],
          [
           "Kha'Zix"
          ],
          [
           "Kindred"
          ],
          [
           "Kled"
          ],
          [
           "Kog'Maw"
          ],
          [
           "LeBlanc"
          ],
          [
           "Lee Sin"
          ],
          [
           "Leona"
          ],
          [
           "Lillia"
          ],
          [
           "Lissandra"
          ],
          [
           "Lissandra"
          ],
          [
           "Lucian"
          ],
          [
           "Lulu"
          ],
          [
           "Lux"
          ],
          [
           "Lux"
          ],
          [
           "Malphite"
          ],
          [
           "Malphite"
          ],
          [
           "Malphite"
          ],
          [
           "Malzahar"
          ],
          [
           "Maokai"
          ],
          [
           "Maokai"
          ],
          [
           "Master Yi"
          ],
          [
           "Milio"
          ],
          [
           "Miss Fortune"
          ],
          [
           "Miss Fortune"
          ],
          [
           "Mordekaiser"
          ],
          [
           "Morgana"
          ],
          [
           "Morgana"
          ],
          [
           "Naafiri"
          ],
          [
           "Naafiri"
          ],
          [
           "Naafiri"
          ],
          [
           "Nami"
          ],
          [
           "Nasus"
          ],
          [
           "Nautilus"
          ],
          [
           "Neeko"
          ],
          [
           "Neeko"
          ],
          [
           "Nidalee"
          ],
          [
           "Nilah"
          ],
          [
           "Nocturne"
          ],
          [
           "Nunu"
          ],
          [
           "Olaf"
          ],
          [
           "Olaf"
          ],
          [
           "Orianna"
          ],
          [
           "Ornn"
          ],
          [
           "Pantheon"
          ],
          [
           "Pantheon"
          ],
          [
           "Pantheon"
          ],
          [
           "Poppy"
          ],
          [
           "Poppy"
          ],
          [
           "Pyke"
          ],
          [
           "Qiyana"
          ],
          [
           "Quinn"
          ],
          [
           "Quinn"
          ],
          [
           "Rakan"
          ],
          [
           "Rammus"
          ],
          [
           "Rek'Sai"
          ],
          [
           "Rell"
          ],
          [
           "Rell"
          ],
          [
           "Renata Glasc"
          ],
          [
           "Renekton"
          ],
          [
           "Rengar"
          ],
          [
           "Rengar"
          ],
          [
           "Riven"
          ],
          [
           "Rumble"
          ],
          [
           "Rumble"
          ],
          [
           "Ryze"
          ],
          [
           "Ryze"
          ],
          [
           "Samira"
          ],
          [
           "Sejuani"
          ],
          [
           "Senna"
          ],
          [
           "Seraphine"
          ],
          [
           "Seraphine"
          ],
          [
           "Sett"
          ],
          [
           "Shaco"
          ],
          [
           "Shaco"
          ],
          [
           "Shen"
          ],
          [
           "Shen"
          ],
          [
           "Shyvana"
          ],
          [
           "Shyvana"
          ],
          [
           "Singed"
          ],
          [
           "Singed"
          ],
          [
           "Sion"
          ],
          [
           "Sion"
          ],
          [
           "Sivir"
          ],
          [
           "Skarner"
          ],
          [
           "Skarner"
          ],
          [
           "Sona"
          ],
          [
           "Soraka"
          ],
          [
           "Swain"
          ],
          [
           "Swain"
          ],
          [
           "Swain"
          ],
          [
           "Sylas"
          ],
          [
           "Sylas"
          ],
          [
           "Syndra"
          ],
          [
           "Tahm Kench"
          ],
          [
           "Tahm Kench"
          ],
          [
           "Taliyah"
          ],
          [
           "Taliyah"
          ],
          [
           "Talon"
          ],
          [
           "Talon"
          ],
          [
           "Taric"
          ],
          [
           "Teemo"
          ],
          [
           "Teemo"
          ],
          [
           "Thresh"
          ],
          [
           "Tristana"
          ],
          [
           "Tristana"
          ],
          [
           "Trundle"
          ],
          [
           "Trundle"
          ],
          [
           "Tryndamere"
          ],
          [
           "Tryndamere"
          ],
          [
           "Twisted Fate"
          ],
          [
           "Twitch"
          ],
          [
           "Twitch"
          ],
          [
           "Udyr"
          ],
          [
           "Udyr"
          ],
          [
           "Urgot"
          ],
          [
           "Varus"
          ],
          [
           "Vayne"
          ],
          [
           "Vayne"
          ],
          [
           "Veigar"
          ],
          [
           "Veigar"
          ],
          [
           "Vel'Koz"
          ],
          [
           "Vel'Koz"
          ],
          [
           "Vex"
          ],
          [
           "Vi"
          ],
          [
           "Viego"
          ],
          [
           "Viktor"
          ],
          [
           "Vladimir"
          ],
          [
           "Vladimir"
          ],
          [
           "Volibear"
          ],
          [
           "Volibear"
          ],
          [
           "Warwick"
          ],
          [
           "Warwick"
          ],
          [
           "Wukong"
          ],
          [
           "Wukong"
          ],
          [
           "Xayah"
          ],
          [
           "Xerath"
          ],
          [
           "Xerath"
          ],
          [
           "Xin Zhao"
          ],
          [
           "Yasuo"
          ],
          [
           "Yasuo"
          ],
          [
           "Yasuo"
          ],
          [
           "Yone"
          ],
          [
           "Yone"
          ],
          [
           "Yorick"
          ],
          [
           "Yuumi"
          ],
          [
           "Zac"
          ],
          [
           "Zed"
          ],
          [
           "Zeri"
          ],
          [
           "Ziggs"
          ],
          [
           "Ziggs"
          ],
          [
           "Zilean"
          ],
          [
           "Zilean"
          ],
          [
           "Zoe"
          ],
          [
           "Zoe"
          ],
          [
           "Zyra"
          ]
         ],
         "hovertemplate": "Pick %=%{y}<br>Name=%{customdata[0]}<extra></extra>",
         "legendgroup": "",
         "marker": {
          "color": "#636efa"
         },
         "name": "",
         "notched": false,
         "offsetgroup": "",
         "orientation": "v",
         "showlegend": false,
         "type": "box",
         "x0": " ",
         "xaxis": "x",
         "y": [
          0.1037,
          0.0736,
          0.1016,
          0.0344,
          0.021,
          0.0058,
          0.0719,
          0.0269,
          0.0052,
          0.0155,
          0.0032,
          0.0125,
          0.0031,
          0.0658,
          0.0962,
          0.0127,
          0.0333,
          0.0354,
          0.0422,
          0.0314,
          0.0894,
          0.0359,
          0.0191,
          0.0093,
          0.0267,
          0.0847,
          0.1578,
          0.0398,
          0.0149,
          0.0033,
          0.0236,
          0.0058,
          0.0059,
          0.0882,
          0.0412,
          0.0139,
          0.0344,
          0.0555,
          0.0498,
          0.0227,
          0.0201,
          0.0443,
          0.2213,
          0.0364,
          0.0046,
          0.051,
          0.0467,
          0.0153,
          0.0045,
          0.045,
          0.0062,
          0.1069,
          0.0279,
          0.0248,
          0.005,
          0.0098,
          0.1439,
          0.0299,
          0.0055,
          0.0501,
          0.0062,
          0.0118,
          0.0063,
          0.0444,
          0.0365,
          0.0336,
          0.0181,
          0.0285,
          0.0959,
          0.0992,
          0.0165,
          0.056,
          0.0554,
          0.1103,
          0.159,
          0.1056,
          0.2453,
          0.0366,
          0.0558,
          0.0274,
          0.0037,
          0.0341,
          0.0556,
          0.0292,
          0.0874,
          0.0033,
          0.0201,
          0.0607,
          0.0284,
          0.0139,
          0.0133,
          0.0441,
          0.1637,
          0.0484,
          0.0414,
          0.0311,
          0.005,
          0.0628,
          0.0603,
          0.1138,
          0.0436,
          0.0538,
          0.0104,
          0.0103,
          0.0346,
          0.043,
          0.014,
          0.0638,
          0.0448,
          0.0837,
          0.009,
          0.0487,
          0.0697,
          0.0226,
          0.0317,
          0.0053,
          0.0048,
          0.0595,
          0.0492,
          0.1103,
          0.0305,
          0.0284,
          0.0502,
          0.0334,
          0.0524,
          0.0285,
          0.0239,
          0.003,
          0.1109,
          0.0357,
          0.0225,
          0.0205,
          0.022,
          0.0214,
          0.0172,
          0.0719,
          0.0217,
          0.0151,
          0.0023,
          0.121,
          0.0396,
          0.0117,
          0.0532,
          0.0064,
          0.032,
          0.0782,
          0.0249,
          0.0071,
          0.0386,
          0.0369,
          0.0053,
          0.0156,
          0.0026,
          0.078,
          0.0301,
          0.1078,
          0.0411,
          0.0083,
          0.0579,
          0.049,
          0.0201,
          0.0184,
          0.0037,
          0.0179,
          0.0027,
          0.014,
          0.0022,
          0.0315,
          0.0075,
          0.0417,
          0.0074,
          0.0013,
          0.0254,
          0.0529,
          0.0101,
          0.0359,
          0.01,
          0.0967,
          0.034,
          0.0832,
          0.0205,
          0.0068,
          0.0428,
          0.0222,
          0.0351,
          0.0074,
          0.0132,
          0.0409,
          0.0073,
          0.1306,
          0.033,
          0.0499,
          0.0116,
          0.0101,
          0.0301,
          0.0035,
          0.0302,
          0.0421,
          0.0096,
          0.0216,
          0.0073,
          0.0195,
          0.044,
          0.0862,
          0.0142,
          0.0413,
          0.0065,
          0.0162,
          0.0053,
          0.0361,
          0.0467,
          0.0755,
          0.0346,
          0.0291,
          0.0069,
          0.0298,
          0.0088,
          0.0377,
          0.0103,
          0.0198,
          0.0054,
          0.13,
          0.0561,
          0.0292,
          0.0208,
          0.1114,
          0.0299,
          0.0236,
          0.0991,
          0.0869,
          0.0242,
          0.0652,
          0.0366,
          0.0927,
          0.0334,
          0.0248,
          0.048,
          0.0023,
          0.0175,
          0.0247,
          0.0039,
          0.0445
         ],
         "y0": " ",
         "yaxis": "y"
        }
       ],
       "layout": {
        "boxmode": "group",
        "legend": {
         "tracegroupgap": 0
        },
        "template": {
         "data": {
          "bar": [
           {
            "error_x": {
             "color": "#2a3f5f"
            },
            "error_y": {
             "color": "#2a3f5f"
            },
            "marker": {
             "line": {
              "color": "#E5ECF6",
              "width": 0.5
             },
             "pattern": {
              "fillmode": "overlay",
              "size": 10,
              "solidity": 0.2
             }
            },
            "type": "bar"
           }
          ],
          "barpolar": [
           {
            "marker": {
             "line": {
              "color": "#E5ECF6",
              "width": 0.5
             },
             "pattern": {
              "fillmode": "overlay",
              "size": 10,
              "solidity": 0.2
             }
            },
            "type": "barpolar"
           }
          ],
          "carpet": [
           {
            "aaxis": {
             "endlinecolor": "#2a3f5f",
             "gridcolor": "white",
             "linecolor": "white",
             "minorgridcolor": "white",
             "startlinecolor": "#2a3f5f"
            },
            "baxis": {
             "endlinecolor": "#2a3f5f",
             "gridcolor": "white",
             "linecolor": "white",
             "minorgridcolor": "white",
             "startlinecolor": "#2a3f5f"
            },
            "type": "carpet"
           }
          ],
          "choropleth": [
           {
            "colorbar": {
             "outlinewidth": 0,
             "ticks": ""
            },
            "type": "choropleth"
           }
          ],
          "contour": [
           {
            "colorbar": {
             "outlinewidth": 0,
             "ticks": ""
            },
            "colorscale": [
             [
              0,
              "#0d0887"
             ],
             [
              0.1111111111111111,
              "#46039f"
             ],
             [
              0.2222222222222222,
              "#7201a8"
             ],
             [
              0.3333333333333333,
              "#9c179e"
             ],
             [
              0.4444444444444444,
              "#bd3786"
             ],
             [
              0.5555555555555556,
              "#d8576b"
             ],
             [
              0.6666666666666666,
              "#ed7953"
             ],
             [
              0.7777777777777778,
              "#fb9f3a"
             ],
             [
              0.8888888888888888,
              "#fdca26"
             ],
             [
              1,
              "#f0f921"
             ]
            ],
            "type": "contour"
           }
          ],
          "contourcarpet": [
           {
            "colorbar": {
             "outlinewidth": 0,
             "ticks": ""
            },
            "type": "contourcarpet"
           }
          ],
          "heatmap": [
           {
            "colorbar": {
             "outlinewidth": 0,
             "ticks": ""
            },
            "colorscale": [
             [
              0,
              "#0d0887"
             ],
             [
              0.1111111111111111,
              "#46039f"
             ],
             [
              0.2222222222222222,
              "#7201a8"
             ],
             [
              0.3333333333333333,
              "#9c179e"
             ],
             [
              0.4444444444444444,
              "#bd3786"
             ],
             [
              0.5555555555555556,
              "#d8576b"
             ],
             [
              0.6666666666666666,
              "#ed7953"
             ],
             [
              0.7777777777777778,
              "#fb9f3a"
             ],
             [
              0.8888888888888888,
              "#fdca26"
             ],
             [
              1,
              "#f0f921"
             ]
            ],
            "type": "heatmap"
           }
          ],
          "heatmapgl": [
           {
            "colorbar": {
             "outlinewidth": 0,
             "ticks": ""
            },
            "colorscale": [
             [
              0,
              "#0d0887"
             ],
             [
              0.1111111111111111,
              "#46039f"
             ],
             [
              0.2222222222222222,
              "#7201a8"
             ],
             [
              0.3333333333333333,
              "#9c179e"
             ],
             [
              0.4444444444444444,
              "#bd3786"
             ],
             [
              0.5555555555555556,
              "#d8576b"
             ],
             [
              0.6666666666666666,
              "#ed7953"
             ],
             [
              0.7777777777777778,
              "#fb9f3a"
             ],
             [
              0.8888888888888888,
              "#fdca26"
             ],
             [
              1,
              "#f0f921"
             ]
            ],
            "type": "heatmapgl"
           }
          ],
          "histogram": [
           {
            "marker": {
             "pattern": {
              "fillmode": "overlay",
              "size": 10,
              "solidity": 0.2
             }
            },
            "type": "histogram"
           }
          ],
          "histogram2d": [
           {
            "colorbar": {
             "outlinewidth": 0,
             "ticks": ""
            },
            "colorscale": [
             [
              0,
              "#0d0887"
             ],
             [
              0.1111111111111111,
              "#46039f"
             ],
             [
              0.2222222222222222,
              "#7201a8"
             ],
             [
              0.3333333333333333,
              "#9c179e"
             ],
             [
              0.4444444444444444,
              "#bd3786"
             ],
             [
              0.5555555555555556,
              "#d8576b"
             ],
             [
              0.6666666666666666,
              "#ed7953"
             ],
             [
              0.7777777777777778,
              "#fb9f3a"
             ],
             [
              0.8888888888888888,
              "#fdca26"
             ],
             [
              1,
              "#f0f921"
             ]
            ],
            "type": "histogram2d"
           }
          ],
          "histogram2dcontour": [
           {
            "colorbar": {
             "outlinewidth": 0,
             "ticks": ""
            },
            "colorscale": [
             [
              0,
              "#0d0887"
             ],
             [
              0.1111111111111111,
              "#46039f"
             ],
             [
              0.2222222222222222,
              "#7201a8"
             ],
             [
              0.3333333333333333,
              "#9c179e"
             ],
             [
              0.4444444444444444,
              "#bd3786"
             ],
             [
              0.5555555555555556,
              "#d8576b"
             ],
             [
              0.6666666666666666,
              "#ed7953"
             ],
             [
              0.7777777777777778,
              "#fb9f3a"
             ],
             [
              0.8888888888888888,
              "#fdca26"
             ],
             [
              1,
              "#f0f921"
             ]
            ],
            "type": "histogram2dcontour"
           }
          ],
          "mesh3d": [
           {
            "colorbar": {
             "outlinewidth": 0,
             "ticks": ""
            },
            "type": "mesh3d"
           }
          ],
          "parcoords": [
           {
            "line": {
             "colorbar": {
              "outlinewidth": 0,
              "ticks": ""
             }
            },
            "type": "parcoords"
           }
          ],
          "pie": [
           {
            "automargin": true,
            "type": "pie"
           }
          ],
          "scatter": [
           {
            "fillpattern": {
             "fillmode": "overlay",
             "size": 10,
             "solidity": 0.2
            },
            "type": "scatter"
           }
          ],
          "scatter3d": [
           {
            "line": {
             "colorbar": {
              "outlinewidth": 0,
              "ticks": ""
             }
            },
            "marker": {
             "colorbar": {
              "outlinewidth": 0,
              "ticks": ""
             }
            },
            "type": "scatter3d"
           }
          ],
          "scattercarpet": [
           {
            "marker": {
             "colorbar": {
              "outlinewidth": 0,
              "ticks": ""
             }
            },
            "type": "scattercarpet"
           }
          ],
          "scattergeo": [
           {
            "marker": {
             "colorbar": {
              "outlinewidth": 0,
              "ticks": ""
             }
            },
            "type": "scattergeo"
           }
          ],
          "scattergl": [
           {
            "marker": {
             "colorbar": {
              "outlinewidth": 0,
              "ticks": ""
             }
            },
            "type": "scattergl"
           }
          ],
          "scattermapbox": [
           {
            "marker": {
             "colorbar": {
              "outlinewidth": 0,
              "ticks": ""
             }
            },
            "type": "scattermapbox"
           }
          ],
          "scatterpolar": [
           {
            "marker": {
             "colorbar": {
              "outlinewidth": 0,
              "ticks": ""
             }
            },
            "type": "scatterpolar"
           }
          ],
          "scatterpolargl": [
           {
            "marker": {
             "colorbar": {
              "outlinewidth": 0,
              "ticks": ""
             }
            },
            "type": "scatterpolargl"
           }
          ],
          "scatterternary": [
           {
            "marker": {
             "colorbar": {
              "outlinewidth": 0,
              "ticks": ""
             }
            },
            "type": "scatterternary"
           }
          ],
          "surface": [
           {
            "colorbar": {
             "outlinewidth": 0,
             "ticks": ""
            },
            "colorscale": [
             [
              0,
              "#0d0887"
             ],
             [
              0.1111111111111111,
              "#46039f"
             ],
             [
              0.2222222222222222,
              "#7201a8"
             ],
             [
              0.3333333333333333,
              "#9c179e"
             ],
             [
              0.4444444444444444,
              "#bd3786"
             ],
             [
              0.5555555555555556,
              "#d8576b"
             ],
             [
              0.6666666666666666,
              "#ed7953"
             ],
             [
              0.7777777777777778,
              "#fb9f3a"
             ],
             [
              0.8888888888888888,
              "#fdca26"
             ],
             [
              1,
              "#f0f921"
             ]
            ],
            "type": "surface"
           }
          ],
          "table": [
           {
            "cells": {
             "fill": {
              "color": "#EBF0F8"
             },
             "line": {
              "color": "white"
             }
            },
            "header": {
             "fill": {
              "color": "#C8D4E3"
             },
             "line": {
              "color": "white"
             }
            },
            "type": "table"
           }
          ]
         },
         "layout": {
          "annotationdefaults": {
           "arrowcolor": "#2a3f5f",
           "arrowhead": 0,
           "arrowwidth": 1
          },
          "autotypenumbers": "strict",
          "coloraxis": {
           "colorbar": {
            "outlinewidth": 0,
            "ticks": ""
           }
          },
          "colorscale": {
           "diverging": [
            [
             0,
             "#8e0152"
            ],
            [
             0.1,
             "#c51b7d"
            ],
            [
             0.2,
             "#de77ae"
            ],
            [
             0.3,
             "#f1b6da"
            ],
            [
             0.4,
             "#fde0ef"
            ],
            [
             0.5,
             "#f7f7f7"
            ],
            [
             0.6,
             "#e6f5d0"
            ],
            [
             0.7,
             "#b8e186"
            ],
            [
             0.8,
             "#7fbc41"
            ],
            [
             0.9,
             "#4d9221"
            ],
            [
             1,
             "#276419"
            ]
           ],
           "sequential": [
            [
             0,
             "#0d0887"
            ],
            [
             0.1111111111111111,
             "#46039f"
            ],
            [
             0.2222222222222222,
             "#7201a8"
            ],
            [
             0.3333333333333333,
             "#9c179e"
            ],
            [
             0.4444444444444444,
             "#bd3786"
            ],
            [
             0.5555555555555556,
             "#d8576b"
            ],
            [
             0.6666666666666666,
             "#ed7953"
            ],
            [
             0.7777777777777778,
             "#fb9f3a"
            ],
            [
             0.8888888888888888,
             "#fdca26"
            ],
            [
             1,
             "#f0f921"
            ]
           ],
           "sequentialminus": [
            [
             0,
             "#0d0887"
            ],
            [
             0.1111111111111111,
             "#46039f"
            ],
            [
             0.2222222222222222,
             "#7201a8"
            ],
            [
             0.3333333333333333,
             "#9c179e"
            ],
            [
             0.4444444444444444,
             "#bd3786"
            ],
            [
             0.5555555555555556,
             "#d8576b"
            ],
            [
             0.6666666666666666,
             "#ed7953"
            ],
            [
             0.7777777777777778,
             "#fb9f3a"
            ],
            [
             0.8888888888888888,
             "#fdca26"
            ],
            [
             1,
             "#f0f921"
            ]
           ]
          },
          "colorway": [
           "#636efa",
           "#EF553B",
           "#00cc96",
           "#ab63fa",
           "#FFA15A",
           "#19d3f3",
           "#FF6692",
           "#B6E880",
           "#FF97FF",
           "#FECB52"
          ],
          "font": {
           "color": "#2a3f5f"
          },
          "geo": {
           "bgcolor": "white",
           "lakecolor": "white",
           "landcolor": "#E5ECF6",
           "showlakes": true,
           "showland": true,
           "subunitcolor": "white"
          },
          "hoverlabel": {
           "align": "left"
          },
          "hovermode": "closest",
          "mapbox": {
           "style": "light"
          },
          "paper_bgcolor": "white",
          "plot_bgcolor": "#E5ECF6",
          "polar": {
           "angularaxis": {
            "gridcolor": "white",
            "linecolor": "white",
            "ticks": ""
           },
           "bgcolor": "#E5ECF6",
           "radialaxis": {
            "gridcolor": "white",
            "linecolor": "white",
            "ticks": ""
           }
          },
          "scene": {
           "xaxis": {
            "backgroundcolor": "#E5ECF6",
            "gridcolor": "white",
            "gridwidth": 2,
            "linecolor": "white",
            "showbackground": true,
            "ticks": "",
            "zerolinecolor": "white"
           },
           "yaxis": {
            "backgroundcolor": "#E5ECF6",
            "gridcolor": "white",
            "gridwidth": 2,
            "linecolor": "white",
            "showbackground": true,
            "ticks": "",
            "zerolinecolor": "white"
           },
           "zaxis": {
            "backgroundcolor": "#E5ECF6",
            "gridcolor": "white",
            "gridwidth": 2,
            "linecolor": "white",
            "showbackground": true,
            "ticks": "",
            "zerolinecolor": "white"
           }
          },
          "shapedefaults": {
           "line": {
            "color": "#2a3f5f"
           }
          },
          "ternary": {
           "aaxis": {
            "gridcolor": "white",
            "linecolor": "white",
            "ticks": ""
           },
           "baxis": {
            "gridcolor": "white",
            "linecolor": "white",
            "ticks": ""
           },
           "bgcolor": "#E5ECF6",
           "caxis": {
            "gridcolor": "white",
            "linecolor": "white",
            "ticks": ""
           }
          },
          "title": {
           "x": 0.05
          },
          "xaxis": {
           "automargin": true,
           "gridcolor": "white",
           "linecolor": "white",
           "ticks": "",
           "title": {
            "standoff": 15
           },
           "zerolinecolor": "white",
           "zerolinewidth": 2
          },
          "yaxis": {
           "automargin": true,
           "gridcolor": "white",
           "linecolor": "white",
           "ticks": "",
           "title": {
            "standoff": 15
           },
           "zerolinecolor": "white",
           "zerolinewidth": 2
          }
         }
        },
        "title": {
         "text": "Champions pick percentages"
        },
        "width": 700,
        "xaxis": {
         "anchor": "y",
         "domain": [
          0,
          1
         ]
        },
        "yaxis": {
         "anchor": "x",
         "domain": [
          0,
          1
         ],
         "title": {
          "text": "Pick %"
         }
        }
       }
      }
     },
     "metadata": {},
     "output_type": "display_data"
    }
   ],
   "source": [
    "# Plotting the pickrate of League of Legends champions\n",
    "px.box(df,y ='Pick %',points = 'all' , hover_data=['Name'] , width = 700, title='Champions pick percentages')"
   ]
  },
  {
   "cell_type": "markdown",
   "metadata": {},
   "source": [
    "![Champions pick percentages](Cpp.png)"
   ]
  },
  {
   "cell_type": "code",
   "execution_count": 87,
   "metadata": {},
   "outputs": [
    {
     "data": {
      "application/vnd.plotly.v1+json": {
       "config": {
        "plotlyServerURL": "https://plot.ly"
       },
       "data": [
        {
         "alignmentgroup": "True",
         "boxpoints": "all",
         "customdata": [
          [
           "Aatrox"
          ],
          [
           "Ahri"
          ],
          [
           "Akali"
          ],
          [
           "Akali"
          ],
          [
           "Akshan"
          ],
          [
           "Akshan"
          ],
          [
           "Alistar"
          ],
          [
           "Amumu"
          ],
          [
           "Amumu"
          ],
          [
           "Anivia"
          ],
          [
           "Anivia"
          ],
          [
           "Annie"
          ],
          [
           "Annie"
          ],
          [
           "Aphelios"
          ],
          [
           "Ashe"
          ],
          [
           "Ashe"
          ],
          [
           "Aurelion Sol"
          ],
          [
           "Azir"
          ],
          [
           "Bard"
          ],
          [
           "Bel'Veth"
          ],
          [
           "Blitzcrank"
          ],
          [
           "Brand"
          ],
          [
           "Brand"
          ],
          [
           "Brand"
          ],
          [
           "Braum"
          ],
          [
           "Briar"
          ],
          [
           "Caitlyn"
          ],
          [
           "Camille"
          ],
          [
           "Cassiopeia"
          ],
          [
           "Cassiopeia"
          ],
          [
           "Cho'Gath"
          ],
          [
           "Cho'Gath"
          ],
          [
           "Corki"
          ],
          [
           "Darius"
          ],
          [
           "Diana"
          ],
          [
           "Diana"
          ],
          [
           "Dr. Mundo"
          ],
          [
           "Draven"
          ],
          [
           "Ekko"
          ],
          [
           "Ekko"
          ],
          [
           "Elise"
          ],
          [
           "Evelynn"
          ],
          [
           "Ezreal"
          ],
          [
           "Fiddlesticks"
          ],
          [
           "Fiddlesticks"
          ],
          [
           "Fiora"
          ],
          [
           "Fizz"
          ],
          [
           "Galio"
          ],
          [
           "Galio"
          ],
          [
           "Gangplank"
          ],
          [
           "Gangplank"
          ],
          [
           "Garen"
          ],
          [
           "Gnar"
          ],
          [
           "Gragas"
          ],
          [
           "Gragas"
          ],
          [
           "Gragas"
          ],
          [
           "Graves"
          ],
          [
           "Gwen"
          ],
          [
           "Gwen"
          ],
          [
           "Hecarim"
          ],
          [
           "Heimerdinger"
          ],
          [
           "Heimerdinger"
          ],
          [
           "Heimerdinger"
          ],
          [
           "Illaoi"
          ],
          [
           "Irelia"
          ],
          [
           "Irelia"
          ],
          [
           "Ivern"
          ],
          [
           "Janna"
          ],
          [
           "Jarvan IV"
          ],
          [
           "Jax"
          ],
          [
           "Jax"
          ],
          [
           "Jayce"
          ],
          [
           "Jayce"
          ],
          [
           "Jhin"
          ],
          [
           "Jinx"
          ],
          [
           "K'Sante"
          ],
          [
           "Kai'Sa"
          ],
          [
           "Kalista"
          ],
          [
           "Karma"
          ],
          [
           "Karthus"
          ],
          [
           "Karthus"
          ],
          [
           "Kassadin"
          ],
          [
           "Katarina"
          ],
          [
           "Kayle"
          ],
          [
           "Kayn"
          ],
          [
           "Kennen"
          ],
          [
           "Kennen"
          ],
          [
           "Kha'Zix"
          ],
          [
           "Kindred"
          ],
          [
           "Kled"
          ],
          [
           "Kog'Maw"
          ],
          [
           "LeBlanc"
          ],
          [
           "Lee Sin"
          ],
          [
           "Leona"
          ],
          [
           "Lillia"
          ],
          [
           "Lissandra"
          ],
          [
           "Lissandra"
          ],
          [
           "Lucian"
          ],
          [
           "Lulu"
          ],
          [
           "Lux"
          ],
          [
           "Lux"
          ],
          [
           "Malphite"
          ],
          [
           "Malphite"
          ],
          [
           "Malphite"
          ],
          [
           "Malzahar"
          ],
          [
           "Maokai"
          ],
          [
           "Maokai"
          ],
          [
           "Master Yi"
          ],
          [
           "Milio"
          ],
          [
           "Miss Fortune"
          ],
          [
           "Miss Fortune"
          ],
          [
           "Mordekaiser"
          ],
          [
           "Morgana"
          ],
          [
           "Morgana"
          ],
          [
           "Naafiri"
          ],
          [
           "Naafiri"
          ],
          [
           "Naafiri"
          ],
          [
           "Nami"
          ],
          [
           "Nasus"
          ],
          [
           "Nautilus"
          ],
          [
           "Neeko"
          ],
          [
           "Neeko"
          ],
          [
           "Nidalee"
          ],
          [
           "Nilah"
          ],
          [
           "Nocturne"
          ],
          [
           "Nunu"
          ],
          [
           "Olaf"
          ],
          [
           "Olaf"
          ],
          [
           "Orianna"
          ],
          [
           "Ornn"
          ],
          [
           "Pantheon"
          ],
          [
           "Pantheon"
          ],
          [
           "Pantheon"
          ],
          [
           "Poppy"
          ],
          [
           "Poppy"
          ],
          [
           "Pyke"
          ],
          [
           "Qiyana"
          ],
          [
           "Quinn"
          ],
          [
           "Quinn"
          ],
          [
           "Rakan"
          ],
          [
           "Rammus"
          ],
          [
           "Rek'Sai"
          ],
          [
           "Rell"
          ],
          [
           "Rell"
          ],
          [
           "Renata Glasc"
          ],
          [
           "Renekton"
          ],
          [
           "Rengar"
          ],
          [
           "Rengar"
          ],
          [
           "Riven"
          ],
          [
           "Rumble"
          ],
          [
           "Rumble"
          ],
          [
           "Ryze"
          ],
          [
           "Ryze"
          ],
          [
           "Samira"
          ],
          [
           "Sejuani"
          ],
          [
           "Senna"
          ],
          [
           "Seraphine"
          ],
          [
           "Seraphine"
          ],
          [
           "Sett"
          ],
          [
           "Shaco"
          ],
          [
           "Shaco"
          ],
          [
           "Shen"
          ],
          [
           "Shen"
          ],
          [
           "Shyvana"
          ],
          [
           "Shyvana"
          ],
          [
           "Singed"
          ],
          [
           "Singed"
          ],
          [
           "Sion"
          ],
          [
           "Sion"
          ],
          [
           "Sivir"
          ],
          [
           "Skarner"
          ],
          [
           "Skarner"
          ],
          [
           "Sona"
          ],
          [
           "Soraka"
          ],
          [
           "Swain"
          ],
          [
           "Swain"
          ],
          [
           "Swain"
          ],
          [
           "Sylas"
          ],
          [
           "Sylas"
          ],
          [
           "Syndra"
          ],
          [
           "Tahm Kench"
          ],
          [
           "Tahm Kench"
          ],
          [
           "Taliyah"
          ],
          [
           "Taliyah"
          ],
          [
           "Talon"
          ],
          [
           "Talon"
          ],
          [
           "Taric"
          ],
          [
           "Teemo"
          ],
          [
           "Teemo"
          ],
          [
           "Thresh"
          ],
          [
           "Tristana"
          ],
          [
           "Tristana"
          ],
          [
           "Trundle"
          ],
          [
           "Trundle"
          ],
          [
           "Tryndamere"
          ],
          [
           "Tryndamere"
          ],
          [
           "Twisted Fate"
          ],
          [
           "Twitch"
          ],
          [
           "Twitch"
          ],
          [
           "Udyr"
          ],
          [
           "Udyr"
          ],
          [
           "Urgot"
          ],
          [
           "Varus"
          ],
          [
           "Vayne"
          ],
          [
           "Vayne"
          ],
          [
           "Veigar"
          ],
          [
           "Veigar"
          ],
          [
           "Vel'Koz"
          ],
          [
           "Vel'Koz"
          ],
          [
           "Vex"
          ],
          [
           "Vi"
          ],
          [
           "Viego"
          ],
          [
           "Viktor"
          ],
          [
           "Vladimir"
          ],
          [
           "Vladimir"
          ],
          [
           "Volibear"
          ],
          [
           "Volibear"
          ],
          [
           "Warwick"
          ],
          [
           "Warwick"
          ],
          [
           "Wukong"
          ],
          [
           "Wukong"
          ],
          [
           "Xayah"
          ],
          [
           "Xerath"
          ],
          [
           "Xerath"
          ],
          [
           "Xin Zhao"
          ],
          [
           "Yasuo"
          ],
          [
           "Yasuo"
          ],
          [
           "Yasuo"
          ],
          [
           "Yone"
          ],
          [
           "Yone"
          ],
          [
           "Yorick"
          ],
          [
           "Yuumi"
          ],
          [
           "Zac"
          ],
          [
           "Zed"
          ],
          [
           "Zeri"
          ],
          [
           "Ziggs"
          ],
          [
           "Ziggs"
          ],
          [
           "Zilean"
          ],
          [
           "Zilean"
          ],
          [
           "Zoe"
          ],
          [
           "Zoe"
          ],
          [
           "Zyra"
          ]
         ],
         "hovertemplate": "Ban %=%{y}<br>Name=%{customdata[0]}<extra></extra>",
         "legendgroup": "",
         "marker": {
          "color": "#636efa"
         },
         "name": "",
         "notched": false,
         "offsetgroup": "",
         "orientation": "v",
         "showlegend": false,
         "type": "box",
         "x0": " ",
         "xaxis": "x",
         "y": [
          0.1352,
          0.0308,
          0.1383,
          0.1392,
          0.0431,
          0.041,
          0.0366,
          0.0126,
          0.0126,
          0.0183,
          0.0169,
          0.0058,
          0.006,
          0.0087,
          0.0417,
          0.0445,
          0.0241,
          0.0074,
          0.0104,
          0.0616,
          0.2932,
          0.0367,
          0.0367,
          0.035,
          0.0073,
          0.3862,
          0.1456,
          0.0267,
          0.0178,
          0.0176,
          0.0086,
          0.0082,
          0.0015,
          0.1823,
          0.0165,
          0.0171,
          0.025,
          0.1644,
          0.0318,
          0.0318,
          0.0203,
          0.1089,
          0.0985,
          0.044,
          0.0411,
          0.1107,
          0.0779,
          0.0023,
          0.0023,
          0.0452,
          0.0513,
          0.0883,
          0.0052,
          0.0124,
          0.0121,
          0.0121,
          0.1332,
          0.0224,
          0.0217,
          0.0529,
          0.0167,
          0.0154,
          0.0154,
          0.128,
          0.0988,
          0.0988,
          0.0199,
          0.0081,
          0.0881,
          0.155,
          0.1417,
          0.0491,
          0.0491,
          0.0193,
          0.0877,
          0.0614,
          0.1011,
          0.0313,
          0.0169,
          0.0571,
          0.0468,
          0.0618,
          0.0688,
          0.0146,
          0.0794,
          0.0124,
          0.0147,
          0.0716,
          0.021,
          0.0101,
          0.0038,
          0.1062,
          0.1031,
          0.0354,
          0.032,
          0.0225,
          0.0239,
          0.0075,
          0.0429,
          0.1057,
          0.124,
          0.1195,
          0.1239,
          0.1239,
          0.0518,
          0.0164,
          0.017,
          0.1115,
          0.0184,
          0.0229,
          0.0227,
          0.07,
          0.2485,
          0.2355,
          0.0738,
          0.0766,
          0.0797,
          0.0035,
          0.0539,
          0.1648,
          0.0505,
          0.0505,
          0.085,
          0.059,
          0.0749,
          0.0074,
          0.0262,
          0.0245,
          0.0908,
          0.008,
          0.0439,
          0.0459,
          0.0459,
          0.0297,
          0.0333,
          0.1263,
          0.007,
          0.0138,
          0.0145,
          0.0521,
          0.146,
          0.0149,
          0.0534,
          0.0428,
          0.0066,
          0.0714,
          0.0574,
          0.0481,
          0.0104,
          0.0378,
          0.0253,
          0.0016,
          0.0017,
          0.1853,
          0.0049,
          0.0834,
          0.0092,
          0.01,
          0.0224,
          0.1911,
          0.2042,
          0.0029,
          0.003,
          0.0043,
          0.0046,
          0.0039,
          0.0038,
          0.0261,
          0.0285,
          0.0169,
          0.0019,
          0.0019,
          0.0012,
          0.0249,
          0.0346,
          0.0361,
          0.0361,
          0.1543,
          0.1596,
          0.0599,
          0.0074,
          0.0073,
          0.0552,
          0.0454,
          0.0221,
          0.0204,
          0.003,
          0.0655,
          0.0611,
          0.055,
          0.031,
          0.0317,
          0.0065,
          0.0065,
          0.0473,
          0.0462,
          0.0025,
          0.0355,
          0.0352,
          0.0123,
          0.0118,
          0.0081,
          0.0052,
          0.0672,
          0.0696,
          0.028,
          0.0297,
          0.0036,
          0.0036,
          0.0468,
          0.0122,
          0.0205,
          0.0214,
          0.0426,
          0.042,
          0.0121,
          0.0126,
          0.0355,
          0.0314,
          0.0054,
          0.0054,
          0.0647,
          0.1561,
          0.1467,
          0.0027,
          0.2177,
          0.2221,
          0.2177,
          0.1873,
          0.1873,
          0.0401,
          0.0778,
          0.0275,
          0.3189,
          0.0093,
          0.0675,
          0.0716,
          0.006,
          0.0059,
          0.0202,
          0.0185,
          0.0524
         ],
         "y0": " ",
         "yaxis": "y"
        }
       ],
       "layout": {
        "boxmode": "group",
        "legend": {
         "tracegroupgap": 0
        },
        "template": {
         "data": {
          "bar": [
           {
            "error_x": {
             "color": "#2a3f5f"
            },
            "error_y": {
             "color": "#2a3f5f"
            },
            "marker": {
             "line": {
              "color": "#E5ECF6",
              "width": 0.5
             },
             "pattern": {
              "fillmode": "overlay",
              "size": 10,
              "solidity": 0.2
             }
            },
            "type": "bar"
           }
          ],
          "barpolar": [
           {
            "marker": {
             "line": {
              "color": "#E5ECF6",
              "width": 0.5
             },
             "pattern": {
              "fillmode": "overlay",
              "size": 10,
              "solidity": 0.2
             }
            },
            "type": "barpolar"
           }
          ],
          "carpet": [
           {
            "aaxis": {
             "endlinecolor": "#2a3f5f",
             "gridcolor": "white",
             "linecolor": "white",
             "minorgridcolor": "white",
             "startlinecolor": "#2a3f5f"
            },
            "baxis": {
             "endlinecolor": "#2a3f5f",
             "gridcolor": "white",
             "linecolor": "white",
             "minorgridcolor": "white",
             "startlinecolor": "#2a3f5f"
            },
            "type": "carpet"
           }
          ],
          "choropleth": [
           {
            "colorbar": {
             "outlinewidth": 0,
             "ticks": ""
            },
            "type": "choropleth"
           }
          ],
          "contour": [
           {
            "colorbar": {
             "outlinewidth": 0,
             "ticks": ""
            },
            "colorscale": [
             [
              0,
              "#0d0887"
             ],
             [
              0.1111111111111111,
              "#46039f"
             ],
             [
              0.2222222222222222,
              "#7201a8"
             ],
             [
              0.3333333333333333,
              "#9c179e"
             ],
             [
              0.4444444444444444,
              "#bd3786"
             ],
             [
              0.5555555555555556,
              "#d8576b"
             ],
             [
              0.6666666666666666,
              "#ed7953"
             ],
             [
              0.7777777777777778,
              "#fb9f3a"
             ],
             [
              0.8888888888888888,
              "#fdca26"
             ],
             [
              1,
              "#f0f921"
             ]
            ],
            "type": "contour"
           }
          ],
          "contourcarpet": [
           {
            "colorbar": {
             "outlinewidth": 0,
             "ticks": ""
            },
            "type": "contourcarpet"
           }
          ],
          "heatmap": [
           {
            "colorbar": {
             "outlinewidth": 0,
             "ticks": ""
            },
            "colorscale": [
             [
              0,
              "#0d0887"
             ],
             [
              0.1111111111111111,
              "#46039f"
             ],
             [
              0.2222222222222222,
              "#7201a8"
             ],
             [
              0.3333333333333333,
              "#9c179e"
             ],
             [
              0.4444444444444444,
              "#bd3786"
             ],
             [
              0.5555555555555556,
              "#d8576b"
             ],
             [
              0.6666666666666666,
              "#ed7953"
             ],
             [
              0.7777777777777778,
              "#fb9f3a"
             ],
             [
              0.8888888888888888,
              "#fdca26"
             ],
             [
              1,
              "#f0f921"
             ]
            ],
            "type": "heatmap"
           }
          ],
          "heatmapgl": [
           {
            "colorbar": {
             "outlinewidth": 0,
             "ticks": ""
            },
            "colorscale": [
             [
              0,
              "#0d0887"
             ],
             [
              0.1111111111111111,
              "#46039f"
             ],
             [
              0.2222222222222222,
              "#7201a8"
             ],
             [
              0.3333333333333333,
              "#9c179e"
             ],
             [
              0.4444444444444444,
              "#bd3786"
             ],
             [
              0.5555555555555556,
              "#d8576b"
             ],
             [
              0.6666666666666666,
              "#ed7953"
             ],
             [
              0.7777777777777778,
              "#fb9f3a"
             ],
             [
              0.8888888888888888,
              "#fdca26"
             ],
             [
              1,
              "#f0f921"
             ]
            ],
            "type": "heatmapgl"
           }
          ],
          "histogram": [
           {
            "marker": {
             "pattern": {
              "fillmode": "overlay",
              "size": 10,
              "solidity": 0.2
             }
            },
            "type": "histogram"
           }
          ],
          "histogram2d": [
           {
            "colorbar": {
             "outlinewidth": 0,
             "ticks": ""
            },
            "colorscale": [
             [
              0,
              "#0d0887"
             ],
             [
              0.1111111111111111,
              "#46039f"
             ],
             [
              0.2222222222222222,
              "#7201a8"
             ],
             [
              0.3333333333333333,
              "#9c179e"
             ],
             [
              0.4444444444444444,
              "#bd3786"
             ],
             [
              0.5555555555555556,
              "#d8576b"
             ],
             [
              0.6666666666666666,
              "#ed7953"
             ],
             [
              0.7777777777777778,
              "#fb9f3a"
             ],
             [
              0.8888888888888888,
              "#fdca26"
             ],
             [
              1,
              "#f0f921"
             ]
            ],
            "type": "histogram2d"
           }
          ],
          "histogram2dcontour": [
           {
            "colorbar": {
             "outlinewidth": 0,
             "ticks": ""
            },
            "colorscale": [
             [
              0,
              "#0d0887"
             ],
             [
              0.1111111111111111,
              "#46039f"
             ],
             [
              0.2222222222222222,
              "#7201a8"
             ],
             [
              0.3333333333333333,
              "#9c179e"
             ],
             [
              0.4444444444444444,
              "#bd3786"
             ],
             [
              0.5555555555555556,
              "#d8576b"
             ],
             [
              0.6666666666666666,
              "#ed7953"
             ],
             [
              0.7777777777777778,
              "#fb9f3a"
             ],
             [
              0.8888888888888888,
              "#fdca26"
             ],
             [
              1,
              "#f0f921"
             ]
            ],
            "type": "histogram2dcontour"
           }
          ],
          "mesh3d": [
           {
            "colorbar": {
             "outlinewidth": 0,
             "ticks": ""
            },
            "type": "mesh3d"
           }
          ],
          "parcoords": [
           {
            "line": {
             "colorbar": {
              "outlinewidth": 0,
              "ticks": ""
             }
            },
            "type": "parcoords"
           }
          ],
          "pie": [
           {
            "automargin": true,
            "type": "pie"
           }
          ],
          "scatter": [
           {
            "fillpattern": {
             "fillmode": "overlay",
             "size": 10,
             "solidity": 0.2
            },
            "type": "scatter"
           }
          ],
          "scatter3d": [
           {
            "line": {
             "colorbar": {
              "outlinewidth": 0,
              "ticks": ""
             }
            },
            "marker": {
             "colorbar": {
              "outlinewidth": 0,
              "ticks": ""
             }
            },
            "type": "scatter3d"
           }
          ],
          "scattercarpet": [
           {
            "marker": {
             "colorbar": {
              "outlinewidth": 0,
              "ticks": ""
             }
            },
            "type": "scattercarpet"
           }
          ],
          "scattergeo": [
           {
            "marker": {
             "colorbar": {
              "outlinewidth": 0,
              "ticks": ""
             }
            },
            "type": "scattergeo"
           }
          ],
          "scattergl": [
           {
            "marker": {
             "colorbar": {
              "outlinewidth": 0,
              "ticks": ""
             }
            },
            "type": "scattergl"
           }
          ],
          "scattermapbox": [
           {
            "marker": {
             "colorbar": {
              "outlinewidth": 0,
              "ticks": ""
             }
            },
            "type": "scattermapbox"
           }
          ],
          "scatterpolar": [
           {
            "marker": {
             "colorbar": {
              "outlinewidth": 0,
              "ticks": ""
             }
            },
            "type": "scatterpolar"
           }
          ],
          "scatterpolargl": [
           {
            "marker": {
             "colorbar": {
              "outlinewidth": 0,
              "ticks": ""
             }
            },
            "type": "scatterpolargl"
           }
          ],
          "scatterternary": [
           {
            "marker": {
             "colorbar": {
              "outlinewidth": 0,
              "ticks": ""
             }
            },
            "type": "scatterternary"
           }
          ],
          "surface": [
           {
            "colorbar": {
             "outlinewidth": 0,
             "ticks": ""
            },
            "colorscale": [
             [
              0,
              "#0d0887"
             ],
             [
              0.1111111111111111,
              "#46039f"
             ],
             [
              0.2222222222222222,
              "#7201a8"
             ],
             [
              0.3333333333333333,
              "#9c179e"
             ],
             [
              0.4444444444444444,
              "#bd3786"
             ],
             [
              0.5555555555555556,
              "#d8576b"
             ],
             [
              0.6666666666666666,
              "#ed7953"
             ],
             [
              0.7777777777777778,
              "#fb9f3a"
             ],
             [
              0.8888888888888888,
              "#fdca26"
             ],
             [
              1,
              "#f0f921"
             ]
            ],
            "type": "surface"
           }
          ],
          "table": [
           {
            "cells": {
             "fill": {
              "color": "#EBF0F8"
             },
             "line": {
              "color": "white"
             }
            },
            "header": {
             "fill": {
              "color": "#C8D4E3"
             },
             "line": {
              "color": "white"
             }
            },
            "type": "table"
           }
          ]
         },
         "layout": {
          "annotationdefaults": {
           "arrowcolor": "#2a3f5f",
           "arrowhead": 0,
           "arrowwidth": 1
          },
          "autotypenumbers": "strict",
          "coloraxis": {
           "colorbar": {
            "outlinewidth": 0,
            "ticks": ""
           }
          },
          "colorscale": {
           "diverging": [
            [
             0,
             "#8e0152"
            ],
            [
             0.1,
             "#c51b7d"
            ],
            [
             0.2,
             "#de77ae"
            ],
            [
             0.3,
             "#f1b6da"
            ],
            [
             0.4,
             "#fde0ef"
            ],
            [
             0.5,
             "#f7f7f7"
            ],
            [
             0.6,
             "#e6f5d0"
            ],
            [
             0.7,
             "#b8e186"
            ],
            [
             0.8,
             "#7fbc41"
            ],
            [
             0.9,
             "#4d9221"
            ],
            [
             1,
             "#276419"
            ]
           ],
           "sequential": [
            [
             0,
             "#0d0887"
            ],
            [
             0.1111111111111111,
             "#46039f"
            ],
            [
             0.2222222222222222,
             "#7201a8"
            ],
            [
             0.3333333333333333,
             "#9c179e"
            ],
            [
             0.4444444444444444,
             "#bd3786"
            ],
            [
             0.5555555555555556,
             "#d8576b"
            ],
            [
             0.6666666666666666,
             "#ed7953"
            ],
            [
             0.7777777777777778,
             "#fb9f3a"
            ],
            [
             0.8888888888888888,
             "#fdca26"
            ],
            [
             1,
             "#f0f921"
            ]
           ],
           "sequentialminus": [
            [
             0,
             "#0d0887"
            ],
            [
             0.1111111111111111,
             "#46039f"
            ],
            [
             0.2222222222222222,
             "#7201a8"
            ],
            [
             0.3333333333333333,
             "#9c179e"
            ],
            [
             0.4444444444444444,
             "#bd3786"
            ],
            [
             0.5555555555555556,
             "#d8576b"
            ],
            [
             0.6666666666666666,
             "#ed7953"
            ],
            [
             0.7777777777777778,
             "#fb9f3a"
            ],
            [
             0.8888888888888888,
             "#fdca26"
            ],
            [
             1,
             "#f0f921"
            ]
           ]
          },
          "colorway": [
           "#636efa",
           "#EF553B",
           "#00cc96",
           "#ab63fa",
           "#FFA15A",
           "#19d3f3",
           "#FF6692",
           "#B6E880",
           "#FF97FF",
           "#FECB52"
          ],
          "font": {
           "color": "#2a3f5f"
          },
          "geo": {
           "bgcolor": "white",
           "lakecolor": "white",
           "landcolor": "#E5ECF6",
           "showlakes": true,
           "showland": true,
           "subunitcolor": "white"
          },
          "hoverlabel": {
           "align": "left"
          },
          "hovermode": "closest",
          "mapbox": {
           "style": "light"
          },
          "paper_bgcolor": "white",
          "plot_bgcolor": "#E5ECF6",
          "polar": {
           "angularaxis": {
            "gridcolor": "white",
            "linecolor": "white",
            "ticks": ""
           },
           "bgcolor": "#E5ECF6",
           "radialaxis": {
            "gridcolor": "white",
            "linecolor": "white",
            "ticks": ""
           }
          },
          "scene": {
           "xaxis": {
            "backgroundcolor": "#E5ECF6",
            "gridcolor": "white",
            "gridwidth": 2,
            "linecolor": "white",
            "showbackground": true,
            "ticks": "",
            "zerolinecolor": "white"
           },
           "yaxis": {
            "backgroundcolor": "#E5ECF6",
            "gridcolor": "white",
            "gridwidth": 2,
            "linecolor": "white",
            "showbackground": true,
            "ticks": "",
            "zerolinecolor": "white"
           },
           "zaxis": {
            "backgroundcolor": "#E5ECF6",
            "gridcolor": "white",
            "gridwidth": 2,
            "linecolor": "white",
            "showbackground": true,
            "ticks": "",
            "zerolinecolor": "white"
           }
          },
          "shapedefaults": {
           "line": {
            "color": "#2a3f5f"
           }
          },
          "ternary": {
           "aaxis": {
            "gridcolor": "white",
            "linecolor": "white",
            "ticks": ""
           },
           "baxis": {
            "gridcolor": "white",
            "linecolor": "white",
            "ticks": ""
           },
           "bgcolor": "#E5ECF6",
           "caxis": {
            "gridcolor": "white",
            "linecolor": "white",
            "ticks": ""
           }
          },
          "title": {
           "x": 0.05
          },
          "xaxis": {
           "automargin": true,
           "gridcolor": "white",
           "linecolor": "white",
           "ticks": "",
           "title": {
            "standoff": 15
           },
           "zerolinecolor": "white",
           "zerolinewidth": 2
          },
          "yaxis": {
           "automargin": true,
           "gridcolor": "white",
           "linecolor": "white",
           "ticks": "",
           "title": {
            "standoff": 15
           },
           "zerolinecolor": "white",
           "zerolinewidth": 2
          }
         }
        },
        "title": {
         "text": "Champions ban percentages"
        },
        "width": 700,
        "xaxis": {
         "anchor": "y",
         "domain": [
          0,
          1
         ]
        },
        "yaxis": {
         "anchor": "x",
         "domain": [
          0,
          1
         ],
         "title": {
          "text": "Ban %"
         }
        }
       }
      }
     },
     "metadata": {},
     "output_type": "display_data"
    }
   ],
   "source": [
    "# Plotting the banrate of League of Legends champions\n",
    "px.box(df,y ='Ban %',points = 'all' , hover_data=['Name'] , width = 700, title='Champions ban percentages')"
   ]
  },
  {
   "cell_type": "markdown",
   "metadata": {},
   "source": [
    "![Champions ban percentages](Cbp.png)"
   ]
  },
  {
   "cell_type": "code",
   "execution_count": 88,
   "metadata": {},
   "outputs": [
    {
     "data": {
      "application/vnd.plotly.v1+json": {
       "config": {
        "plotlyServerURL": "https://plot.ly"
       },
       "data": [
        {
         "alignmentgroup": "True",
         "boxpoints": "all",
         "customdata": [
          [
           "Aatrox"
          ],
          [
           "Ahri"
          ],
          [
           "Akali"
          ],
          [
           "Akali"
          ],
          [
           "Akshan"
          ],
          [
           "Akshan"
          ],
          [
           "Alistar"
          ],
          [
           "Amumu"
          ],
          [
           "Amumu"
          ],
          [
           "Anivia"
          ],
          [
           "Anivia"
          ],
          [
           "Annie"
          ],
          [
           "Annie"
          ],
          [
           "Aphelios"
          ],
          [
           "Ashe"
          ],
          [
           "Ashe"
          ],
          [
           "Aurelion Sol"
          ],
          [
           "Azir"
          ],
          [
           "Bard"
          ],
          [
           "Bel'Veth"
          ],
          [
           "Blitzcrank"
          ],
          [
           "Brand"
          ],
          [
           "Brand"
          ],
          [
           "Brand"
          ],
          [
           "Braum"
          ],
          [
           "Briar"
          ],
          [
           "Caitlyn"
          ],
          [
           "Camille"
          ],
          [
           "Cassiopeia"
          ],
          [
           "Cassiopeia"
          ],
          [
           "Cho'Gath"
          ],
          [
           "Cho'Gath"
          ],
          [
           "Corki"
          ],
          [
           "Darius"
          ],
          [
           "Diana"
          ],
          [
           "Diana"
          ],
          [
           "Dr. Mundo"
          ],
          [
           "Draven"
          ],
          [
           "Ekko"
          ],
          [
           "Ekko"
          ],
          [
           "Elise"
          ],
          [
           "Evelynn"
          ],
          [
           "Ezreal"
          ],
          [
           "Fiddlesticks"
          ],
          [
           "Fiddlesticks"
          ],
          [
           "Fiora"
          ],
          [
           "Fizz"
          ],
          [
           "Galio"
          ],
          [
           "Galio"
          ],
          [
           "Gangplank"
          ],
          [
           "Gangplank"
          ],
          [
           "Garen"
          ],
          [
           "Gnar"
          ],
          [
           "Gragas"
          ],
          [
           "Gragas"
          ],
          [
           "Gragas"
          ],
          [
           "Graves"
          ],
          [
           "Gwen"
          ],
          [
           "Gwen"
          ],
          [
           "Hecarim"
          ],
          [
           "Heimerdinger"
          ],
          [
           "Heimerdinger"
          ],
          [
           "Heimerdinger"
          ],
          [
           "Illaoi"
          ],
          [
           "Irelia"
          ],
          [
           "Irelia"
          ],
          [
           "Ivern"
          ],
          [
           "Janna"
          ],
          [
           "Jarvan IV"
          ],
          [
           "Jax"
          ],
          [
           "Jax"
          ],
          [
           "Jayce"
          ],
          [
           "Jayce"
          ],
          [
           "Jhin"
          ],
          [
           "Jinx"
          ],
          [
           "K'Sante"
          ],
          [
           "Kai'Sa"
          ],
          [
           "Kalista"
          ],
          [
           "Karma"
          ],
          [
           "Karthus"
          ],
          [
           "Karthus"
          ],
          [
           "Kassadin"
          ],
          [
           "Katarina"
          ],
          [
           "Kayle"
          ],
          [
           "Kayn"
          ],
          [
           "Kennen"
          ],
          [
           "Kennen"
          ],
          [
           "Kha'Zix"
          ],
          [
           "Kindred"
          ],
          [
           "Kled"
          ],
          [
           "Kog'Maw"
          ],
          [
           "LeBlanc"
          ],
          [
           "Lee Sin"
          ],
          [
           "Leona"
          ],
          [
           "Lillia"
          ],
          [
           "Lissandra"
          ],
          [
           "Lissandra"
          ],
          [
           "Lucian"
          ],
          [
           "Lulu"
          ],
          [
           "Lux"
          ],
          [
           "Lux"
          ],
          [
           "Malphite"
          ],
          [
           "Malphite"
          ],
          [
           "Malphite"
          ],
          [
           "Malzahar"
          ],
          [
           "Maokai"
          ],
          [
           "Maokai"
          ],
          [
           "Master Yi"
          ],
          [
           "Milio"
          ],
          [
           "Miss Fortune"
          ],
          [
           "Miss Fortune"
          ],
          [
           "Mordekaiser"
          ],
          [
           "Morgana"
          ],
          [
           "Morgana"
          ],
          [
           "Naafiri"
          ],
          [
           "Naafiri"
          ],
          [
           "Naafiri"
          ],
          [
           "Nami"
          ],
          [
           "Nasus"
          ],
          [
           "Nautilus"
          ],
          [
           "Neeko"
          ],
          [
           "Neeko"
          ],
          [
           "Nidalee"
          ],
          [
           "Nilah"
          ],
          [
           "Nocturne"
          ],
          [
           "Nunu"
          ],
          [
           "Olaf"
          ],
          [
           "Olaf"
          ],
          [
           "Orianna"
          ],
          [
           "Ornn"
          ],
          [
           "Pantheon"
          ],
          [
           "Pantheon"
          ],
          [
           "Pantheon"
          ],
          [
           "Poppy"
          ],
          [
           "Poppy"
          ],
          [
           "Pyke"
          ],
          [
           "Qiyana"
          ],
          [
           "Quinn"
          ],
          [
           "Quinn"
          ],
          [
           "Rakan"
          ],
          [
           "Rammus"
          ],
          [
           "Rek'Sai"
          ],
          [
           "Rell"
          ],
          [
           "Rell"
          ],
          [
           "Renata Glasc"
          ],
          [
           "Renekton"
          ],
          [
           "Rengar"
          ],
          [
           "Rengar"
          ],
          [
           "Riven"
          ],
          [
           "Rumble"
          ],
          [
           "Rumble"
          ],
          [
           "Ryze"
          ],
          [
           "Ryze"
          ],
          [
           "Samira"
          ],
          [
           "Sejuani"
          ],
          [
           "Senna"
          ],
          [
           "Seraphine"
          ],
          [
           "Seraphine"
          ],
          [
           "Sett"
          ],
          [
           "Shaco"
          ],
          [
           "Shaco"
          ],
          [
           "Shen"
          ],
          [
           "Shen"
          ],
          [
           "Shyvana"
          ],
          [
           "Shyvana"
          ],
          [
           "Singed"
          ],
          [
           "Singed"
          ],
          [
           "Sion"
          ],
          [
           "Sion"
          ],
          [
           "Sivir"
          ],
          [
           "Skarner"
          ],
          [
           "Skarner"
          ],
          [
           "Sona"
          ],
          [
           "Soraka"
          ],
          [
           "Swain"
          ],
          [
           "Swain"
          ],
          [
           "Swain"
          ],
          [
           "Sylas"
          ],
          [
           "Sylas"
          ],
          [
           "Syndra"
          ],
          [
           "Tahm Kench"
          ],
          [
           "Tahm Kench"
          ],
          [
           "Taliyah"
          ],
          [
           "Taliyah"
          ],
          [
           "Talon"
          ],
          [
           "Talon"
          ],
          [
           "Taric"
          ],
          [
           "Teemo"
          ],
          [
           "Teemo"
          ],
          [
           "Thresh"
          ],
          [
           "Tristana"
          ],
          [
           "Tristana"
          ],
          [
           "Trundle"
          ],
          [
           "Trundle"
          ],
          [
           "Tryndamere"
          ],
          [
           "Tryndamere"
          ],
          [
           "Twisted Fate"
          ],
          [
           "Twitch"
          ],
          [
           "Twitch"
          ],
          [
           "Udyr"
          ],
          [
           "Udyr"
          ],
          [
           "Urgot"
          ],
          [
           "Varus"
          ],
          [
           "Vayne"
          ],
          [
           "Vayne"
          ],
          [
           "Veigar"
          ],
          [
           "Veigar"
          ],
          [
           "Vel'Koz"
          ],
          [
           "Vel'Koz"
          ],
          [
           "Vex"
          ],
          [
           "Vi"
          ],
          [
           "Viego"
          ],
          [
           "Viktor"
          ],
          [
           "Vladimir"
          ],
          [
           "Vladimir"
          ],
          [
           "Volibear"
          ],
          [
           "Volibear"
          ],
          [
           "Warwick"
          ],
          [
           "Warwick"
          ],
          [
           "Wukong"
          ],
          [
           "Wukong"
          ],
          [
           "Xayah"
          ],
          [
           "Xerath"
          ],
          [
           "Xerath"
          ],
          [
           "Xin Zhao"
          ],
          [
           "Yasuo"
          ],
          [
           "Yasuo"
          ],
          [
           "Yasuo"
          ],
          [
           "Yone"
          ],
          [
           "Yone"
          ],
          [
           "Yorick"
          ],
          [
           "Yuumi"
          ],
          [
           "Zac"
          ],
          [
           "Zed"
          ],
          [
           "Zeri"
          ],
          [
           "Ziggs"
          ],
          [
           "Ziggs"
          ],
          [
           "Zilean"
          ],
          [
           "Zilean"
          ],
          [
           "Zoe"
          ],
          [
           "Zoe"
          ],
          [
           "Zyra"
          ]
         ],
         "hovertemplate": "Score=%{y}<br>Name=%{customdata[0]}<extra></extra>",
         "legendgroup": "",
         "marker": {
          "color": "#636efa"
         },
         "name": "",
         "notched": false,
         "offsetgroup": "",
         "orientation": "v",
         "showlegend": false,
         "type": "box",
         "x0": " ",
         "xaxis": "x",
         "y": [
          88.92,
          64.78,
          77.4,
          48.19,
          45.97,
          37.4,
          64.99,
          47.15,
          39.28,
          41.65,
          28.02,
          34.88,
          29.55,
          34.6,
          58.07,
          25.79,
          46.69,
          40.99,
          53.52,
          46.84,
          87.71,
          48.42,
          41.21,
          35.81,
          42.03,
          78.44,
          74.4,
          56.09,
          36.59,
          31.43,
          46.33,
          41.72,
          31.32,
          80.34,
          49.87,
          40.81,
          43.54,
          43.92,
          57.46,
          45.66,
          44,
          52.31,
          85.68,
          46.77,
          35.76,
          59.74,
          57.16,
          44.13,
          34.53,
          51.97,
          42.68,
          92.1,
          45.23,
          43.2,
          38.9,
          26.98,
          90.56,
          47.21,
          40.47,
          53.68,
          37.46,
          34.99,
          33.04,
          53.18,
          49.79,
          43.7,
          51.36,
          52.5,
          74.76,
          89.37,
          37.67,
          56.77,
          56.65,
          63.49,
          74.09,
          90.53,
          91.15,
          37.71,
          52.61,
          46.21,
          32.23,
          51.49,
          54.97,
          52.23,
          67.4,
          43.59,
          40.37,
          56.46,
          42.94,
          38.78,
          30.81,
          52.49,
          91.56,
          50.5,
          55.68,
          51.12,
          30.05,
          45.3,
          56.38,
          84.13,
          56.55,
          69.95,
          43.39,
          28.87,
          51.83,
          57.17,
          45.8,
          56.52,
          58.79,
          51.34,
          19.69,
          55.97,
          70.21,
          57.02,
          52.86,
          39.39,
          22.66,
          66.7,
          62.53,
          82.91,
          46.6,
          45.1,
          50.96,
          45.35,
          55.45,
          41.22,
          50.18,
          28.42,
          87.44,
          59.8,
          47.21,
          45.37,
          34.23,
          49.94,
          44.39,
          63.21,
          35.84,
          44.47,
          34.04,
          89.43,
          53.13,
          43.49,
          60.17,
          39.36,
          50.31,
          68.47,
          40.43,
          39.64,
          48.76,
          51.29,
          35.5,
          41.45,
          29.21,
          52.76,
          46.08,
          83.38,
          48.36,
          46.5,
          58.52,
          54.09,
          41.2,
          51.05,
          30.84,
          45.18,
          30.37,
          48.33,
          47.97,
          47.66,
          33.15,
          38.98,
          42.53,
          31.33,
          45.58,
          55.85,
          47,
          44.33,
          44.22,
          87.51,
          47.27,
          67.14,
          51.09,
          39.9,
          50.68,
          42.84,
          49.16,
          47.57,
          46.14,
          51.81,
          30.85,
          93.16,
          45.74,
          37.75,
          49.11,
          35.22,
          45.27,
          34.73,
          48.92,
          46.56,
          36.53,
          42.84,
          31.74,
          45.49,
          37.67,
          56.53,
          44.29,
          50.42,
          29.55,
          39.55,
          39.4,
          52.54,
          46.97,
          62.22,
          47.94,
          45.49,
          34.02,
          41.93,
          38.72,
          42.79,
          31.41,
          42.33,
          33.91,
          61.07,
          61.85,
          57.36,
          38.36,
          86.27,
          39.07,
          29.55,
          77.26,
          76.4,
          50.42,
          65.7,
          56.76,
          83.96,
          28.45,
          54.97,
          51.82,
          50.29,
          46.06,
          46.57,
          37.66,
          55.84
         ],
         "y0": " ",
         "yaxis": "y"
        }
       ],
       "layout": {
        "boxmode": "group",
        "legend": {
         "tracegroupgap": 0
        },
        "template": {
         "data": {
          "bar": [
           {
            "error_x": {
             "color": "#2a3f5f"
            },
            "error_y": {
             "color": "#2a3f5f"
            },
            "marker": {
             "line": {
              "color": "#E5ECF6",
              "width": 0.5
             },
             "pattern": {
              "fillmode": "overlay",
              "size": 10,
              "solidity": 0.2
             }
            },
            "type": "bar"
           }
          ],
          "barpolar": [
           {
            "marker": {
             "line": {
              "color": "#E5ECF6",
              "width": 0.5
             },
             "pattern": {
              "fillmode": "overlay",
              "size": 10,
              "solidity": 0.2
             }
            },
            "type": "barpolar"
           }
          ],
          "carpet": [
           {
            "aaxis": {
             "endlinecolor": "#2a3f5f",
             "gridcolor": "white",
             "linecolor": "white",
             "minorgridcolor": "white",
             "startlinecolor": "#2a3f5f"
            },
            "baxis": {
             "endlinecolor": "#2a3f5f",
             "gridcolor": "white",
             "linecolor": "white",
             "minorgridcolor": "white",
             "startlinecolor": "#2a3f5f"
            },
            "type": "carpet"
           }
          ],
          "choropleth": [
           {
            "colorbar": {
             "outlinewidth": 0,
             "ticks": ""
            },
            "type": "choropleth"
           }
          ],
          "contour": [
           {
            "colorbar": {
             "outlinewidth": 0,
             "ticks": ""
            },
            "colorscale": [
             [
              0,
              "#0d0887"
             ],
             [
              0.1111111111111111,
              "#46039f"
             ],
             [
              0.2222222222222222,
              "#7201a8"
             ],
             [
              0.3333333333333333,
              "#9c179e"
             ],
             [
              0.4444444444444444,
              "#bd3786"
             ],
             [
              0.5555555555555556,
              "#d8576b"
             ],
             [
              0.6666666666666666,
              "#ed7953"
             ],
             [
              0.7777777777777778,
              "#fb9f3a"
             ],
             [
              0.8888888888888888,
              "#fdca26"
             ],
             [
              1,
              "#f0f921"
             ]
            ],
            "type": "contour"
           }
          ],
          "contourcarpet": [
           {
            "colorbar": {
             "outlinewidth": 0,
             "ticks": ""
            },
            "type": "contourcarpet"
           }
          ],
          "heatmap": [
           {
            "colorbar": {
             "outlinewidth": 0,
             "ticks": ""
            },
            "colorscale": [
             [
              0,
              "#0d0887"
             ],
             [
              0.1111111111111111,
              "#46039f"
             ],
             [
              0.2222222222222222,
              "#7201a8"
             ],
             [
              0.3333333333333333,
              "#9c179e"
             ],
             [
              0.4444444444444444,
              "#bd3786"
             ],
             [
              0.5555555555555556,
              "#d8576b"
             ],
             [
              0.6666666666666666,
              "#ed7953"
             ],
             [
              0.7777777777777778,
              "#fb9f3a"
             ],
             [
              0.8888888888888888,
              "#fdca26"
             ],
             [
              1,
              "#f0f921"
             ]
            ],
            "type": "heatmap"
           }
          ],
          "heatmapgl": [
           {
            "colorbar": {
             "outlinewidth": 0,
             "ticks": ""
            },
            "colorscale": [
             [
              0,
              "#0d0887"
             ],
             [
              0.1111111111111111,
              "#46039f"
             ],
             [
              0.2222222222222222,
              "#7201a8"
             ],
             [
              0.3333333333333333,
              "#9c179e"
             ],
             [
              0.4444444444444444,
              "#bd3786"
             ],
             [
              0.5555555555555556,
              "#d8576b"
             ],
             [
              0.6666666666666666,
              "#ed7953"
             ],
             [
              0.7777777777777778,
              "#fb9f3a"
             ],
             [
              0.8888888888888888,
              "#fdca26"
             ],
             [
              1,
              "#f0f921"
             ]
            ],
            "type": "heatmapgl"
           }
          ],
          "histogram": [
           {
            "marker": {
             "pattern": {
              "fillmode": "overlay",
              "size": 10,
              "solidity": 0.2
             }
            },
            "type": "histogram"
           }
          ],
          "histogram2d": [
           {
            "colorbar": {
             "outlinewidth": 0,
             "ticks": ""
            },
            "colorscale": [
             [
              0,
              "#0d0887"
             ],
             [
              0.1111111111111111,
              "#46039f"
             ],
             [
              0.2222222222222222,
              "#7201a8"
             ],
             [
              0.3333333333333333,
              "#9c179e"
             ],
             [
              0.4444444444444444,
              "#bd3786"
             ],
             [
              0.5555555555555556,
              "#d8576b"
             ],
             [
              0.6666666666666666,
              "#ed7953"
             ],
             [
              0.7777777777777778,
              "#fb9f3a"
             ],
             [
              0.8888888888888888,
              "#fdca26"
             ],
             [
              1,
              "#f0f921"
             ]
            ],
            "type": "histogram2d"
           }
          ],
          "histogram2dcontour": [
           {
            "colorbar": {
             "outlinewidth": 0,
             "ticks": ""
            },
            "colorscale": [
             [
              0,
              "#0d0887"
             ],
             [
              0.1111111111111111,
              "#46039f"
             ],
             [
              0.2222222222222222,
              "#7201a8"
             ],
             [
              0.3333333333333333,
              "#9c179e"
             ],
             [
              0.4444444444444444,
              "#bd3786"
             ],
             [
              0.5555555555555556,
              "#d8576b"
             ],
             [
              0.6666666666666666,
              "#ed7953"
             ],
             [
              0.7777777777777778,
              "#fb9f3a"
             ],
             [
              0.8888888888888888,
              "#fdca26"
             ],
             [
              1,
              "#f0f921"
             ]
            ],
            "type": "histogram2dcontour"
           }
          ],
          "mesh3d": [
           {
            "colorbar": {
             "outlinewidth": 0,
             "ticks": ""
            },
            "type": "mesh3d"
           }
          ],
          "parcoords": [
           {
            "line": {
             "colorbar": {
              "outlinewidth": 0,
              "ticks": ""
             }
            },
            "type": "parcoords"
           }
          ],
          "pie": [
           {
            "automargin": true,
            "type": "pie"
           }
          ],
          "scatter": [
           {
            "fillpattern": {
             "fillmode": "overlay",
             "size": 10,
             "solidity": 0.2
            },
            "type": "scatter"
           }
          ],
          "scatter3d": [
           {
            "line": {
             "colorbar": {
              "outlinewidth": 0,
              "ticks": ""
             }
            },
            "marker": {
             "colorbar": {
              "outlinewidth": 0,
              "ticks": ""
             }
            },
            "type": "scatter3d"
           }
          ],
          "scattercarpet": [
           {
            "marker": {
             "colorbar": {
              "outlinewidth": 0,
              "ticks": ""
             }
            },
            "type": "scattercarpet"
           }
          ],
          "scattergeo": [
           {
            "marker": {
             "colorbar": {
              "outlinewidth": 0,
              "ticks": ""
             }
            },
            "type": "scattergeo"
           }
          ],
          "scattergl": [
           {
            "marker": {
             "colorbar": {
              "outlinewidth": 0,
              "ticks": ""
             }
            },
            "type": "scattergl"
           }
          ],
          "scattermapbox": [
           {
            "marker": {
             "colorbar": {
              "outlinewidth": 0,
              "ticks": ""
             }
            },
            "type": "scattermapbox"
           }
          ],
          "scatterpolar": [
           {
            "marker": {
             "colorbar": {
              "outlinewidth": 0,
              "ticks": ""
             }
            },
            "type": "scatterpolar"
           }
          ],
          "scatterpolargl": [
           {
            "marker": {
             "colorbar": {
              "outlinewidth": 0,
              "ticks": ""
             }
            },
            "type": "scatterpolargl"
           }
          ],
          "scatterternary": [
           {
            "marker": {
             "colorbar": {
              "outlinewidth": 0,
              "ticks": ""
             }
            },
            "type": "scatterternary"
           }
          ],
          "surface": [
           {
            "colorbar": {
             "outlinewidth": 0,
             "ticks": ""
            },
            "colorscale": [
             [
              0,
              "#0d0887"
             ],
             [
              0.1111111111111111,
              "#46039f"
             ],
             [
              0.2222222222222222,
              "#7201a8"
             ],
             [
              0.3333333333333333,
              "#9c179e"
             ],
             [
              0.4444444444444444,
              "#bd3786"
             ],
             [
              0.5555555555555556,
              "#d8576b"
             ],
             [
              0.6666666666666666,
              "#ed7953"
             ],
             [
              0.7777777777777778,
              "#fb9f3a"
             ],
             [
              0.8888888888888888,
              "#fdca26"
             ],
             [
              1,
              "#f0f921"
             ]
            ],
            "type": "surface"
           }
          ],
          "table": [
           {
            "cells": {
             "fill": {
              "color": "#EBF0F8"
             },
             "line": {
              "color": "white"
             }
            },
            "header": {
             "fill": {
              "color": "#C8D4E3"
             },
             "line": {
              "color": "white"
             }
            },
            "type": "table"
           }
          ]
         },
         "layout": {
          "annotationdefaults": {
           "arrowcolor": "#2a3f5f",
           "arrowhead": 0,
           "arrowwidth": 1
          },
          "autotypenumbers": "strict",
          "coloraxis": {
           "colorbar": {
            "outlinewidth": 0,
            "ticks": ""
           }
          },
          "colorscale": {
           "diverging": [
            [
             0,
             "#8e0152"
            ],
            [
             0.1,
             "#c51b7d"
            ],
            [
             0.2,
             "#de77ae"
            ],
            [
             0.3,
             "#f1b6da"
            ],
            [
             0.4,
             "#fde0ef"
            ],
            [
             0.5,
             "#f7f7f7"
            ],
            [
             0.6,
             "#e6f5d0"
            ],
            [
             0.7,
             "#b8e186"
            ],
            [
             0.8,
             "#7fbc41"
            ],
            [
             0.9,
             "#4d9221"
            ],
            [
             1,
             "#276419"
            ]
           ],
           "sequential": [
            [
             0,
             "#0d0887"
            ],
            [
             0.1111111111111111,
             "#46039f"
            ],
            [
             0.2222222222222222,
             "#7201a8"
            ],
            [
             0.3333333333333333,
             "#9c179e"
            ],
            [
             0.4444444444444444,
             "#bd3786"
            ],
            [
             0.5555555555555556,
             "#d8576b"
            ],
            [
             0.6666666666666666,
             "#ed7953"
            ],
            [
             0.7777777777777778,
             "#fb9f3a"
            ],
            [
             0.8888888888888888,
             "#fdca26"
            ],
            [
             1,
             "#f0f921"
            ]
           ],
           "sequentialminus": [
            [
             0,
             "#0d0887"
            ],
            [
             0.1111111111111111,
             "#46039f"
            ],
            [
             0.2222222222222222,
             "#7201a8"
            ],
            [
             0.3333333333333333,
             "#9c179e"
            ],
            [
             0.4444444444444444,
             "#bd3786"
            ],
            [
             0.5555555555555556,
             "#d8576b"
            ],
            [
             0.6666666666666666,
             "#ed7953"
            ],
            [
             0.7777777777777778,
             "#fb9f3a"
            ],
            [
             0.8888888888888888,
             "#fdca26"
            ],
            [
             1,
             "#f0f921"
            ]
           ]
          },
          "colorway": [
           "#636efa",
           "#EF553B",
           "#00cc96",
           "#ab63fa",
           "#FFA15A",
           "#19d3f3",
           "#FF6692",
           "#B6E880",
           "#FF97FF",
           "#FECB52"
          ],
          "font": {
           "color": "#2a3f5f"
          },
          "geo": {
           "bgcolor": "white",
           "lakecolor": "white",
           "landcolor": "#E5ECF6",
           "showlakes": true,
           "showland": true,
           "subunitcolor": "white"
          },
          "hoverlabel": {
           "align": "left"
          },
          "hovermode": "closest",
          "mapbox": {
           "style": "light"
          },
          "paper_bgcolor": "white",
          "plot_bgcolor": "#E5ECF6",
          "polar": {
           "angularaxis": {
            "gridcolor": "white",
            "linecolor": "white",
            "ticks": ""
           },
           "bgcolor": "#E5ECF6",
           "radialaxis": {
            "gridcolor": "white",
            "linecolor": "white",
            "ticks": ""
           }
          },
          "scene": {
           "xaxis": {
            "backgroundcolor": "#E5ECF6",
            "gridcolor": "white",
            "gridwidth": 2,
            "linecolor": "white",
            "showbackground": true,
            "ticks": "",
            "zerolinecolor": "white"
           },
           "yaxis": {
            "backgroundcolor": "#E5ECF6",
            "gridcolor": "white",
            "gridwidth": 2,
            "linecolor": "white",
            "showbackground": true,
            "ticks": "",
            "zerolinecolor": "white"
           },
           "zaxis": {
            "backgroundcolor": "#E5ECF6",
            "gridcolor": "white",
            "gridwidth": 2,
            "linecolor": "white",
            "showbackground": true,
            "ticks": "",
            "zerolinecolor": "white"
           }
          },
          "shapedefaults": {
           "line": {
            "color": "#2a3f5f"
           }
          },
          "ternary": {
           "aaxis": {
            "gridcolor": "white",
            "linecolor": "white",
            "ticks": ""
           },
           "baxis": {
            "gridcolor": "white",
            "linecolor": "white",
            "ticks": ""
           },
           "bgcolor": "#E5ECF6",
           "caxis": {
            "gridcolor": "white",
            "linecolor": "white",
            "ticks": ""
           }
          },
          "title": {
           "x": 0.05
          },
          "xaxis": {
           "automargin": true,
           "gridcolor": "white",
           "linecolor": "white",
           "ticks": "",
           "title": {
            "standoff": 15
           },
           "zerolinecolor": "white",
           "zerolinewidth": 2
          },
          "yaxis": {
           "automargin": true,
           "gridcolor": "white",
           "linecolor": "white",
           "ticks": "",
           "title": {
            "standoff": 15
           },
           "zerolinecolor": "white",
           "zerolinewidth": 2
          }
         }
        },
        "title": {
         "text": "Champions rating scores"
        },
        "width": 700,
        "xaxis": {
         "anchor": "y",
         "domain": [
          0,
          1
         ]
        },
        "yaxis": {
         "anchor": "x",
         "domain": [
          0,
          1
         ],
         "title": {
          "text": "Score"
         }
        }
       }
      }
     },
     "metadata": {},
     "output_type": "display_data"
    }
   ],
   "source": [
    "# Plotting the rating score of League of Legends champions\n",
    "px.box(df,y ='Score',points = 'all' , hover_data=['Name'] , width = 700, title='Champions rating scores')"
   ]
  },
  {
   "cell_type": "markdown",
   "metadata": {},
   "source": [
    "![Champions rating score](Crs.png)"
   ]
  },
  {
   "cell_type": "code",
   "execution_count": 89,
   "metadata": {},
   "outputs": [
    {
     "data": {
      "application/vnd.plotly.v1+json": {
       "config": {
        "plotlyServerURL": "https://plot.ly"
       },
       "data": [
        {
         "hovertemplate": "Name=Aatrox<br>Pick %=%{x}<br>Ban %=%{y}<extra></extra>",
         "legendgroup": "Aatrox",
         "marker": {
          "color": "#636efa",
          "symbol": "circle"
         },
         "mode": "markers",
         "name": "Aatrox",
         "orientation": "v",
         "showlegend": true,
         "type": "scatter",
         "x": [
          0.1037
         ],
         "xaxis": "x",
         "y": [
          0.1352
         ],
         "yaxis": "y"
        },
        {
         "hovertemplate": "Name=Ahri<br>Pick %=%{x}<br>Ban %=%{y}<extra></extra>",
         "legendgroup": "Ahri",
         "marker": {
          "color": "#EF553B",
          "symbol": "circle"
         },
         "mode": "markers",
         "name": "Ahri",
         "orientation": "v",
         "showlegend": true,
         "type": "scatter",
         "x": [
          0.0736
         ],
         "xaxis": "x",
         "y": [
          0.0308
         ],
         "yaxis": "y"
        },
        {
         "hovertemplate": "Name=Akali<br>Pick %=%{x}<br>Ban %=%{y}<extra></extra>",
         "legendgroup": "Akali",
         "marker": {
          "color": "#00cc96",
          "symbol": "circle"
         },
         "mode": "markers",
         "name": "Akali",
         "orientation": "v",
         "showlegend": true,
         "type": "scatter",
         "x": [
          0.1016,
          0.0344
         ],
         "xaxis": "x",
         "y": [
          0.1383,
          0.1392
         ],
         "yaxis": "y"
        },
        {
         "hovertemplate": "Name=Akshan<br>Pick %=%{x}<br>Ban %=%{y}<extra></extra>",
         "legendgroup": "Akshan",
         "marker": {
          "color": "#ab63fa",
          "symbol": "circle"
         },
         "mode": "markers",
         "name": "Akshan",
         "orientation": "v",
         "showlegend": true,
         "type": "scatter",
         "x": [
          0.021,
          0.0058
         ],
         "xaxis": "x",
         "y": [
          0.0431,
          0.041
         ],
         "yaxis": "y"
        },
        {
         "hovertemplate": "Name=Alistar<br>Pick %=%{x}<br>Ban %=%{y}<extra></extra>",
         "legendgroup": "Alistar",
         "marker": {
          "color": "#FFA15A",
          "symbol": "circle"
         },
         "mode": "markers",
         "name": "Alistar",
         "orientation": "v",
         "showlegend": true,
         "type": "scatter",
         "x": [
          0.0719
         ],
         "xaxis": "x",
         "y": [
          0.0366
         ],
         "yaxis": "y"
        },
        {
         "hovertemplate": "Name=Amumu<br>Pick %=%{x}<br>Ban %=%{y}<extra></extra>",
         "legendgroup": "Amumu",
         "marker": {
          "color": "#19d3f3",
          "symbol": "circle"
         },
         "mode": "markers",
         "name": "Amumu",
         "orientation": "v",
         "showlegend": true,
         "type": "scatter",
         "x": [
          0.0269,
          0.0052
         ],
         "xaxis": "x",
         "y": [
          0.0126,
          0.0126
         ],
         "yaxis": "y"
        },
        {
         "hovertemplate": "Name=Anivia<br>Pick %=%{x}<br>Ban %=%{y}<extra></extra>",
         "legendgroup": "Anivia",
         "marker": {
          "color": "#FF6692",
          "symbol": "circle"
         },
         "mode": "markers",
         "name": "Anivia",
         "orientation": "v",
         "showlegend": true,
         "type": "scatter",
         "x": [
          0.0155,
          0.0032
         ],
         "xaxis": "x",
         "y": [
          0.0183,
          0.0169
         ],
         "yaxis": "y"
        },
        {
         "hovertemplate": "Name=Annie<br>Pick %=%{x}<br>Ban %=%{y}<extra></extra>",
         "legendgroup": "Annie",
         "marker": {
          "color": "#B6E880",
          "symbol": "circle"
         },
         "mode": "markers",
         "name": "Annie",
         "orientation": "v",
         "showlegend": true,
         "type": "scatter",
         "x": [
          0.0125,
          0.0031
         ],
         "xaxis": "x",
         "y": [
          0.0058,
          0.006
         ],
         "yaxis": "y"
        },
        {
         "hovertemplate": "Name=Aphelios<br>Pick %=%{x}<br>Ban %=%{y}<extra></extra>",
         "legendgroup": "Aphelios",
         "marker": {
          "color": "#FF97FF",
          "symbol": "circle"
         },
         "mode": "markers",
         "name": "Aphelios",
         "orientation": "v",
         "showlegend": true,
         "type": "scatter",
         "x": [
          0.0658
         ],
         "xaxis": "x",
         "y": [
          0.0087
         ],
         "yaxis": "y"
        },
        {
         "hovertemplate": "Name=Ashe<br>Pick %=%{x}<br>Ban %=%{y}<extra></extra>",
         "legendgroup": "Ashe",
         "marker": {
          "color": "#FECB52",
          "symbol": "circle"
         },
         "mode": "markers",
         "name": "Ashe",
         "orientation": "v",
         "showlegend": true,
         "type": "scatter",
         "x": [
          0.0962,
          0.0127
         ],
         "xaxis": "x",
         "y": [
          0.0417,
          0.0445
         ],
         "yaxis": "y"
        },
        {
         "hovertemplate": "Name=Aurelion Sol<br>Pick %=%{x}<br>Ban %=%{y}<extra></extra>",
         "legendgroup": "Aurelion Sol",
         "marker": {
          "color": "#636efa",
          "symbol": "circle"
         },
         "mode": "markers",
         "name": "Aurelion Sol",
         "orientation": "v",
         "showlegend": true,
         "type": "scatter",
         "x": [
          0.0333
         ],
         "xaxis": "x",
         "y": [
          0.0241
         ],
         "yaxis": "y"
        },
        {
         "hovertemplate": "Name=Azir<br>Pick %=%{x}<br>Ban %=%{y}<extra></extra>",
         "legendgroup": "Azir",
         "marker": {
          "color": "#EF553B",
          "symbol": "circle"
         },
         "mode": "markers",
         "name": "Azir",
         "orientation": "v",
         "showlegend": true,
         "type": "scatter",
         "x": [
          0.0354
         ],
         "xaxis": "x",
         "y": [
          0.0074
         ],
         "yaxis": "y"
        },
        {
         "hovertemplate": "Name=Bard<br>Pick %=%{x}<br>Ban %=%{y}<extra></extra>",
         "legendgroup": "Bard",
         "marker": {
          "color": "#00cc96",
          "symbol": "circle"
         },
         "mode": "markers",
         "name": "Bard",
         "orientation": "v",
         "showlegend": true,
         "type": "scatter",
         "x": [
          0.0422
         ],
         "xaxis": "x",
         "y": [
          0.0104
         ],
         "yaxis": "y"
        },
        {
         "hovertemplate": "Name=Bel'Veth<br>Pick %=%{x}<br>Ban %=%{y}<extra></extra>",
         "legendgroup": "Bel'Veth",
         "marker": {
          "color": "#ab63fa",
          "symbol": "circle"
         },
         "mode": "markers",
         "name": "Bel'Veth",
         "orientation": "v",
         "showlegend": true,
         "type": "scatter",
         "x": [
          0.0314
         ],
         "xaxis": "x",
         "y": [
          0.0616
         ],
         "yaxis": "y"
        },
        {
         "hovertemplate": "Name=Blitzcrank<br>Pick %=%{x}<br>Ban %=%{y}<extra></extra>",
         "legendgroup": "Blitzcrank",
         "marker": {
          "color": "#FFA15A",
          "symbol": "circle"
         },
         "mode": "markers",
         "name": "Blitzcrank",
         "orientation": "v",
         "showlegend": true,
         "type": "scatter",
         "x": [
          0.0894
         ],
         "xaxis": "x",
         "y": [
          0.2932
         ],
         "yaxis": "y"
        },
        {
         "hovertemplate": "Name=Brand<br>Pick %=%{x}<br>Ban %=%{y}<extra></extra>",
         "legendgroup": "Brand",
         "marker": {
          "color": "#19d3f3",
          "symbol": "circle"
         },
         "mode": "markers",
         "name": "Brand",
         "orientation": "v",
         "showlegend": true,
         "type": "scatter",
         "x": [
          0.0359,
          0.0191,
          0.0093
         ],
         "xaxis": "x",
         "y": [
          0.0367,
          0.0367,
          0.035
         ],
         "yaxis": "y"
        },
        {
         "hovertemplate": "Name=Braum<br>Pick %=%{x}<br>Ban %=%{y}<extra></extra>",
         "legendgroup": "Braum",
         "marker": {
          "color": "#FF6692",
          "symbol": "circle"
         },
         "mode": "markers",
         "name": "Braum",
         "orientation": "v",
         "showlegend": true,
         "type": "scatter",
         "x": [
          0.0267
         ],
         "xaxis": "x",
         "y": [
          0.0073
         ],
         "yaxis": "y"
        },
        {
         "hovertemplate": "Name=Briar<br>Pick %=%{x}<br>Ban %=%{y}<extra></extra>",
         "legendgroup": "Briar",
         "marker": {
          "color": "#B6E880",
          "symbol": "circle"
         },
         "mode": "markers",
         "name": "Briar",
         "orientation": "v",
         "showlegend": true,
         "type": "scatter",
         "x": [
          0.0847
         ],
         "xaxis": "x",
         "y": [
          0.3862
         ],
         "yaxis": "y"
        },
        {
         "hovertemplate": "Name=Caitlyn<br>Pick %=%{x}<br>Ban %=%{y}<extra></extra>",
         "legendgroup": "Caitlyn",
         "marker": {
          "color": "#FF97FF",
          "symbol": "circle"
         },
         "mode": "markers",
         "name": "Caitlyn",
         "orientation": "v",
         "showlegend": true,
         "type": "scatter",
         "x": [
          0.1578
         ],
         "xaxis": "x",
         "y": [
          0.1456
         ],
         "yaxis": "y"
        },
        {
         "hovertemplate": "Name=Camille<br>Pick %=%{x}<br>Ban %=%{y}<extra></extra>",
         "legendgroup": "Camille",
         "marker": {
          "color": "#FECB52",
          "symbol": "circle"
         },
         "mode": "markers",
         "name": "Camille",
         "orientation": "v",
         "showlegend": true,
         "type": "scatter",
         "x": [
          0.0398
         ],
         "xaxis": "x",
         "y": [
          0.0267
         ],
         "yaxis": "y"
        },
        {
         "hovertemplate": "Name=Cassiopeia<br>Pick %=%{x}<br>Ban %=%{y}<extra></extra>",
         "legendgroup": "Cassiopeia",
         "marker": {
          "color": "#636efa",
          "symbol": "circle"
         },
         "mode": "markers",
         "name": "Cassiopeia",
         "orientation": "v",
         "showlegend": true,
         "type": "scatter",
         "x": [
          0.0149,
          0.0033
         ],
         "xaxis": "x",
         "y": [
          0.0178,
          0.0176
         ],
         "yaxis": "y"
        },
        {
         "hovertemplate": "Name=Cho'Gath<br>Pick %=%{x}<br>Ban %=%{y}<extra></extra>",
         "legendgroup": "Cho'Gath",
         "marker": {
          "color": "#EF553B",
          "symbol": "circle"
         },
         "mode": "markers",
         "name": "Cho'Gath",
         "orientation": "v",
         "showlegend": true,
         "type": "scatter",
         "x": [
          0.0236,
          0.0058
         ],
         "xaxis": "x",
         "y": [
          0.0086,
          0.0082
         ],
         "yaxis": "y"
        },
        {
         "hovertemplate": "Name=Corki<br>Pick %=%{x}<br>Ban %=%{y}<extra></extra>",
         "legendgroup": "Corki",
         "marker": {
          "color": "#00cc96",
          "symbol": "circle"
         },
         "mode": "markers",
         "name": "Corki",
         "orientation": "v",
         "showlegend": true,
         "type": "scatter",
         "x": [
          0.0059
         ],
         "xaxis": "x",
         "y": [
          0.0015
         ],
         "yaxis": "y"
        },
        {
         "hovertemplate": "Name=Darius<br>Pick %=%{x}<br>Ban %=%{y}<extra></extra>",
         "legendgroup": "Darius",
         "marker": {
          "color": "#ab63fa",
          "symbol": "circle"
         },
         "mode": "markers",
         "name": "Darius",
         "orientation": "v",
         "showlegend": true,
         "type": "scatter",
         "x": [
          0.0882
         ],
         "xaxis": "x",
         "y": [
          0.1823
         ],
         "yaxis": "y"
        },
        {
         "hovertemplate": "Name=Diana<br>Pick %=%{x}<br>Ban %=%{y}<extra></extra>",
         "legendgroup": "Diana",
         "marker": {
          "color": "#FFA15A",
          "symbol": "circle"
         },
         "mode": "markers",
         "name": "Diana",
         "orientation": "v",
         "showlegend": true,
         "type": "scatter",
         "x": [
          0.0412,
          0.0139
         ],
         "xaxis": "x",
         "y": [
          0.0165,
          0.0171
         ],
         "yaxis": "y"
        },
        {
         "hovertemplate": "Name=Dr. Mundo<br>Pick %=%{x}<br>Ban %=%{y}<extra></extra>",
         "legendgroup": "Dr. Mundo",
         "marker": {
          "color": "#19d3f3",
          "symbol": "circle"
         },
         "mode": "markers",
         "name": "Dr. Mundo",
         "orientation": "v",
         "showlegend": true,
         "type": "scatter",
         "x": [
          0.0344
         ],
         "xaxis": "x",
         "y": [
          0.025
         ],
         "yaxis": "y"
        },
        {
         "hovertemplate": "Name=Draven<br>Pick %=%{x}<br>Ban %=%{y}<extra></extra>",
         "legendgroup": "Draven",
         "marker": {
          "color": "#FF6692",
          "symbol": "circle"
         },
         "mode": "markers",
         "name": "Draven",
         "orientation": "v",
         "showlegend": true,
         "type": "scatter",
         "x": [
          0.0555
         ],
         "xaxis": "x",
         "y": [
          0.1644
         ],
         "yaxis": "y"
        },
        {
         "hovertemplate": "Name=Ekko<br>Pick %=%{x}<br>Ban %=%{y}<extra></extra>",
         "legendgroup": "Ekko",
         "marker": {
          "color": "#B6E880",
          "symbol": "circle"
         },
         "mode": "markers",
         "name": "Ekko",
         "orientation": "v",
         "showlegend": true,
         "type": "scatter",
         "x": [
          0.0498,
          0.0227
         ],
         "xaxis": "x",
         "y": [
          0.0318,
          0.0318
         ],
         "yaxis": "y"
        },
        {
         "hovertemplate": "Name=Elise<br>Pick %=%{x}<br>Ban %=%{y}<extra></extra>",
         "legendgroup": "Elise",
         "marker": {
          "color": "#FF97FF",
          "symbol": "circle"
         },
         "mode": "markers",
         "name": "Elise",
         "orientation": "v",
         "showlegend": true,
         "type": "scatter",
         "x": [
          0.0201
         ],
         "xaxis": "x",
         "y": [
          0.0203
         ],
         "yaxis": "y"
        },
        {
         "hovertemplate": "Name=Evelynn<br>Pick %=%{x}<br>Ban %=%{y}<extra></extra>",
         "legendgroup": "Evelynn",
         "marker": {
          "color": "#FECB52",
          "symbol": "circle"
         },
         "mode": "markers",
         "name": "Evelynn",
         "orientation": "v",
         "showlegend": true,
         "type": "scatter",
         "x": [
          0.0443
         ],
         "xaxis": "x",
         "y": [
          0.1089
         ],
         "yaxis": "y"
        },
        {
         "hovertemplate": "Name=Ezreal<br>Pick %=%{x}<br>Ban %=%{y}<extra></extra>",
         "legendgroup": "Ezreal",
         "marker": {
          "color": "#636efa",
          "symbol": "circle"
         },
         "mode": "markers",
         "name": "Ezreal",
         "orientation": "v",
         "showlegend": true,
         "type": "scatter",
         "x": [
          0.2213
         ],
         "xaxis": "x",
         "y": [
          0.0985
         ],
         "yaxis": "y"
        },
        {
         "hovertemplate": "Name=Fiddlesticks<br>Pick %=%{x}<br>Ban %=%{y}<extra></extra>",
         "legendgroup": "Fiddlesticks",
         "marker": {
          "color": "#EF553B",
          "symbol": "circle"
         },
         "mode": "markers",
         "name": "Fiddlesticks",
         "orientation": "v",
         "showlegend": true,
         "type": "scatter",
         "x": [
          0.0364,
          0.0046
         ],
         "xaxis": "x",
         "y": [
          0.044,
          0.0411
         ],
         "yaxis": "y"
        },
        {
         "hovertemplate": "Name=Fiora<br>Pick %=%{x}<br>Ban %=%{y}<extra></extra>",
         "legendgroup": "Fiora",
         "marker": {
          "color": "#00cc96",
          "symbol": "circle"
         },
         "mode": "markers",
         "name": "Fiora",
         "orientation": "v",
         "showlegend": true,
         "type": "scatter",
         "x": [
          0.051
         ],
         "xaxis": "x",
         "y": [
          0.1107
         ],
         "yaxis": "y"
        },
        {
         "hovertemplate": "Name=Fizz<br>Pick %=%{x}<br>Ban %=%{y}<extra></extra>",
         "legendgroup": "Fizz",
         "marker": {
          "color": "#ab63fa",
          "symbol": "circle"
         },
         "mode": "markers",
         "name": "Fizz",
         "orientation": "v",
         "showlegend": true,
         "type": "scatter",
         "x": [
          0.0467
         ],
         "xaxis": "x",
         "y": [
          0.0779
         ],
         "yaxis": "y"
        },
        {
         "hovertemplate": "Name=Galio<br>Pick %=%{x}<br>Ban %=%{y}<extra></extra>",
         "legendgroup": "Galio",
         "marker": {
          "color": "#FFA15A",
          "symbol": "circle"
         },
         "mode": "markers",
         "name": "Galio",
         "orientation": "v",
         "showlegend": true,
         "type": "scatter",
         "x": [
          0.0153,
          0.0045
         ],
         "xaxis": "x",
         "y": [
          0.0023,
          0.0023
         ],
         "yaxis": "y"
        },
        {
         "hovertemplate": "Name=Gangplank<br>Pick %=%{x}<br>Ban %=%{y}<extra></extra>",
         "legendgroup": "Gangplank",
         "marker": {
          "color": "#19d3f3",
          "symbol": "circle"
         },
         "mode": "markers",
         "name": "Gangplank",
         "orientation": "v",
         "showlegend": true,
         "type": "scatter",
         "x": [
          0.045,
          0.0062
         ],
         "xaxis": "x",
         "y": [
          0.0452,
          0.0513
         ],
         "yaxis": "y"
        },
        {
         "hovertemplate": "Name=Garen<br>Pick %=%{x}<br>Ban %=%{y}<extra></extra>",
         "legendgroup": "Garen",
         "marker": {
          "color": "#FF6692",
          "symbol": "circle"
         },
         "mode": "markers",
         "name": "Garen",
         "orientation": "v",
         "showlegend": true,
         "type": "scatter",
         "x": [
          0.1069
         ],
         "xaxis": "x",
         "y": [
          0.0883
         ],
         "yaxis": "y"
        },
        {
         "hovertemplate": "Name=Gnar<br>Pick %=%{x}<br>Ban %=%{y}<extra></extra>",
         "legendgroup": "Gnar",
         "marker": {
          "color": "#B6E880",
          "symbol": "circle"
         },
         "mode": "markers",
         "name": "Gnar",
         "orientation": "v",
         "showlegend": true,
         "type": "scatter",
         "x": [
          0.0279
         ],
         "xaxis": "x",
         "y": [
          0.0052
         ],
         "yaxis": "y"
        },
        {
         "hovertemplate": "Name=Gragas<br>Pick %=%{x}<br>Ban %=%{y}<extra></extra>",
         "legendgroup": "Gragas",
         "marker": {
          "color": "#FF97FF",
          "symbol": "circle"
         },
         "mode": "markers",
         "name": "Gragas",
         "orientation": "v",
         "showlegend": true,
         "type": "scatter",
         "x": [
          0.0248,
          0.005,
          0.0098
         ],
         "xaxis": "x",
         "y": [
          0.0124,
          0.0121,
          0.0121
         ],
         "yaxis": "y"
        },
        {
         "hovertemplate": "Name=Graves<br>Pick %=%{x}<br>Ban %=%{y}<extra></extra>",
         "legendgroup": "Graves",
         "marker": {
          "color": "#FECB52",
          "symbol": "circle"
         },
         "mode": "markers",
         "name": "Graves",
         "orientation": "v",
         "showlegend": true,
         "type": "scatter",
         "x": [
          0.1439
         ],
         "xaxis": "x",
         "y": [
          0.1332
         ],
         "yaxis": "y"
        },
        {
         "hovertemplate": "Name=Gwen<br>Pick %=%{x}<br>Ban %=%{y}<extra></extra>",
         "legendgroup": "Gwen",
         "marker": {
          "color": "#636efa",
          "symbol": "circle"
         },
         "mode": "markers",
         "name": "Gwen",
         "orientation": "v",
         "showlegend": true,
         "type": "scatter",
         "x": [
          0.0299,
          0.0055
         ],
         "xaxis": "x",
         "y": [
          0.0224,
          0.0217
         ],
         "yaxis": "y"
        },
        {
         "hovertemplate": "Name=Hecarim<br>Pick %=%{x}<br>Ban %=%{y}<extra></extra>",
         "legendgroup": "Hecarim",
         "marker": {
          "color": "#EF553B",
          "symbol": "circle"
         },
         "mode": "markers",
         "name": "Hecarim",
         "orientation": "v",
         "showlegend": true,
         "type": "scatter",
         "x": [
          0.0501
         ],
         "xaxis": "x",
         "y": [
          0.0529
         ],
         "yaxis": "y"
        },
        {
         "hovertemplate": "Name=Heimerdinger<br>Pick %=%{x}<br>Ban %=%{y}<extra></extra>",
         "legendgroup": "Heimerdinger",
         "marker": {
          "color": "#00cc96",
          "symbol": "circle"
         },
         "mode": "markers",
         "name": "Heimerdinger",
         "orientation": "v",
         "showlegend": true,
         "type": "scatter",
         "x": [
          0.0062,
          0.0118,
          0.0063
         ],
         "xaxis": "x",
         "y": [
          0.0167,
          0.0154,
          0.0154
         ],
         "yaxis": "y"
        },
        {
         "hovertemplate": "Name=Illaoi<br>Pick %=%{x}<br>Ban %=%{y}<extra></extra>",
         "legendgroup": "Illaoi",
         "marker": {
          "color": "#ab63fa",
          "symbol": "circle"
         },
         "mode": "markers",
         "name": "Illaoi",
         "orientation": "v",
         "showlegend": true,
         "type": "scatter",
         "x": [
          0.0444
         ],
         "xaxis": "x",
         "y": [
          0.128
         ],
         "yaxis": "y"
        },
        {
         "hovertemplate": "Name=Irelia<br>Pick %=%{x}<br>Ban %=%{y}<extra></extra>",
         "legendgroup": "Irelia",
         "marker": {
          "color": "#FFA15A",
          "symbol": "circle"
         },
         "mode": "markers",
         "name": "Irelia",
         "orientation": "v",
         "showlegend": true,
         "type": "scatter",
         "x": [
          0.0365,
          0.0336
         ],
         "xaxis": "x",
         "y": [
          0.0988,
          0.0988
         ],
         "yaxis": "y"
        },
        {
         "hovertemplate": "Name=Ivern<br>Pick %=%{x}<br>Ban %=%{y}<extra></extra>",
         "legendgroup": "Ivern",
         "marker": {
          "color": "#19d3f3",
          "symbol": "circle"
         },
         "mode": "markers",
         "name": "Ivern",
         "orientation": "v",
         "showlegend": true,
         "type": "scatter",
         "x": [
          0.0181
         ],
         "xaxis": "x",
         "y": [
          0.0199
         ],
         "yaxis": "y"
        },
        {
         "hovertemplate": "Name=Janna<br>Pick %=%{x}<br>Ban %=%{y}<extra></extra>",
         "legendgroup": "Janna",
         "marker": {
          "color": "#FF6692",
          "symbol": "circle"
         },
         "mode": "markers",
         "name": "Janna",
         "orientation": "v",
         "showlegend": true,
         "type": "scatter",
         "x": [
          0.0285
         ],
         "xaxis": "x",
         "y": [
          0.0081
         ],
         "yaxis": "y"
        },
        {
         "hovertemplate": "Name=Jarvan IV<br>Pick %=%{x}<br>Ban %=%{y}<extra></extra>",
         "legendgroup": "Jarvan IV",
         "marker": {
          "color": "#B6E880",
          "symbol": "circle"
         },
         "mode": "markers",
         "name": "Jarvan IV",
         "orientation": "v",
         "showlegend": true,
         "type": "scatter",
         "x": [
          0.0959
         ],
         "xaxis": "x",
         "y": [
          0.0881
         ],
         "yaxis": "y"
        },
        {
         "hovertemplate": "Name=Jax<br>Pick %=%{x}<br>Ban %=%{y}<extra></extra>",
         "legendgroup": "Jax",
         "marker": {
          "color": "#FF97FF",
          "symbol": "circle"
         },
         "mode": "markers",
         "name": "Jax",
         "orientation": "v",
         "showlegend": true,
         "type": "scatter",
         "x": [
          0.0992,
          0.0165
         ],
         "xaxis": "x",
         "y": [
          0.155,
          0.1417
         ],
         "yaxis": "y"
        },
        {
         "hovertemplate": "Name=Jayce<br>Pick %=%{x}<br>Ban %=%{y}<extra></extra>",
         "legendgroup": "Jayce",
         "marker": {
          "color": "#FECB52",
          "symbol": "circle"
         },
         "mode": "markers",
         "name": "Jayce",
         "orientation": "v",
         "showlegend": true,
         "type": "scatter",
         "x": [
          0.056,
          0.0554
         ],
         "xaxis": "x",
         "y": [
          0.0491,
          0.0491
         ],
         "yaxis": "y"
        },
        {
         "hovertemplate": "Name=Jhin<br>Pick %=%{x}<br>Ban %=%{y}<extra></extra>",
         "legendgroup": "Jhin",
         "marker": {
          "color": "#636efa",
          "symbol": "circle"
         },
         "mode": "markers",
         "name": "Jhin",
         "orientation": "v",
         "showlegend": true,
         "type": "scatter",
         "x": [
          0.1103
         ],
         "xaxis": "x",
         "y": [
          0.0193
         ],
         "yaxis": "y"
        },
        {
         "hovertemplate": "Name=Jinx<br>Pick %=%{x}<br>Ban %=%{y}<extra></extra>",
         "legendgroup": "Jinx",
         "marker": {
          "color": "#EF553B",
          "symbol": "circle"
         },
         "mode": "markers",
         "name": "Jinx",
         "orientation": "v",
         "showlegend": true,
         "type": "scatter",
         "x": [
          0.159
         ],
         "xaxis": "x",
         "y": [
          0.0877
         ],
         "yaxis": "y"
        },
        {
         "hovertemplate": "Name=K'Sante<br>Pick %=%{x}<br>Ban %=%{y}<extra></extra>",
         "legendgroup": "K'Sante",
         "marker": {
          "color": "#00cc96",
          "symbol": "circle"
         },
         "mode": "markers",
         "name": "K'Sante",
         "orientation": "v",
         "showlegend": true,
         "type": "scatter",
         "x": [
          0.1056
         ],
         "xaxis": "x",
         "y": [
          0.0614
         ],
         "yaxis": "y"
        },
        {
         "hovertemplate": "Name=Kai'Sa<br>Pick %=%{x}<br>Ban %=%{y}<extra></extra>",
         "legendgroup": "Kai'Sa",
         "marker": {
          "color": "#ab63fa",
          "symbol": "circle"
         },
         "mode": "markers",
         "name": "Kai'Sa",
         "orientation": "v",
         "showlegend": true,
         "type": "scatter",
         "x": [
          0.2453
         ],
         "xaxis": "x",
         "y": [
          0.1011
         ],
         "yaxis": "y"
        },
        {
         "hovertemplate": "Name=Kalista<br>Pick %=%{x}<br>Ban %=%{y}<extra></extra>",
         "legendgroup": "Kalista",
         "marker": {
          "color": "#FFA15A",
          "symbol": "circle"
         },
         "mode": "markers",
         "name": "Kalista",
         "orientation": "v",
         "showlegend": true,
         "type": "scatter",
         "x": [
          0.0366
         ],
         "xaxis": "x",
         "y": [
          0.0313
         ],
         "yaxis": "y"
        },
        {
         "hovertemplate": "Name=Karma<br>Pick %=%{x}<br>Ban %=%{y}<extra></extra>",
         "legendgroup": "Karma",
         "marker": {
          "color": "#19d3f3",
          "symbol": "circle"
         },
         "mode": "markers",
         "name": "Karma",
         "orientation": "v",
         "showlegend": true,
         "type": "scatter",
         "x": [
          0.0558
         ],
         "xaxis": "x",
         "y": [
          0.0169
         ],
         "yaxis": "y"
        },
        {
         "hovertemplate": "Name=Karthus<br>Pick %=%{x}<br>Ban %=%{y}<extra></extra>",
         "legendgroup": "Karthus",
         "marker": {
          "color": "#FF6692",
          "symbol": "circle"
         },
         "mode": "markers",
         "name": "Karthus",
         "orientation": "v",
         "showlegend": true,
         "type": "scatter",
         "x": [
          0.0274,
          0.0037
         ],
         "xaxis": "x",
         "y": [
          0.0571,
          0.0468
         ],
         "yaxis": "y"
        },
        {
         "hovertemplate": "Name=Kassadin<br>Pick %=%{x}<br>Ban %=%{y}<extra></extra>",
         "legendgroup": "Kassadin",
         "marker": {
          "color": "#B6E880",
          "symbol": "circle"
         },
         "mode": "markers",
         "name": "Kassadin",
         "orientation": "v",
         "showlegend": true,
         "type": "scatter",
         "x": [
          0.0341
         ],
         "xaxis": "x",
         "y": [
          0.0618
         ],
         "yaxis": "y"
        },
        {
         "hovertemplate": "Name=Katarina<br>Pick %=%{x}<br>Ban %=%{y}<extra></extra>",
         "legendgroup": "Katarina",
         "marker": {
          "color": "#FF97FF",
          "symbol": "circle"
         },
         "mode": "markers",
         "name": "Katarina",
         "orientation": "v",
         "showlegend": true,
         "type": "scatter",
         "x": [
          0.0556
         ],
         "xaxis": "x",
         "y": [
          0.0688
         ],
         "yaxis": "y"
        },
        {
         "hovertemplate": "Name=Kayle<br>Pick %=%{x}<br>Ban %=%{y}<extra></extra>",
         "legendgroup": "Kayle",
         "marker": {
          "color": "#FECB52",
          "symbol": "circle"
         },
         "mode": "markers",
         "name": "Kayle",
         "orientation": "v",
         "showlegend": true,
         "type": "scatter",
         "x": [
          0.0292
         ],
         "xaxis": "x",
         "y": [
          0.0146
         ],
         "yaxis": "y"
        },
        {
         "hovertemplate": "Name=Kayn<br>Pick %=%{x}<br>Ban %=%{y}<extra></extra>",
         "legendgroup": "Kayn",
         "marker": {
          "color": "#636efa",
          "symbol": "circle"
         },
         "mode": "markers",
         "name": "Kayn",
         "orientation": "v",
         "showlegend": true,
         "type": "scatter",
         "x": [
          0.0874
         ],
         "xaxis": "x",
         "y": [
          0.0794
         ],
         "yaxis": "y"
        },
        {
         "hovertemplate": "Name=Kennen<br>Pick %=%{x}<br>Ban %=%{y}<extra></extra>",
         "legendgroup": "Kennen",
         "marker": {
          "color": "#EF553B",
          "symbol": "circle"
         },
         "mode": "markers",
         "name": "Kennen",
         "orientation": "v",
         "showlegend": true,
         "type": "scatter",
         "x": [
          0.0033,
          0.0201
         ],
         "xaxis": "x",
         "y": [
          0.0124,
          0.0147
         ],
         "yaxis": "y"
        },
        {
         "hovertemplate": "Name=Kha'Zix<br>Pick %=%{x}<br>Ban %=%{y}<extra></extra>",
         "legendgroup": "Kha'Zix",
         "marker": {
          "color": "#00cc96",
          "symbol": "circle"
         },
         "mode": "markers",
         "name": "Kha'Zix",
         "orientation": "v",
         "showlegend": true,
         "type": "scatter",
         "x": [
          0.0607
         ],
         "xaxis": "x",
         "y": [
          0.0716
         ],
         "yaxis": "y"
        },
        {
         "hovertemplate": "Name=Kindred<br>Pick %=%{x}<br>Ban %=%{y}<extra></extra>",
         "legendgroup": "Kindred",
         "marker": {
          "color": "#ab63fa",
          "symbol": "circle"
         },
         "mode": "markers",
         "name": "Kindred",
         "orientation": "v",
         "showlegend": true,
         "type": "scatter",
         "x": [
          0.0284
         ],
         "xaxis": "x",
         "y": [
          0.021
         ],
         "yaxis": "y"
        },
        {
         "hovertemplate": "Name=Kled<br>Pick %=%{x}<br>Ban %=%{y}<extra></extra>",
         "legendgroup": "Kled",
         "marker": {
          "color": "#FFA15A",
          "symbol": "circle"
         },
         "mode": "markers",
         "name": "Kled",
         "orientation": "v",
         "showlegend": true,
         "type": "scatter",
         "x": [
          0.0139
         ],
         "xaxis": "x",
         "y": [
          0.0101
         ],
         "yaxis": "y"
        },
        {
         "hovertemplate": "Name=Kog'Maw<br>Pick %=%{x}<br>Ban %=%{y}<extra></extra>",
         "legendgroup": "Kog'Maw",
         "marker": {
          "color": "#19d3f3",
          "symbol": "circle"
         },
         "mode": "markers",
         "name": "Kog'Maw",
         "orientation": "v",
         "showlegend": true,
         "type": "scatter",
         "x": [
          0.0133
         ],
         "xaxis": "x",
         "y": [
          0.0038
         ],
         "yaxis": "y"
        },
        {
         "hovertemplate": "Name=LeBlanc<br>Pick %=%{x}<br>Ban %=%{y}<extra></extra>",
         "legendgroup": "LeBlanc",
         "marker": {
          "color": "#FF6692",
          "symbol": "circle"
         },
         "mode": "markers",
         "name": "LeBlanc",
         "orientation": "v",
         "showlegend": true,
         "type": "scatter",
         "x": [
          0.0441
         ],
         "xaxis": "x",
         "y": [
          0.1062
         ],
         "yaxis": "y"
        },
        {
         "hovertemplate": "Name=Lee Sin<br>Pick %=%{x}<br>Ban %=%{y}<extra></extra>",
         "legendgroup": "Lee Sin",
         "marker": {
          "color": "#B6E880",
          "symbol": "circle"
         },
         "mode": "markers",
         "name": "Lee Sin",
         "orientation": "v",
         "showlegend": true,
         "type": "scatter",
         "x": [
          0.1637
         ],
         "xaxis": "x",
         "y": [
          0.1031
         ],
         "yaxis": "y"
        },
        {
         "hovertemplate": "Name=Leona<br>Pick %=%{x}<br>Ban %=%{y}<extra></extra>",
         "legendgroup": "Leona",
         "marker": {
          "color": "#FF97FF",
          "symbol": "circle"
         },
         "mode": "markers",
         "name": "Leona",
         "orientation": "v",
         "showlegend": true,
         "type": "scatter",
         "x": [
          0.0484
         ],
         "xaxis": "x",
         "y": [
          0.0354
         ],
         "yaxis": "y"
        },
        {
         "hovertemplate": "Name=Lillia<br>Pick %=%{x}<br>Ban %=%{y}<extra></extra>",
         "legendgroup": "Lillia",
         "marker": {
          "color": "#FECB52",
          "symbol": "circle"
         },
         "mode": "markers",
         "name": "Lillia",
         "orientation": "v",
         "showlegend": true,
         "type": "scatter",
         "x": [
          0.0414
         ],
         "xaxis": "x",
         "y": [
          0.032
         ],
         "yaxis": "y"
        },
        {
         "hovertemplate": "Name=Lissandra<br>Pick %=%{x}<br>Ban %=%{y}<extra></extra>",
         "legendgroup": "Lissandra",
         "marker": {
          "color": "#636efa",
          "symbol": "circle"
         },
         "mode": "markers",
         "name": "Lissandra",
         "orientation": "v",
         "showlegend": true,
         "type": "scatter",
         "x": [
          0.0311,
          0.005
         ],
         "xaxis": "x",
         "y": [
          0.0225,
          0.0239
         ],
         "yaxis": "y"
        },
        {
         "hovertemplate": "Name=Lucian<br>Pick %=%{x}<br>Ban %=%{y}<extra></extra>",
         "legendgroup": "Lucian",
         "marker": {
          "color": "#EF553B",
          "symbol": "circle"
         },
         "mode": "markers",
         "name": "Lucian",
         "orientation": "v",
         "showlegend": true,
         "type": "scatter",
         "x": [
          0.0628
         ],
         "xaxis": "x",
         "y": [
          0.0075
         ],
         "yaxis": "y"
        },
        {
         "hovertemplate": "Name=Lulu<br>Pick %=%{x}<br>Ban %=%{y}<extra></extra>",
         "legendgroup": "Lulu",
         "marker": {
          "color": "#00cc96",
          "symbol": "circle"
         },
         "mode": "markers",
         "name": "Lulu",
         "orientation": "v",
         "showlegend": true,
         "type": "scatter",
         "x": [
          0.0603
         ],
         "xaxis": "x",
         "y": [
          0.0429
         ],
         "yaxis": "y"
        },
        {
         "hovertemplate": "Name=Lux<br>Pick %=%{x}<br>Ban %=%{y}<extra></extra>",
         "legendgroup": "Lux",
         "marker": {
          "color": "#ab63fa",
          "symbol": "circle"
         },
         "mode": "markers",
         "name": "Lux",
         "orientation": "v",
         "showlegend": true,
         "type": "scatter",
         "x": [
          0.1138,
          0.0436
         ],
         "xaxis": "x",
         "y": [
          0.1057,
          0.124
         ],
         "yaxis": "y"
        },
        {
         "hovertemplate": "Name=Malphite<br>Pick %=%{x}<br>Ban %=%{y}<extra></extra>",
         "legendgroup": "Malphite",
         "marker": {
          "color": "#FFA15A",
          "symbol": "circle"
         },
         "mode": "markers",
         "name": "Malphite",
         "orientation": "v",
         "showlegend": true,
         "type": "scatter",
         "x": [
          0.0538,
          0.0104,
          0.0103
         ],
         "xaxis": "x",
         "y": [
          0.1195,
          0.1239,
          0.1239
         ],
         "yaxis": "y"
        },
        {
         "hovertemplate": "Name=Malzahar<br>Pick %=%{x}<br>Ban %=%{y}<extra></extra>",
         "legendgroup": "Malzahar",
         "marker": {
          "color": "#19d3f3",
          "symbol": "circle"
         },
         "mode": "markers",
         "name": "Malzahar",
         "orientation": "v",
         "showlegend": true,
         "type": "scatter",
         "x": [
          0.0346
         ],
         "xaxis": "x",
         "y": [
          0.0518
         ],
         "yaxis": "y"
        },
        {
         "hovertemplate": "Name=Maokai<br>Pick %=%{x}<br>Ban %=%{y}<extra></extra>",
         "legendgroup": "Maokai",
         "marker": {
          "color": "#FF6692",
          "symbol": "circle"
         },
         "mode": "markers",
         "name": "Maokai",
         "orientation": "v",
         "showlegend": true,
         "type": "scatter",
         "x": [
          0.043,
          0.014
         ],
         "xaxis": "x",
         "y": [
          0.0164,
          0.017
         ],
         "yaxis": "y"
        },
        {
         "hovertemplate": "Name=Master Yi<br>Pick %=%{x}<br>Ban %=%{y}<extra></extra>",
         "legendgroup": "Master Yi",
         "marker": {
          "color": "#B6E880",
          "symbol": "circle"
         },
         "mode": "markers",
         "name": "Master Yi",
         "orientation": "v",
         "showlegend": true,
         "type": "scatter",
         "x": [
          0.0638
         ],
         "xaxis": "x",
         "y": [
          0.1115
         ],
         "yaxis": "y"
        },
        {
         "hovertemplate": "Name=Milio<br>Pick %=%{x}<br>Ban %=%{y}<extra></extra>",
         "legendgroup": "Milio",
         "marker": {
          "color": "#FF97FF",
          "symbol": "circle"
         },
         "mode": "markers",
         "name": "Milio",
         "orientation": "v",
         "showlegend": true,
         "type": "scatter",
         "x": [
          0.0448
         ],
         "xaxis": "x",
         "y": [
          0.0184
         ],
         "yaxis": "y"
        },
        {
         "hovertemplate": "Name=Miss Fortune<br>Pick %=%{x}<br>Ban %=%{y}<extra></extra>",
         "legendgroup": "Miss Fortune",
         "marker": {
          "color": "#FECB52",
          "symbol": "circle"
         },
         "mode": "markers",
         "name": "Miss Fortune",
         "orientation": "v",
         "showlegend": true,
         "type": "scatter",
         "x": [
          0.0837,
          0.009
         ],
         "xaxis": "x",
         "y": [
          0.0229,
          0.0227
         ],
         "yaxis": "y"
        },
        {
         "hovertemplate": "Name=Mordekaiser<br>Pick %=%{x}<br>Ban %=%{y}<extra></extra>",
         "legendgroup": "Mordekaiser",
         "marker": {
          "color": "#636efa",
          "symbol": "circle"
         },
         "mode": "markers",
         "name": "Mordekaiser",
         "orientation": "v",
         "showlegend": true,
         "type": "scatter",
         "x": [
          0.0487
         ],
         "xaxis": "x",
         "y": [
          0.07
         ],
         "yaxis": "y"
        },
        {
         "hovertemplate": "Name=Morgana<br>Pick %=%{x}<br>Ban %=%{y}<extra></extra>",
         "legendgroup": "Morgana",
         "marker": {
          "color": "#EF553B",
          "symbol": "circle"
         },
         "mode": "markers",
         "name": "Morgana",
         "orientation": "v",
         "showlegend": true,
         "type": "scatter",
         "x": [
          0.0697,
          0.0226
         ],
         "xaxis": "x",
         "y": [
          0.2485,
          0.2355
         ],
         "yaxis": "y"
        },
        {
         "hovertemplate": "Name=Naafiri<br>Pick %=%{x}<br>Ban %=%{y}<extra></extra>",
         "legendgroup": "Naafiri",
         "marker": {
          "color": "#00cc96",
          "symbol": "circle"
         },
         "mode": "markers",
         "name": "Naafiri",
         "orientation": "v",
         "showlegend": true,
         "type": "scatter",
         "x": [
          0.0317,
          0.0053,
          0.0048
         ],
         "xaxis": "x",
         "y": [
          0.0738,
          0.0766,
          0.0797
         ],
         "yaxis": "y"
        },
        {
         "hovertemplate": "Name=Nami<br>Pick %=%{x}<br>Ban %=%{y}<extra></extra>",
         "legendgroup": "Nami",
         "marker": {
          "color": "#ab63fa",
          "symbol": "circle"
         },
         "mode": "markers",
         "name": "Nami",
         "orientation": "v",
         "showlegend": true,
         "type": "scatter",
         "x": [
          0.0595
         ],
         "xaxis": "x",
         "y": [
          0.0035
         ],
         "yaxis": "y"
        },
        {
         "hovertemplate": "Name=Nasus<br>Pick %=%{x}<br>Ban %=%{y}<extra></extra>",
         "legendgroup": "Nasus",
         "marker": {
          "color": "#FFA15A",
          "symbol": "circle"
         },
         "mode": "markers",
         "name": "Nasus",
         "orientation": "v",
         "showlegend": true,
         "type": "scatter",
         "x": [
          0.0492
         ],
         "xaxis": "x",
         "y": [
          0.0539
         ],
         "yaxis": "y"
        },
        {
         "hovertemplate": "Name=Nautilus<br>Pick %=%{x}<br>Ban %=%{y}<extra></extra>",
         "legendgroup": "Nautilus",
         "marker": {
          "color": "#19d3f3",
          "symbol": "circle"
         },
         "mode": "markers",
         "name": "Nautilus",
         "orientation": "v",
         "showlegend": true,
         "type": "scatter",
         "x": [
          0.1103
         ],
         "xaxis": "x",
         "y": [
          0.1648
         ],
         "yaxis": "y"
        },
        {
         "hovertemplate": "Name=Neeko<br>Pick %=%{x}<br>Ban %=%{y}<extra></extra>",
         "legendgroup": "Neeko",
         "marker": {
          "color": "#FF6692",
          "symbol": "circle"
         },
         "mode": "markers",
         "name": "Neeko",
         "orientation": "v",
         "showlegend": true,
         "type": "scatter",
         "x": [
          0.0305,
          0.0284
         ],
         "xaxis": "x",
         "y": [
          0.0505,
          0.0505
         ],
         "yaxis": "y"
        },
        {
         "hovertemplate": "Name=Nidalee<br>Pick %=%{x}<br>Ban %=%{y}<extra></extra>",
         "legendgroup": "Nidalee",
         "marker": {
          "color": "#B6E880",
          "symbol": "circle"
         },
         "mode": "markers",
         "name": "Nidalee",
         "orientation": "v",
         "showlegend": true,
         "type": "scatter",
         "x": [
          0.0502
         ],
         "xaxis": "x",
         "y": [
          0.085
         ],
         "yaxis": "y"
        },
        {
         "hovertemplate": "Name=Nilah<br>Pick %=%{x}<br>Ban %=%{y}<extra></extra>",
         "legendgroup": "Nilah",
         "marker": {
          "color": "#FF97FF",
          "symbol": "circle"
         },
         "mode": "markers",
         "name": "Nilah",
         "orientation": "v",
         "showlegend": true,
         "type": "scatter",
         "x": [
          0.0334
         ],
         "xaxis": "x",
         "y": [
          0.059
         ],
         "yaxis": "y"
        },
        {
         "hovertemplate": "Name=Nocturne<br>Pick %=%{x}<br>Ban %=%{y}<extra></extra>",
         "legendgroup": "Nocturne",
         "marker": {
          "color": "#FECB52",
          "symbol": "circle"
         },
         "mode": "markers",
         "name": "Nocturne",
         "orientation": "v",
         "showlegend": true,
         "type": "scatter",
         "x": [
          0.0524
         ],
         "xaxis": "x",
         "y": [
          0.0749
         ],
         "yaxis": "y"
        },
        {
         "hovertemplate": "Name=Nunu<br>Pick %=%{x}<br>Ban %=%{y}<extra></extra>",
         "legendgroup": "Nunu",
         "marker": {
          "color": "#636efa",
          "symbol": "circle"
         },
         "mode": "markers",
         "name": "Nunu",
         "orientation": "v",
         "showlegend": true,
         "type": "scatter",
         "x": [
          0.0285
         ],
         "xaxis": "x",
         "y": [
          0.0074
         ],
         "yaxis": "y"
        },
        {
         "hovertemplate": "Name=Olaf<br>Pick %=%{x}<br>Ban %=%{y}<extra></extra>",
         "legendgroup": "Olaf",
         "marker": {
          "color": "#EF553B",
          "symbol": "circle"
         },
         "mode": "markers",
         "name": "Olaf",
         "orientation": "v",
         "showlegend": true,
         "type": "scatter",
         "x": [
          0.0239,
          0.003
         ],
         "xaxis": "x",
         "y": [
          0.0262,
          0.0245
         ],
         "yaxis": "y"
        },
        {
         "hovertemplate": "Name=Orianna<br>Pick %=%{x}<br>Ban %=%{y}<extra></extra>",
         "legendgroup": "Orianna",
         "marker": {
          "color": "#00cc96",
          "symbol": "circle"
         },
         "mode": "markers",
         "name": "Orianna",
         "orientation": "v",
         "showlegend": true,
         "type": "scatter",
         "x": [
          0.1109
         ],
         "xaxis": "x",
         "y": [
          0.0908
         ],
         "yaxis": "y"
        },
        {
         "hovertemplate": "Name=Ornn<br>Pick %=%{x}<br>Ban %=%{y}<extra></extra>",
         "legendgroup": "Ornn",
         "marker": {
          "color": "#ab63fa",
          "symbol": "circle"
         },
         "mode": "markers",
         "name": "Ornn",
         "orientation": "v",
         "showlegend": true,
         "type": "scatter",
         "x": [
          0.0357
         ],
         "xaxis": "x",
         "y": [
          0.008
         ],
         "yaxis": "y"
        },
        {
         "hovertemplate": "Name=Pantheon<br>Pick %=%{x}<br>Ban %=%{y}<extra></extra>",
         "legendgroup": "Pantheon",
         "marker": {
          "color": "#FFA15A",
          "symbol": "circle"
         },
         "mode": "markers",
         "name": "Pantheon",
         "orientation": "v",
         "showlegend": true,
         "type": "scatter",
         "x": [
          0.0225,
          0.0205,
          0.022
         ],
         "xaxis": "x",
         "y": [
          0.0439,
          0.0459,
          0.0459
         ],
         "yaxis": "y"
        },
        {
         "hovertemplate": "Name=Poppy<br>Pick %=%{x}<br>Ban %=%{y}<extra></extra>",
         "legendgroup": "Poppy",
         "marker": {
          "color": "#19d3f3",
          "symbol": "circle"
         },
         "mode": "markers",
         "name": "Poppy",
         "orientation": "v",
         "showlegend": true,
         "type": "scatter",
         "x": [
          0.0214,
          0.0172
         ],
         "xaxis": "x",
         "y": [
          0.0297,
          0.0333
         ],
         "yaxis": "y"
        },
        {
         "hovertemplate": "Name=Pyke<br>Pick %=%{x}<br>Ban %=%{y}<extra></extra>",
         "legendgroup": "Pyke",
         "marker": {
          "color": "#FF6692",
          "symbol": "circle"
         },
         "mode": "markers",
         "name": "Pyke",
         "orientation": "v",
         "showlegend": true,
         "type": "scatter",
         "x": [
          0.0719
         ],
         "xaxis": "x",
         "y": [
          0.1263
         ],
         "yaxis": "y"
        },
        {
         "hovertemplate": "Name=Qiyana<br>Pick %=%{x}<br>Ban %=%{y}<extra></extra>",
         "legendgroup": "Qiyana",
         "marker": {
          "color": "#B6E880",
          "symbol": "circle"
         },
         "mode": "markers",
         "name": "Qiyana",
         "orientation": "v",
         "showlegend": true,
         "type": "scatter",
         "x": [
          0.0217
         ],
         "xaxis": "x",
         "y": [
          0.007
         ],
         "yaxis": "y"
        },
        {
         "hovertemplate": "Name=Quinn<br>Pick %=%{x}<br>Ban %=%{y}<extra></extra>",
         "legendgroup": "Quinn",
         "marker": {
          "color": "#FF97FF",
          "symbol": "circle"
         },
         "mode": "markers",
         "name": "Quinn",
         "orientation": "v",
         "showlegend": true,
         "type": "scatter",
         "x": [
          0.0151,
          0.0023
         ],
         "xaxis": "x",
         "y": [
          0.0138,
          0.0145
         ],
         "yaxis": "y"
        },
        {
         "hovertemplate": "Name=Rakan<br>Pick %=%{x}<br>Ban %=%{y}<extra></extra>",
         "legendgroup": "Rakan",
         "marker": {
          "color": "#FECB52",
          "symbol": "circle"
         },
         "mode": "markers",
         "name": "Rakan",
         "orientation": "v",
         "showlegend": true,
         "type": "scatter",
         "x": [
          0.121
         ],
         "xaxis": "x",
         "y": [
          0.0521
         ],
         "yaxis": "y"
        },
        {
         "hovertemplate": "Name=Rammus<br>Pick %=%{x}<br>Ban %=%{y}<extra></extra>",
         "legendgroup": "Rammus",
         "marker": {
          "color": "#636efa",
          "symbol": "circle"
         },
         "mode": "markers",
         "name": "Rammus",
         "orientation": "v",
         "showlegend": true,
         "type": "scatter",
         "x": [
          0.0396
         ],
         "xaxis": "x",
         "y": [
          0.146
         ],
         "yaxis": "y"
        },
        {
         "hovertemplate": "Name=Rek'Sai<br>Pick %=%{x}<br>Ban %=%{y}<extra></extra>",
         "legendgroup": "Rek'Sai",
         "marker": {
          "color": "#EF553B",
          "symbol": "circle"
         },
         "mode": "markers",
         "name": "Rek'Sai",
         "orientation": "v",
         "showlegend": true,
         "type": "scatter",
         "x": [
          0.0117
         ],
         "xaxis": "x",
         "y": [
          0.0149
         ],
         "yaxis": "y"
        },
        {
         "hovertemplate": "Name=Rell<br>Pick %=%{x}<br>Ban %=%{y}<extra></extra>",
         "legendgroup": "Rell",
         "marker": {
          "color": "#00cc96",
          "symbol": "circle"
         },
         "mode": "markers",
         "name": "Rell",
         "orientation": "v",
         "showlegend": true,
         "type": "scatter",
         "x": [
          0.0532,
          0.0064
         ],
         "xaxis": "x",
         "y": [
          0.0534,
          0.0428
         ],
         "yaxis": "y"
        },
        {
         "hovertemplate": "Name=Renata Glasc<br>Pick %=%{x}<br>Ban %=%{y}<extra></extra>",
         "legendgroup": "Renata Glasc",
         "marker": {
          "color": "#ab63fa",
          "symbol": "circle"
         },
         "mode": "markers",
         "name": "Renata Glasc",
         "orientation": "v",
         "showlegend": true,
         "type": "scatter",
         "x": [
          0.032
         ],
         "xaxis": "x",
         "y": [
          0.0066
         ],
         "yaxis": "y"
        },
        {
         "hovertemplate": "Name=Renekton<br>Pick %=%{x}<br>Ban %=%{y}<extra></extra>",
         "legendgroup": "Renekton",
         "marker": {
          "color": "#FFA15A",
          "symbol": "circle"
         },
         "mode": "markers",
         "name": "Renekton",
         "orientation": "v",
         "showlegend": true,
         "type": "scatter",
         "x": [
          0.0782
         ],
         "xaxis": "x",
         "y": [
          0.0714
         ],
         "yaxis": "y"
        },
        {
         "hovertemplate": "Name=Rengar<br>Pick %=%{x}<br>Ban %=%{y}<extra></extra>",
         "legendgroup": "Rengar",
         "marker": {
          "color": "#19d3f3",
          "symbol": "circle"
         },
         "mode": "markers",
         "name": "Rengar",
         "orientation": "v",
         "showlegend": true,
         "type": "scatter",
         "x": [
          0.0249,
          0.0071
         ],
         "xaxis": "x",
         "y": [
          0.0574,
          0.0481
         ],
         "yaxis": "y"
        },
        {
         "hovertemplate": "Name=Riven<br>Pick %=%{x}<br>Ban %=%{y}<extra></extra>",
         "legendgroup": "Riven",
         "marker": {
          "color": "#FF6692",
          "symbol": "circle"
         },
         "mode": "markers",
         "name": "Riven",
         "orientation": "v",
         "showlegend": true,
         "type": "scatter",
         "x": [
          0.0386
         ],
         "xaxis": "x",
         "y": [
          0.0104
         ],
         "yaxis": "y"
        },
        {
         "hovertemplate": "Name=Rumble<br>Pick %=%{x}<br>Ban %=%{y}<extra></extra>",
         "legendgroup": "Rumble",
         "marker": {
          "color": "#B6E880",
          "symbol": "circle"
         },
         "mode": "markers",
         "name": "Rumble",
         "orientation": "v",
         "showlegend": true,
         "type": "scatter",
         "x": [
          0.0369,
          0.0053
         ],
         "xaxis": "x",
         "y": [
          0.0378,
          0.0253
         ],
         "yaxis": "y"
        },
        {
         "hovertemplate": "Name=Ryze<br>Pick %=%{x}<br>Ban %=%{y}<extra></extra>",
         "legendgroup": "Ryze",
         "marker": {
          "color": "#FF97FF",
          "symbol": "circle"
         },
         "mode": "markers",
         "name": "Ryze",
         "orientation": "v",
         "showlegend": true,
         "type": "scatter",
         "x": [
          0.0156,
          0.0026
         ],
         "xaxis": "x",
         "y": [
          0.0016,
          0.0017
         ],
         "yaxis": "y"
        },
        {
         "hovertemplate": "Name=Samira<br>Pick %=%{x}<br>Ban %=%{y}<extra></extra>",
         "legendgroup": "Samira",
         "marker": {
          "color": "#FECB52",
          "symbol": "circle"
         },
         "mode": "markers",
         "name": "Samira",
         "orientation": "v",
         "showlegend": true,
         "type": "scatter",
         "x": [
          0.078
         ],
         "xaxis": "x",
         "y": [
          0.1853
         ],
         "yaxis": "y"
        },
        {
         "hovertemplate": "Name=Sejuani<br>Pick %=%{x}<br>Ban %=%{y}<extra></extra>",
         "legendgroup": "Sejuani",
         "marker": {
          "color": "#636efa",
          "symbol": "circle"
         },
         "mode": "markers",
         "name": "Sejuani",
         "orientation": "v",
         "showlegend": true,
         "type": "scatter",
         "x": [
          0.0301
         ],
         "xaxis": "x",
         "y": [
          0.0049
         ],
         "yaxis": "y"
        },
        {
         "hovertemplate": "Name=Senna<br>Pick %=%{x}<br>Ban %=%{y}<extra></extra>",
         "legendgroup": "Senna",
         "marker": {
          "color": "#EF553B",
          "symbol": "circle"
         },
         "mode": "markers",
         "name": "Senna",
         "orientation": "v",
         "showlegend": true,
         "type": "scatter",
         "x": [
          0.1078
         ],
         "xaxis": "x",
         "y": [
          0.0834
         ],
         "yaxis": "y"
        },
        {
         "hovertemplate": "Name=Seraphine<br>Pick %=%{x}<br>Ban %=%{y}<extra></extra>",
         "legendgroup": "Seraphine",
         "marker": {
          "color": "#00cc96",
          "symbol": "circle"
         },
         "mode": "markers",
         "name": "Seraphine",
         "orientation": "v",
         "showlegend": true,
         "type": "scatter",
         "x": [
          0.0411,
          0.0083
         ],
         "xaxis": "x",
         "y": [
          0.0092,
          0.01
         ],
         "yaxis": "y"
        },
        {
         "hovertemplate": "Name=Sett<br>Pick %=%{x}<br>Ban %=%{y}<extra></extra>",
         "legendgroup": "Sett",
         "marker": {
          "color": "#ab63fa",
          "symbol": "circle"
         },
         "mode": "markers",
         "name": "Sett",
         "orientation": "v",
         "showlegend": true,
         "type": "scatter",
         "x": [
          0.0579
         ],
         "xaxis": "x",
         "y": [
          0.0224
         ],
         "yaxis": "y"
        },
        {
         "hovertemplate": "Name=Shaco<br>Pick %=%{x}<br>Ban %=%{y}<extra></extra>",
         "legendgroup": "Shaco",
         "marker": {
          "color": "#FFA15A",
          "symbol": "circle"
         },
         "mode": "markers",
         "name": "Shaco",
         "orientation": "v",
         "showlegend": true,
         "type": "scatter",
         "x": [
          0.049,
          0.0201
         ],
         "xaxis": "x",
         "y": [
          0.1911,
          0.2042
         ],
         "yaxis": "y"
        },
        {
         "hovertemplate": "Name=Shen<br>Pick %=%{x}<br>Ban %=%{y}<extra></extra>",
         "legendgroup": "Shen",
         "marker": {
          "color": "#19d3f3",
          "symbol": "circle"
         },
         "mode": "markers",
         "name": "Shen",
         "orientation": "v",
         "showlegend": true,
         "type": "scatter",
         "x": [
          0.0184,
          0.0037
         ],
         "xaxis": "x",
         "y": [
          0.0029,
          0.003
         ],
         "yaxis": "y"
        },
        {
         "hovertemplate": "Name=Shyvana<br>Pick %=%{x}<br>Ban %=%{y}<extra></extra>",
         "legendgroup": "Shyvana",
         "marker": {
          "color": "#FF6692",
          "symbol": "circle"
         },
         "mode": "markers",
         "name": "Shyvana",
         "orientation": "v",
         "showlegend": true,
         "type": "scatter",
         "x": [
          0.0179,
          0.0027
         ],
         "xaxis": "x",
         "y": [
          0.0043,
          0.0046
         ],
         "yaxis": "y"
        },
        {
         "hovertemplate": "Name=Singed<br>Pick %=%{x}<br>Ban %=%{y}<extra></extra>",
         "legendgroup": "Singed",
         "marker": {
          "color": "#B6E880",
          "symbol": "circle"
         },
         "mode": "markers",
         "name": "Singed",
         "orientation": "v",
         "showlegend": true,
         "type": "scatter",
         "x": [
          0.014,
          0.0022
         ],
         "xaxis": "x",
         "y": [
          0.0039,
          0.0038
         ],
         "yaxis": "y"
        },
        {
         "hovertemplate": "Name=Sion<br>Pick %=%{x}<br>Ban %=%{y}<extra></extra>",
         "legendgroup": "Sion",
         "marker": {
          "color": "#FF97FF",
          "symbol": "circle"
         },
         "mode": "markers",
         "name": "Sion",
         "orientation": "v",
         "showlegend": true,
         "type": "scatter",
         "x": [
          0.0315,
          0.0075
         ],
         "xaxis": "x",
         "y": [
          0.0261,
          0.0285
         ],
         "yaxis": "y"
        },
        {
         "hovertemplate": "Name=Sivir<br>Pick %=%{x}<br>Ban %=%{y}<extra></extra>",
         "legendgroup": "Sivir",
         "marker": {
          "color": "#FECB52",
          "symbol": "circle"
         },
         "mode": "markers",
         "name": "Sivir",
         "orientation": "v",
         "showlegend": true,
         "type": "scatter",
         "x": [
          0.0417
         ],
         "xaxis": "x",
         "y": [
          0.0169
         ],
         "yaxis": "y"
        },
        {
         "hovertemplate": "Name=Skarner<br>Pick %=%{x}<br>Ban %=%{y}<extra></extra>",
         "legendgroup": "Skarner",
         "marker": {
          "color": "#636efa",
          "symbol": "circle"
         },
         "mode": "markers",
         "name": "Skarner",
         "orientation": "v",
         "showlegend": true,
         "type": "scatter",
         "x": [
          0.0074,
          0.0013
         ],
         "xaxis": "x",
         "y": [
          0.0019,
          0.0019
         ],
         "yaxis": "y"
        },
        {
         "hovertemplate": "Name=Sona<br>Pick %=%{x}<br>Ban %=%{y}<extra></extra>",
         "legendgroup": "Sona",
         "marker": {
          "color": "#EF553B",
          "symbol": "circle"
         },
         "mode": "markers",
         "name": "Sona",
         "orientation": "v",
         "showlegend": true,
         "type": "scatter",
         "x": [
          0.0254
         ],
         "xaxis": "x",
         "y": [
          0.0012
         ],
         "yaxis": "y"
        },
        {
         "hovertemplate": "Name=Soraka<br>Pick %=%{x}<br>Ban %=%{y}<extra></extra>",
         "legendgroup": "Soraka",
         "marker": {
          "color": "#00cc96",
          "symbol": "circle"
         },
         "mode": "markers",
         "name": "Soraka",
         "orientation": "v",
         "showlegend": true,
         "type": "scatter",
         "x": [
          0.0529
         ],
         "xaxis": "x",
         "y": [
          0.0249
         ],
         "yaxis": "y"
        },
        {
         "hovertemplate": "Name=Swain<br>Pick %=%{x}<br>Ban %=%{y}<extra></extra>",
         "legendgroup": "Swain",
         "marker": {
          "color": "#ab63fa",
          "symbol": "circle"
         },
         "mode": "markers",
         "name": "Swain",
         "orientation": "v",
         "showlegend": true,
         "type": "scatter",
         "x": [
          0.0101,
          0.0359,
          0.01
         ],
         "xaxis": "x",
         "y": [
          0.0346,
          0.0361,
          0.0361
         ],
         "yaxis": "y"
        },
        {
         "hovertemplate": "Name=Sylas<br>Pick %=%{x}<br>Ban %=%{y}<extra></extra>",
         "legendgroup": "Sylas",
         "marker": {
          "color": "#FFA15A",
          "symbol": "circle"
         },
         "mode": "markers",
         "name": "Sylas",
         "orientation": "v",
         "showlegend": true,
         "type": "scatter",
         "x": [
          0.0967,
          0.034
         ],
         "xaxis": "x",
         "y": [
          0.1543,
          0.1596
         ],
         "yaxis": "y"
        },
        {
         "hovertemplate": "Name=Syndra<br>Pick %=%{x}<br>Ban %=%{y}<extra></extra>",
         "legendgroup": "Syndra",
         "marker": {
          "color": "#19d3f3",
          "symbol": "circle"
         },
         "mode": "markers",
         "name": "Syndra",
         "orientation": "v",
         "showlegend": true,
         "type": "scatter",
         "x": [
          0.0832
         ],
         "xaxis": "x",
         "y": [
          0.0599
         ],
         "yaxis": "y"
        },
        {
         "hovertemplate": "Name=Tahm Kench<br>Pick %=%{x}<br>Ban %=%{y}<extra></extra>",
         "legendgroup": "Tahm Kench",
         "marker": {
          "color": "#FF6692",
          "symbol": "circle"
         },
         "mode": "markers",
         "name": "Tahm Kench",
         "orientation": "v",
         "showlegend": true,
         "type": "scatter",
         "x": [
          0.0205,
          0.0068
         ],
         "xaxis": "x",
         "y": [
          0.0074,
          0.0073
         ],
         "yaxis": "y"
        },
        {
         "hovertemplate": "Name=Taliyah<br>Pick %=%{x}<br>Ban %=%{y}<extra></extra>",
         "legendgroup": "Taliyah",
         "marker": {
          "color": "#B6E880",
          "symbol": "circle"
         },
         "mode": "markers",
         "name": "Taliyah",
         "orientation": "v",
         "showlegend": true,
         "type": "scatter",
         "x": [
          0.0428,
          0.0222
         ],
         "xaxis": "x",
         "y": [
          0.0552,
          0.0454
         ],
         "yaxis": "y"
        },
        {
         "hovertemplate": "Name=Talon<br>Pick %=%{x}<br>Ban %=%{y}<extra></extra>",
         "legendgroup": "Talon",
         "marker": {
          "color": "#FF97FF",
          "symbol": "circle"
         },
         "mode": "markers",
         "name": "Talon",
         "orientation": "v",
         "showlegend": true,
         "type": "scatter",
         "x": [
          0.0351,
          0.0074
         ],
         "xaxis": "x",
         "y": [
          0.0221,
          0.0204
         ],
         "yaxis": "y"
        },
        {
         "hovertemplate": "Name=Taric<br>Pick %=%{x}<br>Ban %=%{y}<extra></extra>",
         "legendgroup": "Taric",
         "marker": {
          "color": "#FECB52",
          "symbol": "circle"
         },
         "mode": "markers",
         "name": "Taric",
         "orientation": "v",
         "showlegend": true,
         "type": "scatter",
         "x": [
          0.0132
         ],
         "xaxis": "x",
         "y": [
          0.003
         ],
         "yaxis": "y"
        },
        {
         "hovertemplate": "Name=Teemo<br>Pick %=%{x}<br>Ban %=%{y}<extra></extra>",
         "legendgroup": "Teemo",
         "marker": {
          "color": "#636efa",
          "symbol": "circle"
         },
         "mode": "markers",
         "name": "Teemo",
         "orientation": "v",
         "showlegend": true,
         "type": "scatter",
         "x": [
          0.0409,
          0.0073
         ],
         "xaxis": "x",
         "y": [
          0.0655,
          0.0611
         ],
         "yaxis": "y"
        },
        {
         "hovertemplate": "Name=Thresh<br>Pick %=%{x}<br>Ban %=%{y}<extra></extra>",
         "legendgroup": "Thresh",
         "marker": {
          "color": "#EF553B",
          "symbol": "circle"
         },
         "mode": "markers",
         "name": "Thresh",
         "orientation": "v",
         "showlegend": true,
         "type": "scatter",
         "x": [
          0.1306
         ],
         "xaxis": "x",
         "y": [
          0.055
         ],
         "yaxis": "y"
        },
        {
         "hovertemplate": "Name=Tristana<br>Pick %=%{x}<br>Ban %=%{y}<extra></extra>",
         "legendgroup": "Tristana",
         "marker": {
          "color": "#00cc96",
          "symbol": "circle"
         },
         "mode": "markers",
         "name": "Tristana",
         "orientation": "v",
         "showlegend": true,
         "type": "scatter",
         "x": [
          0.033,
          0.0499
         ],
         "xaxis": "x",
         "y": [
          0.031,
          0.0317
         ],
         "yaxis": "y"
        },
        {
         "hovertemplate": "Name=Trundle<br>Pick %=%{x}<br>Ban %=%{y}<extra></extra>",
         "legendgroup": "Trundle",
         "marker": {
          "color": "#ab63fa",
          "symbol": "circle"
         },
         "mode": "markers",
         "name": "Trundle",
         "orientation": "v",
         "showlegend": true,
         "type": "scatter",
         "x": [
          0.0116,
          0.0101
         ],
         "xaxis": "x",
         "y": [
          0.0065,
          0.0065
         ],
         "yaxis": "y"
        },
        {
         "hovertemplate": "Name=Tryndamere<br>Pick %=%{x}<br>Ban %=%{y}<extra></extra>",
         "legendgroup": "Tryndamere",
         "marker": {
          "color": "#FFA15A",
          "symbol": "circle"
         },
         "mode": "markers",
         "name": "Tryndamere",
         "orientation": "v",
         "showlegend": true,
         "type": "scatter",
         "x": [
          0.0301,
          0.0035
         ],
         "xaxis": "x",
         "y": [
          0.0473,
          0.0462
         ],
         "yaxis": "y"
        },
        {
         "hovertemplate": "Name=Twisted Fate<br>Pick %=%{x}<br>Ban %=%{y}<extra></extra>",
         "legendgroup": "Twisted Fate",
         "marker": {
          "color": "#19d3f3",
          "symbol": "circle"
         },
         "mode": "markers",
         "name": "Twisted Fate",
         "orientation": "v",
         "showlegend": true,
         "type": "scatter",
         "x": [
          0.0302
         ],
         "xaxis": "x",
         "y": [
          0.0025
         ],
         "yaxis": "y"
        },
        {
         "hovertemplate": "Name=Twitch<br>Pick %=%{x}<br>Ban %=%{y}<extra></extra>",
         "legendgroup": "Twitch",
         "marker": {
          "color": "#FF6692",
          "symbol": "circle"
         },
         "mode": "markers",
         "name": "Twitch",
         "orientation": "v",
         "showlegend": true,
         "type": "scatter",
         "x": [
          0.0421,
          0.0096
         ],
         "xaxis": "x",
         "y": [
          0.0355,
          0.0352
         ],
         "yaxis": "y"
        },
        {
         "hovertemplate": "Name=Udyr<br>Pick %=%{x}<br>Ban %=%{y}<extra></extra>",
         "legendgroup": "Udyr",
         "marker": {
          "color": "#B6E880",
          "symbol": "circle"
         },
         "mode": "markers",
         "name": "Udyr",
         "orientation": "v",
         "showlegend": true,
         "type": "scatter",
         "x": [
          0.0216,
          0.0073
         ],
         "xaxis": "x",
         "y": [
          0.0123,
          0.0118
         ],
         "yaxis": "y"
        },
        {
         "hovertemplate": "Name=Urgot<br>Pick %=%{x}<br>Ban %=%{y}<extra></extra>",
         "legendgroup": "Urgot",
         "marker": {
          "color": "#FF97FF",
          "symbol": "circle"
         },
         "mode": "markers",
         "name": "Urgot",
         "orientation": "v",
         "showlegend": true,
         "type": "scatter",
         "x": [
          0.0195
         ],
         "xaxis": "x",
         "y": [
          0.0081
         ],
         "yaxis": "y"
        },
        {
         "hovertemplate": "Name=Varus<br>Pick %=%{x}<br>Ban %=%{y}<extra></extra>",
         "legendgroup": "Varus",
         "marker": {
          "color": "#FECB52",
          "symbol": "circle"
         },
         "mode": "markers",
         "name": "Varus",
         "orientation": "v",
         "showlegend": true,
         "type": "scatter",
         "x": [
          0.044
         ],
         "xaxis": "x",
         "y": [
          0.0052
         ],
         "yaxis": "y"
        },
        {
         "hovertemplate": "Name=Vayne<br>Pick %=%{x}<br>Ban %=%{y}<extra></extra>",
         "legendgroup": "Vayne",
         "marker": {
          "color": "#636efa",
          "symbol": "circle"
         },
         "mode": "markers",
         "name": "Vayne",
         "orientation": "v",
         "showlegend": true,
         "type": "scatter",
         "x": [
          0.0862,
          0.0142
         ],
         "xaxis": "x",
         "y": [
          0.0672,
          0.0696
         ],
         "yaxis": "y"
        },
        {
         "hovertemplate": "Name=Veigar<br>Pick %=%{x}<br>Ban %=%{y}<extra></extra>",
         "legendgroup": "Veigar",
         "marker": {
          "color": "#EF553B",
          "symbol": "circle"
         },
         "mode": "markers",
         "name": "Veigar",
         "orientation": "v",
         "showlegend": true,
         "type": "scatter",
         "x": [
          0.0413,
          0.0065
         ],
         "xaxis": "x",
         "y": [
          0.028,
          0.0297
         ],
         "yaxis": "y"
        },
        {
         "hovertemplate": "Name=Vel'Koz<br>Pick %=%{x}<br>Ban %=%{y}<extra></extra>",
         "legendgroup": "Vel'Koz",
         "marker": {
          "color": "#00cc96",
          "symbol": "circle"
         },
         "mode": "markers",
         "name": "Vel'Koz",
         "orientation": "v",
         "showlegend": true,
         "type": "scatter",
         "x": [
          0.0162,
          0.0053
         ],
         "xaxis": "x",
         "y": [
          0.0036,
          0.0036
         ],
         "yaxis": "y"
        },
        {
         "hovertemplate": "Name=Vex<br>Pick %=%{x}<br>Ban %=%{y}<extra></extra>",
         "legendgroup": "Vex",
         "marker": {
          "color": "#ab63fa",
          "symbol": "circle"
         },
         "mode": "markers",
         "name": "Vex",
         "orientation": "v",
         "showlegend": true,
         "type": "scatter",
         "x": [
          0.0361
         ],
         "xaxis": "x",
         "y": [
          0.0468
         ],
         "yaxis": "y"
        },
        {
         "hovertemplate": "Name=Vi<br>Pick %=%{x}<br>Ban %=%{y}<extra></extra>",
         "legendgroup": "Vi",
         "marker": {
          "color": "#FFA15A",
          "symbol": "circle"
         },
         "mode": "markers",
         "name": "Vi",
         "orientation": "v",
         "showlegend": true,
         "type": "scatter",
         "x": [
          0.0467
         ],
         "xaxis": "x",
         "y": [
          0.0122
         ],
         "yaxis": "y"
        },
        {
         "hovertemplate": "Name=Viego<br>Pick %=%{x}<br>Ban %=%{y}<extra></extra>",
         "legendgroup": "Viego",
         "marker": {
          "color": "#19d3f3",
          "symbol": "circle"
         },
         "mode": "markers",
         "name": "Viego",
         "orientation": "v",
         "showlegend": true,
         "type": "scatter",
         "x": [
          0.0755
         ],
         "xaxis": "x",
         "y": [
          0.0205
         ],
         "yaxis": "y"
        },
        {
         "hovertemplate": "Name=Viktor<br>Pick %=%{x}<br>Ban %=%{y}<extra></extra>",
         "legendgroup": "Viktor",
         "marker": {
          "color": "#FF6692",
          "symbol": "circle"
         },
         "mode": "markers",
         "name": "Viktor",
         "orientation": "v",
         "showlegend": true,
         "type": "scatter",
         "x": [
          0.0346
         ],
         "xaxis": "x",
         "y": [
          0.0214
         ],
         "yaxis": "y"
        },
        {
         "hovertemplate": "Name=Vladimir<br>Pick %=%{x}<br>Ban %=%{y}<extra></extra>",
         "legendgroup": "Vladimir",
         "marker": {
          "color": "#B6E880",
          "symbol": "circle"
         },
         "mode": "markers",
         "name": "Vladimir",
         "orientation": "v",
         "showlegend": true,
         "type": "scatter",
         "x": [
          0.0291,
          0.0069
         ],
         "xaxis": "x",
         "y": [
          0.0426,
          0.042
         ],
         "yaxis": "y"
        },
        {
         "hovertemplate": "Name=Volibear<br>Pick %=%{x}<br>Ban %=%{y}<extra></extra>",
         "legendgroup": "Volibear",
         "marker": {
          "color": "#FF97FF",
          "symbol": "circle"
         },
         "mode": "markers",
         "name": "Volibear",
         "orientation": "v",
         "showlegend": true,
         "type": "scatter",
         "x": [
          0.0298,
          0.0088
         ],
         "xaxis": "x",
         "y": [
          0.0121,
          0.0126
         ],
         "yaxis": "y"
        },
        {
         "hovertemplate": "Name=Warwick<br>Pick %=%{x}<br>Ban %=%{y}<extra></extra>",
         "legendgroup": "Warwick",
         "marker": {
          "color": "#FECB52",
          "symbol": "circle"
         },
         "mode": "markers",
         "name": "Warwick",
         "orientation": "v",
         "showlegend": true,
         "type": "scatter",
         "x": [
          0.0377,
          0.0103
         ],
         "xaxis": "x",
         "y": [
          0.0355,
          0.0314
         ],
         "yaxis": "y"
        },
        {
         "hovertemplate": "Name=Wukong<br>Pick %=%{x}<br>Ban %=%{y}<extra></extra>",
         "legendgroup": "Wukong",
         "marker": {
          "color": "#636efa",
          "symbol": "circle"
         },
         "mode": "markers",
         "name": "Wukong",
         "orientation": "v",
         "showlegend": true,
         "type": "scatter",
         "x": [
          0.0198,
          0.0054
         ],
         "xaxis": "x",
         "y": [
          0.0054,
          0.0054
         ],
         "yaxis": "y"
        },
        {
         "hovertemplate": "Name=Xayah<br>Pick %=%{x}<br>Ban %=%{y}<extra></extra>",
         "legendgroup": "Xayah",
         "marker": {
          "color": "#EF553B",
          "symbol": "circle"
         },
         "mode": "markers",
         "name": "Xayah",
         "orientation": "v",
         "showlegend": true,
         "type": "scatter",
         "x": [
          0.13
         ],
         "xaxis": "x",
         "y": [
          0.0647
         ],
         "yaxis": "y"
        },
        {
         "hovertemplate": "Name=Xerath<br>Pick %=%{x}<br>Ban %=%{y}<extra></extra>",
         "legendgroup": "Xerath",
         "marker": {
          "color": "#00cc96",
          "symbol": "circle"
         },
         "mode": "markers",
         "name": "Xerath",
         "orientation": "v",
         "showlegend": true,
         "type": "scatter",
         "x": [
          0.0561,
          0.0292
         ],
         "xaxis": "x",
         "y": [
          0.1561,
          0.1467
         ],
         "yaxis": "y"
        },
        {
         "hovertemplate": "Name=Xin Zhao<br>Pick %=%{x}<br>Ban %=%{y}<extra></extra>",
         "legendgroup": "Xin Zhao",
         "marker": {
          "color": "#ab63fa",
          "symbol": "circle"
         },
         "mode": "markers",
         "name": "Xin Zhao",
         "orientation": "v",
         "showlegend": true,
         "type": "scatter",
         "x": [
          0.0208
         ],
         "xaxis": "x",
         "y": [
          0.0027
         ],
         "yaxis": "y"
        },
        {
         "hovertemplate": "Name=Yasuo<br>Pick %=%{x}<br>Ban %=%{y}<extra></extra>",
         "legendgroup": "Yasuo",
         "marker": {
          "color": "#FFA15A",
          "symbol": "circle"
         },
         "mode": "markers",
         "name": "Yasuo",
         "orientation": "v",
         "showlegend": true,
         "type": "scatter",
         "x": [
          0.1114,
          0.0299,
          0.0236
         ],
         "xaxis": "x",
         "y": [
          0.2177,
          0.2221,
          0.2177
         ],
         "yaxis": "y"
        },
        {
         "hovertemplate": "Name=Yone<br>Pick %=%{x}<br>Ban %=%{y}<extra></extra>",
         "legendgroup": "Yone",
         "marker": {
          "color": "#19d3f3",
          "symbol": "circle"
         },
         "mode": "markers",
         "name": "Yone",
         "orientation": "v",
         "showlegend": true,
         "type": "scatter",
         "x": [
          0.0991,
          0.0869
         ],
         "xaxis": "x",
         "y": [
          0.1873,
          0.1873
         ],
         "yaxis": "y"
        },
        {
         "hovertemplate": "Name=Yorick<br>Pick %=%{x}<br>Ban %=%{y}<extra></extra>",
         "legendgroup": "Yorick",
         "marker": {
          "color": "#FF6692",
          "symbol": "circle"
         },
         "mode": "markers",
         "name": "Yorick",
         "orientation": "v",
         "showlegend": true,
         "type": "scatter",
         "x": [
          0.0242
         ],
         "xaxis": "x",
         "y": [
          0.0401
         ],
         "yaxis": "y"
        },
        {
         "hovertemplate": "Name=Yuumi<br>Pick %=%{x}<br>Ban %=%{y}<extra></extra>",
         "legendgroup": "Yuumi",
         "marker": {
          "color": "#B6E880",
          "symbol": "circle"
         },
         "mode": "markers",
         "name": "Yuumi",
         "orientation": "v",
         "showlegend": true,
         "type": "scatter",
         "x": [
          0.0652
         ],
         "xaxis": "x",
         "y": [
          0.0778
         ],
         "yaxis": "y"
        },
        {
         "hovertemplate": "Name=Zac<br>Pick %=%{x}<br>Ban %=%{y}<extra></extra>",
         "legendgroup": "Zac",
         "marker": {
          "color": "#FF97FF",
          "symbol": "circle"
         },
         "mode": "markers",
         "name": "Zac",
         "orientation": "v",
         "showlegend": true,
         "type": "scatter",
         "x": [
          0.0366
         ],
         "xaxis": "x",
         "y": [
          0.0275
         ],
         "yaxis": "y"
        },
        {
         "hovertemplate": "Name=Zed<br>Pick %=%{x}<br>Ban %=%{y}<extra></extra>",
         "legendgroup": "Zed",
         "marker": {
          "color": "#FECB52",
          "symbol": "circle"
         },
         "mode": "markers",
         "name": "Zed",
         "orientation": "v",
         "showlegend": true,
         "type": "scatter",
         "x": [
          0.0927
         ],
         "xaxis": "x",
         "y": [
          0.3189
         ],
         "yaxis": "y"
        },
        {
         "hovertemplate": "Name=Zeri<br>Pick %=%{x}<br>Ban %=%{y}<extra></extra>",
         "legendgroup": "Zeri",
         "marker": {
          "color": "#636efa",
          "symbol": "circle"
         },
         "mode": "markers",
         "name": "Zeri",
         "orientation": "v",
         "showlegend": true,
         "type": "scatter",
         "x": [
          0.0334
         ],
         "xaxis": "x",
         "y": [
          0.0093
         ],
         "yaxis": "y"
        },
        {
         "hovertemplate": "Name=Ziggs<br>Pick %=%{x}<br>Ban %=%{y}<extra></extra>",
         "legendgroup": "Ziggs",
         "marker": {
          "color": "#EF553B",
          "symbol": "circle"
         },
         "mode": "markers",
         "name": "Ziggs",
         "orientation": "v",
         "showlegend": true,
         "type": "scatter",
         "x": [
          0.0248,
          0.048
         ],
         "xaxis": "x",
         "y": [
          0.0675,
          0.0716
         ],
         "yaxis": "y"
        },
        {
         "hovertemplate": "Name=Zilean<br>Pick %=%{x}<br>Ban %=%{y}<extra></extra>",
         "legendgroup": "Zilean",
         "marker": {
          "color": "#00cc96",
          "symbol": "circle"
         },
         "mode": "markers",
         "name": "Zilean",
         "orientation": "v",
         "showlegend": true,
         "type": "scatter",
         "x": [
          0.0023,
          0.0175
         ],
         "xaxis": "x",
         "y": [
          0.006,
          0.0059
         ],
         "yaxis": "y"
        },
        {
         "hovertemplate": "Name=Zoe<br>Pick %=%{x}<br>Ban %=%{y}<extra></extra>",
         "legendgroup": "Zoe",
         "marker": {
          "color": "#ab63fa",
          "symbol": "circle"
         },
         "mode": "markers",
         "name": "Zoe",
         "orientation": "v",
         "showlegend": true,
         "type": "scatter",
         "x": [
          0.0247,
          0.0039
         ],
         "xaxis": "x",
         "y": [
          0.0202,
          0.0185
         ],
         "yaxis": "y"
        },
        {
         "hovertemplate": "Name=Zyra<br>Pick %=%{x}<br>Ban %=%{y}<extra></extra>",
         "legendgroup": "Zyra",
         "marker": {
          "color": "#FFA15A",
          "symbol": "circle"
         },
         "mode": "markers",
         "name": "Zyra",
         "orientation": "v",
         "showlegend": true,
         "type": "scatter",
         "x": [
          0.0445
         ],
         "xaxis": "x",
         "y": [
          0.0524
         ],
         "yaxis": "y"
        }
       ],
       "layout": {
        "legend": {
         "title": {
          "text": "Name"
         },
         "tracegroupgap": 0
        },
        "template": {
         "data": {
          "bar": [
           {
            "error_x": {
             "color": "#2a3f5f"
            },
            "error_y": {
             "color": "#2a3f5f"
            },
            "marker": {
             "line": {
              "color": "#E5ECF6",
              "width": 0.5
             },
             "pattern": {
              "fillmode": "overlay",
              "size": 10,
              "solidity": 0.2
             }
            },
            "type": "bar"
           }
          ],
          "barpolar": [
           {
            "marker": {
             "line": {
              "color": "#E5ECF6",
              "width": 0.5
             },
             "pattern": {
              "fillmode": "overlay",
              "size": 10,
              "solidity": 0.2
             }
            },
            "type": "barpolar"
           }
          ],
          "carpet": [
           {
            "aaxis": {
             "endlinecolor": "#2a3f5f",
             "gridcolor": "white",
             "linecolor": "white",
             "minorgridcolor": "white",
             "startlinecolor": "#2a3f5f"
            },
            "baxis": {
             "endlinecolor": "#2a3f5f",
             "gridcolor": "white",
             "linecolor": "white",
             "minorgridcolor": "white",
             "startlinecolor": "#2a3f5f"
            },
            "type": "carpet"
           }
          ],
          "choropleth": [
           {
            "colorbar": {
             "outlinewidth": 0,
             "ticks": ""
            },
            "type": "choropleth"
           }
          ],
          "contour": [
           {
            "colorbar": {
             "outlinewidth": 0,
             "ticks": ""
            },
            "colorscale": [
             [
              0,
              "#0d0887"
             ],
             [
              0.1111111111111111,
              "#46039f"
             ],
             [
              0.2222222222222222,
              "#7201a8"
             ],
             [
              0.3333333333333333,
              "#9c179e"
             ],
             [
              0.4444444444444444,
              "#bd3786"
             ],
             [
              0.5555555555555556,
              "#d8576b"
             ],
             [
              0.6666666666666666,
              "#ed7953"
             ],
             [
              0.7777777777777778,
              "#fb9f3a"
             ],
             [
              0.8888888888888888,
              "#fdca26"
             ],
             [
              1,
              "#f0f921"
             ]
            ],
            "type": "contour"
           }
          ],
          "contourcarpet": [
           {
            "colorbar": {
             "outlinewidth": 0,
             "ticks": ""
            },
            "type": "contourcarpet"
           }
          ],
          "heatmap": [
           {
            "colorbar": {
             "outlinewidth": 0,
             "ticks": ""
            },
            "colorscale": [
             [
              0,
              "#0d0887"
             ],
             [
              0.1111111111111111,
              "#46039f"
             ],
             [
              0.2222222222222222,
              "#7201a8"
             ],
             [
              0.3333333333333333,
              "#9c179e"
             ],
             [
              0.4444444444444444,
              "#bd3786"
             ],
             [
              0.5555555555555556,
              "#d8576b"
             ],
             [
              0.6666666666666666,
              "#ed7953"
             ],
             [
              0.7777777777777778,
              "#fb9f3a"
             ],
             [
              0.8888888888888888,
              "#fdca26"
             ],
             [
              1,
              "#f0f921"
             ]
            ],
            "type": "heatmap"
           }
          ],
          "heatmapgl": [
           {
            "colorbar": {
             "outlinewidth": 0,
             "ticks": ""
            },
            "colorscale": [
             [
              0,
              "#0d0887"
             ],
             [
              0.1111111111111111,
              "#46039f"
             ],
             [
              0.2222222222222222,
              "#7201a8"
             ],
             [
              0.3333333333333333,
              "#9c179e"
             ],
             [
              0.4444444444444444,
              "#bd3786"
             ],
             [
              0.5555555555555556,
              "#d8576b"
             ],
             [
              0.6666666666666666,
              "#ed7953"
             ],
             [
              0.7777777777777778,
              "#fb9f3a"
             ],
             [
              0.8888888888888888,
              "#fdca26"
             ],
             [
              1,
              "#f0f921"
             ]
            ],
            "type": "heatmapgl"
           }
          ],
          "histogram": [
           {
            "marker": {
             "pattern": {
              "fillmode": "overlay",
              "size": 10,
              "solidity": 0.2
             }
            },
            "type": "histogram"
           }
          ],
          "histogram2d": [
           {
            "colorbar": {
             "outlinewidth": 0,
             "ticks": ""
            },
            "colorscale": [
             [
              0,
              "#0d0887"
             ],
             [
              0.1111111111111111,
              "#46039f"
             ],
             [
              0.2222222222222222,
              "#7201a8"
             ],
             [
              0.3333333333333333,
              "#9c179e"
             ],
             [
              0.4444444444444444,
              "#bd3786"
             ],
             [
              0.5555555555555556,
              "#d8576b"
             ],
             [
              0.6666666666666666,
              "#ed7953"
             ],
             [
              0.7777777777777778,
              "#fb9f3a"
             ],
             [
              0.8888888888888888,
              "#fdca26"
             ],
             [
              1,
              "#f0f921"
             ]
            ],
            "type": "histogram2d"
           }
          ],
          "histogram2dcontour": [
           {
            "colorbar": {
             "outlinewidth": 0,
             "ticks": ""
            },
            "colorscale": [
             [
              0,
              "#0d0887"
             ],
             [
              0.1111111111111111,
              "#46039f"
             ],
             [
              0.2222222222222222,
              "#7201a8"
             ],
             [
              0.3333333333333333,
              "#9c179e"
             ],
             [
              0.4444444444444444,
              "#bd3786"
             ],
             [
              0.5555555555555556,
              "#d8576b"
             ],
             [
              0.6666666666666666,
              "#ed7953"
             ],
             [
              0.7777777777777778,
              "#fb9f3a"
             ],
             [
              0.8888888888888888,
              "#fdca26"
             ],
             [
              1,
              "#f0f921"
             ]
            ],
            "type": "histogram2dcontour"
           }
          ],
          "mesh3d": [
           {
            "colorbar": {
             "outlinewidth": 0,
             "ticks": ""
            },
            "type": "mesh3d"
           }
          ],
          "parcoords": [
           {
            "line": {
             "colorbar": {
              "outlinewidth": 0,
              "ticks": ""
             }
            },
            "type": "parcoords"
           }
          ],
          "pie": [
           {
            "automargin": true,
            "type": "pie"
           }
          ],
          "scatter": [
           {
            "fillpattern": {
             "fillmode": "overlay",
             "size": 10,
             "solidity": 0.2
            },
            "type": "scatter"
           }
          ],
          "scatter3d": [
           {
            "line": {
             "colorbar": {
              "outlinewidth": 0,
              "ticks": ""
             }
            },
            "marker": {
             "colorbar": {
              "outlinewidth": 0,
              "ticks": ""
             }
            },
            "type": "scatter3d"
           }
          ],
          "scattercarpet": [
           {
            "marker": {
             "colorbar": {
              "outlinewidth": 0,
              "ticks": ""
             }
            },
            "type": "scattercarpet"
           }
          ],
          "scattergeo": [
           {
            "marker": {
             "colorbar": {
              "outlinewidth": 0,
              "ticks": ""
             }
            },
            "type": "scattergeo"
           }
          ],
          "scattergl": [
           {
            "marker": {
             "colorbar": {
              "outlinewidth": 0,
              "ticks": ""
             }
            },
            "type": "scattergl"
           }
          ],
          "scattermapbox": [
           {
            "marker": {
             "colorbar": {
              "outlinewidth": 0,
              "ticks": ""
             }
            },
            "type": "scattermapbox"
           }
          ],
          "scatterpolar": [
           {
            "marker": {
             "colorbar": {
              "outlinewidth": 0,
              "ticks": ""
             }
            },
            "type": "scatterpolar"
           }
          ],
          "scatterpolargl": [
           {
            "marker": {
             "colorbar": {
              "outlinewidth": 0,
              "ticks": ""
             }
            },
            "type": "scatterpolargl"
           }
          ],
          "scatterternary": [
           {
            "marker": {
             "colorbar": {
              "outlinewidth": 0,
              "ticks": ""
             }
            },
            "type": "scatterternary"
           }
          ],
          "surface": [
           {
            "colorbar": {
             "outlinewidth": 0,
             "ticks": ""
            },
            "colorscale": [
             [
              0,
              "#0d0887"
             ],
             [
              0.1111111111111111,
              "#46039f"
             ],
             [
              0.2222222222222222,
              "#7201a8"
             ],
             [
              0.3333333333333333,
              "#9c179e"
             ],
             [
              0.4444444444444444,
              "#bd3786"
             ],
             [
              0.5555555555555556,
              "#d8576b"
             ],
             [
              0.6666666666666666,
              "#ed7953"
             ],
             [
              0.7777777777777778,
              "#fb9f3a"
             ],
             [
              0.8888888888888888,
              "#fdca26"
             ],
             [
              1,
              "#f0f921"
             ]
            ],
            "type": "surface"
           }
          ],
          "table": [
           {
            "cells": {
             "fill": {
              "color": "#EBF0F8"
             },
             "line": {
              "color": "white"
             }
            },
            "header": {
             "fill": {
              "color": "#C8D4E3"
             },
             "line": {
              "color": "white"
             }
            },
            "type": "table"
           }
          ]
         },
         "layout": {
          "annotationdefaults": {
           "arrowcolor": "#2a3f5f",
           "arrowhead": 0,
           "arrowwidth": 1
          },
          "autotypenumbers": "strict",
          "coloraxis": {
           "colorbar": {
            "outlinewidth": 0,
            "ticks": ""
           }
          },
          "colorscale": {
           "diverging": [
            [
             0,
             "#8e0152"
            ],
            [
             0.1,
             "#c51b7d"
            ],
            [
             0.2,
             "#de77ae"
            ],
            [
             0.3,
             "#f1b6da"
            ],
            [
             0.4,
             "#fde0ef"
            ],
            [
             0.5,
             "#f7f7f7"
            ],
            [
             0.6,
             "#e6f5d0"
            ],
            [
             0.7,
             "#b8e186"
            ],
            [
             0.8,
             "#7fbc41"
            ],
            [
             0.9,
             "#4d9221"
            ],
            [
             1,
             "#276419"
            ]
           ],
           "sequential": [
            [
             0,
             "#0d0887"
            ],
            [
             0.1111111111111111,
             "#46039f"
            ],
            [
             0.2222222222222222,
             "#7201a8"
            ],
            [
             0.3333333333333333,
             "#9c179e"
            ],
            [
             0.4444444444444444,
             "#bd3786"
            ],
            [
             0.5555555555555556,
             "#d8576b"
            ],
            [
             0.6666666666666666,
             "#ed7953"
            ],
            [
             0.7777777777777778,
             "#fb9f3a"
            ],
            [
             0.8888888888888888,
             "#fdca26"
            ],
            [
             1,
             "#f0f921"
            ]
           ],
           "sequentialminus": [
            [
             0,
             "#0d0887"
            ],
            [
             0.1111111111111111,
             "#46039f"
            ],
            [
             0.2222222222222222,
             "#7201a8"
            ],
            [
             0.3333333333333333,
             "#9c179e"
            ],
            [
             0.4444444444444444,
             "#bd3786"
            ],
            [
             0.5555555555555556,
             "#d8576b"
            ],
            [
             0.6666666666666666,
             "#ed7953"
            ],
            [
             0.7777777777777778,
             "#fb9f3a"
            ],
            [
             0.8888888888888888,
             "#fdca26"
            ],
            [
             1,
             "#f0f921"
            ]
           ]
          },
          "colorway": [
           "#636efa",
           "#EF553B",
           "#00cc96",
           "#ab63fa",
           "#FFA15A",
           "#19d3f3",
           "#FF6692",
           "#B6E880",
           "#FF97FF",
           "#FECB52"
          ],
          "font": {
           "color": "#2a3f5f"
          },
          "geo": {
           "bgcolor": "white",
           "lakecolor": "white",
           "landcolor": "#E5ECF6",
           "showlakes": true,
           "showland": true,
           "subunitcolor": "white"
          },
          "hoverlabel": {
           "align": "left"
          },
          "hovermode": "closest",
          "mapbox": {
           "style": "light"
          },
          "paper_bgcolor": "white",
          "plot_bgcolor": "#E5ECF6",
          "polar": {
           "angularaxis": {
            "gridcolor": "white",
            "linecolor": "white",
            "ticks": ""
           },
           "bgcolor": "#E5ECF6",
           "radialaxis": {
            "gridcolor": "white",
            "linecolor": "white",
            "ticks": ""
           }
          },
          "scene": {
           "xaxis": {
            "backgroundcolor": "#E5ECF6",
            "gridcolor": "white",
            "gridwidth": 2,
            "linecolor": "white",
            "showbackground": true,
            "ticks": "",
            "zerolinecolor": "white"
           },
           "yaxis": {
            "backgroundcolor": "#E5ECF6",
            "gridcolor": "white",
            "gridwidth": 2,
            "linecolor": "white",
            "showbackground": true,
            "ticks": "",
            "zerolinecolor": "white"
           },
           "zaxis": {
            "backgroundcolor": "#E5ECF6",
            "gridcolor": "white",
            "gridwidth": 2,
            "linecolor": "white",
            "showbackground": true,
            "ticks": "",
            "zerolinecolor": "white"
           }
          },
          "shapedefaults": {
           "line": {
            "color": "#2a3f5f"
           }
          },
          "ternary": {
           "aaxis": {
            "gridcolor": "white",
            "linecolor": "white",
            "ticks": ""
           },
           "baxis": {
            "gridcolor": "white",
            "linecolor": "white",
            "ticks": ""
           },
           "bgcolor": "#E5ECF6",
           "caxis": {
            "gridcolor": "white",
            "linecolor": "white",
            "ticks": ""
           }
          },
          "title": {
           "x": 0.05
          },
          "xaxis": {
           "automargin": true,
           "gridcolor": "white",
           "linecolor": "white",
           "ticks": "",
           "title": {
            "standoff": 15
           },
           "zerolinecolor": "white",
           "zerolinewidth": 2
          },
          "yaxis": {
           "automargin": true,
           "gridcolor": "white",
           "linecolor": "white",
           "ticks": "",
           "title": {
            "standoff": 15
           },
           "zerolinecolor": "white",
           "zerolinewidth": 2
          }
         }
        },
        "title": {
         "text": "Champions Pick rate vs Ban rate"
        },
        "xaxis": {
         "anchor": "y",
         "domain": [
          0,
          1
         ],
         "title": {
          "text": "Pick %"
         }
        },
        "yaxis": {
         "anchor": "x",
         "domain": [
          0,
          1
         ],
         "title": {
          "text": "Ban %"
         }
        }
       }
      }
     },
     "metadata": {},
     "output_type": "display_data"
    }
   ],
   "source": [
    "# Plotting the pickrate compare to the banrate of League of Legends champions in season 13.21\n",
    "px.scatter(df, 'Pick %' , 'Ban %' ,'Name',title='Champions Pick rate vs Ban rate')"
   ]
  },
  {
   "cell_type": "markdown",
   "metadata": {},
   "source": [
    "![Champions Pick rate vs Ban rate](Cprvsbr.png)"
   ]
  },
  {
   "cell_type": "code",
   "execution_count": 90,
   "metadata": {},
   "outputs": [
    {
     "data": {
      "text/html": [
       "<div>\n",
       "<style scoped>\n",
       "    .dataframe tbody tr th:only-of-type {\n",
       "        vertical-align: middle;\n",
       "    }\n",
       "\n",
       "    .dataframe tbody tr th {\n",
       "        vertical-align: top;\n",
       "    }\n",
       "\n",
       "    .dataframe thead th {\n",
       "        text-align: right;\n",
       "    }\n",
       "</style>\n",
       "<table border=\"1\" class=\"dataframe\">\n",
       "  <thead>\n",
       "    <tr style=\"text-align: right;\">\n",
       "      <th></th>\n",
       "      <th>Role</th>\n",
       "      <th>Win %</th>\n",
       "      <th>Name</th>\n",
       "      <th>0</th>\n",
       "    </tr>\n",
       "  </thead>\n",
       "  <tbody>\n",
       "    <tr>\n",
       "      <th>0</th>\n",
       "      <td>ADC</td>\n",
       "      <td>0.4603</td>\n",
       "      <td>Zeri</td>\n",
       "      <td>1</td>\n",
       "    </tr>\n",
       "    <tr>\n",
       "      <th>1</th>\n",
       "      <td>ADC</td>\n",
       "      <td>0.4628</td>\n",
       "      <td>Aphelios</td>\n",
       "      <td>1</td>\n",
       "    </tr>\n",
       "    <tr>\n",
       "      <th>2</th>\n",
       "      <td>ADC</td>\n",
       "      <td>0.4790</td>\n",
       "      <td>Yasuo</td>\n",
       "      <td>1</td>\n",
       "    </tr>\n",
       "    <tr>\n",
       "      <th>3</th>\n",
       "      <td>ADC</td>\n",
       "      <td>0.4856</td>\n",
       "      <td>Tristana</td>\n",
       "      <td>1</td>\n",
       "    </tr>\n",
       "    <tr>\n",
       "      <th>4</th>\n",
       "      <td>ADC</td>\n",
       "      <td>0.4916</td>\n",
       "      <td>Kai'Sa</td>\n",
       "      <td>1</td>\n",
       "    </tr>\n",
       "    <tr>\n",
       "      <th>...</th>\n",
       "      <td>...</td>\n",
       "      <td>...</td>\n",
       "      <td>...</td>\n",
       "      <td>...</td>\n",
       "    </tr>\n",
       "    <tr>\n",
       "      <th>237</th>\n",
       "      <td>TOP</td>\n",
       "      <td>0.5317</td>\n",
       "      <td>Kayle</td>\n",
       "      <td>1</td>\n",
       "    </tr>\n",
       "    <tr>\n",
       "      <th>238</th>\n",
       "      <td>TOP</td>\n",
       "      <td>0.5337</td>\n",
       "      <td>Ornn</td>\n",
       "      <td>1</td>\n",
       "    </tr>\n",
       "    <tr>\n",
       "      <th>239</th>\n",
       "      <td>TOP</td>\n",
       "      <td>0.5359</td>\n",
       "      <td>Olaf</td>\n",
       "      <td>1</td>\n",
       "    </tr>\n",
       "    <tr>\n",
       "      <th>240</th>\n",
       "      <td>TOP</td>\n",
       "      <td>0.5389</td>\n",
       "      <td>Yorick</td>\n",
       "      <td>1</td>\n",
       "    </tr>\n",
       "    <tr>\n",
       "      <th>241</th>\n",
       "      <td>TOP</td>\n",
       "      <td>0.5433</td>\n",
       "      <td>Singed</td>\n",
       "      <td>1</td>\n",
       "    </tr>\n",
       "  </tbody>\n",
       "</table>\n",
       "<p>242 rows × 4 columns</p>\n",
       "</div>"
      ],
      "text/plain": [
       "    Role   Win %      Name  0\n",
       "0    ADC  0.4603      Zeri  1\n",
       "1    ADC  0.4628  Aphelios  1\n",
       "2    ADC  0.4790     Yasuo  1\n",
       "3    ADC  0.4856  Tristana  1\n",
       "4    ADC  0.4916    Kai'Sa  1\n",
       "..   ...     ...       ... ..\n",
       "237  TOP  0.5317     Kayle  1\n",
       "238  TOP  0.5337      Ornn  1\n",
       "239  TOP  0.5359      Olaf  1\n",
       "240  TOP  0.5389    Yorick  1\n",
       "241  TOP  0.5433    Singed  1\n",
       "\n",
       "[242 rows x 4 columns]"
      ]
     },
     "execution_count": 90,
     "metadata": {},
     "output_type": "execute_result"
    }
   ],
   "source": [
    "# Grouping League of Legends champions to specific role\n",
    "df.groupby(['Role', 'Win %', 'Name']).size().reset_index()"
   ]
  },
  {
   "cell_type": "code",
   "execution_count": 91,
   "metadata": {},
   "outputs": [
    {
     "data": {
      "application/vnd.plotly.v1+json": {
       "config": {
        "plotlyServerURL": "https://plot.ly"
       },
       "data": [
        {
         "alignmentgroup": "True",
         "hovertemplate": "Name=Zeri<br>Role=%{x}<br>Win %=%{y}<extra></extra>",
         "legendgroup": "Zeri",
         "marker": {
          "color": "#636efa",
          "pattern": {
           "shape": ""
          }
         },
         "name": "Zeri",
         "offsetgroup": "Zeri",
         "orientation": "v",
         "showlegend": true,
         "textposition": "auto",
         "type": "bar",
         "x": [
          "ADC"
         ],
         "xaxis": "x",
         "y": [
          0.4603
         ],
         "yaxis": "y"
        },
        {
         "alignmentgroup": "True",
         "hovertemplate": "Name=Aphelios<br>Role=%{x}<br>Win %=%{y}<extra></extra>",
         "legendgroup": "Aphelios",
         "marker": {
          "color": "#EF553B",
          "pattern": {
           "shape": ""
          }
         },
         "name": "Aphelios",
         "offsetgroup": "Aphelios",
         "orientation": "v",
         "showlegend": true,
         "textposition": "auto",
         "type": "bar",
         "x": [
          "ADC"
         ],
         "xaxis": "x",
         "y": [
          0.4628
         ],
         "yaxis": "y"
        },
        {
         "alignmentgroup": "True",
         "hovertemplate": "Name=Yasuo<br>Role=%{x}<br>Win %=%{y}<extra></extra>",
         "legendgroup": "Yasuo",
         "marker": {
          "color": "#00cc96",
          "pattern": {
           "shape": ""
          }
         },
         "name": "Yasuo",
         "offsetgroup": "Yasuo",
         "orientation": "v",
         "showlegend": true,
         "textposition": "auto",
         "type": "bar",
         "x": [
          "ADC",
          "MID",
          "TOP"
         ],
         "xaxis": "x",
         "y": [
          0.479,
          0.4869,
          0.4531
         ],
         "yaxis": "y"
        },
        {
         "alignmentgroup": "True",
         "hovertemplate": "Name=Tristana<br>Role=%{x}<br>Win %=%{y}<extra></extra>",
         "legendgroup": "Tristana",
         "marker": {
          "color": "#ab63fa",
          "pattern": {
           "shape": ""
          }
         },
         "name": "Tristana",
         "offsetgroup": "Tristana",
         "orientation": "v",
         "showlegend": true,
         "textposition": "auto",
         "type": "bar",
         "x": [
          "ADC",
          "MID"
         ],
         "xaxis": "x",
         "y": [
          0.4856,
          0.5003
         ],
         "yaxis": "y"
        },
        {
         "alignmentgroup": "True",
         "hovertemplate": "Name=Kai'Sa<br>Role=%{x}<br>Win %=%{y}<extra></extra>",
         "legendgroup": "Kai'Sa",
         "marker": {
          "color": "#FFA15A",
          "pattern": {
           "shape": ""
          }
         },
         "name": "Kai'Sa",
         "offsetgroup": "Kai'Sa",
         "orientation": "v",
         "showlegend": true,
         "textposition": "auto",
         "type": "bar",
         "x": [
          "ADC"
         ],
         "xaxis": "x",
         "y": [
          0.4916
         ],
         "yaxis": "y"
        },
        {
         "alignmentgroup": "True",
         "hovertemplate": "Name=Ezreal<br>Role=%{x}<br>Win %=%{y}<extra></extra>",
         "legendgroup": "Ezreal",
         "marker": {
          "color": "#19d3f3",
          "pattern": {
           "shape": ""
          }
         },
         "name": "Ezreal",
         "offsetgroup": "Ezreal",
         "orientation": "v",
         "showlegend": true,
         "textposition": "auto",
         "type": "bar",
         "x": [
          "ADC"
         ],
         "xaxis": "x",
         "y": [
          0.4919
         ],
         "yaxis": "y"
        },
        {
         "alignmentgroup": "True",
         "hovertemplate": "Name=Varus<br>Role=%{x}<br>Win %=%{y}<extra></extra>",
         "legendgroup": "Varus",
         "marker": {
          "color": "#FF6692",
          "pattern": {
           "shape": ""
          }
         },
         "name": "Varus",
         "offsetgroup": "Varus",
         "orientation": "v",
         "showlegend": true,
         "textposition": "auto",
         "type": "bar",
         "x": [
          "ADC"
         ],
         "xaxis": "x",
         "y": [
          0.4922
         ],
         "yaxis": "y"
        },
        {
         "alignmentgroup": "True",
         "hovertemplate": "Name=Sivir<br>Role=%{x}<br>Win %=%{y}<extra></extra>",
         "legendgroup": "Sivir",
         "marker": {
          "color": "#B6E880",
          "pattern": {
           "shape": ""
          }
         },
         "name": "Sivir",
         "offsetgroup": "Sivir",
         "orientation": "v",
         "showlegend": true,
         "textposition": "auto",
         "type": "bar",
         "x": [
          "ADC"
         ],
         "xaxis": "x",
         "y": [
          0.4927
         ],
         "yaxis": "y"
        },
        {
         "alignmentgroup": "True",
         "hovertemplate": "Name=Xayah<br>Role=%{x}<br>Win %=%{y}<extra></extra>",
         "legendgroup": "Xayah",
         "marker": {
          "color": "#FF97FF",
          "pattern": {
           "shape": ""
          }
         },
         "name": "Xayah",
         "offsetgroup": "Xayah",
         "orientation": "v",
         "showlegend": true,
         "textposition": "auto",
         "type": "bar",
         "x": [
          "ADC"
         ],
         "xaxis": "x",
         "y": [
          0.4958
         ],
         "yaxis": "y"
        },
        {
         "alignmentgroup": "True",
         "hovertemplate": "Name=Kog'Maw<br>Role=%{x}<br>Win %=%{y}<extra></extra>",
         "legendgroup": "Kog'Maw",
         "marker": {
          "color": "#FECB52",
          "pattern": {
           "shape": ""
          }
         },
         "name": "Kog'Maw",
         "offsetgroup": "Kog'Maw",
         "orientation": "v",
         "showlegend": true,
         "textposition": "auto",
         "type": "bar",
         "x": [
          "ADC"
         ],
         "xaxis": "x",
         "y": [
          0.4962
         ],
         "yaxis": "y"
        },
        {
         "alignmentgroup": "True",
         "hovertemplate": "Name=Kalista<br>Role=%{x}<br>Win %=%{y}<extra></extra>",
         "legendgroup": "Kalista",
         "marker": {
          "color": "#636efa",
          "pattern": {
           "shape": ""
          }
         },
         "name": "Kalista",
         "offsetgroup": "Kalista",
         "orientation": "v",
         "showlegend": true,
         "textposition": "auto",
         "type": "bar",
         "x": [
          "ADC"
         ],
         "xaxis": "x",
         "y": [
          0.4974
         ],
         "yaxis": "y"
        },
        {
         "alignmentgroup": "True",
         "hovertemplate": "Name=Draven<br>Role=%{x}<br>Win %=%{y}<extra></extra>",
         "legendgroup": "Draven",
         "marker": {
          "color": "#EF553B",
          "pattern": {
           "shape": ""
          }
         },
         "name": "Draven",
         "offsetgroup": "Draven",
         "orientation": "v",
         "showlegend": true,
         "textposition": "auto",
         "type": "bar",
         "x": [
          "ADC"
         ],
         "xaxis": "x",
         "y": [
          0.4997
         ],
         "yaxis": "y"
        },
        {
         "alignmentgroup": "True",
         "hovertemplate": "Name=Lucian<br>Role=%{x}<br>Win %=%{y}<extra></extra>",
         "legendgroup": "Lucian",
         "marker": {
          "color": "#00cc96",
          "pattern": {
           "shape": ""
          }
         },
         "name": "Lucian",
         "offsetgroup": "Lucian",
         "orientation": "v",
         "showlegend": true,
         "textposition": "auto",
         "type": "bar",
         "x": [
          "ADC"
         ],
         "xaxis": "x",
         "y": [
          0.5045
         ],
         "yaxis": "y"
        },
        {
         "alignmentgroup": "True",
         "hovertemplate": "Name=Samira<br>Role=%{x}<br>Win %=%{y}<extra></extra>",
         "legendgroup": "Samira",
         "marker": {
          "color": "#ab63fa",
          "pattern": {
           "shape": ""
          }
         },
         "name": "Samira",
         "offsetgroup": "Samira",
         "orientation": "v",
         "showlegend": true,
         "textposition": "auto",
         "type": "bar",
         "x": [
          "ADC"
         ],
         "xaxis": "x",
         "y": [
          0.5066
         ],
         "yaxis": "y"
        },
        {
         "alignmentgroup": "True",
         "hovertemplate": "Name=Miss Fortune<br>Role=%{x}<br>Win %=%{y}<extra></extra>",
         "legendgroup": "Miss Fortune",
         "marker": {
          "color": "#FFA15A",
          "pattern": {
           "shape": ""
          }
         },
         "name": "Miss Fortune",
         "offsetgroup": "Miss Fortune",
         "orientation": "v",
         "showlegend": true,
         "textposition": "auto",
         "type": "bar",
         "x": [
          "ADC",
          "SUPPORT"
         ],
         "xaxis": "x",
         "y": [
          0.5099,
          0.4245
         ],
         "yaxis": "y"
        },
        {
         "alignmentgroup": "True",
         "hovertemplate": "Name=Karthus<br>Role=%{x}<br>Win %=%{y}<extra></extra>",
         "legendgroup": "Karthus",
         "marker": {
          "color": "#19d3f3",
          "pattern": {
           "shape": ""
          }
         },
         "name": "Karthus",
         "offsetgroup": "Karthus",
         "orientation": "v",
         "showlegend": true,
         "textposition": "auto",
         "type": "bar",
         "x": [
          "ADC",
          "JUNGLE"
         ],
         "xaxis": "x",
         "y": [
          0.5102,
          0.5043
         ],
         "yaxis": "y"
        },
        {
         "alignmentgroup": "True",
         "hovertemplate": "Name=Caitlyn<br>Role=%{x}<br>Win %=%{y}<extra></extra>",
         "legendgroup": "Caitlyn",
         "marker": {
          "color": "#FF6692",
          "pattern": {
           "shape": ""
          }
         },
         "name": "Caitlyn",
         "offsetgroup": "Caitlyn",
         "orientation": "v",
         "showlegend": true,
         "textposition": "auto",
         "type": "bar",
         "x": [
          "ADC"
         ],
         "xaxis": "x",
         "y": [
          0.5126
         ],
         "yaxis": "y"
        },
        {
         "alignmentgroup": "True",
         "hovertemplate": "Name=Jhin<br>Role=%{x}<br>Win %=%{y}<extra></extra>",
         "legendgroup": "Jhin",
         "marker": {
          "color": "#B6E880",
          "pattern": {
           "shape": ""
          }
         },
         "name": "Jhin",
         "offsetgroup": "Jhin",
         "orientation": "v",
         "showlegend": true,
         "textposition": "auto",
         "type": "bar",
         "x": [
          "ADC"
         ],
         "xaxis": "x",
         "y": [
          0.5173
         ],
         "yaxis": "y"
        },
        {
         "alignmentgroup": "True",
         "hovertemplate": "Name=Jinx<br>Role=%{x}<br>Win %=%{y}<extra></extra>",
         "legendgroup": "Jinx",
         "marker": {
          "color": "#FF97FF",
          "pattern": {
           "shape": ""
          }
         },
         "name": "Jinx",
         "offsetgroup": "Jinx",
         "orientation": "v",
         "showlegend": true,
         "textposition": "auto",
         "type": "bar",
         "x": [
          "ADC"
         ],
         "xaxis": "x",
         "y": [
          0.5182
         ],
         "yaxis": "y"
        },
        {
         "alignmentgroup": "True",
         "hovertemplate": "Name=Ashe<br>Role=%{x}<br>Win %=%{y}<extra></extra>",
         "legendgroup": "Ashe",
         "marker": {
          "color": "#FECB52",
          "pattern": {
           "shape": ""
          }
         },
         "name": "Ashe",
         "offsetgroup": "Ashe",
         "orientation": "v",
         "showlegend": true,
         "textposition": "auto",
         "type": "bar",
         "x": [
          "ADC",
          "SUPPORT"
         ],
         "xaxis": "x",
         "y": [
          0.5213,
          0.4443
         ],
         "yaxis": "y"
        },
        {
         "alignmentgroup": "True",
         "hovertemplate": "Name=Vayne<br>Role=%{x}<br>Win %=%{y}<extra></extra>",
         "legendgroup": "Vayne",
         "marker": {
          "color": "#636efa",
          "pattern": {
           "shape": ""
          }
         },
         "name": "Vayne",
         "offsetgroup": "Vayne",
         "orientation": "v",
         "showlegend": true,
         "textposition": "auto",
         "type": "bar",
         "x": [
          "ADC",
          "TOP"
         ],
         "xaxis": "x",
         "y": [
          0.5267,
          0.5304
         ],
         "yaxis": "y"
        },
        {
         "alignmentgroup": "True",
         "hovertemplate": "Name=Twitch<br>Role=%{x}<br>Win %=%{y}<extra></extra>",
         "legendgroup": "Twitch",
         "marker": {
          "color": "#EF553B",
          "pattern": {
           "shape": ""
          }
         },
         "name": "Twitch",
         "offsetgroup": "Twitch",
         "orientation": "v",
         "showlegend": true,
         "textposition": "auto",
         "type": "bar",
         "x": [
          "ADC",
          "SUPPORT"
         ],
         "xaxis": "x",
         "y": [
          0.527,
          0.5054
         ],
         "yaxis": "y"
        },
        {
         "alignmentgroup": "True",
         "hovertemplate": "Name=Nilah<br>Role=%{x}<br>Win %=%{y}<extra></extra>",
         "legendgroup": "Nilah",
         "marker": {
          "color": "#00cc96",
          "pattern": {
           "shape": ""
          }
         },
         "name": "Nilah",
         "offsetgroup": "Nilah",
         "orientation": "v",
         "showlegend": true,
         "textposition": "auto",
         "type": "bar",
         "x": [
          "ADC"
         ],
         "xaxis": "x",
         "y": [
          0.5367
         ],
         "yaxis": "y"
        },
        {
         "alignmentgroup": "True",
         "hovertemplate": "Name=Swain<br>Role=%{x}<br>Win %=%{y}<extra></extra>",
         "legendgroup": "Swain",
         "marker": {
          "color": "#ab63fa",
          "pattern": {
           "shape": ""
          }
         },
         "name": "Swain",
         "offsetgroup": "Swain",
         "orientation": "v",
         "showlegend": true,
         "textposition": "auto",
         "type": "bar",
         "x": [
          "ADC",
          "MID",
          "SUPPORT"
         ],
         "xaxis": "x",
         "y": [
          0.5373,
          0.5338,
          0.4836
         ],
         "yaxis": "y"
        },
        {
         "alignmentgroup": "True",
         "hovertemplate": "Name=Ziggs<br>Role=%{x}<br>Win %=%{y}<extra></extra>",
         "legendgroup": "Ziggs",
         "marker": {
          "color": "#FFA15A",
          "pattern": {
           "shape": ""
          }
         },
         "name": "Ziggs",
         "offsetgroup": "Ziggs",
         "orientation": "v",
         "showlegend": true,
         "textposition": "auto",
         "type": "bar",
         "x": [
          "ADC",
          "MID"
         ],
         "xaxis": "x",
         "y": [
          0.538,
          0.5473
         ],
         "yaxis": "y"
        },
        {
         "alignmentgroup": "True",
         "hovertemplate": "Name=Seraphine<br>Role=%{x}<br>Win %=%{y}<extra></extra>",
         "legendgroup": "Seraphine",
         "marker": {
          "color": "#19d3f3",
          "pattern": {
           "shape": ""
          }
         },
         "name": "Seraphine",
         "offsetgroup": "Seraphine",
         "orientation": "v",
         "showlegend": true,
         "textposition": "auto",
         "type": "bar",
         "x": [
          "ADC",
          "SUPPORT"
         ],
         "xaxis": "x",
         "y": [
          0.547,
          0.4914
         ],
         "yaxis": "y"
        },
        {
         "alignmentgroup": "True",
         "hovertemplate": "Name=Naafiri<br>Role=%{x}<br>Win %=%{y}<extra></extra>",
         "legendgroup": "Naafiri",
         "marker": {
          "color": "#FF6692",
          "pattern": {
           "shape": ""
          }
         },
         "name": "Naafiri",
         "offsetgroup": "Naafiri",
         "orientation": "v",
         "showlegend": true,
         "textposition": "auto",
         "type": "bar",
         "x": [
          "JUNGLE",
          "MID",
          "TOP"
         ],
         "xaxis": "x",
         "y": [
          0.4253,
          0.5267,
          0.5156
         ],
         "yaxis": "y"
        },
        {
         "alignmentgroup": "True",
         "hovertemplate": "Name=Olaf<br>Role=%{x}<br>Win %=%{y}<extra></extra>",
         "legendgroup": "Olaf",
         "marker": {
          "color": "#B6E880",
          "pattern": {
           "shape": ""
          }
         },
         "name": "Olaf",
         "offsetgroup": "Olaf",
         "orientation": "v",
         "showlegend": true,
         "textposition": "auto",
         "type": "bar",
         "x": [
          "JUNGLE",
          "TOP"
         ],
         "xaxis": "x",
         "y": [
          0.4601,
          0.5359
         ],
         "yaxis": "y"
        },
        {
         "alignmentgroup": "True",
         "hovertemplate": "Name=Nunu<br>Role=%{x}<br>Win %=%{y}<extra></extra>",
         "legendgroup": "Nunu",
         "marker": {
          "color": "#FF97FF",
          "pattern": {
           "shape": ""
          }
         },
         "name": "Nunu",
         "offsetgroup": "Nunu",
         "orientation": "v",
         "showlegend": true,
         "textposition": "auto",
         "type": "bar",
         "x": [
          "JUNGLE"
         ],
         "xaxis": "x",
         "y": [
          0.4741
         ],
         "yaxis": "y"
        },
        {
         "alignmentgroup": "True",
         "hovertemplate": "Name=Nidalee<br>Role=%{x}<br>Win %=%{y}<extra></extra>",
         "legendgroup": "Nidalee",
         "marker": {
          "color": "#FECB52",
          "pattern": {
           "shape": ""
          }
         },
         "name": "Nidalee",
         "offsetgroup": "Nidalee",
         "orientation": "v",
         "showlegend": true,
         "textposition": "auto",
         "type": "bar",
         "x": [
          "JUNGLE"
         ],
         "xaxis": "x",
         "y": [
          0.4764
         ],
         "yaxis": "y"
        },
        {
         "alignmentgroup": "True",
         "hovertemplate": "Name=Warwick<br>Role=%{x}<br>Win %=%{y}<extra></extra>",
         "legendgroup": "Warwick",
         "marker": {
          "color": "#636efa",
          "pattern": {
           "shape": ""
          }
         },
         "name": "Warwick",
         "offsetgroup": "Warwick",
         "orientation": "v",
         "showlegend": true,
         "textposition": "auto",
         "type": "bar",
         "x": [
          "JUNGLE",
          "TOP"
         ],
         "xaxis": "x",
         "y": [
          0.4792,
          0.4693
         ],
         "yaxis": "y"
        },
        {
         "alignmentgroup": "True",
         "hovertemplate": "Name=Jax<br>Role=%{x}<br>Win %=%{y}<extra></extra>",
         "legendgroup": "Jax",
         "marker": {
          "color": "#EF553B",
          "pattern": {
           "shape": ""
          }
         },
         "name": "Jax",
         "offsetgroup": "Jax",
         "orientation": "v",
         "showlegend": true,
         "textposition": "auto",
         "type": "bar",
         "x": [
          "JUNGLE",
          "TOP"
         ],
         "xaxis": "x",
         "y": [
          0.4809,
          0.5078
         ],
         "yaxis": "y"
        },
        {
         "alignmentgroup": "True",
         "hovertemplate": "Name=Xin Zhao<br>Role=%{x}<br>Win %=%{y}<extra></extra>",
         "legendgroup": "Xin Zhao",
         "marker": {
          "color": "#00cc96",
          "pattern": {
           "shape": ""
          }
         },
         "name": "Xin Zhao",
         "offsetgroup": "Xin Zhao",
         "orientation": "v",
         "showlegend": true,
         "textposition": "auto",
         "type": "bar",
         "x": [
          "JUNGLE"
         ],
         "xaxis": "x",
         "y": [
          0.4811
         ],
         "yaxis": "y"
        },
        {
         "alignmentgroup": "True",
         "hovertemplate": "Name=Rell<br>Role=%{x}<br>Win %=%{y}<extra></extra>",
         "legendgroup": "Rell",
         "marker": {
          "color": "#ab63fa",
          "pattern": {
           "shape": ""
          }
         },
         "name": "Rell",
         "offsetgroup": "Rell",
         "orientation": "v",
         "showlegend": true,
         "textposition": "auto",
         "type": "bar",
         "x": [
          "JUNGLE",
          "SUPPORT"
         ],
         "xaxis": "x",
         "y": [
          0.482,
          0.5148
         ],
         "yaxis": "y"
        },
        {
         "alignmentgroup": "True",
         "hovertemplate": "Name=Vi<br>Role=%{x}<br>Win %=%{y}<extra></extra>",
         "legendgroup": "Vi",
         "marker": {
          "color": "#FFA15A",
          "pattern": {
           "shape": ""
          }
         },
         "name": "Vi",
         "offsetgroup": "Vi",
         "orientation": "v",
         "showlegend": true,
         "textposition": "auto",
         "type": "bar",
         "x": [
          "JUNGLE"
         ],
         "xaxis": "x",
         "y": [
          0.4827
         ],
         "yaxis": "y"
        },
        {
         "alignmentgroup": "True",
         "hovertemplate": "Name=Rengar<br>Role=%{x}<br>Win %=%{y}<extra></extra>",
         "legendgroup": "Rengar",
         "marker": {
          "color": "#19d3f3",
          "pattern": {
           "shape": ""
          }
         },
         "name": "Rengar",
         "offsetgroup": "Rengar",
         "orientation": "v",
         "showlegend": true,
         "textposition": "auto",
         "type": "bar",
         "x": [
          "JUNGLE",
          "TOP"
         ],
         "xaxis": "x",
         "y": [
          0.4829,
          0.5135
         ],
         "yaxis": "y"
        },
        {
         "alignmentgroup": "True",
         "hovertemplate": "Name=Sejuani<br>Role=%{x}<br>Win %=%{y}<extra></extra>",
         "legendgroup": "Sejuani",
         "marker": {
          "color": "#FF6692",
          "pattern": {
           "shape": ""
          }
         },
         "name": "Sejuani",
         "offsetgroup": "Sejuani",
         "orientation": "v",
         "showlegend": true,
         "textposition": "auto",
         "type": "bar",
         "x": [
          "JUNGLE"
         ],
         "xaxis": "x",
         "y": [
          0.4872
         ],
         "yaxis": "y"
        },
        {
         "alignmentgroup": "True",
         "hovertemplate": "Name=Gragas<br>Role=%{x}<br>Win %=%{y}<extra></extra>",
         "legendgroup": "Gragas",
         "marker": {
          "color": "#B6E880",
          "pattern": {
           "shape": ""
          }
         },
         "name": "Gragas",
         "offsetgroup": "Gragas",
         "orientation": "v",
         "showlegend": true,
         "textposition": "auto",
         "type": "bar",
         "x": [
          "JUNGLE",
          "MID",
          "TOP"
         ],
         "xaxis": "x",
         "y": [
          0.4884,
          0.5121,
          0.4466
         ],
         "yaxis": "y"
        },
        {
         "alignmentgroup": "True",
         "hovertemplate": "Name=Shaco<br>Role=%{x}<br>Win %=%{y}<extra></extra>",
         "legendgroup": "Shaco",
         "marker": {
          "color": "#FF97FF",
          "pattern": {
           "shape": ""
          }
         },
         "name": "Shaco",
         "offsetgroup": "Shaco",
         "orientation": "v",
         "showlegend": true,
         "textposition": "auto",
         "type": "bar",
         "x": [
          "JUNGLE",
          "SUPPORT"
         ],
         "xaxis": "x",
         "y": [
          0.4887,
          0.4947
         ],
         "yaxis": "y"
        },
        {
         "alignmentgroup": "True",
         "hovertemplate": "Name=Fiddlesticks<br>Role=%{x}<br>Win %=%{y}<extra></extra>",
         "legendgroup": "Fiddlesticks",
         "marker": {
          "color": "#FECB52",
          "pattern": {
           "shape": ""
          }
         },
         "name": "Fiddlesticks",
         "offsetgroup": "Fiddlesticks",
         "orientation": "v",
         "showlegend": true,
         "textposition": "auto",
         "type": "bar",
         "x": [
          "JUNGLE",
          "SUPPORT"
         ],
         "xaxis": "x",
         "y": [
          0.4907,
          0.5136
         ],
         "yaxis": "y"
        },
        {
         "alignmentgroup": "True",
         "hovertemplate": "Name=Tryndamere<br>Role=%{x}<br>Win %=%{y}<extra></extra>",
         "legendgroup": "Tryndamere",
         "marker": {
          "color": "#636efa",
          "pattern": {
           "shape": ""
          }
         },
         "name": "Tryndamere",
         "offsetgroup": "Tryndamere",
         "orientation": "v",
         "showlegend": true,
         "textposition": "auto",
         "type": "bar",
         "x": [
          "JUNGLE",
          "TOP"
         ],
         "xaxis": "x",
         "y": [
          0.4927,
          0.4929
         ],
         "yaxis": "y"
        },
        {
         "alignmentgroup": "True",
         "hovertemplate": "Name=Sylas<br>Role=%{x}<br>Win %=%{y}<extra></extra>",
         "legendgroup": "Sylas",
         "marker": {
          "color": "#EF553B",
          "pattern": {
           "shape": ""
          }
         },
         "name": "Sylas",
         "offsetgroup": "Sylas",
         "orientation": "v",
         "showlegend": true,
         "textposition": "auto",
         "type": "bar",
         "x": [
          "JUNGLE",
          "MID"
         ],
         "xaxis": "x",
         "y": [
          0.4933,
          0.5398
         ],
         "yaxis": "y"
        },
        {
         "alignmentgroup": "True",
         "hovertemplate": "Name=Kindred<br>Role=%{x}<br>Win %=%{y}<extra></extra>",
         "legendgroup": "Kindred",
         "marker": {
          "color": "#00cc96",
          "pattern": {
           "shape": ""
          }
         },
         "name": "Kindred",
         "offsetgroup": "Kindred",
         "orientation": "v",
         "showlegend": true,
         "textposition": "auto",
         "type": "bar",
         "x": [
          "JUNGLE"
         ],
         "xaxis": "x",
         "y": [
          0.4948
         ],
         "yaxis": "y"
        },
        {
         "alignmentgroup": "True",
         "hovertemplate": "Name=Brand<br>Role=%{x}<br>Win %=%{y}<extra></extra>",
         "legendgroup": "Brand",
         "marker": {
          "color": "#ab63fa",
          "pattern": {
           "shape": ""
          }
         },
         "name": "Brand",
         "offsetgroup": "Brand",
         "orientation": "v",
         "showlegend": true,
         "textposition": "auto",
         "type": "bar",
         "x": [
          "JUNGLE",
          "MID",
          "SUPPORT"
         ],
         "xaxis": "x",
         "y": [
          0.4953,
          0.4957,
          0.5149
         ],
         "yaxis": "y"
        },
        {
         "alignmentgroup": "True",
         "hovertemplate": "Name=Taliyah<br>Role=%{x}<br>Win %=%{y}<extra></extra>",
         "legendgroup": "Taliyah",
         "marker": {
          "color": "#FFA15A",
          "pattern": {
           "shape": ""
          }
         },
         "name": "Taliyah",
         "offsetgroup": "Taliyah",
         "orientation": "v",
         "showlegend": true,
         "textposition": "auto",
         "type": "bar",
         "x": [
          "JUNGLE",
          "MID"
         ],
         "xaxis": "x",
         "y": [
          0.4971,
          0.4989
         ],
         "yaxis": "y"
        },
        {
         "alignmentgroup": "True",
         "hovertemplate": "Name=Wukong<br>Role=%{x}<br>Win %=%{y}<extra></extra>",
         "legendgroup": "Wukong",
         "marker": {
          "color": "#19d3f3",
          "pattern": {
           "shape": ""
          }
         },
         "name": "Wukong",
         "offsetgroup": "Wukong",
         "orientation": "v",
         "showlegend": true,
         "textposition": "auto",
         "type": "bar",
         "x": [
          "JUNGLE",
          "TOP"
         ],
         "xaxis": "x",
         "y": [
          0.4973,
          0.4893
         ],
         "yaxis": "y"
        },
        {
         "alignmentgroup": "True",
         "hovertemplate": "Name=Lee Sin<br>Role=%{x}<br>Win %=%{y}<extra></extra>",
         "legendgroup": "Lee Sin",
         "marker": {
          "color": "#FF6692",
          "pattern": {
           "shape": ""
          }
         },
         "name": "Lee Sin",
         "offsetgroup": "Lee Sin",
         "orientation": "v",
         "showlegend": true,
         "textposition": "auto",
         "type": "bar",
         "x": [
          "JUNGLE"
         ],
         "xaxis": "x",
         "y": [
          0.4974
         ],
         "yaxis": "y"
        },
        {
         "alignmentgroup": "True",
         "hovertemplate": "Name=Udyr<br>Role=%{x}<br>Win %=%{y}<extra></extra>",
         "legendgroup": "Udyr",
         "marker": {
          "color": "#B6E880",
          "pattern": {
           "shape": ""
          }
         },
         "name": "Udyr",
         "offsetgroup": "Udyr",
         "orientation": "v",
         "showlegend": true,
         "textposition": "auto",
         "type": "bar",
         "x": [
          "JUNGLE",
          "TOP"
         ],
         "xaxis": "x",
         "y": [
          0.4975,
          0.4818
         ],
         "yaxis": "y"
        },
        {
         "alignmentgroup": "True",
         "hovertemplate": "Name=Evelynn<br>Role=%{x}<br>Win %=%{y}<extra></extra>",
         "legendgroup": "Evelynn",
         "marker": {
          "color": "#FF97FF",
          "pattern": {
           "shape": ""
          }
         },
         "name": "Evelynn",
         "offsetgroup": "Evelynn",
         "orientation": "v",
         "showlegend": true,
         "textposition": "auto",
         "type": "bar",
         "x": [
          "JUNGLE"
         ],
         "xaxis": "x",
         "y": [
          0.4976
         ],
         "yaxis": "y"
        },
        {
         "alignmentgroup": "True",
         "hovertemplate": "Name=Hecarim<br>Role=%{x}<br>Win %=%{y}<extra></extra>",
         "legendgroup": "Hecarim",
         "marker": {
          "color": "#FECB52",
          "pattern": {
           "shape": ""
          }
         },
         "name": "Hecarim",
         "offsetgroup": "Hecarim",
         "orientation": "v",
         "showlegend": true,
         "textposition": "auto",
         "type": "bar",
         "x": [
          "JUNGLE"
         ],
         "xaxis": "x",
         "y": [
          0.4996
         ],
         "yaxis": "y"
        },
        {
         "alignmentgroup": "True",
         "hovertemplate": "Name=Volibear<br>Role=%{x}<br>Win %=%{y}<extra></extra>",
         "legendgroup": "Volibear",
         "marker": {
          "color": "#636efa",
          "pattern": {
           "shape": ""
          }
         },
         "name": "Volibear",
         "offsetgroup": "Volibear",
         "orientation": "v",
         "showlegend": true,
         "textposition": "auto",
         "type": "bar",
         "x": [
          "JUNGLE",
          "TOP"
         ],
         "xaxis": "x",
         "y": [
          0.4998,
          0.4851
         ],
         "yaxis": "y"
        },
        {
         "alignmentgroup": "True",
         "hovertemplate": "Name=Elise<br>Role=%{x}<br>Win %=%{y}<extra></extra>",
         "legendgroup": "Elise",
         "marker": {
          "color": "#EF553B",
          "pattern": {
           "shape": ""
          }
         },
         "name": "Elise",
         "offsetgroup": "Elise",
         "orientation": "v",
         "showlegend": true,
         "textposition": "auto",
         "type": "bar",
         "x": [
          "JUNGLE"
         ],
         "xaxis": "x",
         "y": [
          0.5007
         ],
         "yaxis": "y"
        },
        {
         "alignmentgroup": "True",
         "hovertemplate": "Name=Kha'Zix<br>Role=%{x}<br>Win %=%{y}<extra></extra>",
         "legendgroup": "Kha'Zix",
         "marker": {
          "color": "#00cc96",
          "pattern": {
           "shape": ""
          }
         },
         "name": "Kha'Zix",
         "offsetgroup": "Kha'Zix",
         "orientation": "v",
         "showlegend": true,
         "textposition": "auto",
         "type": "bar",
         "x": [
          "JUNGLE"
         ],
         "xaxis": "x",
         "y": [
          0.501
         ],
         "yaxis": "y"
        },
        {
         "alignmentgroup": "True",
         "hovertemplate": "Name=Master Yi<br>Role=%{x}<br>Win %=%{y}<extra></extra>",
         "legendgroup": "Master Yi",
         "marker": {
          "color": "#ab63fa",
          "pattern": {
           "shape": ""
          }
         },
         "name": "Master Yi",
         "offsetgroup": "Master Yi",
         "orientation": "v",
         "showlegend": true,
         "textposition": "auto",
         "type": "bar",
         "x": [
          "JUNGLE"
         ],
         "xaxis": "x",
         "y": [
          0.501
         ],
         "yaxis": "y"
        },
        {
         "alignmentgroup": "True",
         "hovertemplate": "Name=Rammus<br>Role=%{x}<br>Win %=%{y}<extra></extra>",
         "legendgroup": "Rammus",
         "marker": {
          "color": "#FFA15A",
          "pattern": {
           "shape": ""
          }
         },
         "name": "Rammus",
         "offsetgroup": "Rammus",
         "orientation": "v",
         "showlegend": true,
         "textposition": "auto",
         "type": "bar",
         "x": [
          "JUNGLE"
         ],
         "xaxis": "x",
         "y": [
          0.5037
         ],
         "yaxis": "y"
        },
        {
         "alignmentgroup": "True",
         "hovertemplate": "Name=Bel'Veth<br>Role=%{x}<br>Win %=%{y}<extra></extra>",
         "legendgroup": "Bel'Veth",
         "marker": {
          "color": "#19d3f3",
          "pattern": {
           "shape": ""
          }
         },
         "name": "Bel'Veth",
         "offsetgroup": "Bel'Veth",
         "orientation": "v",
         "showlegend": true,
         "textposition": "auto",
         "type": "bar",
         "x": [
          "JUNGLE"
         ],
         "xaxis": "x",
         "y": [
          0.5041
         ],
         "yaxis": "y"
        },
        {
         "alignmentgroup": "True",
         "hovertemplate": "Name=Nocturne<br>Role=%{x}<br>Win %=%{y}<extra></extra>",
         "legendgroup": "Nocturne",
         "marker": {
          "color": "#FF6692",
          "pattern": {
           "shape": ""
          }
         },
         "name": "Nocturne",
         "offsetgroup": "Nocturne",
         "orientation": "v",
         "showlegend": true,
         "textposition": "auto",
         "type": "bar",
         "x": [
          "JUNGLE"
         ],
         "xaxis": "x",
         "y": [
          0.5065
         ],
         "yaxis": "y"
        },
        {
         "alignmentgroup": "True",
         "hovertemplate": "Name=Diana<br>Role=%{x}<br>Win %=%{y}<extra></extra>",
         "legendgroup": "Diana",
         "marker": {
          "color": "#B6E880",
          "pattern": {
           "shape": ""
          }
         },
         "name": "Diana",
         "offsetgroup": "Diana",
         "orientation": "v",
         "showlegend": true,
         "textposition": "auto",
         "type": "bar",
         "x": [
          "JUNGLE",
          "MID"
         ],
         "xaxis": "x",
         "y": [
          0.5078,
          0.5092
         ],
         "yaxis": "y"
        },
        {
         "alignmentgroup": "True",
         "hovertemplate": "Name=Amumu<br>Role=%{x}<br>Win %=%{y}<extra></extra>",
         "legendgroup": "Amumu",
         "marker": {
          "color": "#FF97FF",
          "pattern": {
           "shape": ""
          }
         },
         "name": "Amumu",
         "offsetgroup": "Amumu",
         "orientation": "v",
         "showlegend": true,
         "textposition": "auto",
         "type": "bar",
         "x": [
          "JUNGLE",
          "SUPPORT"
         ],
         "xaxis": "x",
         "y": [
          0.5079,
          0.5282
         ],
         "yaxis": "y"
        },
        {
         "alignmentgroup": "True",
         "hovertemplate": "Name=Briar<br>Role=%{x}<br>Win %=%{y}<extra></extra>",
         "legendgroup": "Briar",
         "marker": {
          "color": "#FECB52",
          "pattern": {
           "shape": ""
          }
         },
         "name": "Briar",
         "offsetgroup": "Briar",
         "orientation": "v",
         "showlegend": true,
         "textposition": "auto",
         "type": "bar",
         "x": [
          "JUNGLE"
         ],
         "xaxis": "x",
         "y": [
          0.5086
         ],
         "yaxis": "y"
        },
        {
         "alignmentgroup": "True",
         "hovertemplate": "Name=Viego<br>Role=%{x}<br>Win %=%{y}<extra></extra>",
         "legendgroup": "Viego",
         "marker": {
          "color": "#636efa",
          "pattern": {
           "shape": ""
          }
         },
         "name": "Viego",
         "offsetgroup": "Viego",
         "orientation": "v",
         "showlegend": true,
         "textposition": "auto",
         "type": "bar",
         "x": [
          "JUNGLE"
         ],
         "xaxis": "x",
         "y": [
          0.5112
         ],
         "yaxis": "y"
        },
        {
         "alignmentgroup": "True",
         "hovertemplate": "Name=Gwen<br>Role=%{x}<br>Win %=%{y}<extra></extra>",
         "legendgroup": "Gwen",
         "marker": {
          "color": "#EF553B",
          "pattern": {
           "shape": ""
          }
         },
         "name": "Gwen",
         "offsetgroup": "Gwen",
         "orientation": "v",
         "showlegend": true,
         "textposition": "auto",
         "type": "bar",
         "x": [
          "JUNGLE",
          "TOP"
         ],
         "xaxis": "x",
         "y": [
          0.5127,
          0.5056
         ],
         "yaxis": "y"
        },
        {
         "alignmentgroup": "True",
         "hovertemplate": "Name=Rek'Sai<br>Role=%{x}<br>Win %=%{y}<extra></extra>",
         "legendgroup": "Rek'Sai",
         "marker": {
          "color": "#00cc96",
          "pattern": {
           "shape": ""
          }
         },
         "name": "Rek'Sai",
         "offsetgroup": "Rek'Sai",
         "orientation": "v",
         "showlegend": true,
         "textposition": "auto",
         "type": "bar",
         "x": [
          "JUNGLE"
         ],
         "xaxis": "x",
         "y": [
          0.5136
         ],
         "yaxis": "y"
        },
        {
         "alignmentgroup": "True",
         "hovertemplate": "Name=Jarvan IV<br>Role=%{x}<br>Win %=%{y}<extra></extra>",
         "legendgroup": "Jarvan IV",
         "marker": {
          "color": "#ab63fa",
          "pattern": {
           "shape": ""
          }
         },
         "name": "Jarvan IV",
         "offsetgroup": "Jarvan IV",
         "orientation": "v",
         "showlegend": true,
         "textposition": "auto",
         "type": "bar",
         "x": [
          "JUNGLE"
         ],
         "xaxis": "x",
         "y": [
          0.5151
         ],
         "yaxis": "y"
        },
        {
         "alignmentgroup": "True",
         "hovertemplate": "Name=Kayn<br>Role=%{x}<br>Win %=%{y}<extra></extra>",
         "legendgroup": "Kayn",
         "marker": {
          "color": "#FFA15A",
          "pattern": {
           "shape": ""
          }
         },
         "name": "Kayn",
         "offsetgroup": "Kayn",
         "orientation": "v",
         "showlegend": true,
         "textposition": "auto",
         "type": "bar",
         "x": [
          "JUNGLE"
         ],
         "xaxis": "x",
         "y": [
          0.5155
         ],
         "yaxis": "y"
        },
        {
         "alignmentgroup": "True",
         "hovertemplate": "Name=Zac<br>Role=%{x}<br>Win %=%{y}<extra></extra>",
         "legendgroup": "Zac",
         "marker": {
          "color": "#19d3f3",
          "pattern": {
           "shape": ""
          }
         },
         "name": "Zac",
         "offsetgroup": "Zac",
         "orientation": "v",
         "showlegend": true,
         "textposition": "auto",
         "type": "bar",
         "x": [
          "JUNGLE"
         ],
         "xaxis": "x",
         "y": [
          0.5165
         ],
         "yaxis": "y"
        },
        {
         "alignmentgroup": "True",
         "hovertemplate": "Name=Graves<br>Role=%{x}<br>Win %=%{y}<extra></extra>",
         "legendgroup": "Graves",
         "marker": {
          "color": "#FF6692",
          "pattern": {
           "shape": ""
          }
         },
         "name": "Graves",
         "offsetgroup": "Graves",
         "orientation": "v",
         "showlegend": true,
         "textposition": "auto",
         "type": "bar",
         "x": [
          "JUNGLE"
         ],
         "xaxis": "x",
         "y": [
          0.5168
         ],
         "yaxis": "y"
        },
        {
         "alignmentgroup": "True",
         "hovertemplate": "Name=Shyvana<br>Role=%{x}<br>Win %=%{y}<extra></extra>",
         "legendgroup": "Shyvana",
         "marker": {
          "color": "#B6E880",
          "pattern": {
           "shape": ""
          }
         },
         "name": "Shyvana",
         "offsetgroup": "Shyvana",
         "orientation": "v",
         "showlegend": true,
         "textposition": "auto",
         "type": "bar",
         "x": [
          "JUNGLE",
          "TOP"
         ],
         "xaxis": "x",
         "y": [
          0.5171,
          0.4947
         ],
         "yaxis": "y"
        },
        {
         "alignmentgroup": "True",
         "hovertemplate": "Name=Skarner<br>Role=%{x}<br>Win %=%{y}<extra></extra>",
         "legendgroup": "Skarner",
         "marker": {
          "color": "#FF97FF",
          "pattern": {
           "shape": ""
          }
         },
         "name": "Skarner",
         "offsetgroup": "Skarner",
         "orientation": "v",
         "showlegend": true,
         "textposition": "auto",
         "type": "bar",
         "x": [
          "JUNGLE",
          "TOP"
         ],
         "xaxis": "x",
         "y": [
          0.5183,
          0.4858
         ],
         "yaxis": "y"
        },
        {
         "alignmentgroup": "True",
         "hovertemplate": "Name=Ivern<br>Role=%{x}<br>Win %=%{y}<extra></extra>",
         "legendgroup": "Ivern",
         "marker": {
          "color": "#FECB52",
          "pattern": {
           "shape": ""
          }
         },
         "name": "Ivern",
         "offsetgroup": "Ivern",
         "orientation": "v",
         "showlegend": true,
         "textposition": "auto",
         "type": "bar",
         "x": [
          "JUNGLE"
         ],
         "xaxis": "x",
         "y": [
          0.5194
         ],
         "yaxis": "y"
        },
        {
         "alignmentgroup": "True",
         "hovertemplate": "Name=Ekko<br>Role=%{x}<br>Win %=%{y}<extra></extra>",
         "legendgroup": "Ekko",
         "marker": {
          "color": "#636efa",
          "pattern": {
           "shape": ""
          }
         },
         "name": "Ekko",
         "offsetgroup": "Ekko",
         "orientation": "v",
         "showlegend": true,
         "textposition": "auto",
         "type": "bar",
         "x": [
          "JUNGLE",
          "MID"
         ],
         "xaxis": "x",
         "y": [
          0.5246,
          0.5117
         ],
         "yaxis": "y"
        },
        {
         "alignmentgroup": "True",
         "hovertemplate": "Name=Lillia<br>Role=%{x}<br>Win %=%{y}<extra></extra>",
         "legendgroup": "Lillia",
         "marker": {
          "color": "#EF553B",
          "pattern": {
           "shape": ""
          }
         },
         "name": "Lillia",
         "offsetgroup": "Lillia",
         "orientation": "v",
         "showlegend": true,
         "textposition": "auto",
         "type": "bar",
         "x": [
          "JUNGLE"
         ],
         "xaxis": "x",
         "y": [
          0.5253
         ],
         "yaxis": "y"
        },
        {
         "alignmentgroup": "True",
         "hovertemplate": "Name=Maokai<br>Role=%{x}<br>Win %=%{y}<extra></extra>",
         "legendgroup": "Maokai",
         "marker": {
          "color": "#00cc96",
          "pattern": {
           "shape": ""
          }
         },
         "name": "Maokai",
         "offsetgroup": "Maokai",
         "orientation": "v",
         "showlegend": true,
         "textposition": "auto",
         "type": "bar",
         "x": [
          "JUNGLE",
          "SUPPORT"
         ],
         "xaxis": "x",
         "y": [
          0.5282,
          0.5381
         ],
         "yaxis": "y"
        },
        {
         "alignmentgroup": "True",
         "hovertemplate": "Name=Poppy<br>Role=%{x}<br>Win %=%{y}<extra></extra>",
         "legendgroup": "Poppy",
         "marker": {
          "color": "#ab63fa",
          "pattern": {
           "shape": ""
          }
         },
         "name": "Poppy",
         "offsetgroup": "Poppy",
         "orientation": "v",
         "showlegend": true,
         "textposition": "auto",
         "type": "bar",
         "x": [
          "JUNGLE",
          "TOP"
         ],
         "xaxis": "x",
         "y": [
          0.5297,
          0.5085
         ],
         "yaxis": "y"
        },
        {
         "alignmentgroup": "True",
         "hovertemplate": "Name=Talon<br>Role=%{x}<br>Win %=%{y}<extra></extra>",
         "legendgroup": "Talon",
         "marker": {
          "color": "#FFA15A",
          "pattern": {
           "shape": ""
          }
         },
         "name": "Talon",
         "offsetgroup": "Talon",
         "orientation": "v",
         "showlegend": true,
         "textposition": "auto",
         "type": "bar",
         "x": [
          "JUNGLE",
          "MID"
         ],
         "xaxis": "x",
         "y": [
          0.5426,
          0.5045
         ],
         "yaxis": "y"
        },
        {
         "alignmentgroup": "True",
         "hovertemplate": "Name=Morgana<br>Role=%{x}<br>Win %=%{y}<extra></extra>",
         "legendgroup": "Morgana",
         "marker": {
          "color": "#19d3f3",
          "pattern": {
           "shape": ""
          }
         },
         "name": "Morgana",
         "offsetgroup": "Morgana",
         "orientation": "v",
         "showlegend": true,
         "textposition": "auto",
         "type": "bar",
         "x": [
          "JUNGLE",
          "SUPPORT"
         ],
         "xaxis": "x",
         "y": [
          0.5443,
          0.4979
         ],
         "yaxis": "y"
        },
        {
         "alignmentgroup": "True",
         "hovertemplate": "Name=Trundle<br>Role=%{x}<br>Win %=%{y}<extra></extra>",
         "legendgroup": "Trundle",
         "marker": {
          "color": "#FF6692",
          "pattern": {
           "shape": ""
          }
         },
         "name": "Trundle",
         "offsetgroup": "Trundle",
         "orientation": "v",
         "showlegend": true,
         "textposition": "auto",
         "type": "bar",
         "x": [
          "JUNGLE",
          "TOP"
         ],
         "xaxis": "x",
         "y": [
          0.5451,
          0.5023
         ],
         "yaxis": "y"
        },
        {
         "alignmentgroup": "True",
         "hovertemplate": "Name=Azir<br>Role=%{x}<br>Win %=%{y}<extra></extra>",
         "legendgroup": "Azir",
         "marker": {
          "color": "#B6E880",
          "pattern": {
           "shape": ""
          }
         },
         "name": "Azir",
         "offsetgroup": "Azir",
         "orientation": "v",
         "showlegend": true,
         "textposition": "auto",
         "type": "bar",
         "x": [
          "MID"
         ],
         "xaxis": "x",
         "y": [
          0.47
         ],
         "yaxis": "y"
        },
        {
         "alignmentgroup": "True",
         "hovertemplate": "Name=Qiyana<br>Role=%{x}<br>Win %=%{y}<extra></extra>",
         "legendgroup": "Qiyana",
         "marker": {
          "color": "#FF97FF",
          "pattern": {
           "shape": ""
          }
         },
         "name": "Qiyana",
         "offsetgroup": "Qiyana",
         "orientation": "v",
         "showlegend": true,
         "textposition": "auto",
         "type": "bar",
         "x": [
          "MID"
         ],
         "xaxis": "x",
         "y": [
          0.4705
         ],
         "yaxis": "y"
        },
        {
         "alignmentgroup": "True",
         "hovertemplate": "Name=Zed<br>Role=%{x}<br>Win %=%{y}<extra></extra>",
         "legendgroup": "Zed",
         "marker": {
          "color": "#FECB52",
          "pattern": {
           "shape": ""
          }
         },
         "name": "Zed",
         "offsetgroup": "Zed",
         "orientation": "v",
         "showlegend": true,
         "textposition": "auto",
         "type": "bar",
         "x": [
          "MID"
         ],
         "xaxis": "x",
         "y": [
          0.4778
         ],
         "yaxis": "y"
        },
        {
         "alignmentgroup": "True",
         "hovertemplate": "Name=Akali<br>Role=%{x}<br>Win %=%{y}<extra></extra>",
         "legendgroup": "Akali",
         "marker": {
          "color": "#636efa",
          "pattern": {
           "shape": ""
          }
         },
         "name": "Akali",
         "offsetgroup": "Akali",
         "orientation": "v",
         "showlegend": true,
         "textposition": "auto",
         "type": "bar",
         "x": [
          "MID",
          "TOP"
         ],
         "xaxis": "x",
         "y": [
          0.4784,
          0.4759
         ],
         "yaxis": "y"
        },
        {
         "alignmentgroup": "True",
         "hovertemplate": "Name=Annie<br>Role=%{x}<br>Win %=%{y}<extra></extra>",
         "legendgroup": "Annie",
         "marker": {
          "color": "#EF553B",
          "pattern": {
           "shape": ""
          }
         },
         "name": "Annie",
         "offsetgroup": "Annie",
         "orientation": "v",
         "showlegend": true,
         "textposition": "auto",
         "type": "bar",
         "x": [
          "MID",
          "SUPPORT"
         ],
         "xaxis": "x",
         "y": [
          0.4793,
          0.482
         ],
         "yaxis": "y"
        },
        {
         "alignmentgroup": "True",
         "hovertemplate": "Name=Corki<br>Role=%{x}<br>Win %=%{y}<extra></extra>",
         "legendgroup": "Corki",
         "marker": {
          "color": "#00cc96",
          "pattern": {
           "shape": ""
          }
         },
         "name": "Corki",
         "offsetgroup": "Corki",
         "orientation": "v",
         "showlegend": true,
         "textposition": "auto",
         "type": "bar",
         "x": [
          "MID"
         ],
         "xaxis": "x",
         "y": [
          0.4797
         ],
         "yaxis": "y"
        },
        {
         "alignmentgroup": "True",
         "hovertemplate": "Name=LeBlanc<br>Role=%{x}<br>Win %=%{y}<extra></extra>",
         "legendgroup": "LeBlanc",
         "marker": {
          "color": "#ab63fa",
          "pattern": {
           "shape": ""
          }
         },
         "name": "LeBlanc",
         "offsetgroup": "LeBlanc",
         "orientation": "v",
         "showlegend": true,
         "textposition": "auto",
         "type": "bar",
         "x": [
          "MID"
         ],
         "xaxis": "x",
         "y": [
          0.4807
         ],
         "yaxis": "y"
        },
        {
         "alignmentgroup": "True",
         "hovertemplate": "Name=Yone<br>Role=%{x}<br>Win %=%{y}<extra></extra>",
         "legendgroup": "Yone",
         "marker": {
          "color": "#FFA15A",
          "pattern": {
           "shape": ""
          }
         },
         "name": "Yone",
         "offsetgroup": "Yone",
         "orientation": "v",
         "showlegend": true,
         "textposition": "auto",
         "type": "bar",
         "x": [
          "MID",
          "TOP"
         ],
         "xaxis": "x",
         "y": [
          0.4853,
          0.4755
         ],
         "yaxis": "y"
        },
        {
         "alignmentgroup": "True",
         "hovertemplate": "Name=Katarina<br>Role=%{x}<br>Win %=%{y}<extra></extra>",
         "legendgroup": "Katarina",
         "marker": {
          "color": "#19d3f3",
          "pattern": {
           "shape": ""
          }
         },
         "name": "Katarina",
         "offsetgroup": "Katarina",
         "orientation": "v",
         "showlegend": true,
         "textposition": "auto",
         "type": "bar",
         "x": [
          "MID"
         ],
         "xaxis": "x",
         "y": [
          0.4861
         ],
         "yaxis": "y"
        },
        {
         "alignmentgroup": "True",
         "hovertemplate": "Name=Irelia<br>Role=%{x}<br>Win %=%{y}<extra></extra>",
         "legendgroup": "Irelia",
         "marker": {
          "color": "#FF6692",
          "pattern": {
           "shape": ""
          }
         },
         "name": "Irelia",
         "offsetgroup": "Irelia",
         "orientation": "v",
         "showlegend": true,
         "textposition": "auto",
         "type": "bar",
         "x": [
          "MID",
          "TOP"
         ],
         "xaxis": "x",
         "y": [
          0.4872,
          0.4969
         ],
         "yaxis": "y"
        },
        {
         "alignmentgroup": "True",
         "hovertemplate": "Name=Cassiopeia<br>Role=%{x}<br>Win %=%{y}<extra></extra>",
         "legendgroup": "Cassiopeia",
         "marker": {
          "color": "#B6E880",
          "pattern": {
           "shape": ""
          }
         },
         "name": "Cassiopeia",
         "offsetgroup": "Cassiopeia",
         "orientation": "v",
         "showlegend": true,
         "textposition": "auto",
         "type": "bar",
         "x": [
          "MID",
          "TOP"
         ],
         "xaxis": "x",
         "y": [
          0.4886,
          0.4883
         ],
         "yaxis": "y"
        },
        {
         "alignmentgroup": "True",
         "hovertemplate": "Name=Syndra<br>Role=%{x}<br>Win %=%{y}<extra></extra>",
         "legendgroup": "Syndra",
         "marker": {
          "color": "#FF97FF",
          "pattern": {
           "shape": ""
          }
         },
         "name": "Syndra",
         "offsetgroup": "Syndra",
         "orientation": "v",
         "showlegend": true,
         "textposition": "auto",
         "type": "bar",
         "x": [
          "MID"
         ],
         "xaxis": "x",
         "y": [
          0.4906
         ],
         "yaxis": "y"
        },
        {
         "alignmentgroup": "True",
         "hovertemplate": "Name=Aurelion Sol<br>Role=%{x}<br>Win %=%{y}<extra></extra>",
         "legendgroup": "Aurelion Sol",
         "marker": {
          "color": "#FECB52",
          "pattern": {
           "shape": ""
          }
         },
         "name": "Aurelion Sol",
         "offsetgroup": "Aurelion Sol",
         "orientation": "v",
         "showlegend": true,
         "textposition": "auto",
         "type": "bar",
         "x": [
          "MID"
         ],
         "xaxis": "x",
         "y": [
          0.4912
         ],
         "yaxis": "y"
        },
        {
         "alignmentgroup": "True",
         "hovertemplate": "Name=Neeko<br>Role=%{x}<br>Win %=%{y}<extra></extra>",
         "legendgroup": "Neeko",
         "marker": {
          "color": "#636efa",
          "pattern": {
           "shape": ""
          }
         },
         "name": "Neeko",
         "offsetgroup": "Neeko",
         "orientation": "v",
         "showlegend": true,
         "textposition": "auto",
         "type": "bar",
         "x": [
          "MID",
          "SUPPORT"
         ],
         "xaxis": "x",
         "y": [
          0.4932,
          0.5116
         ],
         "yaxis": "y"
        },
        {
         "alignmentgroup": "True",
         "hovertemplate": "Name=Ahri<br>Role=%{x}<br>Win %=%{y}<extra></extra>",
         "legendgroup": "Ahri",
         "marker": {
          "color": "#EF553B",
          "pattern": {
           "shape": ""
          }
         },
         "name": "Ahri",
         "offsetgroup": "Ahri",
         "orientation": "v",
         "showlegend": true,
         "textposition": "auto",
         "type": "bar",
         "x": [
          "MID"
         ],
         "xaxis": "x",
         "y": [
          0.4939
         ],
         "yaxis": "y"
        },
        {
         "alignmentgroup": "True",
         "hovertemplate": "Name=Rumble<br>Role=%{x}<br>Win %=%{y}<extra></extra>",
         "legendgroup": "Rumble",
         "marker": {
          "color": "#00cc96",
          "pattern": {
           "shape": ""
          }
         },
         "name": "Rumble",
         "offsetgroup": "Rumble",
         "orientation": "v",
         "showlegend": true,
         "textposition": "auto",
         "type": "bar",
         "x": [
          "MID",
          "TOP"
         ],
         "xaxis": "x",
         "y": [
          0.4951,
          0.496
         ],
         "yaxis": "y"
        },
        {
         "alignmentgroup": "True",
         "hovertemplate": "Name=Anivia<br>Role=%{x}<br>Win %=%{y}<extra></extra>",
         "legendgroup": "Anivia",
         "marker": {
          "color": "#ab63fa",
          "pattern": {
           "shape": ""
          }
         },
         "name": "Anivia",
         "offsetgroup": "Anivia",
         "orientation": "v",
         "showlegend": true,
         "textposition": "auto",
         "type": "bar",
         "x": [
          "MID",
          "SUPPORT"
         ],
         "xaxis": "x",
         "y": [
          0.4962,
          0.474
         ],
         "yaxis": "y"
        },
        {
         "alignmentgroup": "True",
         "hovertemplate": "Name=Vladimir<br>Role=%{x}<br>Win %=%{y}<extra></extra>",
         "legendgroup": "Vladimir",
         "marker": {
          "color": "#FFA15A",
          "pattern": {
           "shape": ""
          }
         },
         "name": "Vladimir",
         "offsetgroup": "Vladimir",
         "orientation": "v",
         "showlegend": true,
         "textposition": "auto",
         "type": "bar",
         "x": [
          "MID",
          "TOP"
         ],
         "xaxis": "x",
         "y": [
          0.4964,
          0.4854
         ],
         "yaxis": "y"
        },
        {
         "alignmentgroup": "True",
         "hovertemplate": "Name=Quinn<br>Role=%{x}<br>Win %=%{y}<extra></extra>",
         "legendgroup": "Quinn",
         "marker": {
          "color": "#19d3f3",
          "pattern": {
           "shape": ""
          }
         },
         "name": "Quinn",
         "offsetgroup": "Quinn",
         "orientation": "v",
         "showlegend": true,
         "textposition": "auto",
         "type": "bar",
         "x": [
          "MID",
          "TOP"
         ],
         "xaxis": "x",
         "y": [
          0.497,
          0.5213
         ],
         "yaxis": "y"
        },
        {
         "alignmentgroup": "True",
         "hovertemplate": "Name=Lux<br>Role=%{x}<br>Win %=%{y}<extra></extra>",
         "legendgroup": "Lux",
         "marker": {
          "color": "#FF6692",
          "pattern": {
           "shape": ""
          }
         },
         "name": "Lux",
         "offsetgroup": "Lux",
         "orientation": "v",
         "showlegend": true,
         "textposition": "auto",
         "type": "bar",
         "x": [
          "MID",
          "SUPPORT"
         ],
         "xaxis": "x",
         "y": [
          0.499,
          0.4943
         ],
         "yaxis": "y"
        },
        {
         "alignmentgroup": "True",
         "hovertemplate": "Name=Jayce<br>Role=%{x}<br>Win %=%{y}<extra></extra>",
         "legendgroup": "Jayce",
         "marker": {
          "color": "#B6E880",
          "pattern": {
           "shape": ""
          }
         },
         "name": "Jayce",
         "offsetgroup": "Jayce",
         "orientation": "v",
         "showlegend": true,
         "textposition": "auto",
         "type": "bar",
         "x": [
          "MID",
          "TOP"
         ],
         "xaxis": "x",
         "y": [
          0.5005,
          0.4842
         ],
         "yaxis": "y"
        },
        {
         "alignmentgroup": "True",
         "hovertemplate": "Name=Veigar<br>Role=%{x}<br>Win %=%{y}<extra></extra>",
         "legendgroup": "Veigar",
         "marker": {
          "color": "#FF97FF",
          "pattern": {
           "shape": ""
          }
         },
         "name": "Veigar",
         "offsetgroup": "Veigar",
         "orientation": "v",
         "showlegend": true,
         "textposition": "auto",
         "type": "bar",
         "x": [
          "MID",
          "SUPPORT"
         ],
         "xaxis": "x",
         "y": [
          0.5005,
          0.4805
         ],
         "yaxis": "y"
        },
        {
         "alignmentgroup": "True",
         "hovertemplate": "Name=Viktor<br>Role=%{x}<br>Win %=%{y}<extra></extra>",
         "legendgroup": "Viktor",
         "marker": {
          "color": "#FECB52",
          "pattern": {
           "shape": ""
          }
         },
         "name": "Viktor",
         "offsetgroup": "Viktor",
         "orientation": "v",
         "showlegend": true,
         "textposition": "auto",
         "type": "bar",
         "x": [
          "MID"
         ],
         "xaxis": "x",
         "y": [
          0.5016
         ],
         "yaxis": "y"
        },
        {
         "alignmentgroup": "True",
         "hovertemplate": "Name=Zoe<br>Role=%{x}<br>Win %=%{y}<extra></extra>",
         "legendgroup": "Zoe",
         "marker": {
          "color": "#636efa",
          "pattern": {
           "shape": ""
          }
         },
         "name": "Zoe",
         "offsetgroup": "Zoe",
         "orientation": "v",
         "showlegend": true,
         "textposition": "auto",
         "type": "bar",
         "x": [
          "MID",
          "SUPPORT"
         ],
         "xaxis": "x",
         "y": [
          0.5058,
          0.5182
         ],
         "yaxis": "y"
        },
        {
         "alignmentgroup": "True",
         "hovertemplate": "Name=Orianna<br>Role=%{x}<br>Win %=%{y}<extra></extra>",
         "legendgroup": "Orianna",
         "marker": {
          "color": "#EF553B",
          "pattern": {
           "shape": ""
          }
         },
         "name": "Orianna",
         "offsetgroup": "Orianna",
         "orientation": "v",
         "showlegend": true,
         "textposition": "auto",
         "type": "bar",
         "x": [
          "MID"
         ],
         "xaxis": "x",
         "y": [
          0.5069
         ],
         "yaxis": "y"
        },
        {
         "alignmentgroup": "True",
         "hovertemplate": "Name=Ryze<br>Role=%{x}<br>Win %=%{y}<extra></extra>",
         "legendgroup": "Ryze",
         "marker": {
          "color": "#00cc96",
          "pattern": {
           "shape": ""
          }
         },
         "name": "Ryze",
         "offsetgroup": "Ryze",
         "orientation": "v",
         "showlegend": true,
         "textposition": "auto",
         "type": "bar",
         "x": [
          "MID",
          "TOP"
         ],
         "xaxis": "x",
         "y": [
          0.5081,
          0.4784
         ],
         "yaxis": "y"
        },
        {
         "alignmentgroup": "True",
         "hovertemplate": "Name=Kassadin<br>Role=%{x}<br>Win %=%{y}<extra></extra>",
         "legendgroup": "Kassadin",
         "marker": {
          "color": "#ab63fa",
          "pattern": {
           "shape": ""
          }
         },
         "name": "Kassadin",
         "offsetgroup": "Kassadin",
         "orientation": "v",
         "showlegend": true,
         "textposition": "auto",
         "type": "bar",
         "x": [
          "MID"
         ],
         "xaxis": "x",
         "y": [
          0.5083
         ],
         "yaxis": "y"
        },
        {
         "alignmentgroup": "True",
         "hovertemplate": "Name=Galio<br>Role=%{x}<br>Win %=%{y}<extra></extra>",
         "legendgroup": "Galio",
         "marker": {
          "color": "#FFA15A",
          "pattern": {
           "shape": ""
          }
         },
         "name": "Galio",
         "offsetgroup": "Galio",
         "orientation": "v",
         "showlegend": true,
         "textposition": "auto",
         "type": "bar",
         "x": [
          "MID",
          "SUPPORT"
         ],
         "xaxis": "x",
         "y": [
          0.5103,
          0.5012
         ],
         "yaxis": "y"
        },
        {
         "alignmentgroup": "True",
         "hovertemplate": "Name=Fizz<br>Role=%{x}<br>Win %=%{y}<extra></extra>",
         "legendgroup": "Fizz",
         "marker": {
          "color": "#19d3f3",
          "pattern": {
           "shape": ""
          }
         },
         "name": "Fizz",
         "offsetgroup": "Fizz",
         "orientation": "v",
         "showlegend": true,
         "textposition": "auto",
         "type": "bar",
         "x": [
          "MID"
         ],
         "xaxis": "x",
         "y": [
          0.5114
         ],
         "yaxis": "y"
        },
        {
         "alignmentgroup": "True",
         "hovertemplate": "Name=Vel'Koz<br>Role=%{x}<br>Win %=%{y}<extra></extra>",
         "legendgroup": "Vel'Koz",
         "marker": {
          "color": "#FF6692",
          "pattern": {
           "shape": ""
          }
         },
         "name": "Vel'Koz",
         "offsetgroup": "Vel'Koz",
         "orientation": "v",
         "showlegend": true,
         "textposition": "auto",
         "type": "bar",
         "x": [
          "MID",
          "SUPPORT"
         ],
         "xaxis": "x",
         "y": [
          0.5135,
          0.5077
         ],
         "yaxis": "y"
        },
        {
         "alignmentgroup": "True",
         "hovertemplate": "Name=Vex<br>Role=%{x}<br>Win %=%{y}<extra></extra>",
         "legendgroup": "Vex",
         "marker": {
          "color": "#B6E880",
          "pattern": {
           "shape": ""
          }
         },
         "name": "Vex",
         "offsetgroup": "Vex",
         "orientation": "v",
         "showlegend": true,
         "textposition": "auto",
         "type": "bar",
         "x": [
          "MID"
         ],
         "xaxis": "x",
         "y": [
          0.5136
         ],
         "yaxis": "y"
        },
        {
         "alignmentgroup": "True",
         "hovertemplate": "Name=Sion<br>Role=%{x}<br>Win %=%{y}<extra></extra>",
         "legendgroup": "Sion",
         "marker": {
          "color": "#FF97FF",
          "pattern": {
           "shape": ""
          }
         },
         "name": "Sion",
         "offsetgroup": "Sion",
         "orientation": "v",
         "showlegend": true,
         "textposition": "auto",
         "type": "bar",
         "x": [
          "MID",
          "TOP"
         ],
         "xaxis": "x",
         "y": [
          0.5139,
          0.5096
         ],
         "yaxis": "y"
        },
        {
         "alignmentgroup": "True",
         "hovertemplate": "Name=Twisted Fate<br>Role=%{x}<br>Win %=%{y}<extra></extra>",
         "legendgroup": "Twisted Fate",
         "marker": {
          "color": "#FECB52",
          "pattern": {
           "shape": ""
          }
         },
         "name": "Twisted Fate",
         "offsetgroup": "Twisted Fate",
         "orientation": "v",
         "showlegend": true,
         "textposition": "auto",
         "type": "bar",
         "x": [
          "MID"
         ],
         "xaxis": "x",
         "y": [
          0.5148
         ],
         "yaxis": "y"
        },
        {
         "alignmentgroup": "True",
         "hovertemplate": "Name=Akshan<br>Role=%{x}<br>Win %=%{y}<extra></extra>",
         "legendgroup": "Akshan",
         "marker": {
          "color": "#636efa",
          "pattern": {
           "shape": ""
          }
         },
         "name": "Akshan",
         "offsetgroup": "Akshan",
         "orientation": "v",
         "showlegend": true,
         "textposition": "auto",
         "type": "bar",
         "x": [
          "MID",
          "TOP"
         ],
         "xaxis": "x",
         "y": [
          0.5151,
          0.5074
         ],
         "yaxis": "y"
        },
        {
         "alignmentgroup": "True",
         "hovertemplate": "Name=Pantheon<br>Role=%{x}<br>Win %=%{y}<extra></extra>",
         "legendgroup": "Pantheon",
         "marker": {
          "color": "#EF553B",
          "pattern": {
           "shape": ""
          }
         },
         "name": "Pantheon",
         "offsetgroup": "Pantheon",
         "orientation": "v",
         "showlegend": true,
         "textposition": "auto",
         "type": "bar",
         "x": [
          "MID",
          "SUPPORT",
          "TOP"
         ],
         "xaxis": "x",
         "y": [
          0.5155,
          0.4699,
          0.5123
         ],
         "yaxis": "y"
        },
        {
         "alignmentgroup": "True",
         "hovertemplate": "Name=Heimerdinger<br>Role=%{x}<br>Win %=%{y}<extra></extra>",
         "legendgroup": "Heimerdinger",
         "marker": {
          "color": "#00cc96",
          "pattern": {
           "shape": ""
          }
         },
         "name": "Heimerdinger",
         "offsetgroup": "Heimerdinger",
         "orientation": "v",
         "showlegend": true,
         "textposition": "auto",
         "type": "bar",
         "x": [
          "MID",
          "SUPPORT",
          "TOP"
         ],
         "xaxis": "x",
         "y": [
          0.5165,
          0.4977,
          0.4952
         ],
         "yaxis": "y"
        },
        {
         "alignmentgroup": "True",
         "hovertemplate": "Name=Malphite<br>Role=%{x}<br>Win %=%{y}<extra></extra>",
         "legendgroup": "Malphite",
         "marker": {
          "color": "#ab63fa",
          "pattern": {
           "shape": ""
          }
         },
         "name": "Malphite",
         "offsetgroup": "Malphite",
         "orientation": "v",
         "showlegend": true,
         "textposition": "auto",
         "type": "bar",
         "x": [
          "MID",
          "SUPPORT",
          "TOP"
         ],
         "xaxis": "x",
         "y": [
          0.5165,
          0.4632,
          0.5232
         ],
         "yaxis": "y"
        },
        {
         "alignmentgroup": "True",
         "hovertemplate": "Name=Lissandra<br>Role=%{x}<br>Win %=%{y}<extra></extra>",
         "legendgroup": "Lissandra",
         "marker": {
          "color": "#FFA15A",
          "pattern": {
           "shape": ""
          }
         },
         "name": "Lissandra",
         "offsetgroup": "Lissandra",
         "orientation": "v",
         "showlegend": true,
         "textposition": "auto",
         "type": "bar",
         "x": [
          "MID",
          "SUPPORT"
         ],
         "xaxis": "x",
         "y": [
          0.5183,
          0.4811
         ],
         "yaxis": "y"
        },
        {
         "alignmentgroup": "True",
         "hovertemplate": "Name=Malzahar<br>Role=%{x}<br>Win %=%{y}<extra></extra>",
         "legendgroup": "Malzahar",
         "marker": {
          "color": "#19d3f3",
          "pattern": {
           "shape": ""
          }
         },
         "name": "Malzahar",
         "offsetgroup": "Malzahar",
         "orientation": "v",
         "showlegend": true,
         "textposition": "auto",
         "type": "bar",
         "x": [
          "MID"
         ],
         "xaxis": "x",
         "y": [
          0.5185
         ],
         "yaxis": "y"
        },
        {
         "alignmentgroup": "True",
         "hovertemplate": "Name=Xerath<br>Role=%{x}<br>Win %=%{y}<extra></extra>",
         "legendgroup": "Xerath",
         "marker": {
          "color": "#FF6692",
          "pattern": {
           "shape": ""
          }
         },
         "name": "Xerath",
         "offsetgroup": "Xerath",
         "orientation": "v",
         "showlegend": true,
         "textposition": "auto",
         "type": "bar",
         "x": [
          "MID",
          "SUPPORT"
         ],
         "xaxis": "x",
         "y": [
          0.5238,
          0.5105
         ],
         "yaxis": "y"
        },
        {
         "alignmentgroup": "True",
         "hovertemplate": "Name=Cho'Gath<br>Role=%{x}<br>Win %=%{y}<extra></extra>",
         "legendgroup": "Cho'Gath",
         "marker": {
          "color": "#B6E880",
          "pattern": {
           "shape": ""
          }
         },
         "name": "Cho'Gath",
         "offsetgroup": "Cho'Gath",
         "orientation": "v",
         "showlegend": true,
         "textposition": "auto",
         "type": "bar",
         "x": [
          "MID",
          "TOP"
         ],
         "xaxis": "x",
         "y": [
          0.5282,
          0.5077
         ],
         "yaxis": "y"
        },
        {
         "alignmentgroup": "True",
         "hovertemplate": "Name=Gangplank<br>Role=%{x}<br>Win %=%{y}<extra></extra>",
         "legendgroup": "Gangplank",
         "marker": {
          "color": "#FF97FF",
          "pattern": {
           "shape": ""
          }
         },
         "name": "Gangplank",
         "offsetgroup": "Gangplank",
         "orientation": "v",
         "showlegend": true,
         "textposition": "auto",
         "type": "bar",
         "x": [
          "MID",
          "TOP"
         ],
         "xaxis": "x",
         "y": [
          0.5327,
          0.4821
         ],
         "yaxis": "y"
        },
        {
         "alignmentgroup": "True",
         "hovertemplate": "Name=Kennen<br>Role=%{x}<br>Win %=%{y}<extra></extra>",
         "legendgroup": "Kennen",
         "marker": {
          "color": "#FECB52",
          "pattern": {
           "shape": ""
          }
         },
         "name": "Kennen",
         "offsetgroup": "Kennen",
         "orientation": "v",
         "showlegend": true,
         "textposition": "auto",
         "type": "bar",
         "x": [
          "MID",
          "TOP"
         ],
         "xaxis": "x",
         "y": [
          0.5414,
          0.4879
         ],
         "yaxis": "y"
        },
        {
         "alignmentgroup": "True",
         "hovertemplate": "Name=Zilean<br>Role=%{x}<br>Win %=%{y}<extra></extra>",
         "legendgroup": "Zilean",
         "marker": {
          "color": "#636efa",
          "pattern": {
           "shape": ""
          }
         },
         "name": "Zilean",
         "offsetgroup": "Zilean",
         "orientation": "v",
         "showlegend": true,
         "textposition": "auto",
         "type": "bar",
         "x": [
          "MID",
          "SUPPORT"
         ],
         "xaxis": "x",
         "y": [
          0.5438,
          0.52
         ],
         "yaxis": "y"
        },
        {
         "alignmentgroup": "True",
         "hovertemplate": "Name=Singed<br>Role=%{x}<br>Win %=%{y}<extra></extra>",
         "legendgroup": "Singed",
         "marker": {
          "color": "#EF553B",
          "pattern": {
           "shape": ""
          }
         },
         "name": "Singed",
         "offsetgroup": "Singed",
         "orientation": "v",
         "showlegend": true,
         "textposition": "auto",
         "type": "bar",
         "x": [
          "MID",
          "TOP"
         ],
         "xaxis": "x",
         "y": [
          0.5526,
          0.5433
         ],
         "yaxis": "y"
        },
        {
         "alignmentgroup": "True",
         "hovertemplate": "Name=Shen<br>Role=%{x}<br>Win %=%{y}<extra></extra>",
         "legendgroup": "Shen",
         "marker": {
          "color": "#00cc96",
          "pattern": {
           "shape": ""
          }
         },
         "name": "Shen",
         "offsetgroup": "Shen",
         "orientation": "v",
         "showlegend": true,
         "textposition": "auto",
         "type": "bar",
         "x": [
          "SUPPORT",
          "TOP"
         ],
         "xaxis": "x",
         "y": [
          0.4779,
          0.5152
         ],
         "yaxis": "y"
        },
        {
         "alignmentgroup": "True",
         "hovertemplate": "Name=Lulu<br>Role=%{x}<br>Win %=%{y}<extra></extra>",
         "legendgroup": "Lulu",
         "marker": {
          "color": "#ab63fa",
          "pattern": {
           "shape": ""
          }
         },
         "name": "Lulu",
         "offsetgroup": "Lulu",
         "orientation": "v",
         "showlegend": true,
         "textposition": "auto",
         "type": "bar",
         "x": [
          "SUPPORT"
         ],
         "xaxis": "x",
         "y": [
          0.4802
         ],
         "yaxis": "y"
        },
        {
         "alignmentgroup": "True",
         "hovertemplate": "Name=Yuumi<br>Role=%{x}<br>Win %=%{y}<extra></extra>",
         "legendgroup": "Yuumi",
         "marker": {
          "color": "#FFA15A",
          "pattern": {
           "shape": ""
          }
         },
         "name": "Yuumi",
         "offsetgroup": "Yuumi",
         "orientation": "v",
         "showlegend": true,
         "textposition": "auto",
         "type": "bar",
         "x": [
          "SUPPORT"
         ],
         "xaxis": "x",
         "y": [
          0.4819
         ],
         "yaxis": "y"
        },
        {
         "alignmentgroup": "True",
         "hovertemplate": "Name=Karma<br>Role=%{x}<br>Win %=%{y}<extra></extra>",
         "legendgroup": "Karma",
         "marker": {
          "color": "#19d3f3",
          "pattern": {
           "shape": ""
          }
         },
         "name": "Karma",
         "offsetgroup": "Karma",
         "orientation": "v",
         "showlegend": true,
         "textposition": "auto",
         "type": "bar",
         "x": [
          "SUPPORT"
         ],
         "xaxis": "x",
         "y": [
          0.4824
         ],
         "yaxis": "y"
        },
        {
         "alignmentgroup": "True",
         "hovertemplate": "Name=Teemo<br>Role=%{x}<br>Win %=%{y}<extra></extra>",
         "legendgroup": "Teemo",
         "marker": {
          "color": "#FF6692",
          "pattern": {
           "shape": ""
          }
         },
         "name": "Teemo",
         "offsetgroup": "Teemo",
         "orientation": "v",
         "showlegend": true,
         "textposition": "auto",
         "type": "bar",
         "x": [
          "SUPPORT",
          "TOP"
         ],
         "xaxis": "x",
         "y": [
          0.4855,
          0.4965
         ],
         "yaxis": "y"
        },
        {
         "alignmentgroup": "True",
         "hovertemplate": "Name=Braum<br>Role=%{x}<br>Win %=%{y}<extra></extra>",
         "legendgroup": "Braum",
         "marker": {
          "color": "#B6E880",
          "pattern": {
           "shape": ""
          }
         },
         "name": "Braum",
         "offsetgroup": "Braum",
         "orientation": "v",
         "showlegend": true,
         "textposition": "auto",
         "type": "bar",
         "x": [
          "SUPPORT"
         ],
         "xaxis": "x",
         "y": [
          0.4858
         ],
         "yaxis": "y"
        },
        {
         "alignmentgroup": "True",
         "hovertemplate": "Name=Nautilus<br>Role=%{x}<br>Win %=%{y}<extra></extra>",
         "legendgroup": "Nautilus",
         "marker": {
          "color": "#FF97FF",
          "pattern": {
           "shape": ""
          }
         },
         "name": "Nautilus",
         "offsetgroup": "Nautilus",
         "orientation": "v",
         "showlegend": true,
         "textposition": "auto",
         "type": "bar",
         "x": [
          "SUPPORT"
         ],
         "xaxis": "x",
         "y": [
          0.4874
         ],
         "yaxis": "y"
        },
        {
         "alignmentgroup": "True",
         "hovertemplate": "Name=Leona<br>Role=%{x}<br>Win %=%{y}<extra></extra>",
         "legendgroup": "Leona",
         "marker": {
          "color": "#FECB52",
          "pattern": {
           "shape": ""
          }
         },
         "name": "Leona",
         "offsetgroup": "Leona",
         "orientation": "v",
         "showlegend": true,
         "textposition": "auto",
         "type": "bar",
         "x": [
          "SUPPORT"
         ],
         "xaxis": "x",
         "y": [
          0.4888
         ],
         "yaxis": "y"
        },
        {
         "alignmentgroup": "True",
         "hovertemplate": "Name=Pyke<br>Role=%{x}<br>Win %=%{y}<extra></extra>",
         "legendgroup": "Pyke",
         "marker": {
          "color": "#636efa",
          "pattern": {
           "shape": ""
          }
         },
         "name": "Pyke",
         "offsetgroup": "Pyke",
         "orientation": "v",
         "showlegend": true,
         "textposition": "auto",
         "type": "bar",
         "x": [
          "SUPPORT"
         ],
         "xaxis": "x",
         "y": [
          0.4908
         ],
         "yaxis": "y"
        },
        {
         "alignmentgroup": "True",
         "hovertemplate": "Name=Soraka<br>Role=%{x}<br>Win %=%{y}<extra></extra>",
         "legendgroup": "Soraka",
         "marker": {
          "color": "#EF553B",
          "pattern": {
           "shape": ""
          }
         },
         "name": "Soraka",
         "offsetgroup": "Soraka",
         "orientation": "v",
         "showlegend": true,
         "textposition": "auto",
         "type": "bar",
         "x": [
          "SUPPORT"
         ],
         "xaxis": "x",
         "y": [
          0.5003
         ],
         "yaxis": "y"
        },
        {
         "alignmentgroup": "True",
         "hovertemplate": "Name=Sona<br>Role=%{x}<br>Win %=%{y}<extra></extra>",
         "legendgroup": "Sona",
         "marker": {
          "color": "#00cc96",
          "pattern": {
           "shape": ""
          }
         },
         "name": "Sona",
         "offsetgroup": "Sona",
         "orientation": "v",
         "showlegend": true,
         "textposition": "auto",
         "type": "bar",
         "x": [
          "SUPPORT"
         ],
         "xaxis": "x",
         "y": [
          0.5042
         ],
         "yaxis": "y"
        },
        {
         "alignmentgroup": "True",
         "hovertemplate": "Name=Bard<br>Role=%{x}<br>Win %=%{y}<extra></extra>",
         "legendgroup": "Bard",
         "marker": {
          "color": "#ab63fa",
          "pattern": {
           "shape": ""
          }
         },
         "name": "Bard",
         "offsetgroup": "Bard",
         "orientation": "v",
         "showlegend": true,
         "textposition": "auto",
         "type": "bar",
         "x": [
          "SUPPORT"
         ],
         "xaxis": "x",
         "y": [
          0.5053
         ],
         "yaxis": "y"
        },
        {
         "alignmentgroup": "True",
         "hovertemplate": "Name=Alistar<br>Role=%{x}<br>Win %=%{y}<extra></extra>",
         "legendgroup": "Alistar",
         "marker": {
          "color": "#FFA15A",
          "pattern": {
           "shape": ""
          }
         },
         "name": "Alistar",
         "offsetgroup": "Alistar",
         "orientation": "v",
         "showlegend": true,
         "textposition": "auto",
         "type": "bar",
         "x": [
          "SUPPORT"
         ],
         "xaxis": "x",
         "y": [
          0.5081
         ],
         "yaxis": "y"
        },
        {
         "alignmentgroup": "True",
         "hovertemplate": "Name=Rakan<br>Role=%{x}<br>Win %=%{y}<extra></extra>",
         "legendgroup": "Rakan",
         "marker": {
          "color": "#19d3f3",
          "pattern": {
           "shape": ""
          }
         },
         "name": "Rakan",
         "offsetgroup": "Rakan",
         "orientation": "v",
         "showlegend": true,
         "textposition": "auto",
         "type": "bar",
         "x": [
          "SUPPORT"
         ],
         "xaxis": "x",
         "y": [
          0.5135
         ],
         "yaxis": "y"
        },
        {
         "alignmentgroup": "True",
         "hovertemplate": "Name=Senna<br>Role=%{x}<br>Win %=%{y}<extra></extra>",
         "legendgroup": "Senna",
         "marker": {
          "color": "#FF6692",
          "pattern": {
           "shape": ""
          }
         },
         "name": "Senna",
         "offsetgroup": "Senna",
         "orientation": "v",
         "showlegend": true,
         "textposition": "auto",
         "type": "bar",
         "x": [
          "SUPPORT"
         ],
         "xaxis": "x",
         "y": [
          0.5146
         ],
         "yaxis": "y"
        },
        {
         "alignmentgroup": "True",
         "hovertemplate": "Name=Milio<br>Role=%{x}<br>Win %=%{y}<extra></extra>",
         "legendgroup": "Milio",
         "marker": {
          "color": "#B6E880",
          "pattern": {
           "shape": ""
          }
         },
         "name": "Milio",
         "offsetgroup": "Milio",
         "orientation": "v",
         "showlegend": true,
         "textposition": "auto",
         "type": "bar",
         "x": [
          "SUPPORT"
         ],
         "xaxis": "x",
         "y": [
          0.5175
         ],
         "yaxis": "y"
        },
        {
         "alignmentgroup": "True",
         "hovertemplate": "Name=Renata Glasc<br>Role=%{x}<br>Win %=%{y}<extra></extra>",
         "legendgroup": "Renata Glasc",
         "marker": {
          "color": "#FF97FF",
          "pattern": {
           "shape": ""
          }
         },
         "name": "Renata Glasc",
         "offsetgroup": "Renata Glasc",
         "orientation": "v",
         "showlegend": true,
         "textposition": "auto",
         "type": "bar",
         "x": [
          "SUPPORT"
         ],
         "xaxis": "x",
         "y": [
          0.5179
         ],
         "yaxis": "y"
        },
        {
         "alignmentgroup": "True",
         "hovertemplate": "Name=Tahm Kench<br>Role=%{x}<br>Win %=%{y}<extra></extra>",
         "legendgroup": "Tahm Kench",
         "marker": {
          "color": "#FECB52",
          "pattern": {
           "shape": ""
          }
         },
         "name": "Tahm Kench",
         "offsetgroup": "Tahm Kench",
         "orientation": "v",
         "showlegend": true,
         "textposition": "auto",
         "type": "bar",
         "x": [
          "SUPPORT",
          "TOP"
         ],
         "xaxis": "x",
         "y": [
          0.5186,
          0.5224
         ],
         "yaxis": "y"
        },
        {
         "alignmentgroup": "True",
         "hovertemplate": "Name=Thresh<br>Role=%{x}<br>Win %=%{y}<extra></extra>",
         "legendgroup": "Thresh",
         "marker": {
          "color": "#636efa",
          "pattern": {
           "shape": ""
          }
         },
         "name": "Thresh",
         "offsetgroup": "Thresh",
         "orientation": "v",
         "showlegend": true,
         "textposition": "auto",
         "type": "bar",
         "x": [
          "SUPPORT"
         ],
         "xaxis": "x",
         "y": [
          0.5195
         ],
         "yaxis": "y"
        },
        {
         "alignmentgroup": "True",
         "hovertemplate": "Name=Blitzcrank<br>Role=%{x}<br>Win %=%{y}<extra></extra>",
         "legendgroup": "Blitzcrank",
         "marker": {
          "color": "#EF553B",
          "pattern": {
           "shape": ""
          }
         },
         "name": "Blitzcrank",
         "offsetgroup": "Blitzcrank",
         "orientation": "v",
         "showlegend": true,
         "textposition": "auto",
         "type": "bar",
         "x": [
          "SUPPORT"
         ],
         "xaxis": "x",
         "y": [
          0.5197
         ],
         "yaxis": "y"
        },
        {
         "alignmentgroup": "True",
         "hovertemplate": "Name=Janna<br>Role=%{x}<br>Win %=%{y}<extra></extra>",
         "legendgroup": "Janna",
         "marker": {
          "color": "#00cc96",
          "pattern": {
           "shape": ""
          }
         },
         "name": "Janna",
         "offsetgroup": "Janna",
         "orientation": "v",
         "showlegend": true,
         "textposition": "auto",
         "type": "bar",
         "x": [
          "SUPPORT"
         ],
         "xaxis": "x",
         "y": [
          0.5268
         ],
         "yaxis": "y"
        },
        {
         "alignmentgroup": "True",
         "hovertemplate": "Name=Zyra<br>Role=%{x}<br>Win %=%{y}<extra></extra>",
         "legendgroup": "Zyra",
         "marker": {
          "color": "#ab63fa",
          "pattern": {
           "shape": ""
          }
         },
         "name": "Zyra",
         "offsetgroup": "Zyra",
         "orientation": "v",
         "showlegend": true,
         "textposition": "auto",
         "type": "bar",
         "x": [
          "SUPPORT"
         ],
         "xaxis": "x",
         "y": [
          0.5275
         ],
         "yaxis": "y"
        },
        {
         "alignmentgroup": "True",
         "hovertemplate": "Name=Taric<br>Role=%{x}<br>Win %=%{y}<extra></extra>",
         "legendgroup": "Taric",
         "marker": {
          "color": "#FFA15A",
          "pattern": {
           "shape": ""
          }
         },
         "name": "Taric",
         "offsetgroup": "Taric",
         "orientation": "v",
         "showlegend": true,
         "textposition": "auto",
         "type": "bar",
         "x": [
          "SUPPORT"
         ],
         "xaxis": "x",
         "y": [
          0.5336
         ],
         "yaxis": "y"
        },
        {
         "alignmentgroup": "True",
         "hovertemplate": "Name=Nami<br>Role=%{x}<br>Win %=%{y}<extra></extra>",
         "legendgroup": "Nami",
         "marker": {
          "color": "#19d3f3",
          "pattern": {
           "shape": ""
          }
         },
         "name": "Nami",
         "offsetgroup": "Nami",
         "orientation": "v",
         "showlegend": true,
         "textposition": "auto",
         "type": "bar",
         "x": [
          "SUPPORT"
         ],
         "xaxis": "x",
         "y": [
          0.5343
         ],
         "yaxis": "y"
        },
        {
         "alignmentgroup": "True",
         "hovertemplate": "Name=Dr. Mundo<br>Role=%{x}<br>Win %=%{y}<extra></extra>",
         "legendgroup": "Dr. Mundo",
         "marker": {
          "color": "#FF6692",
          "pattern": {
           "shape": ""
          }
         },
         "name": "Dr. Mundo",
         "offsetgroup": "Dr. Mundo",
         "orientation": "v",
         "showlegend": true,
         "textposition": "auto",
         "type": "bar",
         "x": [
          "TOP"
         ],
         "xaxis": "x",
         "y": [
          0.4719
         ],
         "yaxis": "y"
        },
        {
         "alignmentgroup": "True",
         "hovertemplate": "Name=Renekton<br>Role=%{x}<br>Win %=%{y}<extra></extra>",
         "legendgroup": "Renekton",
         "marker": {
          "color": "#B6E880",
          "pattern": {
           "shape": ""
          }
         },
         "name": "Renekton",
         "offsetgroup": "Renekton",
         "orientation": "v",
         "showlegend": true,
         "textposition": "auto",
         "type": "bar",
         "x": [
          "TOP"
         ],
         "xaxis": "x",
         "y": [
          0.4777
         ],
         "yaxis": "y"
        },
        {
         "alignmentgroup": "True",
         "hovertemplate": "Name=Darius<br>Role=%{x}<br>Win %=%{y}<extra></extra>",
         "legendgroup": "Darius",
         "marker": {
          "color": "#FF97FF",
          "pattern": {
           "shape": ""
          }
         },
         "name": "Darius",
         "offsetgroup": "Darius",
         "orientation": "v",
         "showlegend": true,
         "textposition": "auto",
         "type": "bar",
         "x": [
          "TOP"
         ],
         "xaxis": "x",
         "y": [
          0.486
         ],
         "yaxis": "y"
        },
        {
         "alignmentgroup": "True",
         "hovertemplate": "Name=Riven<br>Role=%{x}<br>Win %=%{y}<extra></extra>",
         "legendgroup": "Riven",
         "marker": {
          "color": "#FECB52",
          "pattern": {
           "shape": ""
          }
         },
         "name": "Riven",
         "offsetgroup": "Riven",
         "orientation": "v",
         "showlegend": true,
         "textposition": "auto",
         "type": "bar",
         "x": [
          "TOP"
         ],
         "xaxis": "x",
         "y": [
          0.491
         ],
         "yaxis": "y"
        },
        {
         "alignmentgroup": "True",
         "hovertemplate": "Name=Kled<br>Role=%{x}<br>Win %=%{y}<extra></extra>",
         "legendgroup": "Kled",
         "marker": {
          "color": "#636efa",
          "pattern": {
           "shape": ""
          }
         },
         "name": "Kled",
         "offsetgroup": "Kled",
         "orientation": "v",
         "showlegend": true,
         "textposition": "auto",
         "type": "bar",
         "x": [
          "TOP"
         ],
         "xaxis": "x",
         "y": [
          0.4916
         ],
         "yaxis": "y"
        },
        {
         "alignmentgroup": "True",
         "hovertemplate": "Name=Mordekaiser<br>Role=%{x}<br>Win %=%{y}<extra></extra>",
         "legendgroup": "Mordekaiser",
         "marker": {
          "color": "#EF553B",
          "pattern": {
           "shape": ""
          }
         },
         "name": "Mordekaiser",
         "offsetgroup": "Mordekaiser",
         "orientation": "v",
         "showlegend": true,
         "textposition": "auto",
         "type": "bar",
         "x": [
          "TOP"
         ],
         "xaxis": "x",
         "y": [
          0.4935
         ],
         "yaxis": "y"
        },
        {
         "alignmentgroup": "True",
         "hovertemplate": "Name=Aatrox<br>Role=%{x}<br>Win %=%{y}<extra></extra>",
         "legendgroup": "Aatrox",
         "marker": {
          "color": "#00cc96",
          "pattern": {
           "shape": ""
          }
         },
         "name": "Aatrox",
         "offsetgroup": "Aatrox",
         "orientation": "v",
         "showlegend": true,
         "textposition": "auto",
         "type": "bar",
         "x": [
          "TOP"
         ],
         "xaxis": "x",
         "y": [
          0.4947
         ],
         "yaxis": "y"
        },
        {
         "alignmentgroup": "True",
         "hovertemplate": "Name=Sett<br>Role=%{x}<br>Win %=%{y}<extra></extra>",
         "legendgroup": "Sett",
         "marker": {
          "color": "#ab63fa",
          "pattern": {
           "shape": ""
          }
         },
         "name": "Sett",
         "offsetgroup": "Sett",
         "orientation": "v",
         "showlegend": true,
         "textposition": "auto",
         "type": "bar",
         "x": [
          "TOP"
         ],
         "xaxis": "x",
         "y": [
          0.4947
         ],
         "yaxis": "y"
        },
        {
         "alignmentgroup": "True",
         "hovertemplate": "Name=Illaoi<br>Role=%{x}<br>Win %=%{y}<extra></extra>",
         "legendgroup": "Illaoi",
         "marker": {
          "color": "#FFA15A",
          "pattern": {
           "shape": ""
          }
         },
         "name": "Illaoi",
         "offsetgroup": "Illaoi",
         "orientation": "v",
         "showlegend": true,
         "textposition": "auto",
         "type": "bar",
         "x": [
          "TOP"
         ],
         "xaxis": "x",
         "y": [
          0.4962
         ],
         "yaxis": "y"
        },
        {
         "alignmentgroup": "True",
         "hovertemplate": "Name=Gnar<br>Role=%{x}<br>Win %=%{y}<extra></extra>",
         "legendgroup": "Gnar",
         "marker": {
          "color": "#19d3f3",
          "pattern": {
           "shape": ""
          }
         },
         "name": "Gnar",
         "offsetgroup": "Gnar",
         "orientation": "v",
         "showlegend": true,
         "textposition": "auto",
         "type": "bar",
         "x": [
          "TOP"
         ],
         "xaxis": "x",
         "y": [
          0.4968
         ],
         "yaxis": "y"
        },
        {
         "alignmentgroup": "True",
         "hovertemplate": "Name=Fiora<br>Role=%{x}<br>Win %=%{y}<extra></extra>",
         "legendgroup": "Fiora",
         "marker": {
          "color": "#FF6692",
          "pattern": {
           "shape": ""
          }
         },
         "name": "Fiora",
         "offsetgroup": "Fiora",
         "orientation": "v",
         "showlegend": true,
         "textposition": "auto",
         "type": "bar",
         "x": [
          "TOP"
         ],
         "xaxis": "x",
         "y": [
          0.5058
         ],
         "yaxis": "y"
        },
        {
         "alignmentgroup": "True",
         "hovertemplate": "Name=K'Sante<br>Role=%{x}<br>Win %=%{y}<extra></extra>",
         "legendgroup": "K'Sante",
         "marker": {
          "color": "#B6E880",
          "pattern": {
           "shape": ""
          }
         },
         "name": "K'Sante",
         "offsetgroup": "K'Sante",
         "orientation": "v",
         "showlegend": true,
         "textposition": "auto",
         "type": "bar",
         "x": [
          "TOP"
         ],
         "xaxis": "x",
         "y": [
          0.511
         ],
         "yaxis": "y"
        },
        {
         "alignmentgroup": "True",
         "hovertemplate": "Name=Urgot<br>Role=%{x}<br>Win %=%{y}<extra></extra>",
         "legendgroup": "Urgot",
         "marker": {
          "color": "#FF97FF",
          "pattern": {
           "shape": ""
          }
         },
         "name": "Urgot",
         "offsetgroup": "Urgot",
         "orientation": "v",
         "showlegend": true,
         "textposition": "auto",
         "type": "bar",
         "x": [
          "TOP"
         ],
         "xaxis": "x",
         "y": [
          0.5139
         ],
         "yaxis": "y"
        },
        {
         "alignmentgroup": "True",
         "hovertemplate": "Name=Garen<br>Role=%{x}<br>Win %=%{y}<extra></extra>",
         "legendgroup": "Garen",
         "marker": {
          "color": "#FECB52",
          "pattern": {
           "shape": ""
          }
         },
         "name": "Garen",
         "offsetgroup": "Garen",
         "orientation": "v",
         "showlegend": true,
         "textposition": "auto",
         "type": "bar",
         "x": [
          "TOP"
         ],
         "xaxis": "x",
         "y": [
          0.516
         ],
         "yaxis": "y"
        },
        {
         "alignmentgroup": "True",
         "hovertemplate": "Name=Camille<br>Role=%{x}<br>Win %=%{y}<extra></extra>",
         "legendgroup": "Camille",
         "marker": {
          "color": "#636efa",
          "pattern": {
           "shape": ""
          }
         },
         "name": "Camille",
         "offsetgroup": "Camille",
         "orientation": "v",
         "showlegend": true,
         "textposition": "auto",
         "type": "bar",
         "x": [
          "TOP"
         ],
         "xaxis": "x",
         "y": [
          0.5199
         ],
         "yaxis": "y"
        },
        {
         "alignmentgroup": "True",
         "hovertemplate": "Name=Nasus<br>Role=%{x}<br>Win %=%{y}<extra></extra>",
         "legendgroup": "Nasus",
         "marker": {
          "color": "#EF553B",
          "pattern": {
           "shape": ""
          }
         },
         "name": "Nasus",
         "offsetgroup": "Nasus",
         "orientation": "v",
         "showlegend": true,
         "textposition": "auto",
         "type": "bar",
         "x": [
          "TOP"
         ],
         "xaxis": "x",
         "y": [
          0.5257
         ],
         "yaxis": "y"
        },
        {
         "alignmentgroup": "True",
         "hovertemplate": "Name=Kayle<br>Role=%{x}<br>Win %=%{y}<extra></extra>",
         "legendgroup": "Kayle",
         "marker": {
          "color": "#00cc96",
          "pattern": {
           "shape": ""
          }
         },
         "name": "Kayle",
         "offsetgroup": "Kayle",
         "orientation": "v",
         "showlegend": true,
         "textposition": "auto",
         "type": "bar",
         "x": [
          "TOP"
         ],
         "xaxis": "x",
         "y": [
          0.5317
         ],
         "yaxis": "y"
        },
        {
         "alignmentgroup": "True",
         "hovertemplate": "Name=Ornn<br>Role=%{x}<br>Win %=%{y}<extra></extra>",
         "legendgroup": "Ornn",
         "marker": {
          "color": "#ab63fa",
          "pattern": {
           "shape": ""
          }
         },
         "name": "Ornn",
         "offsetgroup": "Ornn",
         "orientation": "v",
         "showlegend": true,
         "textposition": "auto",
         "type": "bar",
         "x": [
          "TOP"
         ],
         "xaxis": "x",
         "y": [
          0.5337
         ],
         "yaxis": "y"
        },
        {
         "alignmentgroup": "True",
         "hovertemplate": "Name=Yorick<br>Role=%{x}<br>Win %=%{y}<extra></extra>",
         "legendgroup": "Yorick",
         "marker": {
          "color": "#FFA15A",
          "pattern": {
           "shape": ""
          }
         },
         "name": "Yorick",
         "offsetgroup": "Yorick",
         "orientation": "v",
         "showlegend": true,
         "textposition": "auto",
         "type": "bar",
         "x": [
          "TOP"
         ],
         "xaxis": "x",
         "y": [
          0.5389
         ],
         "yaxis": "y"
        }
       ],
       "layout": {
        "barmode": "relative",
        "legend": {
         "title": {
          "text": "Name"
         },
         "tracegroupgap": 0
        },
        "template": {
         "data": {
          "bar": [
           {
            "error_x": {
             "color": "#2a3f5f"
            },
            "error_y": {
             "color": "#2a3f5f"
            },
            "marker": {
             "line": {
              "color": "#E5ECF6",
              "width": 0.5
             },
             "pattern": {
              "fillmode": "overlay",
              "size": 10,
              "solidity": 0.2
             }
            },
            "type": "bar"
           }
          ],
          "barpolar": [
           {
            "marker": {
             "line": {
              "color": "#E5ECF6",
              "width": 0.5
             },
             "pattern": {
              "fillmode": "overlay",
              "size": 10,
              "solidity": 0.2
             }
            },
            "type": "barpolar"
           }
          ],
          "carpet": [
           {
            "aaxis": {
             "endlinecolor": "#2a3f5f",
             "gridcolor": "white",
             "linecolor": "white",
             "minorgridcolor": "white",
             "startlinecolor": "#2a3f5f"
            },
            "baxis": {
             "endlinecolor": "#2a3f5f",
             "gridcolor": "white",
             "linecolor": "white",
             "minorgridcolor": "white",
             "startlinecolor": "#2a3f5f"
            },
            "type": "carpet"
           }
          ],
          "choropleth": [
           {
            "colorbar": {
             "outlinewidth": 0,
             "ticks": ""
            },
            "type": "choropleth"
           }
          ],
          "contour": [
           {
            "colorbar": {
             "outlinewidth": 0,
             "ticks": ""
            },
            "colorscale": [
             [
              0,
              "#0d0887"
             ],
             [
              0.1111111111111111,
              "#46039f"
             ],
             [
              0.2222222222222222,
              "#7201a8"
             ],
             [
              0.3333333333333333,
              "#9c179e"
             ],
             [
              0.4444444444444444,
              "#bd3786"
             ],
             [
              0.5555555555555556,
              "#d8576b"
             ],
             [
              0.6666666666666666,
              "#ed7953"
             ],
             [
              0.7777777777777778,
              "#fb9f3a"
             ],
             [
              0.8888888888888888,
              "#fdca26"
             ],
             [
              1,
              "#f0f921"
             ]
            ],
            "type": "contour"
           }
          ],
          "contourcarpet": [
           {
            "colorbar": {
             "outlinewidth": 0,
             "ticks": ""
            },
            "type": "contourcarpet"
           }
          ],
          "heatmap": [
           {
            "colorbar": {
             "outlinewidth": 0,
             "ticks": ""
            },
            "colorscale": [
             [
              0,
              "#0d0887"
             ],
             [
              0.1111111111111111,
              "#46039f"
             ],
             [
              0.2222222222222222,
              "#7201a8"
             ],
             [
              0.3333333333333333,
              "#9c179e"
             ],
             [
              0.4444444444444444,
              "#bd3786"
             ],
             [
              0.5555555555555556,
              "#d8576b"
             ],
             [
              0.6666666666666666,
              "#ed7953"
             ],
             [
              0.7777777777777778,
              "#fb9f3a"
             ],
             [
              0.8888888888888888,
              "#fdca26"
             ],
             [
              1,
              "#f0f921"
             ]
            ],
            "type": "heatmap"
           }
          ],
          "heatmapgl": [
           {
            "colorbar": {
             "outlinewidth": 0,
             "ticks": ""
            },
            "colorscale": [
             [
              0,
              "#0d0887"
             ],
             [
              0.1111111111111111,
              "#46039f"
             ],
             [
              0.2222222222222222,
              "#7201a8"
             ],
             [
              0.3333333333333333,
              "#9c179e"
             ],
             [
              0.4444444444444444,
              "#bd3786"
             ],
             [
              0.5555555555555556,
              "#d8576b"
             ],
             [
              0.6666666666666666,
              "#ed7953"
             ],
             [
              0.7777777777777778,
              "#fb9f3a"
             ],
             [
              0.8888888888888888,
              "#fdca26"
             ],
             [
              1,
              "#f0f921"
             ]
            ],
            "type": "heatmapgl"
           }
          ],
          "histogram": [
           {
            "marker": {
             "pattern": {
              "fillmode": "overlay",
              "size": 10,
              "solidity": 0.2
             }
            },
            "type": "histogram"
           }
          ],
          "histogram2d": [
           {
            "colorbar": {
             "outlinewidth": 0,
             "ticks": ""
            },
            "colorscale": [
             [
              0,
              "#0d0887"
             ],
             [
              0.1111111111111111,
              "#46039f"
             ],
             [
              0.2222222222222222,
              "#7201a8"
             ],
             [
              0.3333333333333333,
              "#9c179e"
             ],
             [
              0.4444444444444444,
              "#bd3786"
             ],
             [
              0.5555555555555556,
              "#d8576b"
             ],
             [
              0.6666666666666666,
              "#ed7953"
             ],
             [
              0.7777777777777778,
              "#fb9f3a"
             ],
             [
              0.8888888888888888,
              "#fdca26"
             ],
             [
              1,
              "#f0f921"
             ]
            ],
            "type": "histogram2d"
           }
          ],
          "histogram2dcontour": [
           {
            "colorbar": {
             "outlinewidth": 0,
             "ticks": ""
            },
            "colorscale": [
             [
              0,
              "#0d0887"
             ],
             [
              0.1111111111111111,
              "#46039f"
             ],
             [
              0.2222222222222222,
              "#7201a8"
             ],
             [
              0.3333333333333333,
              "#9c179e"
             ],
             [
              0.4444444444444444,
              "#bd3786"
             ],
             [
              0.5555555555555556,
              "#d8576b"
             ],
             [
              0.6666666666666666,
              "#ed7953"
             ],
             [
              0.7777777777777778,
              "#fb9f3a"
             ],
             [
              0.8888888888888888,
              "#fdca26"
             ],
             [
              1,
              "#f0f921"
             ]
            ],
            "type": "histogram2dcontour"
           }
          ],
          "mesh3d": [
           {
            "colorbar": {
             "outlinewidth": 0,
             "ticks": ""
            },
            "type": "mesh3d"
           }
          ],
          "parcoords": [
           {
            "line": {
             "colorbar": {
              "outlinewidth": 0,
              "ticks": ""
             }
            },
            "type": "parcoords"
           }
          ],
          "pie": [
           {
            "automargin": true,
            "type": "pie"
           }
          ],
          "scatter": [
           {
            "fillpattern": {
             "fillmode": "overlay",
             "size": 10,
             "solidity": 0.2
            },
            "type": "scatter"
           }
          ],
          "scatter3d": [
           {
            "line": {
             "colorbar": {
              "outlinewidth": 0,
              "ticks": ""
             }
            },
            "marker": {
             "colorbar": {
              "outlinewidth": 0,
              "ticks": ""
             }
            },
            "type": "scatter3d"
           }
          ],
          "scattercarpet": [
           {
            "marker": {
             "colorbar": {
              "outlinewidth": 0,
              "ticks": ""
             }
            },
            "type": "scattercarpet"
           }
          ],
          "scattergeo": [
           {
            "marker": {
             "colorbar": {
              "outlinewidth": 0,
              "ticks": ""
             }
            },
            "type": "scattergeo"
           }
          ],
          "scattergl": [
           {
            "marker": {
             "colorbar": {
              "outlinewidth": 0,
              "ticks": ""
             }
            },
            "type": "scattergl"
           }
          ],
          "scattermapbox": [
           {
            "marker": {
             "colorbar": {
              "outlinewidth": 0,
              "ticks": ""
             }
            },
            "type": "scattermapbox"
           }
          ],
          "scatterpolar": [
           {
            "marker": {
             "colorbar": {
              "outlinewidth": 0,
              "ticks": ""
             }
            },
            "type": "scatterpolar"
           }
          ],
          "scatterpolargl": [
           {
            "marker": {
             "colorbar": {
              "outlinewidth": 0,
              "ticks": ""
             }
            },
            "type": "scatterpolargl"
           }
          ],
          "scatterternary": [
           {
            "marker": {
             "colorbar": {
              "outlinewidth": 0,
              "ticks": ""
             }
            },
            "type": "scatterternary"
           }
          ],
          "surface": [
           {
            "colorbar": {
             "outlinewidth": 0,
             "ticks": ""
            },
            "colorscale": [
             [
              0,
              "#0d0887"
             ],
             [
              0.1111111111111111,
              "#46039f"
             ],
             [
              0.2222222222222222,
              "#7201a8"
             ],
             [
              0.3333333333333333,
              "#9c179e"
             ],
             [
              0.4444444444444444,
              "#bd3786"
             ],
             [
              0.5555555555555556,
              "#d8576b"
             ],
             [
              0.6666666666666666,
              "#ed7953"
             ],
             [
              0.7777777777777778,
              "#fb9f3a"
             ],
             [
              0.8888888888888888,
              "#fdca26"
             ],
             [
              1,
              "#f0f921"
             ]
            ],
            "type": "surface"
           }
          ],
          "table": [
           {
            "cells": {
             "fill": {
              "color": "#EBF0F8"
             },
             "line": {
              "color": "white"
             }
            },
            "header": {
             "fill": {
              "color": "#C8D4E3"
             },
             "line": {
              "color": "white"
             }
            },
            "type": "table"
           }
          ]
         },
         "layout": {
          "annotationdefaults": {
           "arrowcolor": "#2a3f5f",
           "arrowhead": 0,
           "arrowwidth": 1
          },
          "autotypenumbers": "strict",
          "coloraxis": {
           "colorbar": {
            "outlinewidth": 0,
            "ticks": ""
           }
          },
          "colorscale": {
           "diverging": [
            [
             0,
             "#8e0152"
            ],
            [
             0.1,
             "#c51b7d"
            ],
            [
             0.2,
             "#de77ae"
            ],
            [
             0.3,
             "#f1b6da"
            ],
            [
             0.4,
             "#fde0ef"
            ],
            [
             0.5,
             "#f7f7f7"
            ],
            [
             0.6,
             "#e6f5d0"
            ],
            [
             0.7,
             "#b8e186"
            ],
            [
             0.8,
             "#7fbc41"
            ],
            [
             0.9,
             "#4d9221"
            ],
            [
             1,
             "#276419"
            ]
           ],
           "sequential": [
            [
             0,
             "#0d0887"
            ],
            [
             0.1111111111111111,
             "#46039f"
            ],
            [
             0.2222222222222222,
             "#7201a8"
            ],
            [
             0.3333333333333333,
             "#9c179e"
            ],
            [
             0.4444444444444444,
             "#bd3786"
            ],
            [
             0.5555555555555556,
             "#d8576b"
            ],
            [
             0.6666666666666666,
             "#ed7953"
            ],
            [
             0.7777777777777778,
             "#fb9f3a"
            ],
            [
             0.8888888888888888,
             "#fdca26"
            ],
            [
             1,
             "#f0f921"
            ]
           ],
           "sequentialminus": [
            [
             0,
             "#0d0887"
            ],
            [
             0.1111111111111111,
             "#46039f"
            ],
            [
             0.2222222222222222,
             "#7201a8"
            ],
            [
             0.3333333333333333,
             "#9c179e"
            ],
            [
             0.4444444444444444,
             "#bd3786"
            ],
            [
             0.5555555555555556,
             "#d8576b"
            ],
            [
             0.6666666666666666,
             "#ed7953"
            ],
            [
             0.7777777777777778,
             "#fb9f3a"
            ],
            [
             0.8888888888888888,
             "#fdca26"
            ],
            [
             1,
             "#f0f921"
            ]
           ]
          },
          "colorway": [
           "#636efa",
           "#EF553B",
           "#00cc96",
           "#ab63fa",
           "#FFA15A",
           "#19d3f3",
           "#FF6692",
           "#B6E880",
           "#FF97FF",
           "#FECB52"
          ],
          "font": {
           "color": "#2a3f5f"
          },
          "geo": {
           "bgcolor": "white",
           "lakecolor": "white",
           "landcolor": "#E5ECF6",
           "showlakes": true,
           "showland": true,
           "subunitcolor": "white"
          },
          "hoverlabel": {
           "align": "left"
          },
          "hovermode": "closest",
          "mapbox": {
           "style": "light"
          },
          "paper_bgcolor": "white",
          "plot_bgcolor": "#E5ECF6",
          "polar": {
           "angularaxis": {
            "gridcolor": "white",
            "linecolor": "white",
            "ticks": ""
           },
           "bgcolor": "#E5ECF6",
           "radialaxis": {
            "gridcolor": "white",
            "linecolor": "white",
            "ticks": ""
           }
          },
          "scene": {
           "xaxis": {
            "backgroundcolor": "#E5ECF6",
            "gridcolor": "white",
            "gridwidth": 2,
            "linecolor": "white",
            "showbackground": true,
            "ticks": "",
            "zerolinecolor": "white"
           },
           "yaxis": {
            "backgroundcolor": "#E5ECF6",
            "gridcolor": "white",
            "gridwidth": 2,
            "linecolor": "white",
            "showbackground": true,
            "ticks": "",
            "zerolinecolor": "white"
           },
           "zaxis": {
            "backgroundcolor": "#E5ECF6",
            "gridcolor": "white",
            "gridwidth": 2,
            "linecolor": "white",
            "showbackground": true,
            "ticks": "",
            "zerolinecolor": "white"
           }
          },
          "shapedefaults": {
           "line": {
            "color": "#2a3f5f"
           }
          },
          "ternary": {
           "aaxis": {
            "gridcolor": "white",
            "linecolor": "white",
            "ticks": ""
           },
           "baxis": {
            "gridcolor": "white",
            "linecolor": "white",
            "ticks": ""
           },
           "bgcolor": "#E5ECF6",
           "caxis": {
            "gridcolor": "white",
            "linecolor": "white",
            "ticks": ""
           }
          },
          "title": {
           "x": 0.05
          },
          "xaxis": {
           "automargin": true,
           "gridcolor": "white",
           "linecolor": "white",
           "ticks": "",
           "title": {
            "standoff": 15
           },
           "zerolinecolor": "white",
           "zerolinewidth": 2
          },
          "yaxis": {
           "automargin": true,
           "gridcolor": "white",
           "linecolor": "white",
           "ticks": "",
           "title": {
            "standoff": 15
           },
           "zerolinecolor": "white",
           "zerolinewidth": 2
          }
         }
        },
        "title": {
         "text": "Overal roles winrate"
        },
        "width": 700,
        "xaxis": {
         "anchor": "y",
         "domain": [
          0,
          1
         ],
         "title": {
          "text": "Role"
         }
        },
        "yaxis": {
         "anchor": "x",
         "domain": [
          0,
          1
         ],
         "title": {
          "text": "Win %"
         }
        }
       }
      }
     },
     "metadata": {},
     "output_type": "display_data"
    }
   ],
   "source": [
    "# Plotting which role have high overall winrates\n",
    "to_plt = df.groupby(['Role' ,'Win %' ,'Name']).size().reset_index()\n",
    "px.bar(to_plt, 'Role','Win %','Name',width=700, title='Overal roles winrate')"
   ]
  },
  {
   "cell_type": "markdown",
   "metadata": {},
   "source": [
    "![Overal roles winrate](orw.png)"
   ]
  },
  {
   "cell_type": "code",
   "execution_count": 92,
   "metadata": {},
   "outputs": [
    {
     "data": {
      "application/vnd.plotly.v1+json": {
       "config": {
        "plotlyServerURL": "https://plot.ly"
       },
       "data": [
        {
         "hovertemplate": "Name=Aatrox<br>Win %=%{x}<br>Ban %=%{y}<extra></extra>",
         "legendgroup": "Aatrox",
         "marker": {
          "color": "#636efa",
          "symbol": "circle"
         },
         "mode": "markers",
         "name": "Aatrox",
         "orientation": "v",
         "showlegend": true,
         "type": "scatter",
         "x": [
          0.4947
         ],
         "xaxis": "x",
         "y": [
          0.1352
         ],
         "yaxis": "y"
        },
        {
         "hovertemplate": "Name=Ahri<br>Win %=%{x}<br>Ban %=%{y}<extra></extra>",
         "legendgroup": "Ahri",
         "marker": {
          "color": "#EF553B",
          "symbol": "circle"
         },
         "mode": "markers",
         "name": "Ahri",
         "orientation": "v",
         "showlegend": true,
         "type": "scatter",
         "x": [
          0.4939
         ],
         "xaxis": "x",
         "y": [
          0.0308
         ],
         "yaxis": "y"
        },
        {
         "hovertemplate": "Name=Akali<br>Win %=%{x}<br>Ban %=%{y}<extra></extra>",
         "legendgroup": "Akali",
         "marker": {
          "color": "#00cc96",
          "symbol": "circle"
         },
         "mode": "markers",
         "name": "Akali",
         "orientation": "v",
         "showlegend": true,
         "type": "scatter",
         "x": [
          0.4784,
          0.4759
         ],
         "xaxis": "x",
         "y": [
          0.1383,
          0.1392
         ],
         "yaxis": "y"
        },
        {
         "hovertemplate": "Name=Akshan<br>Win %=%{x}<br>Ban %=%{y}<extra></extra>",
         "legendgroup": "Akshan",
         "marker": {
          "color": "#ab63fa",
          "symbol": "circle"
         },
         "mode": "markers",
         "name": "Akshan",
         "orientation": "v",
         "showlegend": true,
         "type": "scatter",
         "x": [
          0.5151,
          0.5074
         ],
         "xaxis": "x",
         "y": [
          0.0431,
          0.041
         ],
         "yaxis": "y"
        },
        {
         "hovertemplate": "Name=Alistar<br>Win %=%{x}<br>Ban %=%{y}<extra></extra>",
         "legendgroup": "Alistar",
         "marker": {
          "color": "#FFA15A",
          "symbol": "circle"
         },
         "mode": "markers",
         "name": "Alistar",
         "orientation": "v",
         "showlegend": true,
         "type": "scatter",
         "x": [
          0.5081
         ],
         "xaxis": "x",
         "y": [
          0.0366
         ],
         "yaxis": "y"
        },
        {
         "hovertemplate": "Name=Amumu<br>Win %=%{x}<br>Ban %=%{y}<extra></extra>",
         "legendgroup": "Amumu",
         "marker": {
          "color": "#19d3f3",
          "symbol": "circle"
         },
         "mode": "markers",
         "name": "Amumu",
         "orientation": "v",
         "showlegend": true,
         "type": "scatter",
         "x": [
          0.5079,
          0.5282
         ],
         "xaxis": "x",
         "y": [
          0.0126,
          0.0126
         ],
         "yaxis": "y"
        },
        {
         "hovertemplate": "Name=Anivia<br>Win %=%{x}<br>Ban %=%{y}<extra></extra>",
         "legendgroup": "Anivia",
         "marker": {
          "color": "#FF6692",
          "symbol": "circle"
         },
         "mode": "markers",
         "name": "Anivia",
         "orientation": "v",
         "showlegend": true,
         "type": "scatter",
         "x": [
          0.4962,
          0.474
         ],
         "xaxis": "x",
         "y": [
          0.0183,
          0.0169
         ],
         "yaxis": "y"
        },
        {
         "hovertemplate": "Name=Annie<br>Win %=%{x}<br>Ban %=%{y}<extra></extra>",
         "legendgroup": "Annie",
         "marker": {
          "color": "#B6E880",
          "symbol": "circle"
         },
         "mode": "markers",
         "name": "Annie",
         "orientation": "v",
         "showlegend": true,
         "type": "scatter",
         "x": [
          0.4793,
          0.482
         ],
         "xaxis": "x",
         "y": [
          0.0058,
          0.006
         ],
         "yaxis": "y"
        },
        {
         "hovertemplate": "Name=Aphelios<br>Win %=%{x}<br>Ban %=%{y}<extra></extra>",
         "legendgroup": "Aphelios",
         "marker": {
          "color": "#FF97FF",
          "symbol": "circle"
         },
         "mode": "markers",
         "name": "Aphelios",
         "orientation": "v",
         "showlegend": true,
         "type": "scatter",
         "x": [
          0.4628
         ],
         "xaxis": "x",
         "y": [
          0.0087
         ],
         "yaxis": "y"
        },
        {
         "hovertemplate": "Name=Ashe<br>Win %=%{x}<br>Ban %=%{y}<extra></extra>",
         "legendgroup": "Ashe",
         "marker": {
          "color": "#FECB52",
          "symbol": "circle"
         },
         "mode": "markers",
         "name": "Ashe",
         "orientation": "v",
         "showlegend": true,
         "type": "scatter",
         "x": [
          0.5213,
          0.4443
         ],
         "xaxis": "x",
         "y": [
          0.0417,
          0.0445
         ],
         "yaxis": "y"
        },
        {
         "hovertemplate": "Name=Aurelion Sol<br>Win %=%{x}<br>Ban %=%{y}<extra></extra>",
         "legendgroup": "Aurelion Sol",
         "marker": {
          "color": "#636efa",
          "symbol": "circle"
         },
         "mode": "markers",
         "name": "Aurelion Sol",
         "orientation": "v",
         "showlegend": true,
         "type": "scatter",
         "x": [
          0.4912
         ],
         "xaxis": "x",
         "y": [
          0.0241
         ],
         "yaxis": "y"
        },
        {
         "hovertemplate": "Name=Azir<br>Win %=%{x}<br>Ban %=%{y}<extra></extra>",
         "legendgroup": "Azir",
         "marker": {
          "color": "#EF553B",
          "symbol": "circle"
         },
         "mode": "markers",
         "name": "Azir",
         "orientation": "v",
         "showlegend": true,
         "type": "scatter",
         "x": [
          0.47
         ],
         "xaxis": "x",
         "y": [
          0.0074
         ],
         "yaxis": "y"
        },
        {
         "hovertemplate": "Name=Bard<br>Win %=%{x}<br>Ban %=%{y}<extra></extra>",
         "legendgroup": "Bard",
         "marker": {
          "color": "#00cc96",
          "symbol": "circle"
         },
         "mode": "markers",
         "name": "Bard",
         "orientation": "v",
         "showlegend": true,
         "type": "scatter",
         "x": [
          0.5053
         ],
         "xaxis": "x",
         "y": [
          0.0104
         ],
         "yaxis": "y"
        },
        {
         "hovertemplate": "Name=Bel'Veth<br>Win %=%{x}<br>Ban %=%{y}<extra></extra>",
         "legendgroup": "Bel'Veth",
         "marker": {
          "color": "#ab63fa",
          "symbol": "circle"
         },
         "mode": "markers",
         "name": "Bel'Veth",
         "orientation": "v",
         "showlegend": true,
         "type": "scatter",
         "x": [
          0.5041
         ],
         "xaxis": "x",
         "y": [
          0.0616
         ],
         "yaxis": "y"
        },
        {
         "hovertemplate": "Name=Blitzcrank<br>Win %=%{x}<br>Ban %=%{y}<extra></extra>",
         "legendgroup": "Blitzcrank",
         "marker": {
          "color": "#FFA15A",
          "symbol": "circle"
         },
         "mode": "markers",
         "name": "Blitzcrank",
         "orientation": "v",
         "showlegend": true,
         "type": "scatter",
         "x": [
          0.5197
         ],
         "xaxis": "x",
         "y": [
          0.2932
         ],
         "yaxis": "y"
        },
        {
         "hovertemplate": "Name=Brand<br>Win %=%{x}<br>Ban %=%{y}<extra></extra>",
         "legendgroup": "Brand",
         "marker": {
          "color": "#19d3f3",
          "symbol": "circle"
         },
         "mode": "markers",
         "name": "Brand",
         "orientation": "v",
         "showlegend": true,
         "type": "scatter",
         "x": [
          0.5149,
          0.4953,
          0.4957
         ],
         "xaxis": "x",
         "y": [
          0.0367,
          0.0367,
          0.035
         ],
         "yaxis": "y"
        },
        {
         "hovertemplate": "Name=Braum<br>Win %=%{x}<br>Ban %=%{y}<extra></extra>",
         "legendgroup": "Braum",
         "marker": {
          "color": "#FF6692",
          "symbol": "circle"
         },
         "mode": "markers",
         "name": "Braum",
         "orientation": "v",
         "showlegend": true,
         "type": "scatter",
         "x": [
          0.4858
         ],
         "xaxis": "x",
         "y": [
          0.0073
         ],
         "yaxis": "y"
        },
        {
         "hovertemplate": "Name=Briar<br>Win %=%{x}<br>Ban %=%{y}<extra></extra>",
         "legendgroup": "Briar",
         "marker": {
          "color": "#B6E880",
          "symbol": "circle"
         },
         "mode": "markers",
         "name": "Briar",
         "orientation": "v",
         "showlegend": true,
         "type": "scatter",
         "x": [
          0.5086
         ],
         "xaxis": "x",
         "y": [
          0.3862
         ],
         "yaxis": "y"
        },
        {
         "hovertemplate": "Name=Caitlyn<br>Win %=%{x}<br>Ban %=%{y}<extra></extra>",
         "legendgroup": "Caitlyn",
         "marker": {
          "color": "#FF97FF",
          "symbol": "circle"
         },
         "mode": "markers",
         "name": "Caitlyn",
         "orientation": "v",
         "showlegend": true,
         "type": "scatter",
         "x": [
          0.5126
         ],
         "xaxis": "x",
         "y": [
          0.1456
         ],
         "yaxis": "y"
        },
        {
         "hovertemplate": "Name=Camille<br>Win %=%{x}<br>Ban %=%{y}<extra></extra>",
         "legendgroup": "Camille",
         "marker": {
          "color": "#FECB52",
          "symbol": "circle"
         },
         "mode": "markers",
         "name": "Camille",
         "orientation": "v",
         "showlegend": true,
         "type": "scatter",
         "x": [
          0.5199
         ],
         "xaxis": "x",
         "y": [
          0.0267
         ],
         "yaxis": "y"
        },
        {
         "hovertemplate": "Name=Cassiopeia<br>Win %=%{x}<br>Ban %=%{y}<extra></extra>",
         "legendgroup": "Cassiopeia",
         "marker": {
          "color": "#636efa",
          "symbol": "circle"
         },
         "mode": "markers",
         "name": "Cassiopeia",
         "orientation": "v",
         "showlegend": true,
         "type": "scatter",
         "x": [
          0.4886,
          0.4883
         ],
         "xaxis": "x",
         "y": [
          0.0178,
          0.0176
         ],
         "yaxis": "y"
        },
        {
         "hovertemplate": "Name=Cho'Gath<br>Win %=%{x}<br>Ban %=%{y}<extra></extra>",
         "legendgroup": "Cho'Gath",
         "marker": {
          "color": "#EF553B",
          "symbol": "circle"
         },
         "mode": "markers",
         "name": "Cho'Gath",
         "orientation": "v",
         "showlegend": true,
         "type": "scatter",
         "x": [
          0.5077,
          0.5282
         ],
         "xaxis": "x",
         "y": [
          0.0086,
          0.0082
         ],
         "yaxis": "y"
        },
        {
         "hovertemplate": "Name=Corki<br>Win %=%{x}<br>Ban %=%{y}<extra></extra>",
         "legendgroup": "Corki",
         "marker": {
          "color": "#00cc96",
          "symbol": "circle"
         },
         "mode": "markers",
         "name": "Corki",
         "orientation": "v",
         "showlegend": true,
         "type": "scatter",
         "x": [
          0.4797
         ],
         "xaxis": "x",
         "y": [
          0.0015
         ],
         "yaxis": "y"
        },
        {
         "hovertemplate": "Name=Darius<br>Win %=%{x}<br>Ban %=%{y}<extra></extra>",
         "legendgroup": "Darius",
         "marker": {
          "color": "#ab63fa",
          "symbol": "circle"
         },
         "mode": "markers",
         "name": "Darius",
         "orientation": "v",
         "showlegend": true,
         "type": "scatter",
         "x": [
          0.486
         ],
         "xaxis": "x",
         "y": [
          0.1823
         ],
         "yaxis": "y"
        },
        {
         "hovertemplate": "Name=Diana<br>Win %=%{x}<br>Ban %=%{y}<extra></extra>",
         "legendgroup": "Diana",
         "marker": {
          "color": "#FFA15A",
          "symbol": "circle"
         },
         "mode": "markers",
         "name": "Diana",
         "orientation": "v",
         "showlegend": true,
         "type": "scatter",
         "x": [
          0.5078,
          0.5092
         ],
         "xaxis": "x",
         "y": [
          0.0165,
          0.0171
         ],
         "yaxis": "y"
        },
        {
         "hovertemplate": "Name=Dr. Mundo<br>Win %=%{x}<br>Ban %=%{y}<extra></extra>",
         "legendgroup": "Dr. Mundo",
         "marker": {
          "color": "#19d3f3",
          "symbol": "circle"
         },
         "mode": "markers",
         "name": "Dr. Mundo",
         "orientation": "v",
         "showlegend": true,
         "type": "scatter",
         "x": [
          0.4719
         ],
         "xaxis": "x",
         "y": [
          0.025
         ],
         "yaxis": "y"
        },
        {
         "hovertemplate": "Name=Draven<br>Win %=%{x}<br>Ban %=%{y}<extra></extra>",
         "legendgroup": "Draven",
         "marker": {
          "color": "#FF6692",
          "symbol": "circle"
         },
         "mode": "markers",
         "name": "Draven",
         "orientation": "v",
         "showlegend": true,
         "type": "scatter",
         "x": [
          0.4997
         ],
         "xaxis": "x",
         "y": [
          0.1644
         ],
         "yaxis": "y"
        },
        {
         "hovertemplate": "Name=Ekko<br>Win %=%{x}<br>Ban %=%{y}<extra></extra>",
         "legendgroup": "Ekko",
         "marker": {
          "color": "#B6E880",
          "symbol": "circle"
         },
         "mode": "markers",
         "name": "Ekko",
         "orientation": "v",
         "showlegend": true,
         "type": "scatter",
         "x": [
          0.5246,
          0.5117
         ],
         "xaxis": "x",
         "y": [
          0.0318,
          0.0318
         ],
         "yaxis": "y"
        },
        {
         "hovertemplate": "Name=Elise<br>Win %=%{x}<br>Ban %=%{y}<extra></extra>",
         "legendgroup": "Elise",
         "marker": {
          "color": "#FF97FF",
          "symbol": "circle"
         },
         "mode": "markers",
         "name": "Elise",
         "orientation": "v",
         "showlegend": true,
         "type": "scatter",
         "x": [
          0.5007
         ],
         "xaxis": "x",
         "y": [
          0.0203
         ],
         "yaxis": "y"
        },
        {
         "hovertemplate": "Name=Evelynn<br>Win %=%{x}<br>Ban %=%{y}<extra></extra>",
         "legendgroup": "Evelynn",
         "marker": {
          "color": "#FECB52",
          "symbol": "circle"
         },
         "mode": "markers",
         "name": "Evelynn",
         "orientation": "v",
         "showlegend": true,
         "type": "scatter",
         "x": [
          0.4976
         ],
         "xaxis": "x",
         "y": [
          0.1089
         ],
         "yaxis": "y"
        },
        {
         "hovertemplate": "Name=Ezreal<br>Win %=%{x}<br>Ban %=%{y}<extra></extra>",
         "legendgroup": "Ezreal",
         "marker": {
          "color": "#636efa",
          "symbol": "circle"
         },
         "mode": "markers",
         "name": "Ezreal",
         "orientation": "v",
         "showlegend": true,
         "type": "scatter",
         "x": [
          0.4919
         ],
         "xaxis": "x",
         "y": [
          0.0985
         ],
         "yaxis": "y"
        },
        {
         "hovertemplate": "Name=Fiddlesticks<br>Win %=%{x}<br>Ban %=%{y}<extra></extra>",
         "legendgroup": "Fiddlesticks",
         "marker": {
          "color": "#EF553B",
          "symbol": "circle"
         },
         "mode": "markers",
         "name": "Fiddlesticks",
         "orientation": "v",
         "showlegend": true,
         "type": "scatter",
         "x": [
          0.4907,
          0.5136
         ],
         "xaxis": "x",
         "y": [
          0.044,
          0.0411
         ],
         "yaxis": "y"
        },
        {
         "hovertemplate": "Name=Fiora<br>Win %=%{x}<br>Ban %=%{y}<extra></extra>",
         "legendgroup": "Fiora",
         "marker": {
          "color": "#00cc96",
          "symbol": "circle"
         },
         "mode": "markers",
         "name": "Fiora",
         "orientation": "v",
         "showlegend": true,
         "type": "scatter",
         "x": [
          0.5058
         ],
         "xaxis": "x",
         "y": [
          0.1107
         ],
         "yaxis": "y"
        },
        {
         "hovertemplate": "Name=Fizz<br>Win %=%{x}<br>Ban %=%{y}<extra></extra>",
         "legendgroup": "Fizz",
         "marker": {
          "color": "#ab63fa",
          "symbol": "circle"
         },
         "mode": "markers",
         "name": "Fizz",
         "orientation": "v",
         "showlegend": true,
         "type": "scatter",
         "x": [
          0.5114
         ],
         "xaxis": "x",
         "y": [
          0.0779
         ],
         "yaxis": "y"
        },
        {
         "hovertemplate": "Name=Galio<br>Win %=%{x}<br>Ban %=%{y}<extra></extra>",
         "legendgroup": "Galio",
         "marker": {
          "color": "#FFA15A",
          "symbol": "circle"
         },
         "mode": "markers",
         "name": "Galio",
         "orientation": "v",
         "showlegend": true,
         "type": "scatter",
         "x": [
          0.5103,
          0.5012
         ],
         "xaxis": "x",
         "y": [
          0.0023,
          0.0023
         ],
         "yaxis": "y"
        },
        {
         "hovertemplate": "Name=Gangplank<br>Win %=%{x}<br>Ban %=%{y}<extra></extra>",
         "legendgroup": "Gangplank",
         "marker": {
          "color": "#19d3f3",
          "symbol": "circle"
         },
         "mode": "markers",
         "name": "Gangplank",
         "orientation": "v",
         "showlegend": true,
         "type": "scatter",
         "x": [
          0.4821,
          0.5327
         ],
         "xaxis": "x",
         "y": [
          0.0452,
          0.0513
         ],
         "yaxis": "y"
        },
        {
         "hovertemplate": "Name=Garen<br>Win %=%{x}<br>Ban %=%{y}<extra></extra>",
         "legendgroup": "Garen",
         "marker": {
          "color": "#FF6692",
          "symbol": "circle"
         },
         "mode": "markers",
         "name": "Garen",
         "orientation": "v",
         "showlegend": true,
         "type": "scatter",
         "x": [
          0.516
         ],
         "xaxis": "x",
         "y": [
          0.0883
         ],
         "yaxis": "y"
        },
        {
         "hovertemplate": "Name=Gnar<br>Win %=%{x}<br>Ban %=%{y}<extra></extra>",
         "legendgroup": "Gnar",
         "marker": {
          "color": "#B6E880",
          "symbol": "circle"
         },
         "mode": "markers",
         "name": "Gnar",
         "orientation": "v",
         "showlegend": true,
         "type": "scatter",
         "x": [
          0.4968
         ],
         "xaxis": "x",
         "y": [
          0.0052
         ],
         "yaxis": "y"
        },
        {
         "hovertemplate": "Name=Gragas<br>Win %=%{x}<br>Ban %=%{y}<extra></extra>",
         "legendgroup": "Gragas",
         "marker": {
          "color": "#FF97FF",
          "symbol": "circle"
         },
         "mode": "markers",
         "name": "Gragas",
         "orientation": "v",
         "showlegend": true,
         "type": "scatter",
         "x": [
          0.4884,
          0.5121,
          0.4466
         ],
         "xaxis": "x",
         "y": [
          0.0124,
          0.0121,
          0.0121
         ],
         "yaxis": "y"
        },
        {
         "hovertemplate": "Name=Graves<br>Win %=%{x}<br>Ban %=%{y}<extra></extra>",
         "legendgroup": "Graves",
         "marker": {
          "color": "#FECB52",
          "symbol": "circle"
         },
         "mode": "markers",
         "name": "Graves",
         "orientation": "v",
         "showlegend": true,
         "type": "scatter",
         "x": [
          0.5168
         ],
         "xaxis": "x",
         "y": [
          0.1332
         ],
         "yaxis": "y"
        },
        {
         "hovertemplate": "Name=Gwen<br>Win %=%{x}<br>Ban %=%{y}<extra></extra>",
         "legendgroup": "Gwen",
         "marker": {
          "color": "#636efa",
          "symbol": "circle"
         },
         "mode": "markers",
         "name": "Gwen",
         "orientation": "v",
         "showlegend": true,
         "type": "scatter",
         "x": [
          0.5056,
          0.5127
         ],
         "xaxis": "x",
         "y": [
          0.0224,
          0.0217
         ],
         "yaxis": "y"
        },
        {
         "hovertemplate": "Name=Hecarim<br>Win %=%{x}<br>Ban %=%{y}<extra></extra>",
         "legendgroup": "Hecarim",
         "marker": {
          "color": "#EF553B",
          "symbol": "circle"
         },
         "mode": "markers",
         "name": "Hecarim",
         "orientation": "v",
         "showlegend": true,
         "type": "scatter",
         "x": [
          0.4996
         ],
         "xaxis": "x",
         "y": [
          0.0529
         ],
         "yaxis": "y"
        },
        {
         "hovertemplate": "Name=Heimerdinger<br>Win %=%{x}<br>Ban %=%{y}<extra></extra>",
         "legendgroup": "Heimerdinger",
         "marker": {
          "color": "#00cc96",
          "symbol": "circle"
         },
         "mode": "markers",
         "name": "Heimerdinger",
         "orientation": "v",
         "showlegend": true,
         "type": "scatter",
         "x": [
          0.5165,
          0.4977,
          0.4952
         ],
         "xaxis": "x",
         "y": [
          0.0167,
          0.0154,
          0.0154
         ],
         "yaxis": "y"
        },
        {
         "hovertemplate": "Name=Illaoi<br>Win %=%{x}<br>Ban %=%{y}<extra></extra>",
         "legendgroup": "Illaoi",
         "marker": {
          "color": "#ab63fa",
          "symbol": "circle"
         },
         "mode": "markers",
         "name": "Illaoi",
         "orientation": "v",
         "showlegend": true,
         "type": "scatter",
         "x": [
          0.4962
         ],
         "xaxis": "x",
         "y": [
          0.128
         ],
         "yaxis": "y"
        },
        {
         "hovertemplate": "Name=Irelia<br>Win %=%{x}<br>Ban %=%{y}<extra></extra>",
         "legendgroup": "Irelia",
         "marker": {
          "color": "#FFA15A",
          "symbol": "circle"
         },
         "mode": "markers",
         "name": "Irelia",
         "orientation": "v",
         "showlegend": true,
         "type": "scatter",
         "x": [
          0.4969,
          0.4872
         ],
         "xaxis": "x",
         "y": [
          0.0988,
          0.0988
         ],
         "yaxis": "y"
        },
        {
         "hovertemplate": "Name=Ivern<br>Win %=%{x}<br>Ban %=%{y}<extra></extra>",
         "legendgroup": "Ivern",
         "marker": {
          "color": "#19d3f3",
          "symbol": "circle"
         },
         "mode": "markers",
         "name": "Ivern",
         "orientation": "v",
         "showlegend": true,
         "type": "scatter",
         "x": [
          0.5194
         ],
         "xaxis": "x",
         "y": [
          0.0199
         ],
         "yaxis": "y"
        },
        {
         "hovertemplate": "Name=Janna<br>Win %=%{x}<br>Ban %=%{y}<extra></extra>",
         "legendgroup": "Janna",
         "marker": {
          "color": "#FF6692",
          "symbol": "circle"
         },
         "mode": "markers",
         "name": "Janna",
         "orientation": "v",
         "showlegend": true,
         "type": "scatter",
         "x": [
          0.5268
         ],
         "xaxis": "x",
         "y": [
          0.0081
         ],
         "yaxis": "y"
        },
        {
         "hovertemplate": "Name=Jarvan IV<br>Win %=%{x}<br>Ban %=%{y}<extra></extra>",
         "legendgroup": "Jarvan IV",
         "marker": {
          "color": "#B6E880",
          "symbol": "circle"
         },
         "mode": "markers",
         "name": "Jarvan IV",
         "orientation": "v",
         "showlegend": true,
         "type": "scatter",
         "x": [
          0.5151
         ],
         "xaxis": "x",
         "y": [
          0.0881
         ],
         "yaxis": "y"
        },
        {
         "hovertemplate": "Name=Jax<br>Win %=%{x}<br>Ban %=%{y}<extra></extra>",
         "legendgroup": "Jax",
         "marker": {
          "color": "#FF97FF",
          "symbol": "circle"
         },
         "mode": "markers",
         "name": "Jax",
         "orientation": "v",
         "showlegend": true,
         "type": "scatter",
         "x": [
          0.5078,
          0.4809
         ],
         "xaxis": "x",
         "y": [
          0.155,
          0.1417
         ],
         "yaxis": "y"
        },
        {
         "hovertemplate": "Name=Jayce<br>Win %=%{x}<br>Ban %=%{y}<extra></extra>",
         "legendgroup": "Jayce",
         "marker": {
          "color": "#FECB52",
          "symbol": "circle"
         },
         "mode": "markers",
         "name": "Jayce",
         "orientation": "v",
         "showlegend": true,
         "type": "scatter",
         "x": [
          0.5005,
          0.4842
         ],
         "xaxis": "x",
         "y": [
          0.0491,
          0.0491
         ],
         "yaxis": "y"
        },
        {
         "hovertemplate": "Name=Jhin<br>Win %=%{x}<br>Ban %=%{y}<extra></extra>",
         "legendgroup": "Jhin",
         "marker": {
          "color": "#636efa",
          "symbol": "circle"
         },
         "mode": "markers",
         "name": "Jhin",
         "orientation": "v",
         "showlegend": true,
         "type": "scatter",
         "x": [
          0.5173
         ],
         "xaxis": "x",
         "y": [
          0.0193
         ],
         "yaxis": "y"
        },
        {
         "hovertemplate": "Name=Jinx<br>Win %=%{x}<br>Ban %=%{y}<extra></extra>",
         "legendgroup": "Jinx",
         "marker": {
          "color": "#EF553B",
          "symbol": "circle"
         },
         "mode": "markers",
         "name": "Jinx",
         "orientation": "v",
         "showlegend": true,
         "type": "scatter",
         "x": [
          0.5182
         ],
         "xaxis": "x",
         "y": [
          0.0877
         ],
         "yaxis": "y"
        },
        {
         "hovertemplate": "Name=K'Sante<br>Win %=%{x}<br>Ban %=%{y}<extra></extra>",
         "legendgroup": "K'Sante",
         "marker": {
          "color": "#00cc96",
          "symbol": "circle"
         },
         "mode": "markers",
         "name": "K'Sante",
         "orientation": "v",
         "showlegend": true,
         "type": "scatter",
         "x": [
          0.511
         ],
         "xaxis": "x",
         "y": [
          0.0614
         ],
         "yaxis": "y"
        },
        {
         "hovertemplate": "Name=Kai'Sa<br>Win %=%{x}<br>Ban %=%{y}<extra></extra>",
         "legendgroup": "Kai'Sa",
         "marker": {
          "color": "#ab63fa",
          "symbol": "circle"
         },
         "mode": "markers",
         "name": "Kai'Sa",
         "orientation": "v",
         "showlegend": true,
         "type": "scatter",
         "x": [
          0.4916
         ],
         "xaxis": "x",
         "y": [
          0.1011
         ],
         "yaxis": "y"
        },
        {
         "hovertemplate": "Name=Kalista<br>Win %=%{x}<br>Ban %=%{y}<extra></extra>",
         "legendgroup": "Kalista",
         "marker": {
          "color": "#FFA15A",
          "symbol": "circle"
         },
         "mode": "markers",
         "name": "Kalista",
         "orientation": "v",
         "showlegend": true,
         "type": "scatter",
         "x": [
          0.4974
         ],
         "xaxis": "x",
         "y": [
          0.0313
         ],
         "yaxis": "y"
        },
        {
         "hovertemplate": "Name=Karma<br>Win %=%{x}<br>Ban %=%{y}<extra></extra>",
         "legendgroup": "Karma",
         "marker": {
          "color": "#19d3f3",
          "symbol": "circle"
         },
         "mode": "markers",
         "name": "Karma",
         "orientation": "v",
         "showlegend": true,
         "type": "scatter",
         "x": [
          0.4824
         ],
         "xaxis": "x",
         "y": [
          0.0169
         ],
         "yaxis": "y"
        },
        {
         "hovertemplate": "Name=Karthus<br>Win %=%{x}<br>Ban %=%{y}<extra></extra>",
         "legendgroup": "Karthus",
         "marker": {
          "color": "#FF6692",
          "symbol": "circle"
         },
         "mode": "markers",
         "name": "Karthus",
         "orientation": "v",
         "showlegend": true,
         "type": "scatter",
         "x": [
          0.5043,
          0.5102
         ],
         "xaxis": "x",
         "y": [
          0.0571,
          0.0468
         ],
         "yaxis": "y"
        },
        {
         "hovertemplate": "Name=Kassadin<br>Win %=%{x}<br>Ban %=%{y}<extra></extra>",
         "legendgroup": "Kassadin",
         "marker": {
          "color": "#B6E880",
          "symbol": "circle"
         },
         "mode": "markers",
         "name": "Kassadin",
         "orientation": "v",
         "showlegend": true,
         "type": "scatter",
         "x": [
          0.5083
         ],
         "xaxis": "x",
         "y": [
          0.0618
         ],
         "yaxis": "y"
        },
        {
         "hovertemplate": "Name=Katarina<br>Win %=%{x}<br>Ban %=%{y}<extra></extra>",
         "legendgroup": "Katarina",
         "marker": {
          "color": "#FF97FF",
          "symbol": "circle"
         },
         "mode": "markers",
         "name": "Katarina",
         "orientation": "v",
         "showlegend": true,
         "type": "scatter",
         "x": [
          0.4861
         ],
         "xaxis": "x",
         "y": [
          0.0688
         ],
         "yaxis": "y"
        },
        {
         "hovertemplate": "Name=Kayle<br>Win %=%{x}<br>Ban %=%{y}<extra></extra>",
         "legendgroup": "Kayle",
         "marker": {
          "color": "#FECB52",
          "symbol": "circle"
         },
         "mode": "markers",
         "name": "Kayle",
         "orientation": "v",
         "showlegend": true,
         "type": "scatter",
         "x": [
          0.5317
         ],
         "xaxis": "x",
         "y": [
          0.0146
         ],
         "yaxis": "y"
        },
        {
         "hovertemplate": "Name=Kayn<br>Win %=%{x}<br>Ban %=%{y}<extra></extra>",
         "legendgroup": "Kayn",
         "marker": {
          "color": "#636efa",
          "symbol": "circle"
         },
         "mode": "markers",
         "name": "Kayn",
         "orientation": "v",
         "showlegend": true,
         "type": "scatter",
         "x": [
          0.5155
         ],
         "xaxis": "x",
         "y": [
          0.0794
         ],
         "yaxis": "y"
        },
        {
         "hovertemplate": "Name=Kennen<br>Win %=%{x}<br>Ban %=%{y}<extra></extra>",
         "legendgroup": "Kennen",
         "marker": {
          "color": "#EF553B",
          "symbol": "circle"
         },
         "mode": "markers",
         "name": "Kennen",
         "orientation": "v",
         "showlegend": true,
         "type": "scatter",
         "x": [
          0.5414,
          0.4879
         ],
         "xaxis": "x",
         "y": [
          0.0124,
          0.0147
         ],
         "yaxis": "y"
        },
        {
         "hovertemplate": "Name=Kha'Zix<br>Win %=%{x}<br>Ban %=%{y}<extra></extra>",
         "legendgroup": "Kha'Zix",
         "marker": {
          "color": "#00cc96",
          "symbol": "circle"
         },
         "mode": "markers",
         "name": "Kha'Zix",
         "orientation": "v",
         "showlegend": true,
         "type": "scatter",
         "x": [
          0.501
         ],
         "xaxis": "x",
         "y": [
          0.0716
         ],
         "yaxis": "y"
        },
        {
         "hovertemplate": "Name=Kindred<br>Win %=%{x}<br>Ban %=%{y}<extra></extra>",
         "legendgroup": "Kindred",
         "marker": {
          "color": "#ab63fa",
          "symbol": "circle"
         },
         "mode": "markers",
         "name": "Kindred",
         "orientation": "v",
         "showlegend": true,
         "type": "scatter",
         "x": [
          0.4948
         ],
         "xaxis": "x",
         "y": [
          0.021
         ],
         "yaxis": "y"
        },
        {
         "hovertemplate": "Name=Kled<br>Win %=%{x}<br>Ban %=%{y}<extra></extra>",
         "legendgroup": "Kled",
         "marker": {
          "color": "#FFA15A",
          "symbol": "circle"
         },
         "mode": "markers",
         "name": "Kled",
         "orientation": "v",
         "showlegend": true,
         "type": "scatter",
         "x": [
          0.4916
         ],
         "xaxis": "x",
         "y": [
          0.0101
         ],
         "yaxis": "y"
        },
        {
         "hovertemplate": "Name=Kog'Maw<br>Win %=%{x}<br>Ban %=%{y}<extra></extra>",
         "legendgroup": "Kog'Maw",
         "marker": {
          "color": "#19d3f3",
          "symbol": "circle"
         },
         "mode": "markers",
         "name": "Kog'Maw",
         "orientation": "v",
         "showlegend": true,
         "type": "scatter",
         "x": [
          0.4962
         ],
         "xaxis": "x",
         "y": [
          0.0038
         ],
         "yaxis": "y"
        },
        {
         "hovertemplate": "Name=LeBlanc<br>Win %=%{x}<br>Ban %=%{y}<extra></extra>",
         "legendgroup": "LeBlanc",
         "marker": {
          "color": "#FF6692",
          "symbol": "circle"
         },
         "mode": "markers",
         "name": "LeBlanc",
         "orientation": "v",
         "showlegend": true,
         "type": "scatter",
         "x": [
          0.4807
         ],
         "xaxis": "x",
         "y": [
          0.1062
         ],
         "yaxis": "y"
        },
        {
         "hovertemplate": "Name=Lee Sin<br>Win %=%{x}<br>Ban %=%{y}<extra></extra>",
         "legendgroup": "Lee Sin",
         "marker": {
          "color": "#B6E880",
          "symbol": "circle"
         },
         "mode": "markers",
         "name": "Lee Sin",
         "orientation": "v",
         "showlegend": true,
         "type": "scatter",
         "x": [
          0.4974
         ],
         "xaxis": "x",
         "y": [
          0.1031
         ],
         "yaxis": "y"
        },
        {
         "hovertemplate": "Name=Leona<br>Win %=%{x}<br>Ban %=%{y}<extra></extra>",
         "legendgroup": "Leona",
         "marker": {
          "color": "#FF97FF",
          "symbol": "circle"
         },
         "mode": "markers",
         "name": "Leona",
         "orientation": "v",
         "showlegend": true,
         "type": "scatter",
         "x": [
          0.4888
         ],
         "xaxis": "x",
         "y": [
          0.0354
         ],
         "yaxis": "y"
        },
        {
         "hovertemplate": "Name=Lillia<br>Win %=%{x}<br>Ban %=%{y}<extra></extra>",
         "legendgroup": "Lillia",
         "marker": {
          "color": "#FECB52",
          "symbol": "circle"
         },
         "mode": "markers",
         "name": "Lillia",
         "orientation": "v",
         "showlegend": true,
         "type": "scatter",
         "x": [
          0.5253
         ],
         "xaxis": "x",
         "y": [
          0.032
         ],
         "yaxis": "y"
        },
        {
         "hovertemplate": "Name=Lissandra<br>Win %=%{x}<br>Ban %=%{y}<extra></extra>",
         "legendgroup": "Lissandra",
         "marker": {
          "color": "#636efa",
          "symbol": "circle"
         },
         "mode": "markers",
         "name": "Lissandra",
         "orientation": "v",
         "showlegend": true,
         "type": "scatter",
         "x": [
          0.5183,
          0.4811
         ],
         "xaxis": "x",
         "y": [
          0.0225,
          0.0239
         ],
         "yaxis": "y"
        },
        {
         "hovertemplate": "Name=Lucian<br>Win %=%{x}<br>Ban %=%{y}<extra></extra>",
         "legendgroup": "Lucian",
         "marker": {
          "color": "#EF553B",
          "symbol": "circle"
         },
         "mode": "markers",
         "name": "Lucian",
         "orientation": "v",
         "showlegend": true,
         "type": "scatter",
         "x": [
          0.5045
         ],
         "xaxis": "x",
         "y": [
          0.0075
         ],
         "yaxis": "y"
        },
        {
         "hovertemplate": "Name=Lulu<br>Win %=%{x}<br>Ban %=%{y}<extra></extra>",
         "legendgroup": "Lulu",
         "marker": {
          "color": "#00cc96",
          "symbol": "circle"
         },
         "mode": "markers",
         "name": "Lulu",
         "orientation": "v",
         "showlegend": true,
         "type": "scatter",
         "x": [
          0.4802
         ],
         "xaxis": "x",
         "y": [
          0.0429
         ],
         "yaxis": "y"
        },
        {
         "hovertemplate": "Name=Lux<br>Win %=%{x}<br>Ban %=%{y}<extra></extra>",
         "legendgroup": "Lux",
         "marker": {
          "color": "#ab63fa",
          "symbol": "circle"
         },
         "mode": "markers",
         "name": "Lux",
         "orientation": "v",
         "showlegend": true,
         "type": "scatter",
         "x": [
          0.4943,
          0.499
         ],
         "xaxis": "x",
         "y": [
          0.1057,
          0.124
         ],
         "yaxis": "y"
        },
        {
         "hovertemplate": "Name=Malphite<br>Win %=%{x}<br>Ban %=%{y}<extra></extra>",
         "legendgroup": "Malphite",
         "marker": {
          "color": "#FFA15A",
          "symbol": "circle"
         },
         "mode": "markers",
         "name": "Malphite",
         "orientation": "v",
         "showlegend": true,
         "type": "scatter",
         "x": [
          0.5232,
          0.5165,
          0.4632
         ],
         "xaxis": "x",
         "y": [
          0.1195,
          0.1239,
          0.1239
         ],
         "yaxis": "y"
        },
        {
         "hovertemplate": "Name=Malzahar<br>Win %=%{x}<br>Ban %=%{y}<extra></extra>",
         "legendgroup": "Malzahar",
         "marker": {
          "color": "#19d3f3",
          "symbol": "circle"
         },
         "mode": "markers",
         "name": "Malzahar",
         "orientation": "v",
         "showlegend": true,
         "type": "scatter",
         "x": [
          0.5185
         ],
         "xaxis": "x",
         "y": [
          0.0518
         ],
         "yaxis": "y"
        },
        {
         "hovertemplate": "Name=Maokai<br>Win %=%{x}<br>Ban %=%{y}<extra></extra>",
         "legendgroup": "Maokai",
         "marker": {
          "color": "#FF6692",
          "symbol": "circle"
         },
         "mode": "markers",
         "name": "Maokai",
         "orientation": "v",
         "showlegend": true,
         "type": "scatter",
         "x": [
          0.5282,
          0.5381
         ],
         "xaxis": "x",
         "y": [
          0.0164,
          0.017
         ],
         "yaxis": "y"
        },
        {
         "hovertemplate": "Name=Master Yi<br>Win %=%{x}<br>Ban %=%{y}<extra></extra>",
         "legendgroup": "Master Yi",
         "marker": {
          "color": "#B6E880",
          "symbol": "circle"
         },
         "mode": "markers",
         "name": "Master Yi",
         "orientation": "v",
         "showlegend": true,
         "type": "scatter",
         "x": [
          0.501
         ],
         "xaxis": "x",
         "y": [
          0.1115
         ],
         "yaxis": "y"
        },
        {
         "hovertemplate": "Name=Milio<br>Win %=%{x}<br>Ban %=%{y}<extra></extra>",
         "legendgroup": "Milio",
         "marker": {
          "color": "#FF97FF",
          "symbol": "circle"
         },
         "mode": "markers",
         "name": "Milio",
         "orientation": "v",
         "showlegend": true,
         "type": "scatter",
         "x": [
          0.5175
         ],
         "xaxis": "x",
         "y": [
          0.0184
         ],
         "yaxis": "y"
        },
        {
         "hovertemplate": "Name=Miss Fortune<br>Win %=%{x}<br>Ban %=%{y}<extra></extra>",
         "legendgroup": "Miss Fortune",
         "marker": {
          "color": "#FECB52",
          "symbol": "circle"
         },
         "mode": "markers",
         "name": "Miss Fortune",
         "orientation": "v",
         "showlegend": true,
         "type": "scatter",
         "x": [
          0.5099,
          0.4245
         ],
         "xaxis": "x",
         "y": [
          0.0229,
          0.0227
         ],
         "yaxis": "y"
        },
        {
         "hovertemplate": "Name=Mordekaiser<br>Win %=%{x}<br>Ban %=%{y}<extra></extra>",
         "legendgroup": "Mordekaiser",
         "marker": {
          "color": "#636efa",
          "symbol": "circle"
         },
         "mode": "markers",
         "name": "Mordekaiser",
         "orientation": "v",
         "showlegend": true,
         "type": "scatter",
         "x": [
          0.4935
         ],
         "xaxis": "x",
         "y": [
          0.07
         ],
         "yaxis": "y"
        },
        {
         "hovertemplate": "Name=Morgana<br>Win %=%{x}<br>Ban %=%{y}<extra></extra>",
         "legendgroup": "Morgana",
         "marker": {
          "color": "#EF553B",
          "symbol": "circle"
         },
         "mode": "markers",
         "name": "Morgana",
         "orientation": "v",
         "showlegend": true,
         "type": "scatter",
         "x": [
          0.4979,
          0.5443
         ],
         "xaxis": "x",
         "y": [
          0.2485,
          0.2355
         ],
         "yaxis": "y"
        },
        {
         "hovertemplate": "Name=Naafiri<br>Win %=%{x}<br>Ban %=%{y}<extra></extra>",
         "legendgroup": "Naafiri",
         "marker": {
          "color": "#00cc96",
          "symbol": "circle"
         },
         "mode": "markers",
         "name": "Naafiri",
         "orientation": "v",
         "showlegend": true,
         "type": "scatter",
         "x": [
          0.5267,
          0.5156,
          0.4253
         ],
         "xaxis": "x",
         "y": [
          0.0738,
          0.0766,
          0.0797
         ],
         "yaxis": "y"
        },
        {
         "hovertemplate": "Name=Nami<br>Win %=%{x}<br>Ban %=%{y}<extra></extra>",
         "legendgroup": "Nami",
         "marker": {
          "color": "#ab63fa",
          "symbol": "circle"
         },
         "mode": "markers",
         "name": "Nami",
         "orientation": "v",
         "showlegend": true,
         "type": "scatter",
         "x": [
          0.5343
         ],
         "xaxis": "x",
         "y": [
          0.0035
         ],
         "yaxis": "y"
        },
        {
         "hovertemplate": "Name=Nasus<br>Win %=%{x}<br>Ban %=%{y}<extra></extra>",
         "legendgroup": "Nasus",
         "marker": {
          "color": "#FFA15A",
          "symbol": "circle"
         },
         "mode": "markers",
         "name": "Nasus",
         "orientation": "v",
         "showlegend": true,
         "type": "scatter",
         "x": [
          0.5257
         ],
         "xaxis": "x",
         "y": [
          0.0539
         ],
         "yaxis": "y"
        },
        {
         "hovertemplate": "Name=Nautilus<br>Win %=%{x}<br>Ban %=%{y}<extra></extra>",
         "legendgroup": "Nautilus",
         "marker": {
          "color": "#19d3f3",
          "symbol": "circle"
         },
         "mode": "markers",
         "name": "Nautilus",
         "orientation": "v",
         "showlegend": true,
         "type": "scatter",
         "x": [
          0.4874
         ],
         "xaxis": "x",
         "y": [
          0.1648
         ],
         "yaxis": "y"
        },
        {
         "hovertemplate": "Name=Neeko<br>Win %=%{x}<br>Ban %=%{y}<extra></extra>",
         "legendgroup": "Neeko",
         "marker": {
          "color": "#FF6692",
          "symbol": "circle"
         },
         "mode": "markers",
         "name": "Neeko",
         "orientation": "v",
         "showlegend": true,
         "type": "scatter",
         "x": [
          0.5116,
          0.4932
         ],
         "xaxis": "x",
         "y": [
          0.0505,
          0.0505
         ],
         "yaxis": "y"
        },
        {
         "hovertemplate": "Name=Nidalee<br>Win %=%{x}<br>Ban %=%{y}<extra></extra>",
         "legendgroup": "Nidalee",
         "marker": {
          "color": "#B6E880",
          "symbol": "circle"
         },
         "mode": "markers",
         "name": "Nidalee",
         "orientation": "v",
         "showlegend": true,
         "type": "scatter",
         "x": [
          0.4764
         ],
         "xaxis": "x",
         "y": [
          0.085
         ],
         "yaxis": "y"
        },
        {
         "hovertemplate": "Name=Nilah<br>Win %=%{x}<br>Ban %=%{y}<extra></extra>",
         "legendgroup": "Nilah",
         "marker": {
          "color": "#FF97FF",
          "symbol": "circle"
         },
         "mode": "markers",
         "name": "Nilah",
         "orientation": "v",
         "showlegend": true,
         "type": "scatter",
         "x": [
          0.5367
         ],
         "xaxis": "x",
         "y": [
          0.059
         ],
         "yaxis": "y"
        },
        {
         "hovertemplate": "Name=Nocturne<br>Win %=%{x}<br>Ban %=%{y}<extra></extra>",
         "legendgroup": "Nocturne",
         "marker": {
          "color": "#FECB52",
          "symbol": "circle"
         },
         "mode": "markers",
         "name": "Nocturne",
         "orientation": "v",
         "showlegend": true,
         "type": "scatter",
         "x": [
          0.5065
         ],
         "xaxis": "x",
         "y": [
          0.0749
         ],
         "yaxis": "y"
        },
        {
         "hovertemplate": "Name=Nunu<br>Win %=%{x}<br>Ban %=%{y}<extra></extra>",
         "legendgroup": "Nunu",
         "marker": {
          "color": "#636efa",
          "symbol": "circle"
         },
         "mode": "markers",
         "name": "Nunu",
         "orientation": "v",
         "showlegend": true,
         "type": "scatter",
         "x": [
          0.4741
         ],
         "xaxis": "x",
         "y": [
          0.0074
         ],
         "yaxis": "y"
        },
        {
         "hovertemplate": "Name=Olaf<br>Win %=%{x}<br>Ban %=%{y}<extra></extra>",
         "legendgroup": "Olaf",
         "marker": {
          "color": "#EF553B",
          "symbol": "circle"
         },
         "mode": "markers",
         "name": "Olaf",
         "orientation": "v",
         "showlegend": true,
         "type": "scatter",
         "x": [
          0.5359,
          0.4601
         ],
         "xaxis": "x",
         "y": [
          0.0262,
          0.0245
         ],
         "yaxis": "y"
        },
        {
         "hovertemplate": "Name=Orianna<br>Win %=%{x}<br>Ban %=%{y}<extra></extra>",
         "legendgroup": "Orianna",
         "marker": {
          "color": "#00cc96",
          "symbol": "circle"
         },
         "mode": "markers",
         "name": "Orianna",
         "orientation": "v",
         "showlegend": true,
         "type": "scatter",
         "x": [
          0.5069
         ],
         "xaxis": "x",
         "y": [
          0.0908
         ],
         "yaxis": "y"
        },
        {
         "hovertemplate": "Name=Ornn<br>Win %=%{x}<br>Ban %=%{y}<extra></extra>",
         "legendgroup": "Ornn",
         "marker": {
          "color": "#ab63fa",
          "symbol": "circle"
         },
         "mode": "markers",
         "name": "Ornn",
         "orientation": "v",
         "showlegend": true,
         "type": "scatter",
         "x": [
          0.5337
         ],
         "xaxis": "x",
         "y": [
          0.008
         ],
         "yaxis": "y"
        },
        {
         "hovertemplate": "Name=Pantheon<br>Win %=%{x}<br>Ban %=%{y}<extra></extra>",
         "legendgroup": "Pantheon",
         "marker": {
          "color": "#FFA15A",
          "symbol": "circle"
         },
         "mode": "markers",
         "name": "Pantheon",
         "orientation": "v",
         "showlegend": true,
         "type": "scatter",
         "x": [
          0.5123,
          0.5155,
          0.4699
         ],
         "xaxis": "x",
         "y": [
          0.0439,
          0.0459,
          0.0459
         ],
         "yaxis": "y"
        },
        {
         "hovertemplate": "Name=Poppy<br>Win %=%{x}<br>Ban %=%{y}<extra></extra>",
         "legendgroup": "Poppy",
         "marker": {
          "color": "#19d3f3",
          "symbol": "circle"
         },
         "mode": "markers",
         "name": "Poppy",
         "orientation": "v",
         "showlegend": true,
         "type": "scatter",
         "x": [
          0.5297,
          0.5085
         ],
         "xaxis": "x",
         "y": [
          0.0297,
          0.0333
         ],
         "yaxis": "y"
        },
        {
         "hovertemplate": "Name=Pyke<br>Win %=%{x}<br>Ban %=%{y}<extra></extra>",
         "legendgroup": "Pyke",
         "marker": {
          "color": "#FF6692",
          "symbol": "circle"
         },
         "mode": "markers",
         "name": "Pyke",
         "orientation": "v",
         "showlegend": true,
         "type": "scatter",
         "x": [
          0.4908
         ],
         "xaxis": "x",
         "y": [
          0.1263
         ],
         "yaxis": "y"
        },
        {
         "hovertemplate": "Name=Qiyana<br>Win %=%{x}<br>Ban %=%{y}<extra></extra>",
         "legendgroup": "Qiyana",
         "marker": {
          "color": "#B6E880",
          "symbol": "circle"
         },
         "mode": "markers",
         "name": "Qiyana",
         "orientation": "v",
         "showlegend": true,
         "type": "scatter",
         "x": [
          0.4705
         ],
         "xaxis": "x",
         "y": [
          0.007
         ],
         "yaxis": "y"
        },
        {
         "hovertemplate": "Name=Quinn<br>Win %=%{x}<br>Ban %=%{y}<extra></extra>",
         "legendgroup": "Quinn",
         "marker": {
          "color": "#FF97FF",
          "symbol": "circle"
         },
         "mode": "markers",
         "name": "Quinn",
         "orientation": "v",
         "showlegend": true,
         "type": "scatter",
         "x": [
          0.5213,
          0.497
         ],
         "xaxis": "x",
         "y": [
          0.0138,
          0.0145
         ],
         "yaxis": "y"
        },
        {
         "hovertemplate": "Name=Rakan<br>Win %=%{x}<br>Ban %=%{y}<extra></extra>",
         "legendgroup": "Rakan",
         "marker": {
          "color": "#FECB52",
          "symbol": "circle"
         },
         "mode": "markers",
         "name": "Rakan",
         "orientation": "v",
         "showlegend": true,
         "type": "scatter",
         "x": [
          0.5135
         ],
         "xaxis": "x",
         "y": [
          0.0521
         ],
         "yaxis": "y"
        },
        {
         "hovertemplate": "Name=Rammus<br>Win %=%{x}<br>Ban %=%{y}<extra></extra>",
         "legendgroup": "Rammus",
         "marker": {
          "color": "#636efa",
          "symbol": "circle"
         },
         "mode": "markers",
         "name": "Rammus",
         "orientation": "v",
         "showlegend": true,
         "type": "scatter",
         "x": [
          0.5037
         ],
         "xaxis": "x",
         "y": [
          0.146
         ],
         "yaxis": "y"
        },
        {
         "hovertemplate": "Name=Rek'Sai<br>Win %=%{x}<br>Ban %=%{y}<extra></extra>",
         "legendgroup": "Rek'Sai",
         "marker": {
          "color": "#EF553B",
          "symbol": "circle"
         },
         "mode": "markers",
         "name": "Rek'Sai",
         "orientation": "v",
         "showlegend": true,
         "type": "scatter",
         "x": [
          0.5136
         ],
         "xaxis": "x",
         "y": [
          0.0149
         ],
         "yaxis": "y"
        },
        {
         "hovertemplate": "Name=Rell<br>Win %=%{x}<br>Ban %=%{y}<extra></extra>",
         "legendgroup": "Rell",
         "marker": {
          "color": "#00cc96",
          "symbol": "circle"
         },
         "mode": "markers",
         "name": "Rell",
         "orientation": "v",
         "showlegend": true,
         "type": "scatter",
         "x": [
          0.5148,
          0.482
         ],
         "xaxis": "x",
         "y": [
          0.0534,
          0.0428
         ],
         "yaxis": "y"
        },
        {
         "hovertemplate": "Name=Renata Glasc<br>Win %=%{x}<br>Ban %=%{y}<extra></extra>",
         "legendgroup": "Renata Glasc",
         "marker": {
          "color": "#ab63fa",
          "symbol": "circle"
         },
         "mode": "markers",
         "name": "Renata Glasc",
         "orientation": "v",
         "showlegend": true,
         "type": "scatter",
         "x": [
          0.5179
         ],
         "xaxis": "x",
         "y": [
          0.0066
         ],
         "yaxis": "y"
        },
        {
         "hovertemplate": "Name=Renekton<br>Win %=%{x}<br>Ban %=%{y}<extra></extra>",
         "legendgroup": "Renekton",
         "marker": {
          "color": "#FFA15A",
          "symbol": "circle"
         },
         "mode": "markers",
         "name": "Renekton",
         "orientation": "v",
         "showlegend": true,
         "type": "scatter",
         "x": [
          0.4777
         ],
         "xaxis": "x",
         "y": [
          0.0714
         ],
         "yaxis": "y"
        },
        {
         "hovertemplate": "Name=Rengar<br>Win %=%{x}<br>Ban %=%{y}<extra></extra>",
         "legendgroup": "Rengar",
         "marker": {
          "color": "#19d3f3",
          "symbol": "circle"
         },
         "mode": "markers",
         "name": "Rengar",
         "orientation": "v",
         "showlegend": true,
         "type": "scatter",
         "x": [
          0.4829,
          0.5135
         ],
         "xaxis": "x",
         "y": [
          0.0574,
          0.0481
         ],
         "yaxis": "y"
        },
        {
         "hovertemplate": "Name=Riven<br>Win %=%{x}<br>Ban %=%{y}<extra></extra>",
         "legendgroup": "Riven",
         "marker": {
          "color": "#FF6692",
          "symbol": "circle"
         },
         "mode": "markers",
         "name": "Riven",
         "orientation": "v",
         "showlegend": true,
         "type": "scatter",
         "x": [
          0.491
         ],
         "xaxis": "x",
         "y": [
          0.0104
         ],
         "yaxis": "y"
        },
        {
         "hovertemplate": "Name=Rumble<br>Win %=%{x}<br>Ban %=%{y}<extra></extra>",
         "legendgroup": "Rumble",
         "marker": {
          "color": "#B6E880",
          "symbol": "circle"
         },
         "mode": "markers",
         "name": "Rumble",
         "orientation": "v",
         "showlegend": true,
         "type": "scatter",
         "x": [
          0.496,
          0.4951
         ],
         "xaxis": "x",
         "y": [
          0.0378,
          0.0253
         ],
         "yaxis": "y"
        },
        {
         "hovertemplate": "Name=Ryze<br>Win %=%{x}<br>Ban %=%{y}<extra></extra>",
         "legendgroup": "Ryze",
         "marker": {
          "color": "#FF97FF",
          "symbol": "circle"
         },
         "mode": "markers",
         "name": "Ryze",
         "orientation": "v",
         "showlegend": true,
         "type": "scatter",
         "x": [
          0.5081,
          0.4784
         ],
         "xaxis": "x",
         "y": [
          0.0016,
          0.0017
         ],
         "yaxis": "y"
        },
        {
         "hovertemplate": "Name=Samira<br>Win %=%{x}<br>Ban %=%{y}<extra></extra>",
         "legendgroup": "Samira",
         "marker": {
          "color": "#FECB52",
          "symbol": "circle"
         },
         "mode": "markers",
         "name": "Samira",
         "orientation": "v",
         "showlegend": true,
         "type": "scatter",
         "x": [
          0.5066
         ],
         "xaxis": "x",
         "y": [
          0.1853
         ],
         "yaxis": "y"
        },
        {
         "hovertemplate": "Name=Sejuani<br>Win %=%{x}<br>Ban %=%{y}<extra></extra>",
         "legendgroup": "Sejuani",
         "marker": {
          "color": "#636efa",
          "symbol": "circle"
         },
         "mode": "markers",
         "name": "Sejuani",
         "orientation": "v",
         "showlegend": true,
         "type": "scatter",
         "x": [
          0.4872
         ],
         "xaxis": "x",
         "y": [
          0.0049
         ],
         "yaxis": "y"
        },
        {
         "hovertemplate": "Name=Senna<br>Win %=%{x}<br>Ban %=%{y}<extra></extra>",
         "legendgroup": "Senna",
         "marker": {
          "color": "#EF553B",
          "symbol": "circle"
         },
         "mode": "markers",
         "name": "Senna",
         "orientation": "v",
         "showlegend": true,
         "type": "scatter",
         "x": [
          0.5146
         ],
         "xaxis": "x",
         "y": [
          0.0834
         ],
         "yaxis": "y"
        },
        {
         "hovertemplate": "Name=Seraphine<br>Win %=%{x}<br>Ban %=%{y}<extra></extra>",
         "legendgroup": "Seraphine",
         "marker": {
          "color": "#00cc96",
          "symbol": "circle"
         },
         "mode": "markers",
         "name": "Seraphine",
         "orientation": "v",
         "showlegend": true,
         "type": "scatter",
         "x": [
          0.4914,
          0.547
         ],
         "xaxis": "x",
         "y": [
          0.0092,
          0.01
         ],
         "yaxis": "y"
        },
        {
         "hovertemplate": "Name=Sett<br>Win %=%{x}<br>Ban %=%{y}<extra></extra>",
         "legendgroup": "Sett",
         "marker": {
          "color": "#ab63fa",
          "symbol": "circle"
         },
         "mode": "markers",
         "name": "Sett",
         "orientation": "v",
         "showlegend": true,
         "type": "scatter",
         "x": [
          0.4947
         ],
         "xaxis": "x",
         "y": [
          0.0224
         ],
         "yaxis": "y"
        },
        {
         "hovertemplate": "Name=Shaco<br>Win %=%{x}<br>Ban %=%{y}<extra></extra>",
         "legendgroup": "Shaco",
         "marker": {
          "color": "#FFA15A",
          "symbol": "circle"
         },
         "mode": "markers",
         "name": "Shaco",
         "orientation": "v",
         "showlegend": true,
         "type": "scatter",
         "x": [
          0.4887,
          0.4947
         ],
         "xaxis": "x",
         "y": [
          0.1911,
          0.2042
         ],
         "yaxis": "y"
        },
        {
         "hovertemplate": "Name=Shen<br>Win %=%{x}<br>Ban %=%{y}<extra></extra>",
         "legendgroup": "Shen",
         "marker": {
          "color": "#19d3f3",
          "symbol": "circle"
         },
         "mode": "markers",
         "name": "Shen",
         "orientation": "v",
         "showlegend": true,
         "type": "scatter",
         "x": [
          0.5152,
          0.4779
         ],
         "xaxis": "x",
         "y": [
          0.0029,
          0.003
         ],
         "yaxis": "y"
        },
        {
         "hovertemplate": "Name=Shyvana<br>Win %=%{x}<br>Ban %=%{y}<extra></extra>",
         "legendgroup": "Shyvana",
         "marker": {
          "color": "#FF6692",
          "symbol": "circle"
         },
         "mode": "markers",
         "name": "Shyvana",
         "orientation": "v",
         "showlegend": true,
         "type": "scatter",
         "x": [
          0.5171,
          0.4947
         ],
         "xaxis": "x",
         "y": [
          0.0043,
          0.0046
         ],
         "yaxis": "y"
        },
        {
         "hovertemplate": "Name=Singed<br>Win %=%{x}<br>Ban %=%{y}<extra></extra>",
         "legendgroup": "Singed",
         "marker": {
          "color": "#B6E880",
          "symbol": "circle"
         },
         "mode": "markers",
         "name": "Singed",
         "orientation": "v",
         "showlegend": true,
         "type": "scatter",
         "x": [
          0.5433,
          0.5526
         ],
         "xaxis": "x",
         "y": [
          0.0039,
          0.0038
         ],
         "yaxis": "y"
        },
        {
         "hovertemplate": "Name=Sion<br>Win %=%{x}<br>Ban %=%{y}<extra></extra>",
         "legendgroup": "Sion",
         "marker": {
          "color": "#FF97FF",
          "symbol": "circle"
         },
         "mode": "markers",
         "name": "Sion",
         "orientation": "v",
         "showlegend": true,
         "type": "scatter",
         "x": [
          0.5096,
          0.5139
         ],
         "xaxis": "x",
         "y": [
          0.0261,
          0.0285
         ],
         "yaxis": "y"
        },
        {
         "hovertemplate": "Name=Sivir<br>Win %=%{x}<br>Ban %=%{y}<extra></extra>",
         "legendgroup": "Sivir",
         "marker": {
          "color": "#FECB52",
          "symbol": "circle"
         },
         "mode": "markers",
         "name": "Sivir",
         "orientation": "v",
         "showlegend": true,
         "type": "scatter",
         "x": [
          0.4927
         ],
         "xaxis": "x",
         "y": [
          0.0169
         ],
         "yaxis": "y"
        },
        {
         "hovertemplate": "Name=Skarner<br>Win %=%{x}<br>Ban %=%{y}<extra></extra>",
         "legendgroup": "Skarner",
         "marker": {
          "color": "#636efa",
          "symbol": "circle"
         },
         "mode": "markers",
         "name": "Skarner",
         "orientation": "v",
         "showlegend": true,
         "type": "scatter",
         "x": [
          0.5183,
          0.4858
         ],
         "xaxis": "x",
         "y": [
          0.0019,
          0.0019
         ],
         "yaxis": "y"
        },
        {
         "hovertemplate": "Name=Sona<br>Win %=%{x}<br>Ban %=%{y}<extra></extra>",
         "legendgroup": "Sona",
         "marker": {
          "color": "#EF553B",
          "symbol": "circle"
         },
         "mode": "markers",
         "name": "Sona",
         "orientation": "v",
         "showlegend": true,
         "type": "scatter",
         "x": [
          0.5042
         ],
         "xaxis": "x",
         "y": [
          0.0012
         ],
         "yaxis": "y"
        },
        {
         "hovertemplate": "Name=Soraka<br>Win %=%{x}<br>Ban %=%{y}<extra></extra>",
         "legendgroup": "Soraka",
         "marker": {
          "color": "#00cc96",
          "symbol": "circle"
         },
         "mode": "markers",
         "name": "Soraka",
         "orientation": "v",
         "showlegend": true,
         "type": "scatter",
         "x": [
          0.5003
         ],
         "xaxis": "x",
         "y": [
          0.0249
         ],
         "yaxis": "y"
        },
        {
         "hovertemplate": "Name=Swain<br>Win %=%{x}<br>Ban %=%{y}<extra></extra>",
         "legendgroup": "Swain",
         "marker": {
          "color": "#ab63fa",
          "symbol": "circle"
         },
         "mode": "markers",
         "name": "Swain",
         "orientation": "v",
         "showlegend": true,
         "type": "scatter",
         "x": [
          0.5338,
          0.4836,
          0.5373
         ],
         "xaxis": "x",
         "y": [
          0.0346,
          0.0361,
          0.0361
         ],
         "yaxis": "y"
        },
        {
         "hovertemplate": "Name=Sylas<br>Win %=%{x}<br>Ban %=%{y}<extra></extra>",
         "legendgroup": "Sylas",
         "marker": {
          "color": "#FFA15A",
          "symbol": "circle"
         },
         "mode": "markers",
         "name": "Sylas",
         "orientation": "v",
         "showlegend": true,
         "type": "scatter",
         "x": [
          0.5398,
          0.4933
         ],
         "xaxis": "x",
         "y": [
          0.1543,
          0.1596
         ],
         "yaxis": "y"
        },
        {
         "hovertemplate": "Name=Syndra<br>Win %=%{x}<br>Ban %=%{y}<extra></extra>",
         "legendgroup": "Syndra",
         "marker": {
          "color": "#19d3f3",
          "symbol": "circle"
         },
         "mode": "markers",
         "name": "Syndra",
         "orientation": "v",
         "showlegend": true,
         "type": "scatter",
         "x": [
          0.4906
         ],
         "xaxis": "x",
         "y": [
          0.0599
         ],
         "yaxis": "y"
        },
        {
         "hovertemplate": "Name=Tahm Kench<br>Win %=%{x}<br>Ban %=%{y}<extra></extra>",
         "legendgroup": "Tahm Kench",
         "marker": {
          "color": "#FF6692",
          "symbol": "circle"
         },
         "mode": "markers",
         "name": "Tahm Kench",
         "orientation": "v",
         "showlegend": true,
         "type": "scatter",
         "x": [
          0.5224,
          0.5186
         ],
         "xaxis": "x",
         "y": [
          0.0074,
          0.0073
         ],
         "yaxis": "y"
        },
        {
         "hovertemplate": "Name=Taliyah<br>Win %=%{x}<br>Ban %=%{y}<extra></extra>",
         "legendgroup": "Taliyah",
         "marker": {
          "color": "#B6E880",
          "symbol": "circle"
         },
         "mode": "markers",
         "name": "Taliyah",
         "orientation": "v",
         "showlegend": true,
         "type": "scatter",
         "x": [
          0.4971,
          0.4989
         ],
         "xaxis": "x",
         "y": [
          0.0552,
          0.0454
         ],
         "yaxis": "y"
        },
        {
         "hovertemplate": "Name=Talon<br>Win %=%{x}<br>Ban %=%{y}<extra></extra>",
         "legendgroup": "Talon",
         "marker": {
          "color": "#FF97FF",
          "symbol": "circle"
         },
         "mode": "markers",
         "name": "Talon",
         "orientation": "v",
         "showlegend": true,
         "type": "scatter",
         "x": [
          0.5045,
          0.5426
         ],
         "xaxis": "x",
         "y": [
          0.0221,
          0.0204
         ],
         "yaxis": "y"
        },
        {
         "hovertemplate": "Name=Taric<br>Win %=%{x}<br>Ban %=%{y}<extra></extra>",
         "legendgroup": "Taric",
         "marker": {
          "color": "#FECB52",
          "symbol": "circle"
         },
         "mode": "markers",
         "name": "Taric",
         "orientation": "v",
         "showlegend": true,
         "type": "scatter",
         "x": [
          0.5336
         ],
         "xaxis": "x",
         "y": [
          0.003
         ],
         "yaxis": "y"
        },
        {
         "hovertemplate": "Name=Teemo<br>Win %=%{x}<br>Ban %=%{y}<extra></extra>",
         "legendgroup": "Teemo",
         "marker": {
          "color": "#636efa",
          "symbol": "circle"
         },
         "mode": "markers",
         "name": "Teemo",
         "orientation": "v",
         "showlegend": true,
         "type": "scatter",
         "x": [
          0.4965,
          0.4855
         ],
         "xaxis": "x",
         "y": [
          0.0655,
          0.0611
         ],
         "yaxis": "y"
        },
        {
         "hovertemplate": "Name=Thresh<br>Win %=%{x}<br>Ban %=%{y}<extra></extra>",
         "legendgroup": "Thresh",
         "marker": {
          "color": "#EF553B",
          "symbol": "circle"
         },
         "mode": "markers",
         "name": "Thresh",
         "orientation": "v",
         "showlegend": true,
         "type": "scatter",
         "x": [
          0.5195
         ],
         "xaxis": "x",
         "y": [
          0.055
         ],
         "yaxis": "y"
        },
        {
         "hovertemplate": "Name=Tristana<br>Win %=%{x}<br>Ban %=%{y}<extra></extra>",
         "legendgroup": "Tristana",
         "marker": {
          "color": "#00cc96",
          "symbol": "circle"
         },
         "mode": "markers",
         "name": "Tristana",
         "orientation": "v",
         "showlegend": true,
         "type": "scatter",
         "x": [
          0.5003,
          0.4856
         ],
         "xaxis": "x",
         "y": [
          0.031,
          0.0317
         ],
         "yaxis": "y"
        },
        {
         "hovertemplate": "Name=Trundle<br>Win %=%{x}<br>Ban %=%{y}<extra></extra>",
         "legendgroup": "Trundle",
         "marker": {
          "color": "#ab63fa",
          "symbol": "circle"
         },
         "mode": "markers",
         "name": "Trundle",
         "orientation": "v",
         "showlegend": true,
         "type": "scatter",
         "x": [
          0.5451,
          0.5023
         ],
         "xaxis": "x",
         "y": [
          0.0065,
          0.0065
         ],
         "yaxis": "y"
        },
        {
         "hovertemplate": "Name=Tryndamere<br>Win %=%{x}<br>Ban %=%{y}<extra></extra>",
         "legendgroup": "Tryndamere",
         "marker": {
          "color": "#FFA15A",
          "symbol": "circle"
         },
         "mode": "markers",
         "name": "Tryndamere",
         "orientation": "v",
         "showlegend": true,
         "type": "scatter",
         "x": [
          0.4929,
          0.4927
         ],
         "xaxis": "x",
         "y": [
          0.0473,
          0.0462
         ],
         "yaxis": "y"
        },
        {
         "hovertemplate": "Name=Twisted Fate<br>Win %=%{x}<br>Ban %=%{y}<extra></extra>",
         "legendgroup": "Twisted Fate",
         "marker": {
          "color": "#19d3f3",
          "symbol": "circle"
         },
         "mode": "markers",
         "name": "Twisted Fate",
         "orientation": "v",
         "showlegend": true,
         "type": "scatter",
         "x": [
          0.5148
         ],
         "xaxis": "x",
         "y": [
          0.0025
         ],
         "yaxis": "y"
        },
        {
         "hovertemplate": "Name=Twitch<br>Win %=%{x}<br>Ban %=%{y}<extra></extra>",
         "legendgroup": "Twitch",
         "marker": {
          "color": "#FF6692",
          "symbol": "circle"
         },
         "mode": "markers",
         "name": "Twitch",
         "orientation": "v",
         "showlegend": true,
         "type": "scatter",
         "x": [
          0.527,
          0.5054
         ],
         "xaxis": "x",
         "y": [
          0.0355,
          0.0352
         ],
         "yaxis": "y"
        },
        {
         "hovertemplate": "Name=Udyr<br>Win %=%{x}<br>Ban %=%{y}<extra></extra>",
         "legendgroup": "Udyr",
         "marker": {
          "color": "#B6E880",
          "symbol": "circle"
         },
         "mode": "markers",
         "name": "Udyr",
         "orientation": "v",
         "showlegend": true,
         "type": "scatter",
         "x": [
          0.4975,
          0.4818
         ],
         "xaxis": "x",
         "y": [
          0.0123,
          0.0118
         ],
         "yaxis": "y"
        },
        {
         "hovertemplate": "Name=Urgot<br>Win %=%{x}<br>Ban %=%{y}<extra></extra>",
         "legendgroup": "Urgot",
         "marker": {
          "color": "#FF97FF",
          "symbol": "circle"
         },
         "mode": "markers",
         "name": "Urgot",
         "orientation": "v",
         "showlegend": true,
         "type": "scatter",
         "x": [
          0.5139
         ],
         "xaxis": "x",
         "y": [
          0.0081
         ],
         "yaxis": "y"
        },
        {
         "hovertemplate": "Name=Varus<br>Win %=%{x}<br>Ban %=%{y}<extra></extra>",
         "legendgroup": "Varus",
         "marker": {
          "color": "#FECB52",
          "symbol": "circle"
         },
         "mode": "markers",
         "name": "Varus",
         "orientation": "v",
         "showlegend": true,
         "type": "scatter",
         "x": [
          0.4922
         ],
         "xaxis": "x",
         "y": [
          0.0052
         ],
         "yaxis": "y"
        },
        {
         "hovertemplate": "Name=Vayne<br>Win %=%{x}<br>Ban %=%{y}<extra></extra>",
         "legendgroup": "Vayne",
         "marker": {
          "color": "#636efa",
          "symbol": "circle"
         },
         "mode": "markers",
         "name": "Vayne",
         "orientation": "v",
         "showlegend": true,
         "type": "scatter",
         "x": [
          0.5267,
          0.5304
         ],
         "xaxis": "x",
         "y": [
          0.0672,
          0.0696
         ],
         "yaxis": "y"
        },
        {
         "hovertemplate": "Name=Veigar<br>Win %=%{x}<br>Ban %=%{y}<extra></extra>",
         "legendgroup": "Veigar",
         "marker": {
          "color": "#EF553B",
          "symbol": "circle"
         },
         "mode": "markers",
         "name": "Veigar",
         "orientation": "v",
         "showlegend": true,
         "type": "scatter",
         "x": [
          0.5005,
          0.4805
         ],
         "xaxis": "x",
         "y": [
          0.028,
          0.0297
         ],
         "yaxis": "y"
        },
        {
         "hovertemplate": "Name=Vel'Koz<br>Win %=%{x}<br>Ban %=%{y}<extra></extra>",
         "legendgroup": "Vel'Koz",
         "marker": {
          "color": "#00cc96",
          "symbol": "circle"
         },
         "mode": "markers",
         "name": "Vel'Koz",
         "orientation": "v",
         "showlegend": true,
         "type": "scatter",
         "x": [
          0.5077,
          0.5135
         ],
         "xaxis": "x",
         "y": [
          0.0036,
          0.0036
         ],
         "yaxis": "y"
        },
        {
         "hovertemplate": "Name=Vex<br>Win %=%{x}<br>Ban %=%{y}<extra></extra>",
         "legendgroup": "Vex",
         "marker": {
          "color": "#ab63fa",
          "symbol": "circle"
         },
         "mode": "markers",
         "name": "Vex",
         "orientation": "v",
         "showlegend": true,
         "type": "scatter",
         "x": [
          0.5136
         ],
         "xaxis": "x",
         "y": [
          0.0468
         ],
         "yaxis": "y"
        },
        {
         "hovertemplate": "Name=Vi<br>Win %=%{x}<br>Ban %=%{y}<extra></extra>",
         "legendgroup": "Vi",
         "marker": {
          "color": "#FFA15A",
          "symbol": "circle"
         },
         "mode": "markers",
         "name": "Vi",
         "orientation": "v",
         "showlegend": true,
         "type": "scatter",
         "x": [
          0.4827
         ],
         "xaxis": "x",
         "y": [
          0.0122
         ],
         "yaxis": "y"
        },
        {
         "hovertemplate": "Name=Viego<br>Win %=%{x}<br>Ban %=%{y}<extra></extra>",
         "legendgroup": "Viego",
         "marker": {
          "color": "#19d3f3",
          "symbol": "circle"
         },
         "mode": "markers",
         "name": "Viego",
         "orientation": "v",
         "showlegend": true,
         "type": "scatter",
         "x": [
          0.5112
         ],
         "xaxis": "x",
         "y": [
          0.0205
         ],
         "yaxis": "y"
        },
        {
         "hovertemplate": "Name=Viktor<br>Win %=%{x}<br>Ban %=%{y}<extra></extra>",
         "legendgroup": "Viktor",
         "marker": {
          "color": "#FF6692",
          "symbol": "circle"
         },
         "mode": "markers",
         "name": "Viktor",
         "orientation": "v",
         "showlegend": true,
         "type": "scatter",
         "x": [
          0.5016
         ],
         "xaxis": "x",
         "y": [
          0.0214
         ],
         "yaxis": "y"
        },
        {
         "hovertemplate": "Name=Vladimir<br>Win %=%{x}<br>Ban %=%{y}<extra></extra>",
         "legendgroup": "Vladimir",
         "marker": {
          "color": "#B6E880",
          "symbol": "circle"
         },
         "mode": "markers",
         "name": "Vladimir",
         "orientation": "v",
         "showlegend": true,
         "type": "scatter",
         "x": [
          0.4964,
          0.4854
         ],
         "xaxis": "x",
         "y": [
          0.0426,
          0.042
         ],
         "yaxis": "y"
        },
        {
         "hovertemplate": "Name=Volibear<br>Win %=%{x}<br>Ban %=%{y}<extra></extra>",
         "legendgroup": "Volibear",
         "marker": {
          "color": "#FF97FF",
          "symbol": "circle"
         },
         "mode": "markers",
         "name": "Volibear",
         "orientation": "v",
         "showlegend": true,
         "type": "scatter",
         "x": [
          0.4851,
          0.4998
         ],
         "xaxis": "x",
         "y": [
          0.0121,
          0.0126
         ],
         "yaxis": "y"
        },
        {
         "hovertemplate": "Name=Warwick<br>Win %=%{x}<br>Ban %=%{y}<extra></extra>",
         "legendgroup": "Warwick",
         "marker": {
          "color": "#FECB52",
          "symbol": "circle"
         },
         "mode": "markers",
         "name": "Warwick",
         "orientation": "v",
         "showlegend": true,
         "type": "scatter",
         "x": [
          0.4792,
          0.4693
         ],
         "xaxis": "x",
         "y": [
          0.0355,
          0.0314
         ],
         "yaxis": "y"
        },
        {
         "hovertemplate": "Name=Wukong<br>Win %=%{x}<br>Ban %=%{y}<extra></extra>",
         "legendgroup": "Wukong",
         "marker": {
          "color": "#636efa",
          "symbol": "circle"
         },
         "mode": "markers",
         "name": "Wukong",
         "orientation": "v",
         "showlegend": true,
         "type": "scatter",
         "x": [
          0.4973,
          0.4893
         ],
         "xaxis": "x",
         "y": [
          0.0054,
          0.0054
         ],
         "yaxis": "y"
        },
        {
         "hovertemplate": "Name=Xayah<br>Win %=%{x}<br>Ban %=%{y}<extra></extra>",
         "legendgroup": "Xayah",
         "marker": {
          "color": "#EF553B",
          "symbol": "circle"
         },
         "mode": "markers",
         "name": "Xayah",
         "orientation": "v",
         "showlegend": true,
         "type": "scatter",
         "x": [
          0.4958
         ],
         "xaxis": "x",
         "y": [
          0.0647
         ],
         "yaxis": "y"
        },
        {
         "hovertemplate": "Name=Xerath<br>Win %=%{x}<br>Ban %=%{y}<extra></extra>",
         "legendgroup": "Xerath",
         "marker": {
          "color": "#00cc96",
          "symbol": "circle"
         },
         "mode": "markers",
         "name": "Xerath",
         "orientation": "v",
         "showlegend": true,
         "type": "scatter",
         "x": [
          0.5105,
          0.5238
         ],
         "xaxis": "x",
         "y": [
          0.1561,
          0.1467
         ],
         "yaxis": "y"
        },
        {
         "hovertemplate": "Name=Xin Zhao<br>Win %=%{x}<br>Ban %=%{y}<extra></extra>",
         "legendgroup": "Xin Zhao",
         "marker": {
          "color": "#ab63fa",
          "symbol": "circle"
         },
         "mode": "markers",
         "name": "Xin Zhao",
         "orientation": "v",
         "showlegend": true,
         "type": "scatter",
         "x": [
          0.4811
         ],
         "xaxis": "x",
         "y": [
          0.0027
         ],
         "yaxis": "y"
        },
        {
         "hovertemplate": "Name=Yasuo<br>Win %=%{x}<br>Ban %=%{y}<extra></extra>",
         "legendgroup": "Yasuo",
         "marker": {
          "color": "#FFA15A",
          "symbol": "circle"
         },
         "mode": "markers",
         "name": "Yasuo",
         "orientation": "v",
         "showlegend": true,
         "type": "scatter",
         "x": [
          0.4869,
          0.4531,
          0.479
         ],
         "xaxis": "x",
         "y": [
          0.2177,
          0.2221,
          0.2177
         ],
         "yaxis": "y"
        },
        {
         "hovertemplate": "Name=Yone<br>Win %=%{x}<br>Ban %=%{y}<extra></extra>",
         "legendgroup": "Yone",
         "marker": {
          "color": "#19d3f3",
          "symbol": "circle"
         },
         "mode": "markers",
         "name": "Yone",
         "orientation": "v",
         "showlegend": true,
         "type": "scatter",
         "x": [
          0.4853,
          0.4755
         ],
         "xaxis": "x",
         "y": [
          0.1873,
          0.1873
         ],
         "yaxis": "y"
        },
        {
         "hovertemplate": "Name=Yorick<br>Win %=%{x}<br>Ban %=%{y}<extra></extra>",
         "legendgroup": "Yorick",
         "marker": {
          "color": "#FF6692",
          "symbol": "circle"
         },
         "mode": "markers",
         "name": "Yorick",
         "orientation": "v",
         "showlegend": true,
         "type": "scatter",
         "x": [
          0.5389
         ],
         "xaxis": "x",
         "y": [
          0.0401
         ],
         "yaxis": "y"
        },
        {
         "hovertemplate": "Name=Yuumi<br>Win %=%{x}<br>Ban %=%{y}<extra></extra>",
         "legendgroup": "Yuumi",
         "marker": {
          "color": "#B6E880",
          "symbol": "circle"
         },
         "mode": "markers",
         "name": "Yuumi",
         "orientation": "v",
         "showlegend": true,
         "type": "scatter",
         "x": [
          0.4819
         ],
         "xaxis": "x",
         "y": [
          0.0778
         ],
         "yaxis": "y"
        },
        {
         "hovertemplate": "Name=Zac<br>Win %=%{x}<br>Ban %=%{y}<extra></extra>",
         "legendgroup": "Zac",
         "marker": {
          "color": "#FF97FF",
          "symbol": "circle"
         },
         "mode": "markers",
         "name": "Zac",
         "orientation": "v",
         "showlegend": true,
         "type": "scatter",
         "x": [
          0.5165
         ],
         "xaxis": "x",
         "y": [
          0.0275
         ],
         "yaxis": "y"
        },
        {
         "hovertemplate": "Name=Zed<br>Win %=%{x}<br>Ban %=%{y}<extra></extra>",
         "legendgroup": "Zed",
         "marker": {
          "color": "#FECB52",
          "symbol": "circle"
         },
         "mode": "markers",
         "name": "Zed",
         "orientation": "v",
         "showlegend": true,
         "type": "scatter",
         "x": [
          0.4778
         ],
         "xaxis": "x",
         "y": [
          0.3189
         ],
         "yaxis": "y"
        },
        {
         "hovertemplate": "Name=Zeri<br>Win %=%{x}<br>Ban %=%{y}<extra></extra>",
         "legendgroup": "Zeri",
         "marker": {
          "color": "#636efa",
          "symbol": "circle"
         },
         "mode": "markers",
         "name": "Zeri",
         "orientation": "v",
         "showlegend": true,
         "type": "scatter",
         "x": [
          0.4603
         ],
         "xaxis": "x",
         "y": [
          0.0093
         ],
         "yaxis": "y"
        },
        {
         "hovertemplate": "Name=Ziggs<br>Win %=%{x}<br>Ban %=%{y}<extra></extra>",
         "legendgroup": "Ziggs",
         "marker": {
          "color": "#EF553B",
          "symbol": "circle"
         },
         "mode": "markers",
         "name": "Ziggs",
         "orientation": "v",
         "showlegend": true,
         "type": "scatter",
         "x": [
          0.5473,
          0.538
         ],
         "xaxis": "x",
         "y": [
          0.0675,
          0.0716
         ],
         "yaxis": "y"
        },
        {
         "hovertemplate": "Name=Zilean<br>Win %=%{x}<br>Ban %=%{y}<extra></extra>",
         "legendgroup": "Zilean",
         "marker": {
          "color": "#00cc96",
          "symbol": "circle"
         },
         "mode": "markers",
         "name": "Zilean",
         "orientation": "v",
         "showlegend": true,
         "type": "scatter",
         "x": [
          0.5438,
          0.52
         ],
         "xaxis": "x",
         "y": [
          0.006,
          0.0059
         ],
         "yaxis": "y"
        },
        {
         "hovertemplate": "Name=Zoe<br>Win %=%{x}<br>Ban %=%{y}<extra></extra>",
         "legendgroup": "Zoe",
         "marker": {
          "color": "#ab63fa",
          "symbol": "circle"
         },
         "mode": "markers",
         "name": "Zoe",
         "orientation": "v",
         "showlegend": true,
         "type": "scatter",
         "x": [
          0.5058,
          0.5182
         ],
         "xaxis": "x",
         "y": [
          0.0202,
          0.0185
         ],
         "yaxis": "y"
        },
        {
         "hovertemplate": "Name=Zyra<br>Win %=%{x}<br>Ban %=%{y}<extra></extra>",
         "legendgroup": "Zyra",
         "marker": {
          "color": "#FFA15A",
          "symbol": "circle"
         },
         "mode": "markers",
         "name": "Zyra",
         "orientation": "v",
         "showlegend": true,
         "type": "scatter",
         "x": [
          0.5275
         ],
         "xaxis": "x",
         "y": [
          0.0524
         ],
         "yaxis": "y"
        }
       ],
       "layout": {
        "legend": {
         "title": {
          "text": "Name"
         },
         "tracegroupgap": 0
        },
        "template": {
         "data": {
          "bar": [
           {
            "error_x": {
             "color": "#2a3f5f"
            },
            "error_y": {
             "color": "#2a3f5f"
            },
            "marker": {
             "line": {
              "color": "#E5ECF6",
              "width": 0.5
             },
             "pattern": {
              "fillmode": "overlay",
              "size": 10,
              "solidity": 0.2
             }
            },
            "type": "bar"
           }
          ],
          "barpolar": [
           {
            "marker": {
             "line": {
              "color": "#E5ECF6",
              "width": 0.5
             },
             "pattern": {
              "fillmode": "overlay",
              "size": 10,
              "solidity": 0.2
             }
            },
            "type": "barpolar"
           }
          ],
          "carpet": [
           {
            "aaxis": {
             "endlinecolor": "#2a3f5f",
             "gridcolor": "white",
             "linecolor": "white",
             "minorgridcolor": "white",
             "startlinecolor": "#2a3f5f"
            },
            "baxis": {
             "endlinecolor": "#2a3f5f",
             "gridcolor": "white",
             "linecolor": "white",
             "minorgridcolor": "white",
             "startlinecolor": "#2a3f5f"
            },
            "type": "carpet"
           }
          ],
          "choropleth": [
           {
            "colorbar": {
             "outlinewidth": 0,
             "ticks": ""
            },
            "type": "choropleth"
           }
          ],
          "contour": [
           {
            "colorbar": {
             "outlinewidth": 0,
             "ticks": ""
            },
            "colorscale": [
             [
              0,
              "#0d0887"
             ],
             [
              0.1111111111111111,
              "#46039f"
             ],
             [
              0.2222222222222222,
              "#7201a8"
             ],
             [
              0.3333333333333333,
              "#9c179e"
             ],
             [
              0.4444444444444444,
              "#bd3786"
             ],
             [
              0.5555555555555556,
              "#d8576b"
             ],
             [
              0.6666666666666666,
              "#ed7953"
             ],
             [
              0.7777777777777778,
              "#fb9f3a"
             ],
             [
              0.8888888888888888,
              "#fdca26"
             ],
             [
              1,
              "#f0f921"
             ]
            ],
            "type": "contour"
           }
          ],
          "contourcarpet": [
           {
            "colorbar": {
             "outlinewidth": 0,
             "ticks": ""
            },
            "type": "contourcarpet"
           }
          ],
          "heatmap": [
           {
            "colorbar": {
             "outlinewidth": 0,
             "ticks": ""
            },
            "colorscale": [
             [
              0,
              "#0d0887"
             ],
             [
              0.1111111111111111,
              "#46039f"
             ],
             [
              0.2222222222222222,
              "#7201a8"
             ],
             [
              0.3333333333333333,
              "#9c179e"
             ],
             [
              0.4444444444444444,
              "#bd3786"
             ],
             [
              0.5555555555555556,
              "#d8576b"
             ],
             [
              0.6666666666666666,
              "#ed7953"
             ],
             [
              0.7777777777777778,
              "#fb9f3a"
             ],
             [
              0.8888888888888888,
              "#fdca26"
             ],
             [
              1,
              "#f0f921"
             ]
            ],
            "type": "heatmap"
           }
          ],
          "heatmapgl": [
           {
            "colorbar": {
             "outlinewidth": 0,
             "ticks": ""
            },
            "colorscale": [
             [
              0,
              "#0d0887"
             ],
             [
              0.1111111111111111,
              "#46039f"
             ],
             [
              0.2222222222222222,
              "#7201a8"
             ],
             [
              0.3333333333333333,
              "#9c179e"
             ],
             [
              0.4444444444444444,
              "#bd3786"
             ],
             [
              0.5555555555555556,
              "#d8576b"
             ],
             [
              0.6666666666666666,
              "#ed7953"
             ],
             [
              0.7777777777777778,
              "#fb9f3a"
             ],
             [
              0.8888888888888888,
              "#fdca26"
             ],
             [
              1,
              "#f0f921"
             ]
            ],
            "type": "heatmapgl"
           }
          ],
          "histogram": [
           {
            "marker": {
             "pattern": {
              "fillmode": "overlay",
              "size": 10,
              "solidity": 0.2
             }
            },
            "type": "histogram"
           }
          ],
          "histogram2d": [
           {
            "colorbar": {
             "outlinewidth": 0,
             "ticks": ""
            },
            "colorscale": [
             [
              0,
              "#0d0887"
             ],
             [
              0.1111111111111111,
              "#46039f"
             ],
             [
              0.2222222222222222,
              "#7201a8"
             ],
             [
              0.3333333333333333,
              "#9c179e"
             ],
             [
              0.4444444444444444,
              "#bd3786"
             ],
             [
              0.5555555555555556,
              "#d8576b"
             ],
             [
              0.6666666666666666,
              "#ed7953"
             ],
             [
              0.7777777777777778,
              "#fb9f3a"
             ],
             [
              0.8888888888888888,
              "#fdca26"
             ],
             [
              1,
              "#f0f921"
             ]
            ],
            "type": "histogram2d"
           }
          ],
          "histogram2dcontour": [
           {
            "colorbar": {
             "outlinewidth": 0,
             "ticks": ""
            },
            "colorscale": [
             [
              0,
              "#0d0887"
             ],
             [
              0.1111111111111111,
              "#46039f"
             ],
             [
              0.2222222222222222,
              "#7201a8"
             ],
             [
              0.3333333333333333,
              "#9c179e"
             ],
             [
              0.4444444444444444,
              "#bd3786"
             ],
             [
              0.5555555555555556,
              "#d8576b"
             ],
             [
              0.6666666666666666,
              "#ed7953"
             ],
             [
              0.7777777777777778,
              "#fb9f3a"
             ],
             [
              0.8888888888888888,
              "#fdca26"
             ],
             [
              1,
              "#f0f921"
             ]
            ],
            "type": "histogram2dcontour"
           }
          ],
          "mesh3d": [
           {
            "colorbar": {
             "outlinewidth": 0,
             "ticks": ""
            },
            "type": "mesh3d"
           }
          ],
          "parcoords": [
           {
            "line": {
             "colorbar": {
              "outlinewidth": 0,
              "ticks": ""
             }
            },
            "type": "parcoords"
           }
          ],
          "pie": [
           {
            "automargin": true,
            "type": "pie"
           }
          ],
          "scatter": [
           {
            "fillpattern": {
             "fillmode": "overlay",
             "size": 10,
             "solidity": 0.2
            },
            "type": "scatter"
           }
          ],
          "scatter3d": [
           {
            "line": {
             "colorbar": {
              "outlinewidth": 0,
              "ticks": ""
             }
            },
            "marker": {
             "colorbar": {
              "outlinewidth": 0,
              "ticks": ""
             }
            },
            "type": "scatter3d"
           }
          ],
          "scattercarpet": [
           {
            "marker": {
             "colorbar": {
              "outlinewidth": 0,
              "ticks": ""
             }
            },
            "type": "scattercarpet"
           }
          ],
          "scattergeo": [
           {
            "marker": {
             "colorbar": {
              "outlinewidth": 0,
              "ticks": ""
             }
            },
            "type": "scattergeo"
           }
          ],
          "scattergl": [
           {
            "marker": {
             "colorbar": {
              "outlinewidth": 0,
              "ticks": ""
             }
            },
            "type": "scattergl"
           }
          ],
          "scattermapbox": [
           {
            "marker": {
             "colorbar": {
              "outlinewidth": 0,
              "ticks": ""
             }
            },
            "type": "scattermapbox"
           }
          ],
          "scatterpolar": [
           {
            "marker": {
             "colorbar": {
              "outlinewidth": 0,
              "ticks": ""
             }
            },
            "type": "scatterpolar"
           }
          ],
          "scatterpolargl": [
           {
            "marker": {
             "colorbar": {
              "outlinewidth": 0,
              "ticks": ""
             }
            },
            "type": "scatterpolargl"
           }
          ],
          "scatterternary": [
           {
            "marker": {
             "colorbar": {
              "outlinewidth": 0,
              "ticks": ""
             }
            },
            "type": "scatterternary"
           }
          ],
          "surface": [
           {
            "colorbar": {
             "outlinewidth": 0,
             "ticks": ""
            },
            "colorscale": [
             [
              0,
              "#0d0887"
             ],
             [
              0.1111111111111111,
              "#46039f"
             ],
             [
              0.2222222222222222,
              "#7201a8"
             ],
             [
              0.3333333333333333,
              "#9c179e"
             ],
             [
              0.4444444444444444,
              "#bd3786"
             ],
             [
              0.5555555555555556,
              "#d8576b"
             ],
             [
              0.6666666666666666,
              "#ed7953"
             ],
             [
              0.7777777777777778,
              "#fb9f3a"
             ],
             [
              0.8888888888888888,
              "#fdca26"
             ],
             [
              1,
              "#f0f921"
             ]
            ],
            "type": "surface"
           }
          ],
          "table": [
           {
            "cells": {
             "fill": {
              "color": "#EBF0F8"
             },
             "line": {
              "color": "white"
             }
            },
            "header": {
             "fill": {
              "color": "#C8D4E3"
             },
             "line": {
              "color": "white"
             }
            },
            "type": "table"
           }
          ]
         },
         "layout": {
          "annotationdefaults": {
           "arrowcolor": "#2a3f5f",
           "arrowhead": 0,
           "arrowwidth": 1
          },
          "autotypenumbers": "strict",
          "coloraxis": {
           "colorbar": {
            "outlinewidth": 0,
            "ticks": ""
           }
          },
          "colorscale": {
           "diverging": [
            [
             0,
             "#8e0152"
            ],
            [
             0.1,
             "#c51b7d"
            ],
            [
             0.2,
             "#de77ae"
            ],
            [
             0.3,
             "#f1b6da"
            ],
            [
             0.4,
             "#fde0ef"
            ],
            [
             0.5,
             "#f7f7f7"
            ],
            [
             0.6,
             "#e6f5d0"
            ],
            [
             0.7,
             "#b8e186"
            ],
            [
             0.8,
             "#7fbc41"
            ],
            [
             0.9,
             "#4d9221"
            ],
            [
             1,
             "#276419"
            ]
           ],
           "sequential": [
            [
             0,
             "#0d0887"
            ],
            [
             0.1111111111111111,
             "#46039f"
            ],
            [
             0.2222222222222222,
             "#7201a8"
            ],
            [
             0.3333333333333333,
             "#9c179e"
            ],
            [
             0.4444444444444444,
             "#bd3786"
            ],
            [
             0.5555555555555556,
             "#d8576b"
            ],
            [
             0.6666666666666666,
             "#ed7953"
            ],
            [
             0.7777777777777778,
             "#fb9f3a"
            ],
            [
             0.8888888888888888,
             "#fdca26"
            ],
            [
             1,
             "#f0f921"
            ]
           ],
           "sequentialminus": [
            [
             0,
             "#0d0887"
            ],
            [
             0.1111111111111111,
             "#46039f"
            ],
            [
             0.2222222222222222,
             "#7201a8"
            ],
            [
             0.3333333333333333,
             "#9c179e"
            ],
            [
             0.4444444444444444,
             "#bd3786"
            ],
            [
             0.5555555555555556,
             "#d8576b"
            ],
            [
             0.6666666666666666,
             "#ed7953"
            ],
            [
             0.7777777777777778,
             "#fb9f3a"
            ],
            [
             0.8888888888888888,
             "#fdca26"
            ],
            [
             1,
             "#f0f921"
            ]
           ]
          },
          "colorway": [
           "#636efa",
           "#EF553B",
           "#00cc96",
           "#ab63fa",
           "#FFA15A",
           "#19d3f3",
           "#FF6692",
           "#B6E880",
           "#FF97FF",
           "#FECB52"
          ],
          "font": {
           "color": "#2a3f5f"
          },
          "geo": {
           "bgcolor": "white",
           "lakecolor": "white",
           "landcolor": "#E5ECF6",
           "showlakes": true,
           "showland": true,
           "subunitcolor": "white"
          },
          "hoverlabel": {
           "align": "left"
          },
          "hovermode": "closest",
          "mapbox": {
           "style": "light"
          },
          "paper_bgcolor": "white",
          "plot_bgcolor": "#E5ECF6",
          "polar": {
           "angularaxis": {
            "gridcolor": "white",
            "linecolor": "white",
            "ticks": ""
           },
           "bgcolor": "#E5ECF6",
           "radialaxis": {
            "gridcolor": "white",
            "linecolor": "white",
            "ticks": ""
           }
          },
          "scene": {
           "xaxis": {
            "backgroundcolor": "#E5ECF6",
            "gridcolor": "white",
            "gridwidth": 2,
            "linecolor": "white",
            "showbackground": true,
            "ticks": "",
            "zerolinecolor": "white"
           },
           "yaxis": {
            "backgroundcolor": "#E5ECF6",
            "gridcolor": "white",
            "gridwidth": 2,
            "linecolor": "white",
            "showbackground": true,
            "ticks": "",
            "zerolinecolor": "white"
           },
           "zaxis": {
            "backgroundcolor": "#E5ECF6",
            "gridcolor": "white",
            "gridwidth": 2,
            "linecolor": "white",
            "showbackground": true,
            "ticks": "",
            "zerolinecolor": "white"
           }
          },
          "shapedefaults": {
           "line": {
            "color": "#2a3f5f"
           }
          },
          "ternary": {
           "aaxis": {
            "gridcolor": "white",
            "linecolor": "white",
            "ticks": ""
           },
           "baxis": {
            "gridcolor": "white",
            "linecolor": "white",
            "ticks": ""
           },
           "bgcolor": "#E5ECF6",
           "caxis": {
            "gridcolor": "white",
            "linecolor": "white",
            "ticks": ""
           }
          },
          "title": {
           "x": 0.05
          },
          "xaxis": {
           "automargin": true,
           "gridcolor": "white",
           "linecolor": "white",
           "ticks": "",
           "title": {
            "standoff": 15
           },
           "zerolinecolor": "white",
           "zerolinewidth": 2
          },
          "yaxis": {
           "automargin": true,
           "gridcolor": "white",
           "linecolor": "white",
           "ticks": "",
           "title": {
            "standoff": 15
           },
           "zerolinecolor": "white",
           "zerolinewidth": 2
          }
         }
        },
        "title": {
         "text": "Champions with high win rate and low ban rate"
        },
        "xaxis": {
         "anchor": "y",
         "domain": [
          0,
          1
         ],
         "title": {
          "text": "Win %"
         }
        },
        "yaxis": {
         "anchor": "x",
         "domain": [
          0,
          1
         ],
         "title": {
          "text": "Ban %"
         }
        }
       }
      }
     },
     "metadata": {},
     "output_type": "display_data"
    }
   ],
   "source": [
    "# Plotting League of Legends champions with winrates and banrates\n",
    "px.scatter(df,'Win %' , 'Ban %' , 'Name' ,title='Champions with high win rate and low ban rate')"
   ]
  },
  {
   "cell_type": "markdown",
   "metadata": {},
   "source": [
    "![Champions with high win rate and low ban rate](cwhwralbr.png)"
   ]
  },
  {
   "cell_type": "code",
   "execution_count": 93,
   "metadata": {},
   "outputs": [],
   "source": [
    "# After analyzing the data, I was able to see:\n",
    "# The stats of League of Legends champion,\n",
    "# Which champions are good to use in the current season,\n",
    "# Champions I should look out for, \n",
    "# Ultimately give myself an advantage by choosing the best champion to play."
   ]
  }
 ],
 "metadata": {
  "kernelspec": {
   "display_name": "Python 3",
   "language": "python",
   "name": "python3"
  },
  "language_info": {
   "codemirror_mode": {
    "name": "ipython",
    "version": 3
   },
   "file_extension": ".py",
   "mimetype": "text/x-python",
   "name": "python",
   "nbconvert_exporter": "python",
   "pygments_lexer": "ipython3",
   "version": "3.11.4"
  },
  "orig_nbformat": 4
 },
 "nbformat": 4,
 "nbformat_minor": 2
}
